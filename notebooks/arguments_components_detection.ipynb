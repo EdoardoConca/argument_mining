{
 "cells": [
  {
   "cell_type": "markdown",
   "metadata": {
    "id": "X3dAU88vo-Qp"
   },
   "source": [
    "# Argument Component Detection\n",
    "\n",
    "This notebook aims to implement a classification model for predicting argumentative components within a medical abstracts. Specifically, the model has been trained to identify the following components:\n",
    "\n",
    "* **Claim**: A statement expressing an opinion or judgment on a topic.\n",
    "\n",
    "* **Premise or Evidence**: A proposition providing a reason or support for a claim.\n",
    "\n",
    "This task was approached as a *sequence tagging classification problem* using the BIO schema, thus token in the text was labeled with one of the following tags:\n",
    "\n",
    "* *B-Claim*: Beginning of a claim\n",
    "* *I-Claim*: Inside a claim\n",
    "* *B-Premise*: Beginning of a premise\n",
    "* *I-Premise*: Inside a premise\n",
    "* *O*: Token that does not belong to any argumentative component\n"
   ]
  },
  {
   "cell_type": "code",
   "execution_count": 1,
   "metadata": {
    "id": "l8b9xQa42lLc"
   },
   "outputs": [],
   "source": [
    "train_data_dir =  \"data/train/neoplasm_train\"\n",
    "val_data_dir =  \"data/dev/neoplasm_dev\"\n",
    "test_data_dir =  \"data/test/neoplasm_test\"\n",
    "neoplasm_test_data_dir = \"data/test/neoplasm_test\"\n",
    "glaucoma_test_data_dir = \"data/test/glaucoma_test\"\n",
    "mixed_test_data_dir = \"data/test/mixed_test\"\n",
    "custom_train_data_dir = \"data/custom_datasets/train\"\n",
    "custom_val_data_dir = \"data/custom_datasets/val\"\n",
    "custom_test_data_dir = \"data/custom_datasets/test\""
   ]
  },
  {
   "cell_type": "code",
   "execution_count": 2,
   "metadata": {},
   "outputs": [],
   "source": [
    "import torch # type: ignore\n",
    "from torch.utils.data import DataLoader \n",
    "from transformers import AutoTokenizer \n",
    "\n",
    "from utils.utils_notebooks import *\n",
    "from utils.utils_argument_comp_classifier import *\n",
    "from models.ac_detector import BertGRUCRF, ArgumentationDataset\n",
    "from utils.train import train, evaluate, predict"
   ]
  },
  {
   "cell_type": "markdown",
   "metadata": {},
   "source": [
    "## 1. Corpus\n",
    "To utilize our argument component detection model, we need to create a custom dataset based on the .ann and .txt in the AbstRCT dataset. Specifically, to assign each token a tag following the BIO schema, the text is tokenized (using an appropriate tokenizer), and based on the start and end information of each component in the .ann files, the tag *B-{Component Type}* is assigned to the first token, while *I-{Component Type}* is assigned to the subsequent tokens. Tokens that do not belong to any component are assigned the tag O.\n",
    "\n",
    "Regarding the data used, we adhered to the original paper's approach, maintaining the division into train, dev, and test sets, with the test set further divided into neoplasm, glaucoma, and mixed. To improve performance and , we constructed a custom dataset by merging all the original set into a single one, which was then split into train, dev, and test sets. This process increased the dataset size from 350 to 428 training examples, 50 to 107 validation examples, and reduced the test set from 300 to 107 examples."
   ]
  },
  {
   "cell_type": "code",
   "execution_count": 3,
   "metadata": {
    "id": "cAkKSsQJ2lNu"
   },
   "outputs": [
    {
     "name": "stderr",
     "output_type": "stream",
     "text": [
      "c:\\Users\\e.conca\\AppData\\Local\\Programs\\anaconda3\\envs\\nlp\\Lib\\site-packages\\transformers\\tokenization_utils_base.py:1601: FutureWarning: `clean_up_tokenization_spaces` was not set. It will be set to `True` by default. This behavior will be depracted in transformers v4.45, and will be then set to `False` by default. For more details check this issue: https://github.com/huggingface/transformers/issues/31884\n",
      "  warnings.warn(\n"
     ]
    }
   ],
   "source": [
    "device = \"cuda\" if torch.cuda.is_available() else \"cpu\"\n",
    "\n",
    "MODEL_CARD_BERT = \"bert-base-uncased\"\n",
    "MODEL_CARD_BioBERT = \"dmis-lab/biobert-v1.1\"\n",
    "MODEL_CARD_SciBERT = \"allenai/scibert_scivocab_uncased\"\n",
    "\n",
    "# Load BERT, BioBERT, and SciBERT tokenizers\n",
    "bert_tokenizer = AutoTokenizer.from_pretrained(MODEL_CARD_BERT)\n",
    "scibert_tokenizer = AutoTokenizer.from_pretrained(MODEL_CARD_SciBERT)\n",
    "bio_bert_tokenizer = AutoTokenizer.from_pretrained(MODEL_CARD_BioBERT)"
   ]
  },
  {
   "cell_type": "code",
   "execution_count": 35,
   "metadata": {},
   "outputs": [
    {
     "name": "stderr",
     "output_type": "stream",
     "text": [
      "c:\\Users\\e.conca\\AppData\\Local\\Programs\\anaconda3\\envs\\nlp\\Lib\\site-packages\\transformers\\tokenization_utils_base.py:1601: FutureWarning: `clean_up_tokenization_spaces` was not set. It will be set to `True` by default. This behavior will be depracted in transformers v4.45, and will be then set to `False` by default. For more details check this issue: https://github.com/huggingface/transformers/issues/31884\n",
      "  warnings.warn(\n"
     ]
    },
    {
     "name": "stdout",
     "output_type": "stream",
     "text": [
      "\n",
      "Special Tokens and their IDs:\n",
      "unk_token: [UNK] (ID: 100)\n",
      "sep_token: [SEP] (ID: 102)\n",
      "pad_token: [PAD] (ID: 0)\n",
      "cls_token: [CLS] (ID: 101)\n",
      "mask_token: [MASK] (ID: 103)\n",
      "\n",
      "Special Tokens and their IDs:\n",
      "unk_token: [UNK] (ID: 100)\n",
      "sep_token: [SEP] (ID: 102)\n",
      "pad_token: [PAD] (ID: 0)\n",
      "cls_token: [CLS] (ID: 101)\n",
      "mask_token: [MASK] (ID: 103)\n",
      "\n",
      "Special Tokens and their IDs:\n",
      "unk_token: [UNK] (ID: 101)\n",
      "sep_token: [SEP] (ID: 103)\n",
      "pad_token: [PAD] (ID: 0)\n",
      "cls_token: [CLS] (ID: 102)\n",
      "mask_token: [MASK] (ID: 104)\n"
     ]
    }
   ],
   "source": [
    "_ ,special_tokens_bert = display_special_tokens(MODEL_CARD_BERT)\n",
    "_ ,special_tokens_bio_bert = display_special_tokens(MODEL_CARD_BioBERT)\n",
    "_ ,special_tokens_scibert = display_special_tokens(MODEL_CARD_SciBERT)"
   ]
  },
  {
   "cell_type": "code",
   "execution_count": 6,
   "metadata": {
    "colab": {
     "base_uri": "https://localhost:8080/",
     "height": 461,
     "referenced_widgets": [
      "5272512013f24665a2fd5d6ed3c23204",
      "c1e32c3d92474ecaa33f217e75f599ce",
      "464027954ef54f8ba363bf51c454900b",
      "eff71e91ec094bcb8ef51ef69599bcdc",
      "08680ed78b1a4d138741c7e7f343bdef",
      "31c6e3ad67f14f79b82638bbc5100c1a",
      "35a09ac6454047158470f8391ca8e664",
      "9035155318ed4e3a9bb72876722ff574",
      "f44a1e1ba78c4f52b381b08367416328",
      "c20fe90f906a44f3adc7603c8b3f397c",
      "2349d35bf16e4dbd974aa97b2f6065f9",
      "a6303b131e914fa5b52362bc62560775",
      "816e9b8c904446d8b31b4556c4276adf",
      "138899d11ded495c9cfb7382e5199fd9",
      "ee89afc492e34e9a88db136279bbc88b",
      "0a469368de2b4dac9b67c3d37d8c167d",
      "bbe7fe013ad14c68894249e2aa56ce47",
      "48befb5c3363487f900c3736412c390e",
      "9a3c05cf57c84aa48515f94529370d14",
      "6f7bab4ae298451c89871eb3eb2ae8cd",
      "77aa54b1f12b4a1ba7204ae5a1dc9ea2",
      "a2559b46021f4d65b3c88f70d3a3447c",
      "6d7ded67803840729bfe778fccad42d1",
      "86e5b4efa68a488793e59602a1d69e4c",
      "0d413dda5e594308aed3c5e6fc5757a7",
      "4b5f74e7e61e4e29998488792908e667",
      "e65476c0aceb4c269835babe52c7737a",
      "6e65dead3e194c34bfb5c30e3b9d50c3",
      "ff896e1d621244d6ac84f7602e52b487",
      "b5790f4ccf214a80a6bc99ead720b95d",
      "6e74612280024f53931fe487baee3b11",
      "5f523aaaf4ef4571bbc9aed1ae8ebfb5",
      "6c7dfa43f81845b4a0200dd31ff41135",
      "1a6dcc1b14624a919452f865a3bbb484",
      "5403dd2c215c48128fef2b3a40637b82",
      "3e02c08be6b4472e993599c5cafae380",
      "f7e096373bd5427182cbbe2f3e5fafd9",
      "e7fe06ce574648469e37fa1a32c456c9",
      "b9ff9ee3fcc3469fbb813fbede02d378",
      "82a7c2520ade4db9bf07f1a97e1ba00b",
      "03967e2e3380494eb0dcdfdba50a98ad",
      "8639434f16d841bfa4e935b8a7a0dbf6",
      "54ea4a30cd474b2989cdf6a981145eb0",
      "38771b7df0aa42178dad39b3cb8d4dc1",
      "df8e13e844614727bfc34c77a64588b2",
      "f08caae2ddfd4c90a207c69d072164f1",
      "cc370c5fd0d34ee880f32f44718e0da4",
      "34274911bb8942278c124130c9433760",
      "fc71bcbe12a04d1f966ef52751498437",
      "54ca0f85c49d49b19ea167926bff8bb4",
      "828f701b98854515adb5ddd074d84f20",
      "33c5aeb2a88a4bf3bfedb920463ba1f8",
      "2a56ee1bb4cc4fdbbbf0f33a7ef12d3d",
      "62b279ad7cdf46dbb5d8a1d021e7d9e5",
      "75a35d11da484709a69b2442a10fa99a",
      "377ab2eaac574a7880f8d66f85078e85",
      "929a4b5de14943e8a824f31576c4b9aa",
      "6ed8f8755de940a4955a8399a0aea1f4",
      "002c5d5aa7584b30b9007def5ccc07a8",
      "1f556c33a9f44bc394085e7806389171",
      "6434795e114d445fb0e139799d1b7c75",
      "63530ebc4d3249cd8cb4874cfbd1d63d",
      "eb4955be9b4845cc9ad3cf24ce96cefe",
      "7b840dd30d28448393544e3c58c211e3",
      "b7d975e388384c56b921dec10a48cb92",
      "2a0f6fa5b5884ded9fb62bd7e1517298",
      "82f401388e804134ab924bd2931bd9e6",
      "ecf23bbc910d46888e645862ede17c16",
      "990d14c4dd044dce91b2708215c19cfb",
      "e2b3ec10b8e844ac8ac219c0d1e0e63e",
      "a70b78c52ad7420188748403b363636a",
      "912cd1d086d048a19c352cc0371c3d1d",
      "c3dfea4b10494a16a7cdaa00631c448b",
      "9a6528f414b7420baaa0925e66b7430c",
      "098584a9e8c14f0a8a8bc157d9de7c21",
      "3ede10371f504cdaaf256bd716795c1a",
      "1dc49ab7211e4e138e0dce30cd2ae6e2",
      "a63e3b41867341ebbf578d3ea8ac9447",
      "4085d8e7d16b443296364d8912a7aef2",
      "0800f954acab4983a7f9e7b64bd2ec86",
      "0fa1a61a37b040a9b25dc6b9853449e0",
      "4407db20761b44d08c2a40f50bc76633",
      "4dad72a61f7947fba905345eeed54b73",
      "921c8941157741a78afd30f9844796e6",
      "eeb5bae601cc4d49bebace10263e697b",
      "605cd2d88d8740d8ba005647922f3180",
      "31cb7d6a7efb4bb39441e18b5cd6c91d",
      "bd13a6d42e6f48d79de425fc6877dfa2",
      "a6d5c18af6704cf19d0f3906dbef8a67",
      "21aa8b0da8224b24b1e8d0bb6cb5e731",
      "23d83c17594243c4b26893b0567439aa",
      "223a357204e0490e929654ae65b8de54",
      "61ab54b92cb84ed79a1e27562716f743",
      "8af0c0b7a4ff4fc79a5d969c564b969b",
      "915d695173a244ec86e1c0bda0c237e8",
      "b7ffab25e9d54c92a86c46a8a7c76c58",
      "29540fe051384e12ab8cb4dc278666b9",
      "1f3d2846aaa64bcf9454dbdfdd769311",
      "a60975e240204f358e5687798927659b",
      "5e6b37e91910405d96f6eb66e64ab47f",
      "158b066e50dc45f894ee82d96adb3af7",
      "491fddcc6e634af2bc9900d95d5dcc0a",
      "0399dced43d14792a22cef7d43b8f952",
      "d0a111a9977647f2b69673b4444f63d7",
      "c059a51bf29e483281f3f375d08b08ee",
      "4483346d9a3346f5ba6636cabf78176c",
      "abbe5334d1e846c4922013a0f2cd68fa",
      "5f9037895910459fb1c0fcef179beae7",
      "7351e488a01d4a218ddc2f0926a6aef5",
      "b87afe30ad314dc8a3ea25ceb06324d4"
     ]
    },
    "id": "fiMTEysb2lSr",
    "outputId": "22bced1d-c9c6-4248-baab-14a9f4c05559"
   },
   "outputs": [
    {
     "name": "stdout",
     "output_type": "stream",
     "text": [
      "Tags: ['B-Claim', 'B-Premise', 'I-Claim', 'I-Premise', 'O']\n",
      "Number of labels: 5\n",
      "Tag to index: {'B-Claim': 0, 'B-Premise': 1, 'I-Claim': 2, 'I-Premise': 3, 'O': 4}\n",
      "Index to tag: {0: 'B-Claim', 1: 'B-Premise', 2: 'I-Claim', 3: 'I-Premise', 4: 'O'}\n"
     ]
    }
   ],
   "source": [
    "TAGS = ['B-Claim', 'B-Premise', 'I-Claim', 'I-Premise', 'O']\n",
    "\n",
    "tag_to_idx, idx_to_tag = setup_mappings(TAGS)  \n",
    "NUM_LABELS = len(TAGS)\n",
    "\n",
    "print(f\"Tags: {TAGS}\")\n",
    "print(f\"Number of labels: {NUM_LABELS}\")\n",
    "print(f\"Tag to index: {tag_to_idx}\")\n",
    "print(f\"Index to tag: {idx_to_tag}\")"
   ]
  },
  {
   "cell_type": "markdown",
   "metadata": {
    "id": "ISbIW_LrGd8J"
   },
   "source": [
    "### 1.1 BERT base - Corpus"
   ]
  },
  {
   "cell_type": "code",
   "execution_count": 9,
   "metadata": {
    "colab": {
     "base_uri": "https://localhost:8080/",
     "height": 744
    },
    "id": "xZr42QOhiMyB",
    "outputId": "af66ba1a-f67d-4804-873f-28ea48127f58"
   },
   "outputs": [
    {
     "name": "stdout",
     "output_type": "stream",
     "text": [
      "\n",
      "Shape Training dataframe: (350, 8)\n",
      "Shape Validation dataframe : (50, 8)\n",
      "Shape Neoplasm Test dataframe: (100, 8)\n",
      "Shape Glaucoma Test dataframe: (100, 8)\n",
      "Shape Mixed Test dataframe: (100, 8)\n"
     ]
    },
    {
     "data": {
      "text/html": [
       "<div>\n",
       "<style scoped>\n",
       "    .dataframe tbody tr th:only-of-type {\n",
       "        vertical-align: middle;\n",
       "    }\n",
       "\n",
       "    .dataframe tbody tr th {\n",
       "        vertical-align: top;\n",
       "    }\n",
       "\n",
       "    .dataframe thead th {\n",
       "        text-align: right;\n",
       "    }\n",
       "</style>\n",
       "<table border=\"1\" class=\"dataframe\">\n",
       "  <thead>\n",
       "    <tr style=\"text-align: right;\">\n",
       "      <th></th>\n",
       "      <th>raw_text</th>\n",
       "      <th>tokenized_text</th>\n",
       "      <th>input_ids</th>\n",
       "      <th>attention_mask</th>\n",
       "      <th>tags</th>\n",
       "      <th>encoded_tags</th>\n",
       "      <th>new_start_end_positions</th>\n",
       "      <th>file_name</th>\n",
       "    </tr>\n",
       "  </thead>\n",
       "  <tbody>\n",
       "    <tr>\n",
       "      <th>0</th>\n",
       "      <td>a combination of mitoxantrone plus prednisone...</td>\n",
       "      <td>[[CLS], a, combination, of, mit, ##ox, ##ant, ...</td>\n",
       "      <td>[101, 1037, 5257, 1997, 10210, 11636, 4630, 20...</td>\n",
       "      <td>[1, 1, 1, 1, 1, 1, 1, 1, 1, 1, 1, 1, 1, 1, 1, ...</td>\n",
       "      <td>[O, B-Claim, I-Claim, I-Claim, I-Claim, I-Clai...</td>\n",
       "      <td>[4, 0, 2, 2, 2, 2, 2, 2, 2, 2, 2, 2, 2, 2, 2, ...</td>\n",
       "      <td>{'T1': (1, 38), 'T2': (227, 240), 'T3': (242, ...</td>\n",
       "      <td>10561201.ann</td>\n",
       "    </tr>\n",
       "    <tr>\n",
       "      <th>1</th>\n",
       "      <td>in endocrine therapy trials in advanced breas...</td>\n",
       "      <td>[[CLS], in, end, ##oc, ##rine, therapy, trials...</td>\n",
       "      <td>[101, 1999, 2203, 10085, 11467, 7242, 7012, 19...</td>\n",
       "      <td>[1, 1, 1, 1, 1, 1, 1, 1, 1, 1, 1, 1, 1, 1, 1, ...</td>\n",
       "      <td>[O, B-Claim, I-Claim, I-Claim, I-Claim, I-Clai...</td>\n",
       "      <td>[4, 0, 2, 2, 2, 2, 2, 2, 2, 2, 2, 2, 2, 2, 2, ...</td>\n",
       "      <td>{'T1': (1, 72), 'T3': (322, 348), 'T4': (349, ...</td>\n",
       "      <td>10561203.ann</td>\n",
       "    </tr>\n",
       "    <tr>\n",
       "      <th>2</th>\n",
       "      <td>treatment with cisplatin-based chemotherapy p...</td>\n",
       "      <td>[[CLS], treatment, with, cis, ##pl, ##atin, -,...</td>\n",
       "      <td>[101, 3949, 2007, 20199, 24759, 20363, 1011, 2...</td>\n",
       "      <td>[1, 1, 1, 1, 1, 1, 1, 1, 1, 1, 1, 1, 1, 1, 1, ...</td>\n",
       "      <td>[O, B-Claim, I-Claim, I-Claim, I-Claim, I-Clai...</td>\n",
       "      <td>[4, 0, 2, 2, 2, 2, 2, 2, 2, 2, 2, 2, 2, 2, 2, ...</td>\n",
       "      <td>{'T1': (1, 32), 'T2': (233, 304), 'T3': (305, ...</td>\n",
       "      <td>10653877.ann</td>\n",
       "    </tr>\n",
       "    <tr>\n",
       "      <th>3</th>\n",
       "      <td>extracellular adenosine 5'-triphosphate (atp)...</td>\n",
       "      <td>[[CLS], extra, ##cellular, aden, ##osi, ##ne, ...</td>\n",
       "      <td>[101, 4469, 16882, 16298, 20049, 2638, 1019, 1...</td>\n",
       "      <td>[1, 1, 1, 1, 1, 1, 1, 1, 1, 1, 1, 1, 1, 1, 1, ...</td>\n",
       "      <td>[O, O, O, O, O, O, O, O, O, O, O, O, O, O, O, ...</td>\n",
       "      <td>[4, 4, 4, 4, 4, 4, 4, 4, 4, 4, 4, 4, 4, 4, 4, ...</td>\n",
       "      <td>{'T1': (50, 98), 'T2': (221, 289), 'T3': (290,...</td>\n",
       "      <td>10675381.ann</td>\n",
       "    </tr>\n",
       "    <tr>\n",
       "      <th>4</th>\n",
       "      <td>this phase iii, double-blind, randomized, mul...</td>\n",
       "      <td>[[CLS], this, phase, iii, ,, double, -, blind,...</td>\n",
       "      <td>[101, 2023, 4403, 3523, 1010, 3313, 1011, 6397...</td>\n",
       "      <td>[1, 1, 1, 1, 1, 1, 1, 1, 1, 1, 1, 1, 1, 1, 1, ...</td>\n",
       "      <td>[O, O, O, O, O, O, O, O, O, O, O, O, O, O, O, ...</td>\n",
       "      <td>[4, 4, 4, 4, 4, 4, 4, 4, 4, 4, 4, 4, 4, 4, 4, ...</td>\n",
       "      <td>{'T1': (147, 179), 'T2': (180, 205), 'T3': (20...</td>\n",
       "      <td>10735887.ann</td>\n",
       "    </tr>\n",
       "  </tbody>\n",
       "</table>\n",
       "</div>"
      ],
      "text/plain": [
       "                                            raw_text  \\\n",
       "0   a combination of mitoxantrone plus prednisone...   \n",
       "1   in endocrine therapy trials in advanced breas...   \n",
       "2   treatment with cisplatin-based chemotherapy p...   \n",
       "3   extracellular adenosine 5'-triphosphate (atp)...   \n",
       "4   this phase iii, double-blind, randomized, mul...   \n",
       "\n",
       "                                      tokenized_text  \\\n",
       "0  [[CLS], a, combination, of, mit, ##ox, ##ant, ...   \n",
       "1  [[CLS], in, end, ##oc, ##rine, therapy, trials...   \n",
       "2  [[CLS], treatment, with, cis, ##pl, ##atin, -,...   \n",
       "3  [[CLS], extra, ##cellular, aden, ##osi, ##ne, ...   \n",
       "4  [[CLS], this, phase, iii, ,, double, -, blind,...   \n",
       "\n",
       "                                           input_ids  \\\n",
       "0  [101, 1037, 5257, 1997, 10210, 11636, 4630, 20...   \n",
       "1  [101, 1999, 2203, 10085, 11467, 7242, 7012, 19...   \n",
       "2  [101, 3949, 2007, 20199, 24759, 20363, 1011, 2...   \n",
       "3  [101, 4469, 16882, 16298, 20049, 2638, 1019, 1...   \n",
       "4  [101, 2023, 4403, 3523, 1010, 3313, 1011, 6397...   \n",
       "\n",
       "                                      attention_mask  \\\n",
       "0  [1, 1, 1, 1, 1, 1, 1, 1, 1, 1, 1, 1, 1, 1, 1, ...   \n",
       "1  [1, 1, 1, 1, 1, 1, 1, 1, 1, 1, 1, 1, 1, 1, 1, ...   \n",
       "2  [1, 1, 1, 1, 1, 1, 1, 1, 1, 1, 1, 1, 1, 1, 1, ...   \n",
       "3  [1, 1, 1, 1, 1, 1, 1, 1, 1, 1, 1, 1, 1, 1, 1, ...   \n",
       "4  [1, 1, 1, 1, 1, 1, 1, 1, 1, 1, 1, 1, 1, 1, 1, ...   \n",
       "\n",
       "                                                tags  \\\n",
       "0  [O, B-Claim, I-Claim, I-Claim, I-Claim, I-Clai...   \n",
       "1  [O, B-Claim, I-Claim, I-Claim, I-Claim, I-Clai...   \n",
       "2  [O, B-Claim, I-Claim, I-Claim, I-Claim, I-Clai...   \n",
       "3  [O, O, O, O, O, O, O, O, O, O, O, O, O, O, O, ...   \n",
       "4  [O, O, O, O, O, O, O, O, O, O, O, O, O, O, O, ...   \n",
       "\n",
       "                                        encoded_tags  \\\n",
       "0  [4, 0, 2, 2, 2, 2, 2, 2, 2, 2, 2, 2, 2, 2, 2, ...   \n",
       "1  [4, 0, 2, 2, 2, 2, 2, 2, 2, 2, 2, 2, 2, 2, 2, ...   \n",
       "2  [4, 0, 2, 2, 2, 2, 2, 2, 2, 2, 2, 2, 2, 2, 2, ...   \n",
       "3  [4, 4, 4, 4, 4, 4, 4, 4, 4, 4, 4, 4, 4, 4, 4, ...   \n",
       "4  [4, 4, 4, 4, 4, 4, 4, 4, 4, 4, 4, 4, 4, 4, 4, ...   \n",
       "\n",
       "                             new_start_end_positions     file_name  \n",
       "0  {'T1': (1, 38), 'T2': (227, 240), 'T3': (242, ...  10561201.ann  \n",
       "1  {'T1': (1, 72), 'T3': (322, 348), 'T4': (349, ...  10561203.ann  \n",
       "2  {'T1': (1, 32), 'T2': (233, 304), 'T3': (305, ...  10653877.ann  \n",
       "3  {'T1': (50, 98), 'T2': (221, 289), 'T3': (290,...  10675381.ann  \n",
       "4  {'T1': (147, 179), 'T2': (180, 205), 'T3': (20...  10735887.ann  "
      ]
     },
     "execution_count": 9,
     "metadata": {},
     "output_type": "execute_result"
    }
   ],
   "source": [
    "# Original Corpus\n",
    "MAX_LENGTH = 512\n",
    "\n",
    "#create the dataset\n",
    "train_df = create_dataframe_from_directory(train_data_dir,tag_to_idx,bert_tokenizer, \"component_detection\", MAX_LENGTH)\n",
    "val_df = create_dataframe_from_directory(val_data_dir,tag_to_idx, bert_tokenizer,\"component_detection\",MAX_LENGTH)\n",
    "neoplasm_test_df = create_dataframe_from_directory(neoplasm_test_data_dir,tag_to_idx,bert_tokenizer, \"component_detection\",MAX_LENGTH)\n",
    "glaucoma_test_df = create_dataframe_from_directory(glaucoma_test_data_dir,tag_to_idx,bert_tokenizer, \"component_detection\",MAX_LENGTH)\n",
    "mixed_test_df = create_dataframe_from_directory(mixed_test_data_dir,tag_to_idx,bert_tokenizer, \"component_detection\",MAX_LENGTH)\n",
    "\n",
    "\n",
    "print(f\"\\nShape Training dataframe: {train_df.shape}\")\n",
    "print(f\"Shape Validation dataframe : {val_df.shape}\")\n",
    "print(f\"Shape Neoplasm Test dataframe: {neoplasm_test_df.shape}\")\n",
    "print(f\"Shape Glaucoma Test dataframe: {glaucoma_test_df.shape}\")\n",
    "print(f\"Shape Mixed Test dataframe: {mixed_test_df.shape}\")\n",
    "\n",
    "\n",
    "train_df.head()\n"
   ]
  },
  {
   "cell_type": "code",
   "execution_count": 36,
   "metadata": {
    "colab": {
     "base_uri": "https://localhost:8080/"
    },
    "id": "twC2eBrzo-Qw",
    "outputId": "f62e70cd-3838-47e7-9e5c-0c8f5a96bc90"
   },
   "outputs": [
    {
     "name": "stdout",
     "output_type": "stream",
     "text": [
      "{'B-Claim': 0.6688466110545623, 'I-Claim': 0.026869789574398697, 'O': 0.00553470591967781, 'B-Premise': 0.2907444411081118, 'I-Premise': 0.008004452343249327}\n"
     ]
    }
   ],
   "source": [
    "special_tokens_bert = [special_tokens_bert['cls_token'], special_tokens_bert['sep_token'], special_tokens_bert['pad_token']]\n",
    "\n",
    "\n",
    "CLASS_WEIGHTS_NORMALIZED = compute_norm_class_weights(train_df, label_column='tags', special_tokens=special_tokens_bert, task_name='seqtag')\n",
    "print(CLASS_WEIGHTS_NORMALIZED)"
   ]
  },
  {
   "cell_type": "code",
   "execution_count": 11,
   "metadata": {},
   "outputs": [
    {
     "name": "stdout",
     "output_type": "stream",
     "text": [
      "\n",
      "Example of an annotated sentence:\n",
      "\n",
      "Raw text:\n",
      "['a', 'combination', 'of', 'mitoxantrone', 'plus', 'prednisone', 'is', 'preferable', 'to', 'prednisone', 'alone', 'for', 'reduction', 'of', 'pain', 'in', 'men', 'with', 'metastatic,', 'hormone-resistant,', 'prostate', 'cancer.', 'the', 'purpose', 'of', 'this', 'study', 'was', 'to', 'assess', 'the', 'effects', 'of', 'these', 'treatments', 'on', 'health-related', 'quality', 'of', 'life', '(hql).', 'men', 'with', 'metastatic', 'prostate', 'cancer', '(n', '=', '161)', 'were', 'randomized', 'to', 'receive', 'either', 'daily', 'prednisone', 'alone', 'or', 'mitoxantrone', '(every', '3', 'weeks)', 'plus', 'prednisone.', 'those', 'who', 'received', 'prednisone', 'alone', 'could', 'have', 'mitoxantrone', 'added', 'after', '6', 'weeks', 'if', 'there', 'was', 'no', 'improvement', 'in', 'pain.', 'hql', 'was', 'assessed', 'before', 'treatment', 'initiation', 'and', 'then', 'every', '3', 'weeks', 'using', 'the', 'european', 'organization', 'for', 'research', 'and', 'treatment', 'of', 'cancer', 'quality-of-life', 'questionnaire', 'c30', '(eortc', 'qlq-c30)', 'and', 'the', 'quality', 'of', 'life', 'module-prostate', '14', '(qolm-p14),', 'a', 'trial-specific', 'module', 'developed', 'for', 'this', 'study.', 'an', 'intent-to-treat', 'analysis', 'was', 'used', 'to', 'determine', 'the', 'mean', 'duration', 'of', 'hql', 'improvement', 'and', 'differences', 'in', 'improvement', 'duration', 'between', 'groups', 'of', 'patients.', 'at', '6', 'weeks,', 'both', 'groups', 'showed', 'improvement', 'in', 'several', 'hql', 'domains,', 'and', 'only', 'physical', 'functioning', 'and', 'pain', 'were', 'better', 'in', 'the', 'mitoxantrone-plus-prednisone', 'group', 'than', 'in', 'the', 'prednisone-alone', 'group.', 'after', '6', 'weeks,', 'patients', 'taking', 'prednisone', 'showed', 'no', 'improvement', 'in', 'hql', 'scores,', 'whereas', 'those', 'taking', 'mitoxantrone', 'plus', 'prednisone', 'showed', 'significant', 'improvements', 'in', 'global', 'quality', 'of', 'life', '(p', '=.009),', 'four', 'functioning', 'domains,', 'and', 'nine', 'symptoms', '(.001', '<', 'p', '<.', '01),', 'and', 'the', 'improvement', '(>', '10', 'units', 'on', 'a', 'scale', 'of', '0', 'to100)', 'lasted', 'longer', 'than', 'in', 'the', 'prednisone-alone', 'group', '(.004', '<', 'p', '<.05).', 'the', 'addition', 'of', 'mitoxantrone', 'to', 'prednisone', 'after', 'failure', 'of', 'prednisone', 'alone', 'was', 'associated', 'with', 'improvements', 'in', 'pain,', 'pain', 'impact,', 'pain', 'relief,', 'insomnia,', 'and', 'global', 'quality', 'of', 'life', '(.001', '<', 'p', '<.003).', 'treatment', 'with', 'mitoxantrone', 'plus', 'prednisone', 'was', 'associated', 'with', 'greater', 'and', 'longer-lasting', 'improvement', 'in', 'several', 'hql', 'domains', 'and', 'symptoms', 'than', 'treatment', 'with', 'prednisone', 'alone.']\n",
      "\n",
      "Tokenized text with colored components:\n"
     ]
    },
    {
     "data": {
      "text/html": [
       "<span style='color: None;'>[CLS](O)</span> <span style='color: #4e707c;'>a(B-Claim)</span> <span style='color: #4e707c;'>combination(I-Claim)</span> <span style='color: #4e707c;'>of(I-Claim)</span> <span style='color: #4e707c;'>mit(I-Claim)</span> <span style='color: #4e707c;'>##ox(I-Claim)</span> <span style='color: #4e707c;'>##ant(I-Claim)</span> <span style='color: #4e707c;'>##rone(I-Claim)</span> <span style='color: #4e707c;'>plus(I-Claim)</span> <span style='color: #4e707c;'>pre(I-Claim)</span> <span style='color: #4e707c;'>##d(I-Claim)</span> <span style='color: #4e707c;'>##nis(I-Claim)</span> <span style='color: #4e707c;'>##one(I-Claim)</span> <span style='color: #4e707c;'>is(I-Claim)</span> <span style='color: #4e707c;'>prefer(I-Claim)</span> <span style='color: #4e707c;'>##able(I-Claim)</span> <span style='color: #4e707c;'>to(I-Claim)</span> <span style='color: #4e707c;'>pre(I-Claim)</span> <span style='color: #4e707c;'>##d(I-Claim)</span> <span style='color: #4e707c;'>##nis(I-Claim)</span> <span style='color: #4e707c;'>##one(I-Claim)</span> <span style='color: #4e707c;'>alone(I-Claim)</span> <span style='color: #4e707c;'>for(I-Claim)</span> <span style='color: #4e707c;'>reduction(I-Claim)</span> <span style='color: #4e707c;'>of(I-Claim)</span> <span style='color: #4e707c;'>pain(I-Claim)</span> <span style='color: #4e707c;'>in(I-Claim)</span> <span style='color: #4e707c;'>men(I-Claim)</span> <span style='color: #4e707c;'>with(I-Claim)</span> <span style='color: #4e707c;'>meta(I-Claim)</span> <span style='color: #4e707c;'>##static(I-Claim)</span> <span style='color: #4e707c;'>,(I-Claim)</span> <span style='color: #4e707c;'>hormone(I-Claim)</span> <span style='color: #4e707c;'>-(I-Claim)</span> <span style='color: #4e707c;'>resistant(I-Claim)</span> <span style='color: #4e707c;'>,(I-Claim)</span> <span style='color: #4e707c;'>prostate(I-Claim)</span> <span style='color: #4e707c;'>cancer(I-Claim)</span> <span style='color: #4e707c;'>.(I-Claim)</span> <span style='color: None;'>the(O)</span> <span style='color: None;'>purpose(O)</span> <span style='color: None;'>of(O)</span> <span style='color: None;'>this(O)</span> <span style='color: None;'>study(O)</span> <span style='color: None;'>was(O)</span> <span style='color: None;'>to(O)</span> <span style='color: None;'>assess(O)</span> <span style='color: None;'>the(O)</span> <span style='color: None;'>effects(O)</span> <span style='color: None;'>of(O)</span> <span style='color: None;'>these(O)</span> <span style='color: None;'>treatments(O)</span> <span style='color: None;'>on(O)</span> <span style='color: None;'>health(O)</span> <span style='color: None;'>-(O)</span> <span style='color: None;'>related(O)</span> <span style='color: None;'>quality(O)</span> <span style='color: None;'>of(O)</span> <span style='color: None;'>life(O)</span> <span style='color: None;'>((O)</span> <span style='color: None;'>hq(O)</span> <span style='color: None;'>##l(O)</span> <span style='color: None;'>)(O)</span> <span style='color: None;'>.(O)</span> <span style='color: None;'>men(O)</span> <span style='color: None;'>with(O)</span> <span style='color: None;'>meta(O)</span> <span style='color: None;'>##static(O)</span> <span style='color: None;'>prostate(O)</span> <span style='color: None;'>cancer(O)</span> <span style='color: None;'>((O)</span> <span style='color: None;'>n(O)</span> <span style='color: None;'>=(O)</span> <span style='color: None;'>161(O)</span> <span style='color: None;'>)(O)</span> <span style='color: None;'>were(O)</span> <span style='color: None;'>random(O)</span> <span style='color: None;'>##ized(O)</span> <span style='color: None;'>to(O)</span> <span style='color: None;'>receive(O)</span> <span style='color: None;'>either(O)</span> <span style='color: None;'>daily(O)</span> <span style='color: None;'>pre(O)</span> <span style='color: None;'>##d(O)</span> <span style='color: None;'>##nis(O)</span> <span style='color: None;'>##one(O)</span> <span style='color: None;'>alone(O)</span> <span style='color: None;'>or(O)</span> <span style='color: None;'>mit(O)</span> <span style='color: None;'>##ox(O)</span> <span style='color: None;'>##ant(O)</span> <span style='color: None;'>##rone(O)</span> <span style='color: None;'>((O)</span> <span style='color: None;'>every(O)</span> <span style='color: None;'>3(O)</span> <span style='color: None;'>weeks(O)</span> <span style='color: None;'>)(O)</span> <span style='color: None;'>plus(O)</span> <span style='color: None;'>pre(O)</span> <span style='color: None;'>##d(O)</span> <span style='color: None;'>##nis(O)</span> <span style='color: None;'>##one(O)</span> <span style='color: None;'>.(O)</span> <span style='color: None;'>those(O)</span> <span style='color: None;'>who(O)</span> <span style='color: None;'>received(O)</span> <span style='color: None;'>pre(O)</span> <span style='color: None;'>##d(O)</span> <span style='color: None;'>##nis(O)</span> <span style='color: None;'>##one(O)</span> <span style='color: None;'>alone(O)</span> <span style='color: None;'>could(O)</span> <span style='color: None;'>have(O)</span> <span style='color: None;'>mit(O)</span> <span style='color: None;'>##ox(O)</span> <span style='color: None;'>##ant(O)</span> <span style='color: None;'>##rone(O)</span> <span style='color: None;'>added(O)</span> <span style='color: None;'>after(O)</span> <span style='color: None;'>6(O)</span> <span style='color: None;'>weeks(O)</span> <span style='color: None;'>if(O)</span> <span style='color: None;'>there(O)</span> <span style='color: None;'>was(O)</span> <span style='color: None;'>no(O)</span> <span style='color: None;'>improvement(O)</span> <span style='color: None;'>in(O)</span> <span style='color: None;'>pain(O)</span> <span style='color: None;'>.(O)</span> <span style='color: None;'>hq(O)</span> <span style='color: None;'>##l(O)</span> <span style='color: None;'>was(O)</span> <span style='color: None;'>assessed(O)</span> <span style='color: None;'>before(O)</span> <span style='color: None;'>treatment(O)</span> <span style='color: None;'>initiation(O)</span> <span style='color: None;'>and(O)</span> <span style='color: None;'>then(O)</span> <span style='color: None;'>every(O)</span> <span style='color: None;'>3(O)</span> <span style='color: None;'>weeks(O)</span> <span style='color: None;'>using(O)</span> <span style='color: None;'>the(O)</span> <span style='color: None;'>european(O)</span> <span style='color: None;'>organization(O)</span> <span style='color: None;'>for(O)</span> <span style='color: None;'>research(O)</span> <span style='color: None;'>and(O)</span> <span style='color: None;'>treatment(O)</span> <span style='color: None;'>of(O)</span> <span style='color: None;'>cancer(O)</span> <span style='color: None;'>quality(O)</span> <span style='color: None;'>-(O)</span> <span style='color: None;'>of(O)</span> <span style='color: None;'>-(O)</span> <span style='color: None;'>life(O)</span> <span style='color: None;'>question(O)</span> <span style='color: None;'>##naire(O)</span> <span style='color: None;'>c(O)</span> <span style='color: None;'>##30(O)</span> <span style='color: None;'>((O)</span> <span style='color: None;'>e(O)</span> <span style='color: None;'>##ort(O)</span> <span style='color: None;'>##c(O)</span> <span style='color: None;'>q(O)</span> <span style='color: None;'>##l(O)</span> <span style='color: None;'>##q(O)</span> <span style='color: None;'>-(O)</span> <span style='color: None;'>c(O)</span> <span style='color: None;'>##30(O)</span> <span style='color: None;'>)(O)</span> <span style='color: None;'>and(O)</span> <span style='color: None;'>the(O)</span> <span style='color: None;'>quality(O)</span> <span style='color: None;'>of(O)</span> <span style='color: None;'>life(O)</span> <span style='color: None;'>module(O)</span> <span style='color: None;'>-(O)</span> <span style='color: None;'>prostate(O)</span> <span style='color: None;'>14(O)</span> <span style='color: None;'>((O)</span> <span style='color: None;'>q(O)</span> <span style='color: None;'>##ol(O)</span> <span style='color: None;'>##m(O)</span> <span style='color: None;'>-(O)</span> <span style='color: None;'>p(O)</span> <span style='color: None;'>##14(O)</span> <span style='color: None;'>)(O)</span> <span style='color: None;'>,(O)</span> <span style='color: None;'>a(O)</span> <span style='color: None;'>trial(O)</span> <span style='color: None;'>-(O)</span> <span style='color: None;'>specific(O)</span> <span style='color: None;'>module(O)</span> <span style='color: None;'>developed(O)</span> <span style='color: None;'>for(O)</span> <span style='color: None;'>this(O)</span> <span style='color: None;'>study(O)</span> <span style='color: None;'>.(O)</span> <span style='color: None;'>an(O)</span> <span style='color: None;'>intent(O)</span> <span style='color: None;'>-(O)</span> <span style='color: None;'>to(O)</span> <span style='color: None;'>-(O)</span> <span style='color: None;'>treat(O)</span> <span style='color: None;'>analysis(O)</span> <span style='color: None;'>was(O)</span> <span style='color: None;'>used(O)</span> <span style='color: None;'>to(O)</span> <span style='color: None;'>determine(O)</span> <span style='color: None;'>the(O)</span> <span style='color: None;'>mean(O)</span> <span style='color: None;'>duration(O)</span> <span style='color: None;'>of(O)</span> <span style='color: None;'>hq(O)</span> <span style='color: None;'>##l(O)</span> <span style='color: None;'>improvement(O)</span> <span style='color: None;'>and(O)</span> <span style='color: None;'>differences(O)</span> <span style='color: None;'>in(O)</span> <span style='color: None;'>improvement(O)</span> <span style='color: None;'>duration(O)</span> <span style='color: None;'>between(O)</span> <span style='color: None;'>groups(O)</span> <span style='color: None;'>of(O)</span> <span style='color: None;'>patients(O)</span> <span style='color: None;'>.(O)</span> <span style='color: #625350;'>at(B-Premise)</span> <span style='color: #625350;'>6(I-Premise)</span> <span style='color: #625350;'>weeks(I-Premise)</span> <span style='color: #625350;'>,(I-Premise)</span> <span style='color: #625350;'>both(I-Premise)</span> <span style='color: #625350;'>groups(I-Premise)</span> <span style='color: #625350;'>showed(I-Premise)</span> <span style='color: #625350;'>improvement(I-Premise)</span> <span style='color: #625350;'>in(I-Premise)</span> <span style='color: #625350;'>several(I-Premise)</span> <span style='color: #625350;'>hq(I-Premise)</span> <span style='color: #625350;'>##l(I-Premise)</span> <span style='color: #625350;'>domains(I-Premise)</span> <span style='color: #625350;'>,(I-Premise)</span> <span style='color: None;'>and(O)</span> <span style='color: #474894;'>only(B-Premise)</span> <span style='color: #474894;'>physical(I-Premise)</span> <span style='color: #474894;'>functioning(I-Premise)</span> <span style='color: #474894;'>and(I-Premise)</span> <span style='color: #474894;'>pain(I-Premise)</span> <span style='color: #474894;'>were(I-Premise)</span> <span style='color: #474894;'>better(I-Premise)</span> <span style='color: #474894;'>in(I-Premise)</span> <span style='color: #474894;'>the(I-Premise)</span> <span style='color: #474894;'>mit(I-Premise)</span> <span style='color: #474894;'>##ox(I-Premise)</span> <span style='color: #474894;'>##ant(I-Premise)</span> <span style='color: #474894;'>##rone(I-Premise)</span> <span style='color: #474894;'>-(I-Premise)</span> <span style='color: #474894;'>plus(I-Premise)</span> <span style='color: #474894;'>-(I-Premise)</span> <span style='color: #474894;'>pre(I-Premise)</span> <span style='color: #474894;'>##d(I-Premise)</span> <span style='color: #474894;'>##nis(I-Premise)</span> <span style='color: #474894;'>##one(I-Premise)</span> <span style='color: #474894;'>group(I-Premise)</span> <span style='color: #474894;'>than(I-Premise)</span> <span style='color: #474894;'>in(I-Premise)</span> <span style='color: #474894;'>the(I-Premise)</span> <span style='color: #474894;'>pre(I-Premise)</span> <span style='color: #474894;'>##d(I-Premise)</span> <span style='color: #474894;'>##nis(I-Premise)</span> <span style='color: #474894;'>##one(I-Premise)</span> <span style='color: #474894;'>-(I-Premise)</span> <span style='color: #474894;'>alone(I-Premise)</span> <span style='color: #474894;'>group(I-Premise)</span> <span style='color: #474894;'>.(I-Premise)</span> <span style='color: #b4a797;'>after(B-Premise)</span> <span style='color: #b4a797;'>6(I-Premise)</span> <span style='color: #b4a797;'>weeks(I-Premise)</span> <span style='color: #b4a797;'>,(I-Premise)</span> <span style='color: #b4a797;'>patients(I-Premise)</span> <span style='color: #b4a797;'>taking(I-Premise)</span> <span style='color: #b4a797;'>pre(I-Premise)</span> <span style='color: #b4a797;'>##d(I-Premise)</span> <span style='color: #b4a797;'>##nis(I-Premise)</span> <span style='color: #b4a797;'>##one(I-Premise)</span> <span style='color: #b4a797;'>showed(I-Premise)</span> <span style='color: #b4a797;'>no(I-Premise)</span> <span style='color: #b4a797;'>improvement(I-Premise)</span> <span style='color: #b4a797;'>in(I-Premise)</span> <span style='color: #b4a797;'>hq(I-Premise)</span> <span style='color: #b4a797;'>##l(I-Premise)</span> <span style='color: #b4a797;'>scores(I-Premise)</span> <span style='color: #b4a797;'>,(I-Premise)</span> <span style='color: #b4a797;'>whereas(I-Premise)</span> <span style='color: #b4a797;'>those(I-Premise)</span> <span style='color: #b4a797;'>taking(I-Premise)</span> <span style='color: #b4a797;'>mit(I-Premise)</span> <span style='color: #b4a797;'>##ox(I-Premise)</span> <span style='color: #b4a797;'>##ant(I-Premise)</span> <span style='color: #b4a797;'>##rone(I-Premise)</span> <span style='color: #b4a797;'>plus(I-Premise)</span> <span style='color: #b4a797;'>pre(I-Premise)</span> <span style='color: #b4a797;'>##d(I-Premise)</span> <span style='color: #b4a797;'>##nis(I-Premise)</span> <span style='color: #b4a797;'>##one(I-Premise)</span> <span style='color: #b4a797;'>showed(I-Premise)</span> <span style='color: #b4a797;'>significant(I-Premise)</span> <span style='color: #b4a797;'>improvements(I-Premise)</span> <span style='color: #b4a797;'>in(I-Premise)</span> <span style='color: #b4a797;'>global(I-Premise)</span> <span style='color: #b4a797;'>quality(I-Premise)</span> <span style='color: #b4a797;'>of(I-Premise)</span> <span style='color: #b4a797;'>life(I-Premise)</span> <span style='color: #b4a797;'>((I-Premise)</span> <span style='color: #b4a797;'>p(I-Premise)</span> <span style='color: #b4a797;'>=(I-Premise)</span> <span style='color: #b4a797;'>.(I-Premise)</span> <span style='color: #b4a797;'>00(I-Premise)</span> <span style='color: #b4a797;'>##9(I-Premise)</span> <span style='color: #b4a797;'>)(I-Premise)</span> <span style='color: #b4a797;'>,(I-Premise)</span> <span style='color: #b4a797;'>four(I-Premise)</span> <span style='color: #b4a797;'>functioning(I-Premise)</span> <span style='color: #b4a797;'>domains(I-Premise)</span> <span style='color: #b4a797;'>,(I-Premise)</span> <span style='color: #b4a797;'>and(I-Premise)</span> <span style='color: #b4a797;'>nine(I-Premise)</span> <span style='color: #b4a797;'>symptoms(I-Premise)</span> <span style='color: #b4a797;'>((I-Premise)</span> <span style='color: #b4a797;'>.(I-Premise)</span> <span style='color: #b4a797;'>001(I-Premise)</span> <span style='color: #b4a797;'><(I-Premise)</span> <span style='color: #b4a797;'>p(I-Premise)</span> <span style='color: #b4a797;'><(I-Premise)</span> <span style='color: #b4a797;'>.(I-Premise)</span> <span style='color: #b4a797;'>01(I-Premise)</span> <span style='color: #b4a797;'>)(I-Premise)</span> <span style='color: #b4a797;'>,(I-Premise)</span> <span style='color: None;'>and(O)</span> <span style='color: #976f5a;'>the(B-Premise)</span> <span style='color: #976f5a;'>improvement(I-Premise)</span> <span style='color: #976f5a;'>((I-Premise)</span> <span style='color: #976f5a;'>>(I-Premise)</span> <span style='color: #976f5a;'>10(I-Premise)</span> <span style='color: #976f5a;'>units(I-Premise)</span> <span style='color: #976f5a;'>on(I-Premise)</span> <span style='color: #976f5a;'>a(I-Premise)</span> <span style='color: #976f5a;'>scale(I-Premise)</span> <span style='color: #976f5a;'>of(I-Premise)</span> <span style='color: #976f5a;'>0(I-Premise)</span> <span style='color: #976f5a;'>to(I-Premise)</span> <span style='color: #976f5a;'>##100(I-Premise)</span> <span style='color: #976f5a;'>)(I-Premise)</span> <span style='color: #976f5a;'>lasted(I-Premise)</span> <span style='color: #976f5a;'>longer(I-Premise)</span> <span style='color: #976f5a;'>than(I-Premise)</span> <span style='color: #976f5a;'>in(I-Premise)</span> <span style='color: #976f5a;'>the(I-Premise)</span> <span style='color: #976f5a;'>pre(I-Premise)</span> <span style='color: #976f5a;'>##d(I-Premise)</span> <span style='color: #976f5a;'>##nis(I-Premise)</span> <span style='color: #976f5a;'>##one(I-Premise)</span> <span style='color: #976f5a;'>-(I-Premise)</span> <span style='color: #976f5a;'>alone(I-Premise)</span> <span style='color: #976f5a;'>group(I-Premise)</span> <span style='color: #976f5a;'>((I-Premise)</span> <span style='color: #976f5a;'>.(I-Premise)</span> <span style='color: #976f5a;'>00(I-Premise)</span> <span style='color: #976f5a;'>##4(I-Premise)</span> <span style='color: #976f5a;'><(I-Premise)</span> <span style='color: #976f5a;'>p(I-Premise)</span> <span style='color: #976f5a;'><(I-Premise)</span> <span style='color: #976f5a;'>.(I-Premise)</span> <span style='color: #976f5a;'>05(I-Premise)</span> <span style='color: #976f5a;'>)(I-Premise)</span> <span style='color: #976f5a;'>.(I-Premise)</span> <span style='color: #b8528b;'>the(B-Premise)</span> <span style='color: #b8528b;'>addition(I-Premise)</span> <span style='color: #b8528b;'>of(I-Premise)</span> <span style='color: #b8528b;'>mit(I-Premise)</span> <span style='color: #b8528b;'>##ox(I-Premise)</span> <span style='color: #b8528b;'>##ant(I-Premise)</span> <span style='color: #b8528b;'>##rone(I-Premise)</span> <span style='color: #b8528b;'>to(I-Premise)</span> <span style='color: #b8528b;'>pre(I-Premise)</span> <span style='color: #b8528b;'>##d(I-Premise)</span> <span style='color: #b8528b;'>##nis(I-Premise)</span> <span style='color: #b8528b;'>##one(I-Premise)</span> <span style='color: #b8528b;'>after(I-Premise)</span> <span style='color: #b8528b;'>failure(I-Premise)</span> <span style='color: #b8528b;'>of(I-Premise)</span> <span style='color: #b8528b;'>pre(I-Premise)</span> <span style='color: #b8528b;'>##d(I-Premise)</span> <span style='color: #b8528b;'>##nis(I-Premise)</span> <span style='color: #b8528b;'>##one(I-Premise)</span> <span style='color: #b8528b;'>alone(I-Premise)</span> <span style='color: #b8528b;'>was(I-Premise)</span> <span style='color: #b8528b;'>associated(I-Premise)</span> <span style='color: #b8528b;'>with(I-Premise)</span> <span style='color: #b8528b;'>improvements(I-Premise)</span> <span style='color: #b8528b;'>in(I-Premise)</span> <span style='color: #b8528b;'>pain(I-Premise)</span> <span style='color: #b8528b;'>,(I-Premise)</span> <span style='color: #b8528b;'>pain(I-Premise)</span> <span style='color: #b8528b;'>impact(I-Premise)</span> <span style='color: #b8528b;'>,(I-Premise)</span> <span style='color: #b8528b;'>pain(I-Premise)</span> <span style='color: #b8528b;'>relief(I-Premise)</span> <span style='color: #b8528b;'>,(I-Premise)</span> <span style='color: #b8528b;'>ins(I-Premise)</span> <span style='color: #b8528b;'>##om(I-Premise)</span> <span style='color: #b8528b;'>##nia(I-Premise)</span> <span style='color: #b8528b;'>,(I-Premise)</span> <span style='color: #b8528b;'>and(I-Premise)</span> <span style='color: #b8528b;'>global(I-Premise)</span> <span style='color: #b8528b;'>quality(I-Premise)</span> <span style='color: #b8528b;'>of(I-Premise)</span> <span style='color: #b8528b;'>life(I-Premise)</span> <span style='color: #b8528b;'>((I-Premise)</span> <span style='color: #b8528b;'>.(I-Premise)</span> <span style='color: #b8528b;'>001(I-Premise)</span> <span style='color: #b8528b;'><(I-Premise)</span> <span style='color: #b8528b;'>p(I-Premise)</span> <span style='color: #b8528b;'><(I-Premise)</span> <span style='color: #b8528b;'>.(I-Premise)</span> <span style='color: #b8528b;'>00(I-Premise)</span> <span style='color: #b8528b;'>##3(I-Premise)</span> <span style='color: #b8528b;'>)(I-Premise)</span> <span style='color: #b8528b;'>.(I-Premise)</span> <span style='color: #c48c67;'>treatment(B-Claim)</span> <span style='color: #c48c67;'>with(I-Claim)</span> <span style='color: #c48c67;'>mit(I-Claim)</span> <span style='color: #c48c67;'>##ox(I-Claim)</span> <span style='color: #c48c67;'>##ant(I-Claim)</span> <span style='color: #c48c67;'>##rone(I-Claim)</span> <span style='color: #c48c67;'>plus(I-Claim)</span> <span style='color: #c48c67;'>pre(I-Claim)</span> <span style='color: #c48c67;'>##d(I-Claim)</span> <span style='color: #c48c67;'>##nis(I-Claim)</span> <span style='color: #c48c67;'>##one(I-Claim)</span> <span style='color: #c48c67;'>was(I-Claim)</span> <span style='color: #c48c67;'>associated(I-Claim)</span> <span style='color: #c48c67;'>with(I-Claim)</span> <span style='color: #c48c67;'>greater(I-Claim)</span> <span style='color: #c48c67;'>and(I-Claim)</span> <span style='color: #c48c67;'>longer(I-Claim)</span> <span style='color: #c48c67;'>-(I-Claim)</span> <span style='color: #c48c67;'>lasting(I-Claim)</span> <span style='color: #c48c67;'>improvement(I-Claim)</span> <span style='color: #c48c67;'>in(I-Claim)</span> <span style='color: #c48c67;'>several(I-Claim)</span> <span style='color: #c48c67;'>hq(I-Claim)</span> <span style='color: #c48c67;'>##l(I-Claim)</span> <span style='color: #c48c67;'>domains(I-Claim)</span> <span style='color: #c48c67;'>and(I-Claim)</span> <span style='color: #c48c67;'>symptoms(I-Claim)</span> <span style='color: #c48c67;'>than(I-Claim)</span> <span style='color: #c48c67;'>treatment(I-Claim)</span> <span style='color: #c48c67;'>with(I-Claim)</span> <span style='color: #c48c67;'>pre(I-Claim)</span> <span style='color: #c48c67;'>##d(I-Claim)</span> <span style='color: #c48c67;'>##nis(I-Claim)</span> <span style='color: #c48c67;'>##one(I-Claim)</span> <span style='color: #c48c67;'>alone(I-Claim)</span> <span style='color: #c48c67;'>.(I-Claim)</span> <span style='color: None;'>[SEP](O)</span> <span style='color: None;'>[PAD](O)</span> <span style='color: None;'>[PAD](O)</span> <span style='color: None;'>[PAD](O)</span> <span style='color: None;'>[PAD](O)</span> <span style='color: None;'>[PAD](O)</span> <span style='color: None;'>[PAD](O)</span> <span style='color: None;'>[PAD](O)</span> <span style='color: None;'>[PAD](O)</span> <span style='color: None;'>[PAD](O)</span> <span style='color: None;'>[PAD](O)</span> <span style='color: None;'>[PAD](O)</span> <span style='color: None;'>[PAD](O)</span> <span style='color: None;'>[PAD](O)</span> <span style='color: None;'>[PAD](O)</span> <span style='color: None;'>[PAD](O)</span> <span style='color: None;'>[PAD](O)</span> <span style='color: None;'>[PAD](O)</span> <span style='color: None;'>[PAD](O)</span> <span style='color: None;'>[PAD](O)</span> <span style='color: None;'>[PAD](O)</span> <span style='color: None;'>[PAD](O)</span> <span style='color: None;'>[PAD](O)</span> <span style='color: None;'>[PAD](O)</span> <span style='color: None;'>[PAD](O)</span> <span style='color: None;'>[PAD](O)</span> <span style='color: None;'>[PAD](O)</span> <span style='color: None;'>[PAD](O)</span> <span style='color: None;'>[PAD](O)</span> <span style='color: None;'>[PAD](O)</span> <span style='color: None;'>[PAD](O)</span> <span style='color: None;'>[PAD](O)</span> <span style='color: None;'>[PAD](O)</span> <span style='color: None;'>[PAD](O)</span> <span style='color: None;'>[PAD](O)</span> <span style='color: None;'>[PAD](O)</span> <span style='color: None;'>[PAD](O)</span> <span style='color: None;'>[PAD](O)</span> <span style='color: None;'>[PAD](O)</span> <span style='color: None;'>[PAD](O)</span> <span style='color: None;'>[PAD](O)</span> <span style='color: None;'>[PAD](O)</span> <span style='color: None;'>[PAD](O)</span> <span style='color: None;'>[PAD](O)</span> <span style='color: None;'>[PAD](O)</span> <span style='color: None;'>[PAD](O)</span> <span style='color: None;'>[PAD](O)</span> <span style='color: None;'>[PAD](O)</span>"
      ],
      "text/plain": [
       "<IPython.core.display.HTML object>"
      ]
     },
     "metadata": {},
     "output_type": "display_data"
    }
   ],
   "source": [
    "print_annotated_example(train_df, show_special_tokens=True,sample_idx=0)"
   ]
  },
  {
   "cell_type": "code",
   "execution_count": 12,
   "metadata": {
    "colab": {
     "base_uri": "https://localhost:8080/",
     "height": 709
    },
    "id": "mJTxEEbXo-Qw",
    "outputId": "0eaca6b4-025e-4ebb-afac-fba6f469b44b"
   },
   "outputs": [
    {
     "name": "stdout",
     "output_type": "stream",
     "text": [
      "\n",
      "Shape Training dataframe: (428, 8)\n",
      "Shape Validation dataframe : (107, 8)\n",
      "Shape Test dataframe: (134, 8)\n"
     ]
    },
    {
     "data": {
      "text/html": [
       "<div>\n",
       "<style scoped>\n",
       "    .dataframe tbody tr th:only-of-type {\n",
       "        vertical-align: middle;\n",
       "    }\n",
       "\n",
       "    .dataframe tbody tr th {\n",
       "        vertical-align: top;\n",
       "    }\n",
       "\n",
       "    .dataframe thead th {\n",
       "        text-align: right;\n",
       "    }\n",
       "</style>\n",
       "<table border=\"1\" class=\"dataframe\">\n",
       "  <thead>\n",
       "    <tr style=\"text-align: right;\">\n",
       "      <th></th>\n",
       "      <th>raw_text</th>\n",
       "      <th>tokenized_text</th>\n",
       "      <th>input_ids</th>\n",
       "      <th>attention_mask</th>\n",
       "      <th>tags</th>\n",
       "      <th>encoded_tags</th>\n",
       "      <th>new_start_end_positions</th>\n",
       "      <th>file_name</th>\n",
       "    </tr>\n",
       "  </thead>\n",
       "  <tbody>\n",
       "    <tr>\n",
       "      <th>0</th>\n",
       "      <td>\\n\\nto compare the efficacy and side effects a...</td>\n",
       "      <td>[[CLS], to, compare, the, efficacy, and, side,...</td>\n",
       "      <td>[101, 2000, 12826, 1996, 21150, 1998, 2217, 38...</td>\n",
       "      <td>[1, 1, 1, 1, 1, 1, 1, 1, 1, 1, 1, 1, 1, 1, 1, ...</td>\n",
       "      <td>[O, O, O, O, O, O, O, O, O, O, O, O, O, O, O, ...</td>\n",
       "      <td>[4, 4, 4, 4, 4, 4, 4, 4, 4, 4, 4, 4, 4, 4, 4, ...</td>\n",
       "      <td>{'T1': (329, 371), 'T2': (372, 433), 'T3': (43...</td>\n",
       "      <td>10080213.ann</td>\n",
       "    </tr>\n",
       "    <tr>\n",
       "      <th>1</th>\n",
       "      <td>data from experimental studies suggest that o...</td>\n",
       "      <td>[[CLS], data, from, experimental, studies, sug...</td>\n",
       "      <td>[101, 2951, 2013, 6388, 2913, 6592, 2008, 1332...</td>\n",
       "      <td>[1, 1, 1, 1, 1, 1, 1, 1, 1, 1, 1, 1, 1, 1, 1, ...</td>\n",
       "      <td>[O, O, O, O, O, O, O, B-Claim, I-Claim, I-Clai...</td>\n",
       "      <td>[4, 4, 4, 4, 4, 4, 4, 0, 2, 2, 2, 2, 2, 2, 2, ...</td>\n",
       "      <td>{'T1': (7, 29), 'T2': (135, 188), 'T3': (189, ...</td>\n",
       "      <td>10210927.ann</td>\n",
       "    </tr>\n",
       "    <tr>\n",
       "      <th>2</th>\n",
       "      <td>in a prospective randomized study, 287 patien...</td>\n",
       "      <td>[[CLS], in, a, prospective, random, ##ized, st...</td>\n",
       "      <td>[101, 1999, 1037, 17464, 6721, 3550, 2817, 101...</td>\n",
       "      <td>[1, 1, 1, 1, 1, 1, 1, 1, 1, 1, 1, 1, 1, 1, 1, ...</td>\n",
       "      <td>[O, O, O, O, O, O, O, O, O, O, O, O, O, O, O, ...</td>\n",
       "      <td>[4, 4, 4, 4, 4, 4, 4, 4, 4, 4, 4, 4, 4, 4, 4, ...</td>\n",
       "      <td>{'T1': (400, 422), 'T2': (250, 266), 'T3': (26...</td>\n",
       "      <td>10403690.ann</td>\n",
       "    </tr>\n",
       "    <tr>\n",
       "      <th>3</th>\n",
       "      <td>to evaluate the efficacy and safety of a slow...</td>\n",
       "      <td>[[CLS], to, evaluate, the, efficacy, and, safe...</td>\n",
       "      <td>[101, 2000, 16157, 1996, 21150, 1998, 3808, 19...</td>\n",
       "      <td>[1, 1, 1, 1, 1, 1, 1, 1, 1, 1, 1, 1, 1, 1, 1, ...</td>\n",
       "      <td>[O, O, O, O, O, O, O, O, O, O, O, O, O, O, O, ...</td>\n",
       "      <td>[4, 4, 4, 4, 4, 4, 4, 4, 4, 4, 4, 4, 4, 4, 4, ...</td>\n",
       "      <td>{'T1': (179, 212), 'T2': (213, 249), 'T3': (25...</td>\n",
       "      <td>10506606.ann</td>\n",
       "    </tr>\n",
       "    <tr>\n",
       "      <th>4</th>\n",
       "      <td>for several decades, both preoperative intra-...</td>\n",
       "      <td>[[CLS], for, several, decades, ,, both, pre, #...</td>\n",
       "      <td>[101, 2005, 2195, 5109, 1010, 2119, 3653, 2591...</td>\n",
       "      <td>[1, 1, 1, 1, 1, 1, 1, 1, 1, 1, 1, 1, 1, 1, 1, ...</td>\n",
       "      <td>[O, B-Claim, I-Claim, I-Claim, I-Claim, I-Clai...</td>\n",
       "      <td>[4, 0, 2, 2, 2, 2, 2, 2, 2, 2, 2, 2, 2, 2, 2, ...</td>\n",
       "      <td>{'T1': (1, 33), 'T3': (338, 369), 'T4': (372, ...</td>\n",
       "      <td>10526263.ann</td>\n",
       "    </tr>\n",
       "  </tbody>\n",
       "</table>\n",
       "</div>"
      ],
      "text/plain": [
       "                                            raw_text  \\\n",
       "0  \\n\\nto compare the efficacy and side effects a...   \n",
       "1   data from experimental studies suggest that o...   \n",
       "2   in a prospective randomized study, 287 patien...   \n",
       "3   to evaluate the efficacy and safety of a slow...   \n",
       "4   for several decades, both preoperative intra-...   \n",
       "\n",
       "                                      tokenized_text  \\\n",
       "0  [[CLS], to, compare, the, efficacy, and, side,...   \n",
       "1  [[CLS], data, from, experimental, studies, sug...   \n",
       "2  [[CLS], in, a, prospective, random, ##ized, st...   \n",
       "3  [[CLS], to, evaluate, the, efficacy, and, safe...   \n",
       "4  [[CLS], for, several, decades, ,, both, pre, #...   \n",
       "\n",
       "                                           input_ids  \\\n",
       "0  [101, 2000, 12826, 1996, 21150, 1998, 2217, 38...   \n",
       "1  [101, 2951, 2013, 6388, 2913, 6592, 2008, 1332...   \n",
       "2  [101, 1999, 1037, 17464, 6721, 3550, 2817, 101...   \n",
       "3  [101, 2000, 16157, 1996, 21150, 1998, 3808, 19...   \n",
       "4  [101, 2005, 2195, 5109, 1010, 2119, 3653, 2591...   \n",
       "\n",
       "                                      attention_mask  \\\n",
       "0  [1, 1, 1, 1, 1, 1, 1, 1, 1, 1, 1, 1, 1, 1, 1, ...   \n",
       "1  [1, 1, 1, 1, 1, 1, 1, 1, 1, 1, 1, 1, 1, 1, 1, ...   \n",
       "2  [1, 1, 1, 1, 1, 1, 1, 1, 1, 1, 1, 1, 1, 1, 1, ...   \n",
       "3  [1, 1, 1, 1, 1, 1, 1, 1, 1, 1, 1, 1, 1, 1, 1, ...   \n",
       "4  [1, 1, 1, 1, 1, 1, 1, 1, 1, 1, 1, 1, 1, 1, 1, ...   \n",
       "\n",
       "                                                tags  \\\n",
       "0  [O, O, O, O, O, O, O, O, O, O, O, O, O, O, O, ...   \n",
       "1  [O, O, O, O, O, O, O, B-Claim, I-Claim, I-Clai...   \n",
       "2  [O, O, O, O, O, O, O, O, O, O, O, O, O, O, O, ...   \n",
       "3  [O, O, O, O, O, O, O, O, O, O, O, O, O, O, O, ...   \n",
       "4  [O, B-Claim, I-Claim, I-Claim, I-Claim, I-Clai...   \n",
       "\n",
       "                                        encoded_tags  \\\n",
       "0  [4, 4, 4, 4, 4, 4, 4, 4, 4, 4, 4, 4, 4, 4, 4, ...   \n",
       "1  [4, 4, 4, 4, 4, 4, 4, 0, 2, 2, 2, 2, 2, 2, 2, ...   \n",
       "2  [4, 4, 4, 4, 4, 4, 4, 4, 4, 4, 4, 4, 4, 4, 4, ...   \n",
       "3  [4, 4, 4, 4, 4, 4, 4, 4, 4, 4, 4, 4, 4, 4, 4, ...   \n",
       "4  [4, 0, 2, 2, 2, 2, 2, 2, 2, 2, 2, 2, 2, 2, 2, ...   \n",
       "\n",
       "                             new_start_end_positions     file_name  \n",
       "0  {'T1': (329, 371), 'T2': (372, 433), 'T3': (43...  10080213.ann  \n",
       "1  {'T1': (7, 29), 'T2': (135, 188), 'T3': (189, ...  10210927.ann  \n",
       "2  {'T1': (400, 422), 'T2': (250, 266), 'T3': (26...  10403690.ann  \n",
       "3  {'T1': (179, 212), 'T2': (213, 249), 'T3': (25...  10506606.ann  \n",
       "4  {'T1': (1, 33), 'T3': (338, 369), 'T4': (372, ...  10526263.ann  "
      ]
     },
     "execution_count": 12,
     "metadata": {},
     "output_type": "execute_result"
    }
   ],
   "source": [
    "# custom corpus\n",
    "custom_train_df = create_dataframe_from_directory(custom_train_data_dir, tag_to_idx,bert_tokenizer, \"component_detection\", MAX_LENGTH)\n",
    "custom_val_df = create_dataframe_from_directory(custom_val_data_dir,tag_to_idx,bert_tokenizer,\"component_detection\", MAX_LENGTH)\n",
    "custom_test_df = create_dataframe_from_directory(custom_test_data_dir,tag_to_idx,bert_tokenizer,\"component_detection\", MAX_LENGTH)\n",
    "\n",
    "\n",
    "print(f\"\\nShape Training dataframe: {custom_train_df.shape}\")\n",
    "print(f\"Shape Validation dataframe : {custom_val_df.shape}\")\n",
    "print(f\"Shape Test dataframe: {custom_test_df.shape}\")\n",
    "\n",
    "\n",
    "custom_train_df.head()"
   ]
  },
  {
   "cell_type": "code",
   "execution_count": 37,
   "metadata": {},
   "outputs": [
    {
     "name": "stdout",
     "output_type": "stream",
     "text": [
      "{'O': 0.005413833186845046, 'B-Premise': 0.2924687881118337, 'I-Premise': 0.0077116132587323576, 'B-Claim': 0.6675346665761751, 'I-Claim': 0.026871098866413826}\n"
     ]
    }
   ],
   "source": [
    "CLASS_WEIGHTS_NORMALIZED_CUSTOM = compute_norm_class_weights(custom_train_df,label_column='tags', special_tokens=special_tokens_bert, task_name='seqtag')\n",
    "print(CLASS_WEIGHTS_NORMALIZED_CUSTOM)"
   ]
  },
  {
   "cell_type": "code",
   "execution_count": 14,
   "metadata": {
    "colab": {
     "base_uri": "https://localhost:8080/"
    },
    "id": "KZFQHOHvo-Qw",
    "outputId": "29da260b-5735-4bc6-80c9-32a7c4a13a3d"
   },
   "outputs": [
    {
     "name": "stdout",
     "output_type": "stream",
     "text": [
      "\n",
      "Example of an annotated sentence:\n",
      "\n",
      "Raw text:\n",
      "['to', 'compare', 'the', 'efficacy', 'and', 'side', 'effects', 'and', 'the', 'effect', 'on', 'aqueous', 'humor', 'dynamics', 'of', '0.005%', 'latanoprost', 'applied', 'topically', 'once', 'daily', 'with', '0.5%', 'timolol', 'given', 'twice', 'daily', 'for', '12', 'months', 'to', 'patients', 'with', 'pigmentary', 'glaucoma.', 'prospective,', 'randomized,', 'double-masked,', 'clinical', 'study.', 'thirty-six', 'patients', 'affected', 'with', 'bilateral', 'pigmentary', 'glaucoma', 'controlled', 'with', 'no', 'more', 'than', 'a', 'single', 'hypotensive', 'medication', 'were', 'enrolled', 'in', 'the', 'study.', 'the', 'sample', 'population', 'was', 'randomly', 'divided', 'into', '2', 'age-', 'and', 'gender-matched', 'groups', 'each', 'of', '18', 'patients.', 'group', '1', 'received', '0.005%', 'latanoprost', 'eyedrops', 'once', 'daily', 'and', 'the', 'vehicle', '(placebo)', 'once', 'daily;', 'group', '2', 'was', 'assigned', 'to', 'timolol', '0.5%', 'eyedrops', 'twice', 'daily.', 'diurnal', 'curves', 'of', 'intraocular', 'pressure', '(iop)', 'were', 'performed', 'on', 'the', 'baseline', 'day', 'and', 'after', '0.5,', '3,', '6,', 'and', '12', 'months', 'of', 'treatment.', 'the', 'iop', 'measurements', 'were', 'performed', 'at', '8:00', 'am,', '12:00', 'noon,', '4:00', 'pm,', 'and', '8:00', 'pm.', 'outflow', 'facility', '(c)', 'was', 'measured', 'on', 'the', 'baseline', 'day', 'and', 'on', 'the', 'last', 'day', 'of', 'the', 'study', 'with', 'a', 'schiotz', 'electronic', 'tonometer.', 'a', 'two-tailed', \"student's\", 't', 'test', 'for', 'paired', 'or', 'unpaired', 'data', 'was', 'used', 'for', 'statistical', 'evaluation', 'of', 'differences', 'between', 'treatment', 'and', 'baseline', 'values', 'or', 'between', 'the', 'latanoprost', 'and', 'timolol', 'group.', 'diurnal', 'iop', 'measurements', 'were', 'compared', 'hour', 'by', 'hour.', 'mean', 'values', 'of', 'the', 'two', 'eyes', 'iop', 'and', 'c', 'were', 'used', 'for', 'analysis.', 'compared', 'with', 'baseline', 'measurements,', 'both', 'latanoprost', 'and', 'timolol', 'caused', 'a', 'significant', '(p', '<', '0.001)', 'reduction', 'of', 'iop', 'at', 'each', 'hour', 'of', 'diurnal', 'curve', 'throughout', 'the', 'duration', 'of', 'therapy.', 'reduction', 'of', 'iop', 'was', '6.0', '+/-', '4.5', 'and', '5.9', '+/-', '4.6', 'with', 'latanoprost', 'and', '4.8', '+/-', '3.0', 'and', '4.6', '+/-', '3.1', 'with', 'timolol', 'after', '6', 'and', '12', 'months,', 'respectively.', 'comparison', 'of', 'mean', 'diurnal', 'measurements', 'with', 'latanoprost', 'and', 'timolol', 'showed', 'a', 'statistical', 'significant', '(p', '<', '0.001)', 'difference', 'at', '3,', '6,', 'and', '12', 'months.', 'mean', 'c', 'was', 'found', 'to', 'be', 'significantly', 'enhanced', '(+30%)', 'only', 'in', 'the', 'latanoprost-treated', 'group', 'compared', 'with', 'the', 'baseline', '(p', '=', '0.017).', 'mean', 'conjunctival', 'hyperemia', 'was', 'graded', 'at', '0.3', 'in', 'latanoprost-treated', 'eyes', 'and', '0.2', 'in', 'timolol-treated', 'eyes.', 'a', 'remarkable', 'change', 'in', 'iris', 'color', 'was', 'observed', 'in', 'both', 'eyes', 'of', '1', 'of', 'the', '18', 'patients', 'treated', 'with', 'latanoprost', 'and', 'none', 'of', 'the', '18', 'patients', 'who', 'received', 'timolol.', 'darkening', 'of', 'the', 'peripheral', 'iris', 'stroma', 'was', 'suspected', 'in', 'two', 'patients', 'treated', 'with', 'latanoprost.', 'in', 'the', 'timolol', 'group,', 'heart', 'rate', 'was', 'significantly', 'reduced', 'from', '72', '+/-', '9', 'at', 'baseline', 'to', '67', '+/-', '10', 'beats', 'per', 'minute', 'at', '12', 'months.', 'although', 'further', 'studies', 'may', 'need', 'to', 'confirm', 'these', 'data', 'on', 'a', 'larger', 'sample', 'and', 'to', 'evaluate', 'the', 'side', 'effect', 'of', 'increased', 'iris', 'pigmentation', 'on', 'long-term', 'follow-up,', 'in', 'patients', 'with', 'pigmentary', 'glaucoma,', '0.005%', 'latanoprost', 'taken', 'once', 'daily', 'was', 'well', 'tolerated', 'and', 'more', 'effective', 'in', 'reducing', 'iop', 'than', '0.5%', 'timolol', 'taken', 'twice', 'daily.']\n",
      "\n",
      "Tokenized text with colored components:\n"
     ]
    },
    {
     "data": {
      "text/html": [
       "<span style='color: None;'>[CLS](O)</span> <span style='color: None;'>to(O)</span> <span style='color: None;'>compare(O)</span> <span style='color: None;'>the(O)</span> <span style='color: None;'>efficacy(O)</span> <span style='color: None;'>and(O)</span> <span style='color: None;'>side(O)</span> <span style='color: None;'>effects(O)</span> <span style='color: None;'>and(O)</span> <span style='color: None;'>the(O)</span> <span style='color: None;'>effect(O)</span> <span style='color: None;'>on(O)</span> <span style='color: None;'>a(O)</span> <span style='color: None;'>##que(O)</span> <span style='color: None;'>##ous(O)</span> <span style='color: None;'>humor(O)</span> <span style='color: None;'>dynamics(O)</span> <span style='color: None;'>of(O)</span> <span style='color: None;'>0(O)</span> <span style='color: None;'>.(O)</span> <span style='color: None;'>00(O)</span> <span style='color: None;'>##5(O)</span> <span style='color: None;'>%(O)</span> <span style='color: None;'>la(O)</span> <span style='color: None;'>##tan(O)</span> <span style='color: None;'>##op(O)</span> <span style='color: None;'>##ros(O)</span> <span style='color: None;'>##t(O)</span> <span style='color: None;'>applied(O)</span> <span style='color: None;'>topical(O)</span> <span style='color: None;'>##ly(O)</span> <span style='color: None;'>once(O)</span> <span style='color: None;'>daily(O)</span> <span style='color: None;'>with(O)</span> <span style='color: None;'>0(O)</span> <span style='color: None;'>.(O)</span> <span style='color: None;'>5(O)</span> <span style='color: None;'>%(O)</span> <span style='color: None;'>tim(O)</span> <span style='color: None;'>##olo(O)</span> <span style='color: None;'>##l(O)</span> <span style='color: None;'>given(O)</span> <span style='color: None;'>twice(O)</span> <span style='color: None;'>daily(O)</span> <span style='color: None;'>for(O)</span> <span style='color: None;'>12(O)</span> <span style='color: None;'>months(O)</span> <span style='color: None;'>to(O)</span> <span style='color: None;'>patients(O)</span> <span style='color: None;'>with(O)</span> <span style='color: None;'>pigment(O)</span> <span style='color: None;'>##ary(O)</span> <span style='color: None;'>g(O)</span> <span style='color: None;'>##lau(O)</span> <span style='color: None;'>##com(O)</span> <span style='color: None;'>##a(O)</span> <span style='color: None;'>.(O)</span> <span style='color: None;'>prospective(O)</span> <span style='color: None;'>,(O)</span> <span style='color: None;'>random(O)</span> <span style='color: None;'>##ized(O)</span> <span style='color: None;'>,(O)</span> <span style='color: None;'>double(O)</span> <span style='color: None;'>-(O)</span> <span style='color: None;'>masked(O)</span> <span style='color: None;'>,(O)</span> <span style='color: None;'>clinical(O)</span> <span style='color: None;'>study(O)</span> <span style='color: None;'>.(O)</span> <span style='color: None;'>thirty(O)</span> <span style='color: None;'>-(O)</span> <span style='color: None;'>six(O)</span> <span style='color: None;'>patients(O)</span> <span style='color: None;'>affected(O)</span> <span style='color: None;'>with(O)</span> <span style='color: None;'>bilateral(O)</span> <span style='color: None;'>pigment(O)</span> <span style='color: None;'>##ary(O)</span> <span style='color: None;'>g(O)</span> <span style='color: None;'>##lau(O)</span> <span style='color: None;'>##com(O)</span> <span style='color: None;'>##a(O)</span> <span style='color: None;'>controlled(O)</span> <span style='color: None;'>with(O)</span> <span style='color: None;'>no(O)</span> <span style='color: None;'>more(O)</span> <span style='color: None;'>than(O)</span> <span style='color: None;'>a(O)</span> <span style='color: None;'>single(O)</span> <span style='color: None;'>h(O)</span> <span style='color: None;'>##yp(O)</span> <span style='color: None;'>##ote(O)</span> <span style='color: None;'>##ns(O)</span> <span style='color: None;'>##ive(O)</span> <span style='color: None;'>medication(O)</span> <span style='color: None;'>were(O)</span> <span style='color: None;'>enrolled(O)</span> <span style='color: None;'>in(O)</span> <span style='color: None;'>the(O)</span> <span style='color: None;'>study(O)</span> <span style='color: None;'>.(O)</span> <span style='color: None;'>the(O)</span> <span style='color: None;'>sample(O)</span> <span style='color: None;'>population(O)</span> <span style='color: None;'>was(O)</span> <span style='color: None;'>randomly(O)</span> <span style='color: None;'>divided(O)</span> <span style='color: None;'>into(O)</span> <span style='color: None;'>2(O)</span> <span style='color: None;'>age(O)</span> <span style='color: None;'>-(O)</span> <span style='color: None;'>and(O)</span> <span style='color: None;'>gender(O)</span> <span style='color: None;'>-(O)</span> <span style='color: None;'>matched(O)</span> <span style='color: None;'>groups(O)</span> <span style='color: None;'>each(O)</span> <span style='color: None;'>of(O)</span> <span style='color: None;'>18(O)</span> <span style='color: None;'>patients(O)</span> <span style='color: None;'>.(O)</span> <span style='color: None;'>group(O)</span> <span style='color: None;'>1(O)</span> <span style='color: None;'>received(O)</span> <span style='color: None;'>0(O)</span> <span style='color: None;'>.(O)</span> <span style='color: None;'>00(O)</span> <span style='color: None;'>##5(O)</span> <span style='color: None;'>%(O)</span> <span style='color: None;'>la(O)</span> <span style='color: None;'>##tan(O)</span> <span style='color: None;'>##op(O)</span> <span style='color: None;'>##ros(O)</span> <span style='color: None;'>##t(O)</span> <span style='color: None;'>eyed(O)</span> <span style='color: None;'>##rop(O)</span> <span style='color: None;'>##s(O)</span> <span style='color: None;'>once(O)</span> <span style='color: None;'>daily(O)</span> <span style='color: None;'>and(O)</span> <span style='color: None;'>the(O)</span> <span style='color: None;'>vehicle(O)</span> <span style='color: None;'>((O)</span> <span style='color: None;'>place(O)</span> <span style='color: None;'>##bo(O)</span> <span style='color: None;'>)(O)</span> <span style='color: None;'>once(O)</span> <span style='color: None;'>daily(O)</span> <span style='color: None;'>;(O)</span> <span style='color: None;'>group(O)</span> <span style='color: None;'>2(O)</span> <span style='color: None;'>was(O)</span> <span style='color: None;'>assigned(O)</span> <span style='color: None;'>to(O)</span> <span style='color: None;'>tim(O)</span> <span style='color: None;'>##olo(O)</span> <span style='color: None;'>##l(O)</span> <span style='color: None;'>0(O)</span> <span style='color: None;'>.(O)</span> <span style='color: None;'>5(O)</span> <span style='color: None;'>%(O)</span> <span style='color: None;'>eyed(O)</span> <span style='color: None;'>##rop(O)</span> <span style='color: None;'>##s(O)</span> <span style='color: None;'>twice(O)</span> <span style='color: None;'>daily(O)</span> <span style='color: None;'>.(O)</span> <span style='color: None;'>di(O)</span> <span style='color: None;'>##urn(O)</span> <span style='color: None;'>##al(O)</span> <span style='color: None;'>curves(O)</span> <span style='color: None;'>of(O)</span> <span style='color: None;'>intra(O)</span> <span style='color: None;'>##oc(O)</span> <span style='color: None;'>##ular(O)</span> <span style='color: None;'>pressure(O)</span> <span style='color: None;'>((O)</span> <span style='color: None;'>io(O)</span> <span style='color: None;'>##p(O)</span> <span style='color: None;'>)(O)</span> <span style='color: None;'>were(O)</span> <span style='color: None;'>performed(O)</span> <span style='color: None;'>on(O)</span> <span style='color: None;'>the(O)</span> <span style='color: None;'>baseline(O)</span> <span style='color: None;'>day(O)</span> <span style='color: None;'>and(O)</span> <span style='color: None;'>after(O)</span> <span style='color: None;'>0(O)</span> <span style='color: None;'>.(O)</span> <span style='color: None;'>5(O)</span> <span style='color: None;'>,(O)</span> <span style='color: None;'>3(O)</span> <span style='color: None;'>,(O)</span> <span style='color: None;'>6(O)</span> <span style='color: None;'>,(O)</span> <span style='color: None;'>and(O)</span> <span style='color: None;'>12(O)</span> <span style='color: None;'>months(O)</span> <span style='color: None;'>of(O)</span> <span style='color: None;'>treatment(O)</span> <span style='color: None;'>.(O)</span> <span style='color: None;'>the(O)</span> <span style='color: None;'>io(O)</span> <span style='color: None;'>##p(O)</span> <span style='color: None;'>measurements(O)</span> <span style='color: None;'>were(O)</span> <span style='color: None;'>performed(O)</span> <span style='color: None;'>at(O)</span> <span style='color: None;'>8(O)</span> <span style='color: None;'>:(O)</span> <span style='color: None;'>00(O)</span> <span style='color: None;'>am(O)</span> <span style='color: None;'>,(O)</span> <span style='color: None;'>12(O)</span> <span style='color: None;'>:(O)</span> <span style='color: None;'>00(O)</span> <span style='color: None;'>noon(O)</span> <span style='color: None;'>,(O)</span> <span style='color: None;'>4(O)</span> <span style='color: None;'>:(O)</span> <span style='color: None;'>00(O)</span> <span style='color: None;'>pm(O)</span> <span style='color: None;'>,(O)</span> <span style='color: None;'>and(O)</span> <span style='color: None;'>8(O)</span> <span style='color: None;'>:(O)</span> <span style='color: None;'>00(O)</span> <span style='color: None;'>pm(O)</span> <span style='color: None;'>.(O)</span> <span style='color: None;'>out(O)</span> <span style='color: None;'>##flow(O)</span> <span style='color: None;'>facility(O)</span> <span style='color: None;'>((O)</span> <span style='color: None;'>c(O)</span> <span style='color: None;'>)(O)</span> <span style='color: None;'>was(O)</span> <span style='color: None;'>measured(O)</span> <span style='color: None;'>on(O)</span> <span style='color: None;'>the(O)</span> <span style='color: None;'>baseline(O)</span> <span style='color: None;'>day(O)</span> <span style='color: None;'>and(O)</span> <span style='color: None;'>on(O)</span> <span style='color: None;'>the(O)</span> <span style='color: None;'>last(O)</span> <span style='color: None;'>day(O)</span> <span style='color: None;'>of(O)</span> <span style='color: None;'>the(O)</span> <span style='color: None;'>study(O)</span> <span style='color: None;'>with(O)</span> <span style='color: None;'>a(O)</span> <span style='color: None;'>sc(O)</span> <span style='color: None;'>##hi(O)</span> <span style='color: None;'>##ot(O)</span> <span style='color: None;'>##z(O)</span> <span style='color: None;'>electronic(O)</span> <span style='color: None;'>ton(O)</span> <span style='color: None;'>##ometer(O)</span> <span style='color: None;'>.(O)</span> <span style='color: None;'>a(O)</span> <span style='color: None;'>two(O)</span> <span style='color: None;'>-(O)</span> <span style='color: None;'>tailed(O)</span> <span style='color: None;'>student(O)</span> <span style='color: None;'>'(O)</span> <span style='color: None;'>s(O)</span> <span style='color: None;'>t(O)</span> <span style='color: None;'>test(O)</span> <span style='color: None;'>for(O)</span> <span style='color: None;'>paired(O)</span> <span style='color: None;'>or(O)</span> <span style='color: None;'>un(O)</span> <span style='color: None;'>##pa(O)</span> <span style='color: None;'>##ired(O)</span> <span style='color: None;'>data(O)</span> <span style='color: None;'>was(O)</span> <span style='color: None;'>used(O)</span> <span style='color: None;'>for(O)</span> <span style='color: None;'>statistical(O)</span> <span style='color: None;'>evaluation(O)</span> <span style='color: None;'>of(O)</span> <span style='color: None;'>differences(O)</span> <span style='color: None;'>between(O)</span> <span style='color: None;'>treatment(O)</span> <span style='color: None;'>and(O)</span> <span style='color: None;'>baseline(O)</span> <span style='color: None;'>values(O)</span> <span style='color: None;'>or(O)</span> <span style='color: None;'>between(O)</span> <span style='color: None;'>the(O)</span> <span style='color: None;'>la(O)</span> <span style='color: None;'>##tan(O)</span> <span style='color: None;'>##op(O)</span> <span style='color: None;'>##ros(O)</span> <span style='color: None;'>##t(O)</span> <span style='color: None;'>and(O)</span> <span style='color: None;'>tim(O)</span> <span style='color: None;'>##olo(O)</span> <span style='color: None;'>##l(O)</span> <span style='color: None;'>group(O)</span> <span style='color: None;'>.(O)</span> <span style='color: None;'>di(O)</span> <span style='color: None;'>##urn(O)</span> <span style='color: None;'>##al(O)</span> <span style='color: None;'>io(O)</span> <span style='color: None;'>##p(O)</span> <span style='color: None;'>measurements(O)</span> <span style='color: None;'>were(O)</span> <span style='color: None;'>compared(O)</span> <span style='color: None;'>hour(O)</span> <span style='color: None;'>by(O)</span> <span style='color: None;'>hour(O)</span> <span style='color: None;'>.(O)</span> <span style='color: None;'>mean(O)</span> <span style='color: None;'>values(O)</span> <span style='color: None;'>of(O)</span> <span style='color: None;'>the(O)</span> <span style='color: None;'>two(O)</span> <span style='color: None;'>eyes(O)</span> <span style='color: None;'>io(O)</span> <span style='color: None;'>##p(O)</span> <span style='color: None;'>and(O)</span> <span style='color: None;'>c(O)</span> <span style='color: None;'>were(O)</span> <span style='color: None;'>used(O)</span> <span style='color: None;'>for(O)</span> <span style='color: None;'>analysis(O)</span> <span style='color: None;'>.(O)</span> <span style='color: #706b97;'>compared(B-Premise)</span> <span style='color: #706b97;'>with(I-Premise)</span> <span style='color: #706b97;'>baseline(I-Premise)</span> <span style='color: #706b97;'>measurements(I-Premise)</span> <span style='color: #706b97;'>,(I-Premise)</span> <span style='color: #706b97;'>both(I-Premise)</span> <span style='color: #706b97;'>la(I-Premise)</span> <span style='color: #706b97;'>##tan(I-Premise)</span> <span style='color: #706b97;'>##op(I-Premise)</span> <span style='color: #706b97;'>##ros(I-Premise)</span> <span style='color: #706b97;'>##t(I-Premise)</span> <span style='color: #706b97;'>and(I-Premise)</span> <span style='color: #706b97;'>tim(I-Premise)</span> <span style='color: #706b97;'>##olo(I-Premise)</span> <span style='color: #706b97;'>##l(I-Premise)</span> <span style='color: #706b97;'>caused(I-Premise)</span> <span style='color: #706b97;'>a(I-Premise)</span> <span style='color: #706b97;'>significant(I-Premise)</span> <span style='color: #706b97;'>((I-Premise)</span> <span style='color: #706b97;'>p(I-Premise)</span> <span style='color: #706b97;'><(I-Premise)</span> <span style='color: #706b97;'>0(I-Premise)</span> <span style='color: #706b97;'>.(I-Premise)</span> <span style='color: #706b97;'>001(I-Premise)</span> <span style='color: #706b97;'>)(I-Premise)</span> <span style='color: #706b97;'>reduction(I-Premise)</span> <span style='color: #706b97;'>of(I-Premise)</span> <span style='color: #706b97;'>io(I-Premise)</span> <span style='color: #706b97;'>##p(I-Premise)</span> <span style='color: #706b97;'>at(I-Premise)</span> <span style='color: #706b97;'>each(I-Premise)</span> <span style='color: #706b97;'>hour(I-Premise)</span> <span style='color: #706b97;'>of(I-Premise)</span> <span style='color: #706b97;'>di(I-Premise)</span> <span style='color: #706b97;'>##urn(I-Premise)</span> <span style='color: #706b97;'>##al(I-Premise)</span> <span style='color: #706b97;'>curve(I-Premise)</span> <span style='color: #706b97;'>throughout(I-Premise)</span> <span style='color: #706b97;'>the(I-Premise)</span> <span style='color: #706b97;'>duration(I-Premise)</span> <span style='color: #706b97;'>of(I-Premise)</span> <span style='color: #706b97;'>therapy(I-Premise)</span> <span style='color: #706b97;'>.(I-Premise)</span> <span style='color: #878fac;'>reduction(B-Premise)</span> <span style='color: #878fac;'>of(I-Premise)</span> <span style='color: #878fac;'>io(I-Premise)</span> <span style='color: #878fac;'>##p(I-Premise)</span> <span style='color: #878fac;'>was(I-Premise)</span> <span style='color: #878fac;'>6(I-Premise)</span> <span style='color: #878fac;'>.(I-Premise)</span> <span style='color: #878fac;'>0(I-Premise)</span> <span style='color: #878fac;'>+(I-Premise)</span> <span style='color: #878fac;'>/(I-Premise)</span> <span style='color: #878fac;'>-(I-Premise)</span> <span style='color: #878fac;'>4(I-Premise)</span> <span style='color: #878fac;'>.(I-Premise)</span> <span style='color: #878fac;'>5(I-Premise)</span> <span style='color: #878fac;'>and(I-Premise)</span> <span style='color: #878fac;'>5(I-Premise)</span> <span style='color: #878fac;'>.(I-Premise)</span> <span style='color: #878fac;'>9(I-Premise)</span> <span style='color: #878fac;'>+(I-Premise)</span> <span style='color: #878fac;'>/(I-Premise)</span> <span style='color: #878fac;'>-(I-Premise)</span> <span style='color: #878fac;'>4(I-Premise)</span> <span style='color: #878fac;'>.(I-Premise)</span> <span style='color: #878fac;'>6(I-Premise)</span> <span style='color: #878fac;'>with(I-Premise)</span> <span style='color: #878fac;'>la(I-Premise)</span> <span style='color: #878fac;'>##tan(I-Premise)</span> <span style='color: #878fac;'>##op(I-Premise)</span> <span style='color: #878fac;'>##ros(I-Premise)</span> <span style='color: #878fac;'>##t(I-Premise)</span> <span style='color: #878fac;'>and(I-Premise)</span> <span style='color: #878fac;'>4(I-Premise)</span> <span style='color: #878fac;'>.(I-Premise)</span> <span style='color: #878fac;'>8(I-Premise)</span> <span style='color: #878fac;'>+(I-Premise)</span> <span style='color: #878fac;'>/(I-Premise)</span> <span style='color: #878fac;'>-(I-Premise)</span> <span style='color: #878fac;'>3(I-Premise)</span> <span style='color: #878fac;'>.(I-Premise)</span> <span style='color: #878fac;'>0(I-Premise)</span> <span style='color: #878fac;'>and(I-Premise)</span> <span style='color: #878fac;'>4(I-Premise)</span> <span style='color: #878fac;'>.(I-Premise)</span> <span style='color: #878fac;'>6(I-Premise)</span> <span style='color: #878fac;'>+(I-Premise)</span> <span style='color: #878fac;'>/(I-Premise)</span> <span style='color: #878fac;'>-(I-Premise)</span> <span style='color: #878fac;'>3(I-Premise)</span> <span style='color: #878fac;'>.(I-Premise)</span> <span style='color: #878fac;'>1(I-Premise)</span> <span style='color: #878fac;'>with(I-Premise)</span> <span style='color: #878fac;'>tim(I-Premise)</span> <span style='color: #878fac;'>##olo(I-Premise)</span> <span style='color: #878fac;'>##l(I-Premise)</span> <span style='color: #878fac;'>after(I-Premise)</span> <span style='color: #878fac;'>6(I-Premise)</span> <span style='color: #878fac;'>and(I-Premise)</span> <span style='color: #878fac;'>12(I-Premise)</span> <span style='color: #878fac;'>months(I-Premise)</span> <span style='color: #878fac;'>,(I-Premise)</span> <span style='color: #878fac;'>respectively(I-Premise)</span> <span style='color: #878fac;'>.(I-Premise)</span> <span style='color: #4698bf;'>comparison(B-Premise)</span> <span style='color: #4698bf;'>of(I-Premise)</span> <span style='color: #4698bf;'>mean(I-Premise)</span> <span style='color: #4698bf;'>di(I-Premise)</span> <span style='color: #4698bf;'>##urn(I-Premise)</span> <span style='color: #4698bf;'>##al(I-Premise)</span> <span style='color: #4698bf;'>measurements(I-Premise)</span> <span style='color: #4698bf;'>with(I-Premise)</span> <span style='color: #4698bf;'>la(I-Premise)</span> <span style='color: #4698bf;'>##tan(I-Premise)</span> <span style='color: #4698bf;'>##op(I-Premise)</span> <span style='color: #4698bf;'>##ros(I-Premise)</span> <span style='color: #4698bf;'>##t(I-Premise)</span> <span style='color: #4698bf;'>and(I-Premise)</span> <span style='color: #4698bf;'>tim(I-Premise)</span> <span style='color: #4698bf;'>##olo(I-Premise)</span> <span style='color: #4698bf;'>##l(I-Premise)</span> <span style='color: #4698bf;'>showed(I-Premise)</span> <span style='color: #4698bf;'>a(I-Premise)</span> <span style='color: #4698bf;'>statistical(I-Premise)</span> <span style='color: #4698bf;'>significant(I-Premise)</span> <span style='color: #4698bf;'>((I-Premise)</span> <span style='color: #4698bf;'>p(I-Premise)</span> <span style='color: #4698bf;'><(I-Premise)</span> <span style='color: #4698bf;'>0(I-Premise)</span> <span style='color: #4698bf;'>.(I-Premise)</span> <span style='color: #4698bf;'>001(I-Premise)</span> <span style='color: #4698bf;'>)(I-Premise)</span> <span style='color: #4698bf;'>difference(I-Premise)</span> <span style='color: #4698bf;'>at(I-Premise)</span> <span style='color: #4698bf;'>3(I-Premise)</span> <span style='color: #4698bf;'>,(I-Premise)</span> <span style='color: #4698bf;'>6(I-Premise)</span> <span style='color: #4698bf;'>,(I-Premise)</span> <span style='color: #4698bf;'>and(I-Premise)</span> <span style='color: #4698bf;'>12(I-Premise)</span> <span style='color: #4698bf;'>months(I-Premise)</span> <span style='color: #4698bf;'>.(I-Premise)</span> <span style='color: #986b6f;'>mean(B-Premise)</span> <span style='color: #986b6f;'>c(I-Premise)</span> <span style='color: #986b6f;'>was(I-Premise)</span> <span style='color: #986b6f;'>found(I-Premise)</span> <span style='color: #986b6f;'>to(I-Premise)</span> <span style='color: #986b6f;'>be(I-Premise)</span> <span style='color: #986b6f;'>significantly(I-Premise)</span> <span style='color: #986b6f;'>enhanced(I-Premise)</span> <span style='color: #986b6f;'>((I-Premise)</span> <span style='color: #986b6f;'>+(I-Premise)</span> <span style='color: #986b6f;'>30(I-Premise)</span> <span style='color: #986b6f;'>%(I-Premise)</span> <span style='color: #986b6f;'>)(I-Premise)</span> <span style='color: #986b6f;'>only(I-Premise)</span> <span style='color: #986b6f;'>in(I-Premise)</span> <span style='color: #986b6f;'>the(I-Premise)</span> <span style='color: #986b6f;'>la(I-Premise)</span> <span style='color: #986b6f;'>##tan(I-Premise)</span> <span style='color: #986b6f;'>##op(I-Premise)</span> <span style='color: #986b6f;'>##ros(I-Premise)</span> <span style='color: #986b6f;'>##t(I-Premise)</span> <span style='color: #986b6f;'>-(I-Premise)</span> <span style='color: #986b6f;'>treated(I-Premise)</span> <span style='color: #986b6f;'>group(I-Premise)</span> <span style='color: #986b6f;'>compared(I-Premise)</span> <span style='color: #986b6f;'>with(I-Premise)</span> <span style='color: #986b6f;'>the(I-Premise)</span> <span style='color: #986b6f;'>baseline(I-Premise)</span> <span style='color: #986b6f;'>((I-Premise)</span> <span style='color: #986b6f;'>p(I-Premise)</span> <span style='color: #986b6f;'>=(I-Premise)</span> <span style='color: #986b6f;'>0(I-Premise)</span> <span style='color: #986b6f;'>.(I-Premise)</span> <span style='color: #986b6f;'>01(I-Premise)</span> <span style='color: #986b6f;'>##7(I-Premise)</span> <span style='color: #986b6f;'>)(I-Premise)</span> <span style='color: #986b6f;'>.(I-Premise)</span> <span style='color: #c49cbd;'>mean(B-Premise)</span> <span style='color: #c49cbd;'>con(I-Premise)</span> <span style='color: None;'>[SEP](O)</span>"
      ],
      "text/plain": [
       "<IPython.core.display.HTML object>"
      ]
     },
     "metadata": {},
     "output_type": "display_data"
    }
   ],
   "source": [
    "print_annotated_example(custom_train_df, show_special_tokens=True,sample_idx=0)"
   ]
  },
  {
   "cell_type": "markdown",
   "metadata": {
    "id": "4j79n-yxGlj0"
   },
   "source": [
    "#### 1.2 BioBERT base - Corpus"
   ]
  },
  {
   "cell_type": "code",
   "execution_count": 15,
   "metadata": {
    "colab": {
     "base_uri": "https://localhost:8080/",
     "height": 744
    },
    "id": "1t27vvkvGqJ4",
    "outputId": "e81d4867-c239-4d69-8e0e-715f4e27ae25"
   },
   "outputs": [
    {
     "name": "stdout",
     "output_type": "stream",
     "text": [
      "\n",
      "Shape Training dataframe: (350, 8)\n",
      "Shape Validation dataframe : (50, 8)\n",
      "Shape Neoplasm Test dataframe: (100, 8)\n",
      "Shape Glaucoma Test dataframe: (100, 8)\n",
      "Shape Mixed Test dataframe: (100, 8)\n"
     ]
    },
    {
     "data": {
      "text/html": [
       "<div>\n",
       "<style scoped>\n",
       "    .dataframe tbody tr th:only-of-type {\n",
       "        vertical-align: middle;\n",
       "    }\n",
       "\n",
       "    .dataframe tbody tr th {\n",
       "        vertical-align: top;\n",
       "    }\n",
       "\n",
       "    .dataframe thead th {\n",
       "        text-align: right;\n",
       "    }\n",
       "</style>\n",
       "<table border=\"1\" class=\"dataframe\">\n",
       "  <thead>\n",
       "    <tr style=\"text-align: right;\">\n",
       "      <th></th>\n",
       "      <th>raw_text</th>\n",
       "      <th>tokenized_text</th>\n",
       "      <th>input_ids</th>\n",
       "      <th>attention_mask</th>\n",
       "      <th>tags</th>\n",
       "      <th>encoded_tags</th>\n",
       "      <th>new_start_end_positions</th>\n",
       "      <th>file_name</th>\n",
       "    </tr>\n",
       "  </thead>\n",
       "  <tbody>\n",
       "    <tr>\n",
       "      <th>0</th>\n",
       "      <td>a combination of mitoxantrone plus prednisone...</td>\n",
       "      <td>[[CLS], a, combination, of, mit, ##ox, ##ant, ...</td>\n",
       "      <td>[101, 170, 4612, 1104, 26410, 10649, 2861, 185...</td>\n",
       "      <td>[1, 1, 1, 1, 1, 1, 1, 1, 1, 1, 1, 1, 1, 1, 1, ...</td>\n",
       "      <td>[O, B-Claim, I-Claim, I-Claim, I-Claim, I-Clai...</td>\n",
       "      <td>[4, 0, 2, 2, 2, 2, 2, 2, 2, 2, 2, 2, 2, 2, 2, ...</td>\n",
       "      <td>{'T1': (1, 39), 'T2': (234, 248), 'T3': (250, ...</td>\n",
       "      <td>10561201.ann</td>\n",
       "    </tr>\n",
       "    <tr>\n",
       "      <th>1</th>\n",
       "      <td>in endocrine therapy trials in advanced breas...</td>\n",
       "      <td>[[CLS], in, end, ##oc, ##rine, therapy, trials...</td>\n",
       "      <td>[101, 1107, 1322, 13335, 8643, 7606, 7356, 110...</td>\n",
       "      <td>[1, 1, 1, 1, 1, 1, 1, 1, 1, 1, 1, 1, 1, 1, 1, ...</td>\n",
       "      <td>[O, B-Claim, I-Claim, I-Claim, I-Claim, I-Clai...</td>\n",
       "      <td>[4, 0, 2, 2, 2, 2, 2, 2, 2, 2, 2, 2, 2, 2, 2, ...</td>\n",
       "      <td>{'T1': (1, 78), 'T3': (345, 371), 'T4': (372, ...</td>\n",
       "      <td>10561203.ann</td>\n",
       "    </tr>\n",
       "    <tr>\n",
       "      <th>2</th>\n",
       "      <td>treatment with cisplatin-based chemotherapy p...</td>\n",
       "      <td>[[CLS], treatment, with, c, ##is, ##p, ##lat, ...</td>\n",
       "      <td>[101, 3252, 1114, 172, 1548, 1643, 16236, 1394...</td>\n",
       "      <td>[1, 1, 1, 1, 1, 1, 1, 1, 1, 1, 1, 1, 1, 1, 1, ...</td>\n",
       "      <td>[O, B-Claim, I-Claim, I-Claim, I-Claim, I-Clai...</td>\n",
       "      <td>[4, 0, 2, 2, 2, 2, 2, 2, 2, 2, 2, 2, 2, 2, 2, ...</td>\n",
       "      <td>{'T1': (1, 38), 'T2': (262, 336), 'T3': (337, ...</td>\n",
       "      <td>10653877.ann</td>\n",
       "    </tr>\n",
       "    <tr>\n",
       "      <th>3</th>\n",
       "      <td>extracellular adenosine 5'-triphosphate (atp)...</td>\n",
       "      <td>[[CLS], extra, ##cellular, ad, ##eno, ##sin, #...</td>\n",
       "      <td>[101, 3908, 18091, 8050, 26601, 10606, 1162, 1...</td>\n",
       "      <td>[1, 1, 1, 1, 1, 1, 1, 1, 1, 1, 1, 1, 1, 1, 1, ...</td>\n",
       "      <td>[O, O, O, O, O, O, O, O, O, O, O, O, O, O, O, ...</td>\n",
       "      <td>[4, 4, 4, 4, 4, 4, 4, 4, 4, 4, 4, 4, 4, 4, 4, ...</td>\n",
       "      <td>{'T1': (53, 108), 'T2': (240, 311), 'T3': (312...</td>\n",
       "      <td>10675381.ann</td>\n",
       "    </tr>\n",
       "    <tr>\n",
       "      <th>4</th>\n",
       "      <td>this phase iii, double-blind, randomized, mul...</td>\n",
       "      <td>[[CLS], this, phase, ii, ##i, ,, double, -, bl...</td>\n",
       "      <td>[101, 1142, 4065, 25550, 1182, 117, 2702, 118,...</td>\n",
       "      <td>[1, 1, 1, 1, 1, 1, 1, 1, 1, 1, 1, 1, 1, 1, 1, ...</td>\n",
       "      <td>[O, O, O, O, O, O, O, O, O, O, O, O, O, O, O, ...</td>\n",
       "      <td>[4, 4, 4, 4, 4, 4, 4, 4, 4, 4, 4, 4, 4, 4, 4, ...</td>\n",
       "      <td>{'T1': (152, 184), 'T2': (185, 211), 'T3': (21...</td>\n",
       "      <td>10735887.ann</td>\n",
       "    </tr>\n",
       "  </tbody>\n",
       "</table>\n",
       "</div>"
      ],
      "text/plain": [
       "                                            raw_text  \\\n",
       "0   a combination of mitoxantrone plus prednisone...   \n",
       "1   in endocrine therapy trials in advanced breas...   \n",
       "2   treatment with cisplatin-based chemotherapy p...   \n",
       "3   extracellular adenosine 5'-triphosphate (atp)...   \n",
       "4   this phase iii, double-blind, randomized, mul...   \n",
       "\n",
       "                                      tokenized_text  \\\n",
       "0  [[CLS], a, combination, of, mit, ##ox, ##ant, ...   \n",
       "1  [[CLS], in, end, ##oc, ##rine, therapy, trials...   \n",
       "2  [[CLS], treatment, with, c, ##is, ##p, ##lat, ...   \n",
       "3  [[CLS], extra, ##cellular, ad, ##eno, ##sin, #...   \n",
       "4  [[CLS], this, phase, ii, ##i, ,, double, -, bl...   \n",
       "\n",
       "                                           input_ids  \\\n",
       "0  [101, 170, 4612, 1104, 26410, 10649, 2861, 185...   \n",
       "1  [101, 1107, 1322, 13335, 8643, 7606, 7356, 110...   \n",
       "2  [101, 3252, 1114, 172, 1548, 1643, 16236, 1394...   \n",
       "3  [101, 3908, 18091, 8050, 26601, 10606, 1162, 1...   \n",
       "4  [101, 1142, 4065, 25550, 1182, 117, 2702, 118,...   \n",
       "\n",
       "                                      attention_mask  \\\n",
       "0  [1, 1, 1, 1, 1, 1, 1, 1, 1, 1, 1, 1, 1, 1, 1, ...   \n",
       "1  [1, 1, 1, 1, 1, 1, 1, 1, 1, 1, 1, 1, 1, 1, 1, ...   \n",
       "2  [1, 1, 1, 1, 1, 1, 1, 1, 1, 1, 1, 1, 1, 1, 1, ...   \n",
       "3  [1, 1, 1, 1, 1, 1, 1, 1, 1, 1, 1, 1, 1, 1, 1, ...   \n",
       "4  [1, 1, 1, 1, 1, 1, 1, 1, 1, 1, 1, 1, 1, 1, 1, ...   \n",
       "\n",
       "                                                tags  \\\n",
       "0  [O, B-Claim, I-Claim, I-Claim, I-Claim, I-Clai...   \n",
       "1  [O, B-Claim, I-Claim, I-Claim, I-Claim, I-Clai...   \n",
       "2  [O, B-Claim, I-Claim, I-Claim, I-Claim, I-Clai...   \n",
       "3  [O, O, O, O, O, O, O, O, O, O, O, O, O, O, O, ...   \n",
       "4  [O, O, O, O, O, O, O, O, O, O, O, O, O, O, O, ...   \n",
       "\n",
       "                                        encoded_tags  \\\n",
       "0  [4, 0, 2, 2, 2, 2, 2, 2, 2, 2, 2, 2, 2, 2, 2, ...   \n",
       "1  [4, 0, 2, 2, 2, 2, 2, 2, 2, 2, 2, 2, 2, 2, 2, ...   \n",
       "2  [4, 0, 2, 2, 2, 2, 2, 2, 2, 2, 2, 2, 2, 2, 2, ...   \n",
       "3  [4, 4, 4, 4, 4, 4, 4, 4, 4, 4, 4, 4, 4, 4, 4, ...   \n",
       "4  [4, 4, 4, 4, 4, 4, 4, 4, 4, 4, 4, 4, 4, 4, 4, ...   \n",
       "\n",
       "                             new_start_end_positions     file_name  \n",
       "0  {'T1': (1, 39), 'T2': (234, 248), 'T3': (250, ...  10561201.ann  \n",
       "1  {'T1': (1, 78), 'T3': (345, 371), 'T4': (372, ...  10561203.ann  \n",
       "2  {'T1': (1, 38), 'T2': (262, 336), 'T3': (337, ...  10653877.ann  \n",
       "3  {'T1': (53, 108), 'T2': (240, 311), 'T3': (312...  10675381.ann  \n",
       "4  {'T1': (152, 184), 'T2': (185, 211), 'T3': (21...  10735887.ann  "
      ]
     },
     "execution_count": 15,
     "metadata": {},
     "output_type": "execute_result"
    }
   ],
   "source": [
    "MAX_LENGTH = 512\n",
    "\n",
    "#original corpus\n",
    "train_df_biobert = create_dataframe_from_directory(train_data_dir,tag_to_idx,bio_bert_tokenizer,\"component_detection\",MAX_LENGTH)\n",
    "val_df_biobert = create_dataframe_from_directory(val_data_dir,tag_to_idx,bio_bert_tokenizer,\"component_detection\",MAX_LENGTH)\n",
    "neoplasm_test_df_biobert = create_dataframe_from_directory(neoplasm_test_data_dir,tag_to_idx,bio_bert_tokenizer,\"component_detection\",MAX_LENGTH)\n",
    "glaucoma_test_df_biobert = create_dataframe_from_directory(glaucoma_test_data_dir,tag_to_idx,bio_bert_tokenizer,\"component_detection\",MAX_LENGTH)\n",
    "mixed_test_df_biobert = create_dataframe_from_directory(mixed_test_data_dir,tag_to_idx,bio_bert_tokenizer,\"component_detection\",MAX_LENGTH)\n",
    "\n",
    "\n",
    "print(f\"\\nShape Training dataframe: {train_df_biobert.shape}\")\n",
    "print(f\"Shape Validation dataframe : {val_df_biobert.shape}\")\n",
    "print(f\"Shape Neoplasm Test dataframe: {neoplasm_test_df_biobert.shape}\")\n",
    "print(f\"Shape Glaucoma Test dataframe: {glaucoma_test_df_biobert.shape}\")\n",
    "print(f\"Shape Mixed Test dataframe: {mixed_test_df_biobert.shape}\")\n",
    "\n",
    "\n",
    "train_df_biobert.head()"
   ]
  },
  {
   "cell_type": "code",
   "execution_count": 16,
   "metadata": {
    "colab": {
     "base_uri": "https://localhost:8080/"
    },
    "id": "iGiGbf-Ro-Qx",
    "outputId": "d1fcca42-87db-4df1-d59c-4c20e3d7ea2b"
   },
   "outputs": [
    {
     "name": "stdout",
     "output_type": "stream",
     "text": [
      "{'B-Claim': 0.6760395112532146, 'I-Claim': 0.025783987264824865, 'O': 0.005075986351357486, 'B-Premise': 0.2855207745074885, 'I-Premise': 0.007579740623114633}\n"
     ]
    }
   ],
   "source": [
    "CLASS_WEIGHTS_NORMALIZED_BIOBERT = compute_norm_class_weights(train_df_biobert, label_column='tags', special_tokens=special_tokens_bert, task_name='seqtag')\n",
    "print(CLASS_WEIGHTS_NORMALIZED_BIOBERT)"
   ]
  },
  {
   "cell_type": "code",
   "execution_count": 17,
   "metadata": {
    "colab": {
     "base_uri": "https://localhost:8080/",
     "height": 800
    },
    "id": "0SKVGpdvHIQf",
    "outputId": "2ffae45a-76e5-45fa-f442-1054111f9569"
   },
   "outputs": [
    {
     "name": "stdout",
     "output_type": "stream",
     "text": [
      "\n",
      "Example of an annotated sentence:\n",
      "\n",
      "Raw text:\n",
      "['a', 'combination', 'of', 'mitoxantrone', 'plus', 'prednisone', 'is', 'preferable', 'to', 'prednisone', 'alone', 'for', 'reduction', 'of', 'pain', 'in', 'men', 'with', 'metastatic,', 'hormone-resistant,', 'prostate', 'cancer.', 'the', 'purpose', 'of', 'this', 'study', 'was', 'to', 'assess', 'the', 'effects', 'of', 'these', 'treatments', 'on', 'health-related', 'quality', 'of', 'life', '(hql).', 'men', 'with', 'metastatic', 'prostate', 'cancer', '(n', '=', '161)', 'were', 'randomized', 'to', 'receive', 'either', 'daily', 'prednisone', 'alone', 'or', 'mitoxantrone', '(every', '3', 'weeks)', 'plus', 'prednisone.', 'those', 'who', 'received', 'prednisone', 'alone', 'could', 'have', 'mitoxantrone', 'added', 'after', '6', 'weeks', 'if', 'there', 'was', 'no', 'improvement', 'in', 'pain.', 'hql', 'was', 'assessed', 'before', 'treatment', 'initiation', 'and', 'then', 'every', '3', 'weeks', 'using', 'the', 'european', 'organization', 'for', 'research', 'and', 'treatment', 'of', 'cancer', 'quality-of-life', 'questionnaire', 'c30', '(eortc', 'qlq-c30)', 'and', 'the', 'quality', 'of', 'life', 'module-prostate', '14', '(qolm-p14),', 'a', 'trial-specific', 'module', 'developed', 'for', 'this', 'study.', 'an', 'intent-to-treat', 'analysis', 'was', 'used', 'to', 'determine', 'the', 'mean', 'duration', 'of', 'hql', 'improvement', 'and', 'differences', 'in', 'improvement', 'duration', 'between', 'groups', 'of', 'patients.', 'at', '6', 'weeks,', 'both', 'groups', 'showed', 'improvement', 'in', 'several', 'hql', 'domains,', 'and', 'only', 'physical', 'functioning', 'and', 'pain', 'were', 'better', 'in', 'the', 'mitoxantrone-plus-prednisone', 'group', 'than', 'in', 'the', 'prednisone-alone', 'group.', 'after', '6', 'weeks,', 'patients', 'taking', 'prednisone', 'showed', 'no', 'improvement', 'in', 'hql', 'scores,', 'whereas', 'those', 'taking', 'mitoxantrone', 'plus', 'prednisone', 'showed', 'significant', 'improvements', 'in', 'global', 'quality', 'of', 'life', '(p', '=.009),', 'four', 'functioning', 'domains,', 'and', 'nine', 'symptoms', '(.001', '<', 'p', '<.', '01),', 'and', 'the', 'improvement', '(>', '10', 'units', 'on', 'a', 'scale', 'of', '0', 'to100)', 'lasted', 'longer', 'than', 'in', 'the', 'prednisone-alone', 'group', '(.004', '<', 'p', '<.05).', 'the', 'addition', 'of', 'mitoxantrone', 'to', 'prednisone', 'after', 'failure', 'of', 'prednisone', 'alone', 'was', 'associated', 'with', 'improvements', 'in', 'pain,', 'pain', 'impact,', 'pain', 'relief,', 'insomnia,', 'and', 'global', 'quality', 'of', 'life', '(.001', '<', 'p', '<.003).', 'treatment', 'with', 'mitoxantrone', 'plus', 'prednisone', 'was', 'associated', 'with', 'greater', 'and', 'longer-lasting', 'improvement', 'in', 'several', 'hql', 'domains', 'and', 'symptoms', 'than', 'treatment', 'with', 'prednisone', 'alone.']\n",
      "\n",
      "Tokenized text with colored components:\n"
     ]
    },
    {
     "data": {
      "text/html": [
       "<span style='color: None;'>[CLS](O)</span> <span style='color: #aa96bf;'>a(B-Claim)</span> <span style='color: #aa96bf;'>combination(I-Claim)</span> <span style='color: #aa96bf;'>of(I-Claim)</span> <span style='color: #aa96bf;'>mit(I-Claim)</span> <span style='color: #aa96bf;'>##ox(I-Claim)</span> <span style='color: #aa96bf;'>##ant(I-Claim)</span> <span style='color: #aa96bf;'>##rone(I-Claim)</span> <span style='color: #aa96bf;'>plus(I-Claim)</span> <span style='color: #aa96bf;'>pre(I-Claim)</span> <span style='color: #aa96bf;'>##dn(I-Claim)</span> <span style='color: #aa96bf;'>##ison(I-Claim)</span> <span style='color: #aa96bf;'>##e(I-Claim)</span> <span style='color: #aa96bf;'>is(I-Claim)</span> <span style='color: #aa96bf;'>prefer(I-Claim)</span> <span style='color: #aa96bf;'>##able(I-Claim)</span> <span style='color: #aa96bf;'>to(I-Claim)</span> <span style='color: #aa96bf;'>pre(I-Claim)</span> <span style='color: #aa96bf;'>##dn(I-Claim)</span> <span style='color: #aa96bf;'>##ison(I-Claim)</span> <span style='color: #aa96bf;'>##e(I-Claim)</span> <span style='color: #aa96bf;'>alone(I-Claim)</span> <span style='color: #aa96bf;'>for(I-Claim)</span> <span style='color: #aa96bf;'>reduction(I-Claim)</span> <span style='color: #aa96bf;'>of(I-Claim)</span> <span style='color: #aa96bf;'>pain(I-Claim)</span> <span style='color: #aa96bf;'>in(I-Claim)</span> <span style='color: #aa96bf;'>men(I-Claim)</span> <span style='color: #aa96bf;'>with(I-Claim)</span> <span style='color: #aa96bf;'>meta(I-Claim)</span> <span style='color: #aa96bf;'>##static(I-Claim)</span> <span style='color: #aa96bf;'>,(I-Claim)</span> <span style='color: #aa96bf;'>hormone(I-Claim)</span> <span style='color: #aa96bf;'>-(I-Claim)</span> <span style='color: #aa96bf;'>resistant(I-Claim)</span> <span style='color: #aa96bf;'>,(I-Claim)</span> <span style='color: #aa96bf;'>pro(I-Claim)</span> <span style='color: #aa96bf;'>##state(I-Claim)</span> <span style='color: #aa96bf;'>cancer(I-Claim)</span> <span style='color: #aa96bf;'>.(I-Claim)</span> <span style='color: None;'>the(O)</span> <span style='color: None;'>purpose(O)</span> <span style='color: None;'>of(O)</span> <span style='color: None;'>this(O)</span> <span style='color: None;'>study(O)</span> <span style='color: None;'>was(O)</span> <span style='color: None;'>to(O)</span> <span style='color: None;'>assess(O)</span> <span style='color: None;'>the(O)</span> <span style='color: None;'>effects(O)</span> <span style='color: None;'>of(O)</span> <span style='color: None;'>these(O)</span> <span style='color: None;'>treatments(O)</span> <span style='color: None;'>on(O)</span> <span style='color: None;'>health(O)</span> <span style='color: None;'>-(O)</span> <span style='color: None;'>related(O)</span> <span style='color: None;'>quality(O)</span> <span style='color: None;'>of(O)</span> <span style='color: None;'>life(O)</span> <span style='color: None;'>((O)</span> <span style='color: None;'>h(O)</span> <span style='color: None;'>##q(O)</span> <span style='color: None;'>##l(O)</span> <span style='color: None;'>)(O)</span> <span style='color: None;'>.(O)</span> <span style='color: None;'>men(O)</span> <span style='color: None;'>with(O)</span> <span style='color: None;'>meta(O)</span> <span style='color: None;'>##static(O)</span> <span style='color: None;'>pro(O)</span> <span style='color: None;'>##state(O)</span> <span style='color: None;'>cancer(O)</span> <span style='color: None;'>((O)</span> <span style='color: None;'>n(O)</span> <span style='color: None;'>=(O)</span> <span style='color: None;'>161(O)</span> <span style='color: None;'>)(O)</span> <span style='color: None;'>were(O)</span> <span style='color: None;'>random(O)</span> <span style='color: None;'>##ized(O)</span> <span style='color: None;'>to(O)</span> <span style='color: None;'>receive(O)</span> <span style='color: None;'>either(O)</span> <span style='color: None;'>daily(O)</span> <span style='color: None;'>pre(O)</span> <span style='color: None;'>##dn(O)</span> <span style='color: None;'>##ison(O)</span> <span style='color: None;'>##e(O)</span> <span style='color: None;'>alone(O)</span> <span style='color: None;'>or(O)</span> <span style='color: None;'>mit(O)</span> <span style='color: None;'>##ox(O)</span> <span style='color: None;'>##ant(O)</span> <span style='color: None;'>##rone(O)</span> <span style='color: None;'>((O)</span> <span style='color: None;'>every(O)</span> <span style='color: None;'>3(O)</span> <span style='color: None;'>weeks(O)</span> <span style='color: None;'>)(O)</span> <span style='color: None;'>plus(O)</span> <span style='color: None;'>pre(O)</span> <span style='color: None;'>##dn(O)</span> <span style='color: None;'>##ison(O)</span> <span style='color: None;'>##e(O)</span> <span style='color: None;'>.(O)</span> <span style='color: None;'>those(O)</span> <span style='color: None;'>who(O)</span> <span style='color: None;'>received(O)</span> <span style='color: None;'>pre(O)</span> <span style='color: None;'>##dn(O)</span> <span style='color: None;'>##ison(O)</span> <span style='color: None;'>##e(O)</span> <span style='color: None;'>alone(O)</span> <span style='color: None;'>could(O)</span> <span style='color: None;'>have(O)</span> <span style='color: None;'>mit(O)</span> <span style='color: None;'>##ox(O)</span> <span style='color: None;'>##ant(O)</span> <span style='color: None;'>##rone(O)</span> <span style='color: None;'>added(O)</span> <span style='color: None;'>after(O)</span> <span style='color: None;'>6(O)</span> <span style='color: None;'>weeks(O)</span> <span style='color: None;'>if(O)</span> <span style='color: None;'>there(O)</span> <span style='color: None;'>was(O)</span> <span style='color: None;'>no(O)</span> <span style='color: None;'>improvement(O)</span> <span style='color: None;'>in(O)</span> <span style='color: None;'>pain(O)</span> <span style='color: None;'>.(O)</span> <span style='color: None;'>h(O)</span> <span style='color: None;'>##q(O)</span> <span style='color: None;'>##l(O)</span> <span style='color: None;'>was(O)</span> <span style='color: None;'>assessed(O)</span> <span style='color: None;'>before(O)</span> <span style='color: None;'>treatment(O)</span> <span style='color: None;'>initiation(O)</span> <span style='color: None;'>and(O)</span> <span style='color: None;'>then(O)</span> <span style='color: None;'>every(O)</span> <span style='color: None;'>3(O)</span> <span style='color: None;'>weeks(O)</span> <span style='color: None;'>using(O)</span> <span style='color: None;'>the(O)</span> <span style='color: None;'>euro(O)</span> <span style='color: None;'>##pe(O)</span> <span style='color: None;'>##an(O)</span> <span style='color: None;'>organization(O)</span> <span style='color: None;'>for(O)</span> <span style='color: None;'>research(O)</span> <span style='color: None;'>and(O)</span> <span style='color: None;'>treatment(O)</span> <span style='color: None;'>of(O)</span> <span style='color: None;'>cancer(O)</span> <span style='color: None;'>quality(O)</span> <span style='color: None;'>-(O)</span> <span style='color: None;'>of(O)</span> <span style='color: None;'>-(O)</span> <span style='color: None;'>life(O)</span> <span style='color: None;'>question(O)</span> <span style='color: None;'>##naire(O)</span> <span style='color: None;'>c(O)</span> <span style='color: None;'>##30(O)</span> <span style='color: None;'>((O)</span> <span style='color: None;'>e(O)</span> <span style='color: None;'>##ort(O)</span> <span style='color: None;'>##c(O)</span> <span style='color: None;'>q(O)</span> <span style='color: None;'>##l(O)</span> <span style='color: None;'>##q(O)</span> <span style='color: None;'>-(O)</span> <span style='color: None;'>c(O)</span> <span style='color: None;'>##30(O)</span> <span style='color: None;'>)(O)</span> <span style='color: None;'>and(O)</span> <span style='color: None;'>the(O)</span> <span style='color: None;'>quality(O)</span> <span style='color: None;'>of(O)</span> <span style='color: None;'>life(O)</span> <span style='color: None;'>module(O)</span> <span style='color: None;'>-(O)</span> <span style='color: None;'>pro(O)</span> <span style='color: None;'>##state(O)</span> <span style='color: None;'>14(O)</span> <span style='color: None;'>((O)</span> <span style='color: None;'>q(O)</span> <span style='color: None;'>##olm(O)</span> <span style='color: None;'>-(O)</span> <span style='color: None;'>p(O)</span> <span style='color: None;'>##14(O)</span> <span style='color: None;'>)(O)</span> <span style='color: None;'>,(O)</span> <span style='color: None;'>a(O)</span> <span style='color: None;'>trial(O)</span> <span style='color: None;'>-(O)</span> <span style='color: None;'>specific(O)</span> <span style='color: None;'>module(O)</span> <span style='color: None;'>developed(O)</span> <span style='color: None;'>for(O)</span> <span style='color: None;'>this(O)</span> <span style='color: None;'>study(O)</span> <span style='color: None;'>.(O)</span> <span style='color: None;'>an(O)</span> <span style='color: None;'>intent(O)</span> <span style='color: None;'>-(O)</span> <span style='color: None;'>to(O)</span> <span style='color: None;'>-(O)</span> <span style='color: None;'>treat(O)</span> <span style='color: None;'>analysis(O)</span> <span style='color: None;'>was(O)</span> <span style='color: None;'>used(O)</span> <span style='color: None;'>to(O)</span> <span style='color: None;'>determine(O)</span> <span style='color: None;'>the(O)</span> <span style='color: None;'>mean(O)</span> <span style='color: None;'>duration(O)</span> <span style='color: None;'>of(O)</span> <span style='color: None;'>h(O)</span> <span style='color: None;'>##q(O)</span> <span style='color: None;'>##l(O)</span> <span style='color: None;'>improvement(O)</span> <span style='color: None;'>and(O)</span> <span style='color: None;'>differences(O)</span> <span style='color: None;'>in(O)</span> <span style='color: None;'>improvement(O)</span> <span style='color: None;'>duration(O)</span> <span style='color: None;'>between(O)</span> <span style='color: None;'>groups(O)</span> <span style='color: None;'>of(O)</span> <span style='color: None;'>patients(O)</span> <span style='color: None;'>.(O)</span> <span style='color: #618c6b;'>at(B-Premise)</span> <span style='color: #618c6b;'>6(I-Premise)</span> <span style='color: #618c6b;'>weeks(I-Premise)</span> <span style='color: #618c6b;'>,(I-Premise)</span> <span style='color: #618c6b;'>both(I-Premise)</span> <span style='color: #618c6b;'>groups(I-Premise)</span> <span style='color: #618c6b;'>showed(I-Premise)</span> <span style='color: #618c6b;'>improvement(I-Premise)</span> <span style='color: #618c6b;'>in(I-Premise)</span> <span style='color: #618c6b;'>several(I-Premise)</span> <span style='color: #618c6b;'>h(I-Premise)</span> <span style='color: #618c6b;'>##q(I-Premise)</span> <span style='color: #618c6b;'>##l(I-Premise)</span> <span style='color: #618c6b;'>domains(I-Premise)</span> <span style='color: #618c6b;'>,(I-Premise)</span> <span style='color: None;'>and(O)</span> <span style='color: #c77cac;'>only(B-Premise)</span> <span style='color: #c77cac;'>physical(I-Premise)</span> <span style='color: #c77cac;'>functioning(I-Premise)</span> <span style='color: #c77cac;'>and(I-Premise)</span> <span style='color: #c77cac;'>pain(I-Premise)</span> <span style='color: #c77cac;'>were(I-Premise)</span> <span style='color: #c77cac;'>better(I-Premise)</span> <span style='color: #c77cac;'>in(I-Premise)</span> <span style='color: #c77cac;'>the(I-Premise)</span> <span style='color: #c77cac;'>mit(I-Premise)</span> <span style='color: #c77cac;'>##ox(I-Premise)</span> <span style='color: #c77cac;'>##ant(I-Premise)</span> <span style='color: #c77cac;'>##rone(I-Premise)</span> <span style='color: #c77cac;'>-(I-Premise)</span> <span style='color: #c77cac;'>plus(I-Premise)</span> <span style='color: #c77cac;'>-(I-Premise)</span> <span style='color: #c77cac;'>pre(I-Premise)</span> <span style='color: #c77cac;'>##dn(I-Premise)</span> <span style='color: #c77cac;'>##ison(I-Premise)</span> <span style='color: #c77cac;'>##e(I-Premise)</span> <span style='color: #c77cac;'>group(I-Premise)</span> <span style='color: #c77cac;'>than(I-Premise)</span> <span style='color: #c77cac;'>in(I-Premise)</span> <span style='color: #c77cac;'>the(I-Premise)</span> <span style='color: #c77cac;'>pre(I-Premise)</span> <span style='color: #c77cac;'>##dn(I-Premise)</span> <span style='color: #c77cac;'>##ison(I-Premise)</span> <span style='color: #c77cac;'>##e(I-Premise)</span> <span style='color: #c77cac;'>-(I-Premise)</span> <span style='color: #c77cac;'>alone(I-Premise)</span> <span style='color: #c77cac;'>group(I-Premise)</span> <span style='color: #c77cac;'>.(I-Premise)</span> <span style='color: #67bca2;'>after(B-Premise)</span> <span style='color: #67bca2;'>6(I-Premise)</span> <span style='color: #67bca2;'>weeks(I-Premise)</span> <span style='color: #67bca2;'>,(I-Premise)</span> <span style='color: #67bca2;'>patients(I-Premise)</span> <span style='color: #67bca2;'>taking(I-Premise)</span> <span style='color: #67bca2;'>pre(I-Premise)</span> <span style='color: #67bca2;'>##dn(I-Premise)</span> <span style='color: #67bca2;'>##ison(I-Premise)</span> <span style='color: #67bca2;'>##e(I-Premise)</span> <span style='color: #67bca2;'>showed(I-Premise)</span> <span style='color: #67bca2;'>no(I-Premise)</span> <span style='color: #67bca2;'>improvement(I-Premise)</span> <span style='color: #67bca2;'>in(I-Premise)</span> <span style='color: #67bca2;'>h(I-Premise)</span> <span style='color: #67bca2;'>##q(I-Premise)</span> <span style='color: #67bca2;'>##l(I-Premise)</span> <span style='color: #67bca2;'>scores(I-Premise)</span> <span style='color: #67bca2;'>,(I-Premise)</span> <span style='color: #67bca2;'>whereas(I-Premise)</span> <span style='color: #67bca2;'>those(I-Premise)</span> <span style='color: #67bca2;'>taking(I-Premise)</span> <span style='color: #67bca2;'>mit(I-Premise)</span> <span style='color: #67bca2;'>##ox(I-Premise)</span> <span style='color: #67bca2;'>##ant(I-Premise)</span> <span style='color: #67bca2;'>##rone(I-Premise)</span> <span style='color: #67bca2;'>plus(I-Premise)</span> <span style='color: #67bca2;'>pre(I-Premise)</span> <span style='color: #67bca2;'>##dn(I-Premise)</span> <span style='color: #67bca2;'>##ison(I-Premise)</span> <span style='color: #67bca2;'>##e(I-Premise)</span> <span style='color: #67bca2;'>showed(I-Premise)</span> <span style='color: #67bca2;'>significant(I-Premise)</span> <span style='color: #67bca2;'>improvements(I-Premise)</span> <span style='color: #67bca2;'>in(I-Premise)</span> <span style='color: #67bca2;'>global(I-Premise)</span> <span style='color: #67bca2;'>quality(I-Premise)</span> <span style='color: #67bca2;'>of(I-Premise)</span> <span style='color: #67bca2;'>life(I-Premise)</span> <span style='color: #67bca2;'>((I-Premise)</span> <span style='color: #67bca2;'>p(I-Premise)</span> <span style='color: #67bca2;'>=(I-Premise)</span> <span style='color: #67bca2;'>.(I-Premise)</span> <span style='color: #67bca2;'>00(I-Premise)</span> <span style='color: #67bca2;'>##9(I-Premise)</span> <span style='color: #67bca2;'>)(I-Premise)</span> <span style='color: #67bca2;'>,(I-Premise)</span> <span style='color: #67bca2;'>four(I-Premise)</span> <span style='color: #67bca2;'>functioning(I-Premise)</span> <span style='color: #67bca2;'>domains(I-Premise)</span> <span style='color: #67bca2;'>,(I-Premise)</span> <span style='color: #67bca2;'>and(I-Premise)</span> <span style='color: #67bca2;'>nine(I-Premise)</span> <span style='color: #67bca2;'>symptoms(I-Premise)</span> <span style='color: #67bca2;'>((I-Premise)</span> <span style='color: #67bca2;'>.(I-Premise)</span> <span style='color: #67bca2;'>00(I-Premise)</span> <span style='color: #67bca2;'>##1(I-Premise)</span> <span style='color: #67bca2;'><(I-Premise)</span> <span style='color: #67bca2;'>p(I-Premise)</span> <span style='color: #67bca2;'><(I-Premise)</span> <span style='color: #67bca2;'>.(I-Premise)</span> <span style='color: #67bca2;'>01(I-Premise)</span> <span style='color: #67bca2;'>)(I-Premise)</span> <span style='color: #67bca2;'>,(I-Premise)</span> <span style='color: None;'>and(O)</span> <span style='color: #7d7b6c;'>the(B-Premise)</span> <span style='color: #7d7b6c;'>improvement(I-Premise)</span> <span style='color: #7d7b6c;'>((I-Premise)</span> <span style='color: #7d7b6c;'>>(I-Premise)</span> <span style='color: #7d7b6c;'>10(I-Premise)</span> <span style='color: #7d7b6c;'>units(I-Premise)</span> <span style='color: #7d7b6c;'>on(I-Premise)</span> <span style='color: #7d7b6c;'>a(I-Premise)</span> <span style='color: #7d7b6c;'>scale(I-Premise)</span> <span style='color: #7d7b6c;'>of(I-Premise)</span> <span style='color: #7d7b6c;'>0(I-Premise)</span> <span style='color: #7d7b6c;'>to(I-Premise)</span> <span style='color: #7d7b6c;'>##100(I-Premise)</span> <span style='color: #7d7b6c;'>)(I-Premise)</span> <span style='color: #7d7b6c;'>lasted(I-Premise)</span> <span style='color: #7d7b6c;'>longer(I-Premise)</span> <span style='color: #7d7b6c;'>than(I-Premise)</span> <span style='color: #7d7b6c;'>in(I-Premise)</span> <span style='color: #7d7b6c;'>the(I-Premise)</span> <span style='color: #7d7b6c;'>pre(I-Premise)</span> <span style='color: #7d7b6c;'>##dn(I-Premise)</span> <span style='color: #7d7b6c;'>##ison(I-Premise)</span> <span style='color: #7d7b6c;'>##e(I-Premise)</span> <span style='color: #7d7b6c;'>-(I-Premise)</span> <span style='color: #7d7b6c;'>alone(I-Premise)</span> <span style='color: #7d7b6c;'>group(I-Premise)</span> <span style='color: #7d7b6c;'>((I-Premise)</span> <span style='color: #7d7b6c;'>.(I-Premise)</span> <span style='color: #7d7b6c;'>00(I-Premise)</span> <span style='color: #7d7b6c;'>##4(I-Premise)</span> <span style='color: #7d7b6c;'><(I-Premise)</span> <span style='color: #7d7b6c;'>p(I-Premise)</span> <span style='color: #7d7b6c;'><(I-Premise)</span> <span style='color: #7d7b6c;'>.(I-Premise)</span> <span style='color: #7d7b6c;'>05(I-Premise)</span> <span style='color: #7d7b6c;'>)(I-Premise)</span> <span style='color: #7d7b6c;'>.(I-Premise)</span> <span style='color: #80af67;'>the(B-Premise)</span> <span style='color: #80af67;'>addition(I-Premise)</span> <span style='color: #80af67;'>of(I-Premise)</span> <span style='color: #80af67;'>mit(I-Premise)</span> <span style='color: #80af67;'>##ox(I-Premise)</span> <span style='color: #80af67;'>##ant(I-Premise)</span> <span style='color: #80af67;'>##rone(I-Premise)</span> <span style='color: #80af67;'>to(I-Premise)</span> <span style='color: #80af67;'>pre(I-Premise)</span> <span style='color: #80af67;'>##dn(I-Premise)</span> <span style='color: #80af67;'>##ison(I-Premise)</span> <span style='color: #80af67;'>##e(I-Premise)</span> <span style='color: #80af67;'>after(I-Premise)</span> <span style='color: #80af67;'>failure(I-Premise)</span> <span style='color: #80af67;'>of(I-Premise)</span> <span style='color: #80af67;'>pre(I-Premise)</span> <span style='color: #80af67;'>##dn(I-Premise)</span> <span style='color: #80af67;'>##ison(I-Premise)</span> <span style='color: #80af67;'>##e(I-Premise)</span> <span style='color: #80af67;'>alone(I-Premise)</span> <span style='color: #80af67;'>was(I-Premise)</span> <span style='color: #80af67;'>associated(I-Premise)</span> <span style='color: #80af67;'>with(I-Premise)</span> <span style='color: #80af67;'>improvements(I-Premise)</span> <span style='color: #80af67;'>in(I-Premise)</span> <span style='color: #80af67;'>pain(I-Premise)</span> <span style='color: #80af67;'>,(I-Premise)</span> <span style='color: #80af67;'>pain(I-Premise)</span> <span style='color: #80af67;'>impact(I-Premise)</span> <span style='color: #80af67;'>,(I-Premise)</span> <span style='color: #80af67;'>pain(I-Premise)</span> <span style='color: #80af67;'>relief(I-Premise)</span> <span style='color: #80af67;'>,(I-Premise)</span> <span style='color: #80af67;'>ins(I-Premise)</span> <span style='color: #80af67;'>##om(I-Premise)</span> <span style='color: #80af67;'>##nia(I-Premise)</span> <span style='color: #80af67;'>,(I-Premise)</span> <span style='color: #80af67;'>and(I-Premise)</span> <span style='color: #80af67;'>global(I-Premise)</span> <span style='color: #80af67;'>quality(I-Premise)</span> <span style='color: #80af67;'>of(I-Premise)</span> <span style='color: #80af67;'>life(I-Premise)</span> <span style='color: #80af67;'>((I-Premise)</span> <span style='color: #80af67;'>.(I-Premise)</span> <span style='color: #80af67;'>00(I-Premise)</span> <span style='color: #80af67;'>##1(I-Premise)</span> <span style='color: #80af67;'><(I-Premise)</span> <span style='color: #80af67;'>p(I-Premise)</span> <span style='color: #80af67;'><(I-Premise)</span> <span style='color: #80af67;'>.(I-Premise)</span> <span style='color: #80af67;'>00(I-Premise)</span> <span style='color: #80af67;'>##3(I-Premise)</span> <span style='color: #80af67;'>)(I-Premise)</span> <span style='color: #80af67;'>.(I-Premise)</span> <span style='color: #aa4b67;'>treatment(B-Claim)</span> <span style='color: #aa4b67;'>with(I-Claim)</span> <span style='color: #aa4b67;'>mit(I-Claim)</span> <span style='color: #aa4b67;'>##ox(I-Claim)</span> <span style='color: #aa4b67;'>##ant(I-Claim)</span> <span style='color: #aa4b67;'>##rone(I-Claim)</span> <span style='color: #aa4b67;'>plus(I-Claim)</span> <span style='color: #aa4b67;'>pre(I-Claim)</span> <span style='color: #aa4b67;'>##dn(I-Claim)</span> <span style='color: #aa4b67;'>##ison(I-Claim)</span> <span style='color: #aa4b67;'>##e(I-Claim)</span> <span style='color: #aa4b67;'>was(I-Claim)</span> <span style='color: #aa4b67;'>associated(I-Claim)</span> <span style='color: #aa4b67;'>with(I-Claim)</span> <span style='color: #aa4b67;'>greater(I-Claim)</span> <span style='color: #aa4b67;'>and(I-Claim)</span> <span style='color: #aa4b67;'>longer(I-Claim)</span> <span style='color: #aa4b67;'>-(I-Claim)</span> <span style='color: #aa4b67;'>lasting(I-Claim)</span> <span style='color: #aa4b67;'>improvement(I-Claim)</span> <span style='color: #aa4b67;'>in(I-Claim)</span> <span style='color: #aa4b67;'>several(I-Claim)</span> <span style='color: #aa4b67;'>h(I-Claim)</span> <span style='color: #aa4b67;'>##q(I-Claim)</span> <span style='color: #aa4b67;'>##l(I-Claim)</span> <span style='color: #aa4b67;'>domains(I-Claim)</span> <span style='color: #aa4b67;'>and(I-Claim)</span> <span style='color: #aa4b67;'>symptoms(I-Claim)</span> <span style='color: #aa4b67;'>than(I-Claim)</span> <span style='color: #aa4b67;'>treatment(I-Claim)</span> <span style='color: #aa4b67;'>with(I-Claim)</span> <span style='color: #aa4b67;'>pre(I-Claim)</span> <span style='color: #aa4b67;'>##dn(I-Claim)</span> <span style='color: #aa4b67;'>##ison(I-Claim)</span> <span style='color: #aa4b67;'>##e(I-Claim)</span> <span style='color: #aa4b67;'>alone(I-Claim)</span> <span style='color: #aa4b67;'>.(I-Claim)</span> <span style='color: None;'>[SEP](O)</span> <span style='color: None;'>[PAD](O)</span> <span style='color: None;'>[PAD](O)</span> <span style='color: None;'>[PAD](O)</span> <span style='color: None;'>[PAD](O)</span> <span style='color: None;'>[PAD](O)</span> <span style='color: None;'>[PAD](O)</span> <span style='color: None;'>[PAD](O)</span> <span style='color: None;'>[PAD](O)</span> <span style='color: None;'>[PAD](O)</span> <span style='color: None;'>[PAD](O)</span> <span style='color: None;'>[PAD](O)</span> <span style='color: None;'>[PAD](O)</span> <span style='color: None;'>[PAD](O)</span> <span style='color: None;'>[PAD](O)</span> <span style='color: None;'>[PAD](O)</span> <span style='color: None;'>[PAD](O)</span> <span style='color: None;'>[PAD](O)</span> <span style='color: None;'>[PAD](O)</span> <span style='color: None;'>[PAD](O)</span> <span style='color: None;'>[PAD](O)</span> <span style='color: None;'>[PAD](O)</span> <span style='color: None;'>[PAD](O)</span> <span style='color: None;'>[PAD](O)</span> <span style='color: None;'>[PAD](O)</span> <span style='color: None;'>[PAD](O)</span> <span style='color: None;'>[PAD](O)</span> <span style='color: None;'>[PAD](O)</span> <span style='color: None;'>[PAD](O)</span> <span style='color: None;'>[PAD](O)</span> <span style='color: None;'>[PAD](O)</span> <span style='color: None;'>[PAD](O)</span> <span style='color: None;'>[PAD](O)</span> <span style='color: None;'>[PAD](O)</span> <span style='color: None;'>[PAD](O)</span> <span style='color: None;'>[PAD](O)</span>"
      ],
      "text/plain": [
       "<IPython.core.display.HTML object>"
      ]
     },
     "metadata": {},
     "output_type": "display_data"
    }
   ],
   "source": [
    "print_annotated_example(train_df_biobert, show_special_tokens=True, sample_idx=0)"
   ]
  },
  {
   "cell_type": "code",
   "execution_count": null,
   "metadata": {
    "colab": {
     "base_uri": "https://localhost:8080/",
     "height": 709
    },
    "id": "KS4zNHkzo-Qx",
    "outputId": "c365eead-d656-4f31-a402-b95d2a64e255"
   },
   "outputs": [
    {
     "name": "stdout",
     "output_type": "stream",
     "text": [
      "\n",
      "Shape Training dataframe: (428, 8)\n",
      "Shape Validation dataframe : (107, 8)\n",
      "Shape Test dataframe: (134, 8)\n"
     ]
    },
    {
     "data": {
      "application/vnd.google.colaboratory.intrinsic+json": {
       "summary": "{\n  \"name\": \"custom_train_df_biobert\",\n  \"rows\": 428,\n  \"fields\": [\n    {\n      \"column\": \"raw_text\",\n      \"properties\": {\n        \"dtype\": \"string\",\n        \"num_unique_values\": 428,\n        \"samples\": [\n          \" we conducted a prospective, randomized, multicentre clinical trial comparing the effects and costs of gm-csf as an adjunct to intensive chemotherapy in elderly patients with acute myeloid leukaemia (aml). the patients were randomized to either daunomycin-cytosine arabinoside (control arm: n = 161) or daunomycin-cytosine arabinoside with gm-csf (gm-csf arm: n = 157). the primary end-point was the effect of gm-csf on the percentage of complete remissions (cr). survival duration, disease-free survival, quality of life and costs were evaluated separately. cr after remission induction treatment was achieved in 55% of the patients in the control group and in 56% of the patients in the gm-csf group (p = ns). the duration of survival and disease-free survival at 2 years after randomization were estimated at 22% and 19% for the control group and 22% and 14% for the gm-csf group (p = ns). considering the short-term quality of life, the administration of gm-csf resulted in more problems with regard to depressed mood, diarrhoea and rash/eczema. with regard to the long-term quality of life there were no significant differences between the two groups. the average costs of the primary treatment were higher in gm-csf-treated patients than in the control group, i.e. us$40782 and us$34465, respectively (p < 0.01). the costs during the follow-up period did not differ between the two groups. the results of this randomized clinical trial indicate that daunomycin-cytosine arabinoside plus gm-csf is not a cost-effective treatment strategy when compared with daunomycin-cytosine arabinoside alone. \",\n          \" recombinant human erythropoietin (r-huepo) corrects cancer-related anemia and, thereby, improves quality of life. the purpose of the present study was to measure the impact of erythropoietin on hemoglobin and mood state in patients with metastatic breast cancer and mild anemia (hgb < 12.0 g/dl). women were randomized to receive usual care (g1) or usual care plus r-huepo (g2). usual care included transfusions as necessary and fatigue education. r-huepo was begun at 40,000u subcutaneously per week. at 4 weeks, the dose was increased to 60,000u if hgb had not increased > or = 1.0 g/dl. the drug was discontinued at 8 weeks if hemoglobin improvement was < 1.0 g/dl. the study was terminated early (n = 27, g1 = 13, g2 = 14) when 4/14 (28.5%) subjects in g2 developed thrombotic events (deep vein thrombosis [dvt] in 1; dvt plus pulmonary embolism [pe] in 1; dvt plus pe 1 month after drug discontinuation in 1; and brachial vein thrombosis with infected mediport in 1). in all four patients, hgb levels were normal at the time of the event. no patient in g1 developed a thrombotic event. there were no significant differences in demographic characteristics or current chemotherapy regimen in g1 vs. g2. the decision to terminate the trial was made after considerable deliberation. the increased incidence of thrombotic events in the r-huepo (g2) arm of this study exceeds that in prior studies in this population and prior r-huepo trials. this may relate to the administration of r-huepo in this high-risk population, but the small sample size and possible predisposing risk factors preclude definitive conclusions. \",\n          \" to evaluate whether 3-month administration of cdb-2914, a selective progesterone receptor modulator, reduces leiomyoma size and symptoms. premenopausal women with symptomatic uterine leiomyomata were randomly assigned to cdb-2914 at 10 mg (t1) or 20 mg (t2) daily or to placebo (plc) for 3 cycles or 90-102 days if no menses occurred. the primary outcome was leiomyoma volume change determined by magnetic resonance imaging at study entry and within 2 weeks of hysterectomy. secondary outcomes included the proportion of amenorrhea, change in hemoglobin and hematocrit, ovulation inhibition, and quality-of-life assessment. twenty-two patients were allocated, and 18 completed the trial. age and body mass index were similar among groups. leiomyoma volume was significantly reduced with cdb-2914 administration (plc 6%; cdb-2914 -29%; p=.01), decreasing 36% and 21% in the t1 and t2 groups, respectively. during treatment, hemoglobin was unchanged, and the median estradiol was greater than 50 pg/ml in all groups. cdb-2914 eliminated menstrual bleeding and inhibited ovulation (% ovulatory cycles: cdb-2914, 20%; plc, 83%; p=.001). cdb-2914 improved the concern scores of the uterine leiomyoma symptom quality-of-life subscale (p=.04). one cdb-2914 woman developed endometrial cystic hyperplasia without evidence of atypia. no serious adverse events were reported. compared with plc, cdb-2914 significantly reduced leiomyoma volume after three cycles, or 90-102 days. cdb-2914 treatment resulted in improvements in the concern subscale of the uterine fibroid symptom quality of life assessment. in this small study, cdb-2914 was well-tolerated without serious adverse events. thus, there may be a role for cdb-2914 in the treatment of leiomyomata.\"\n        ],\n        \"semantic_type\": \"\",\n        \"description\": \"\"\n      }\n    },\n    {\n      \"column\": \"tokenized_text\",\n      \"properties\": {\n        \"dtype\": \"object\",\n        \"semantic_type\": \"\",\n        \"description\": \"\"\n      }\n    },\n    {\n      \"column\": \"input_ids\",\n      \"properties\": {\n        \"dtype\": \"object\",\n        \"semantic_type\": \"\",\n        \"description\": \"\"\n      }\n    },\n    {\n      \"column\": \"attention_mask\",\n      \"properties\": {\n        \"dtype\": \"object\",\n        \"semantic_type\": \"\",\n        \"description\": \"\"\n      }\n    },\n    {\n      \"column\": \"tags\",\n      \"properties\": {\n        \"dtype\": \"object\",\n        \"semantic_type\": \"\",\n        \"description\": \"\"\n      }\n    },\n    {\n      \"column\": \"encoded_tags\",\n      \"properties\": {\n        \"dtype\": \"object\",\n        \"semantic_type\": \"\",\n        \"description\": \"\"\n      }\n    },\n    {\n      \"column\": \"new_start_end_positions\",\n      \"properties\": {\n        \"dtype\": \"object\",\n        \"semantic_type\": \"\",\n        \"description\": \"\"\n      }\n    },\n    {\n      \"column\": \"file_name\",\n      \"properties\": {\n        \"dtype\": \"string\",\n        \"num_unique_values\": 428,\n        \"samples\": [\n          \"9531327.ann\",\n          \"15157043.ann\",\n          \"18448745.ann\"\n        ],\n        \"semantic_type\": \"\",\n        \"description\": \"\"\n      }\n    }\n  ]\n}",
       "type": "dataframe",
       "variable_name": "custom_train_df_biobert"
      },
      "text/html": [
       "\n",
       "  <div id=\"df-e5eb38e6-b790-4718-8d9c-d2bbb1f99c21\" class=\"colab-df-container\">\n",
       "    <div>\n",
       "<style scoped>\n",
       "    .dataframe tbody tr th:only-of-type {\n",
       "        vertical-align: middle;\n",
       "    }\n",
       "\n",
       "    .dataframe tbody tr th {\n",
       "        vertical-align: top;\n",
       "    }\n",
       "\n",
       "    .dataframe thead th {\n",
       "        text-align: right;\n",
       "    }\n",
       "</style>\n",
       "<table border=\"1\" class=\"dataframe\">\n",
       "  <thead>\n",
       "    <tr style=\"text-align: right;\">\n",
       "      <th></th>\n",
       "      <th>raw_text</th>\n",
       "      <th>tokenized_text</th>\n",
       "      <th>input_ids</th>\n",
       "      <th>attention_mask</th>\n",
       "      <th>tags</th>\n",
       "      <th>encoded_tags</th>\n",
       "      <th>new_start_end_positions</th>\n",
       "      <th>file_name</th>\n",
       "    </tr>\n",
       "  </thead>\n",
       "  <tbody>\n",
       "    <tr>\n",
       "      <th>0</th>\n",
       "      <td>\\n\\nto compare the efficacy and side effects a...</td>\n",
       "      <td>[[CLS], to, compare, the, efficacy, and, side,...</td>\n",
       "      <td>[101, 1106, 14133, 1103, 23891, 1105, 1334, 31...</td>\n",
       "      <td>[1, 1, 1, 1, 1, 1, 1, 1, 1, 1, 1, 1, 1, 1, 1, ...</td>\n",
       "      <td>[O, O, O, O, O, O, O, O, O, O, O, O, O, O, O, ...</td>\n",
       "      <td>[4, 4, 4, 4, 4, 4, 4, 4, 4, 4, 4, 4, 4, 4, 4, ...</td>\n",
       "      <td>{'T1': (334, 379), 'T2': (380, 442), 'T3': (44...</td>\n",
       "      <td>10080213.ann</td>\n",
       "    </tr>\n",
       "    <tr>\n",
       "      <th>1</th>\n",
       "      <td>to evaluate the efficacy and safety of a slow...</td>\n",
       "      <td>[[CLS], to, evaluate, the, efficacy, and, safe...</td>\n",
       "      <td>[101, 1106, 17459, 1103, 23891, 1105, 3429, 11...</td>\n",
       "      <td>[1, 1, 1, 1, 1, 1, 1, 1, 1, 1, 1, 1, 1, 1, 1, ...</td>\n",
       "      <td>[O, O, O, O, O, O, O, O, O, O, O, O, O, O, O, ...</td>\n",
       "      <td>[4, 4, 4, 4, 4, 4, 4, 4, 4, 4, 4, 4, 4, 4, 4, ...</td>\n",
       "      <td>{'T1': (195, 229), 'T2': (230, 267), 'T3': (26...</td>\n",
       "      <td>10506606.ann</td>\n",
       "    </tr>\n",
       "    <tr>\n",
       "      <th>2</th>\n",
       "      <td>in a prospective randomized study, 287 patien...</td>\n",
       "      <td>[[CLS], in, a, prospective, random, ##ized, st...</td>\n",
       "      <td>[101, 1107, 170, 19916, 7091, 2200, 2025, 117,...</td>\n",
       "      <td>[1, 1, 1, 1, 1, 1, 1, 1, 1, 1, 1, 1, 1, 1, 1, ...</td>\n",
       "      <td>[O, O, O, O, O, O, O, O, O, O, O, O, O, O, O, ...</td>\n",
       "      <td>[4, 4, 4, 4, 4, 4, 4, 4, 4, 4, 4, 4, 4, 4, 4, ...</td>\n",
       "      <td>{'T1': (449, 476), 'T2': (279, 297), 'T3': (29...</td>\n",
       "      <td>10403690.ann</td>\n",
       "    </tr>\n",
       "    <tr>\n",
       "      <th>3</th>\n",
       "      <td>data from experimental studies suggest that o...</td>\n",
       "      <td>[[CLS], data, from, experimental, studies, sug...</td>\n",
       "      <td>[101, 2233, 1121, 6700, 2527, 5996, 1115, 184,...</td>\n",
       "      <td>[1, 1, 1, 1, 1, 1, 1, 1, 1, 1, 1, 1, 1, 1, 1, ...</td>\n",
       "      <td>[O, O, O, O, O, O, O, B-Claim, I-Claim, I-Clai...</td>\n",
       "      <td>[4, 4, 4, 4, 4, 4, 4, 0, 2, 2, 2, 2, 2, 2, 2, ...</td>\n",
       "      <td>{'T1': (7, 33), 'T2': (148, 205), 'T3': (206, ...</td>\n",
       "      <td>10210927.ann</td>\n",
       "    </tr>\n",
       "    <tr>\n",
       "      <th>4</th>\n",
       "      <td>for several decades, both preoperative intra-...</td>\n",
       "      <td>[[CLS], for, several, decades, ,, both, pre, #...</td>\n",
       "      <td>[101, 1111, 1317, 4397, 117, 1241, 3073, 19807...</td>\n",
       "      <td>[1, 1, 1, 1, 1, 1, 1, 1, 1, 1, 1, 1, 1, 1, 1, ...</td>\n",
       "      <td>[O, B-Claim, I-Claim, I-Claim, I-Claim, I-Clai...</td>\n",
       "      <td>[4, 0, 2, 2, 2, 2, 2, 2, 2, 2, 2, 2, 2, 2, 2, ...</td>\n",
       "      <td>{'T1': (1, 37), 'T3': (356, 389), 'T4': (392, ...</td>\n",
       "      <td>10526263.ann</td>\n",
       "    </tr>\n",
       "  </tbody>\n",
       "</table>\n",
       "</div>\n",
       "    <div class=\"colab-df-buttons\">\n",
       "\n",
       "  <div class=\"colab-df-container\">\n",
       "    <button class=\"colab-df-convert\" onclick=\"convertToInteractive('df-e5eb38e6-b790-4718-8d9c-d2bbb1f99c21')\"\n",
       "            title=\"Convert this dataframe to an interactive table.\"\n",
       "            style=\"display:none;\">\n",
       "\n",
       "  <svg xmlns=\"http://www.w3.org/2000/svg\" height=\"24px\" viewBox=\"0 -960 960 960\">\n",
       "    <path d=\"M120-120v-720h720v720H120Zm60-500h600v-160H180v160Zm220 220h160v-160H400v160Zm0 220h160v-160H400v160ZM180-400h160v-160H180v160Zm440 0h160v-160H620v160ZM180-180h160v-160H180v160Zm440 0h160v-160H620v160Z\"/>\n",
       "  </svg>\n",
       "    </button>\n",
       "\n",
       "  <style>\n",
       "    .colab-df-container {\n",
       "      display:flex;\n",
       "      gap: 12px;\n",
       "    }\n",
       "\n",
       "    .colab-df-convert {\n",
       "      background-color: #E8F0FE;\n",
       "      border: none;\n",
       "      border-radius: 50%;\n",
       "      cursor: pointer;\n",
       "      display: none;\n",
       "      fill: #1967D2;\n",
       "      height: 32px;\n",
       "      padding: 0 0 0 0;\n",
       "      width: 32px;\n",
       "    }\n",
       "\n",
       "    .colab-df-convert:hover {\n",
       "      background-color: #E2EBFA;\n",
       "      box-shadow: 0px 1px 2px rgba(60, 64, 67, 0.3), 0px 1px 3px 1px rgba(60, 64, 67, 0.15);\n",
       "      fill: #174EA6;\n",
       "    }\n",
       "\n",
       "    .colab-df-buttons div {\n",
       "      margin-bottom: 4px;\n",
       "    }\n",
       "\n",
       "    [theme=dark] .colab-df-convert {\n",
       "      background-color: #3B4455;\n",
       "      fill: #D2E3FC;\n",
       "    }\n",
       "\n",
       "    [theme=dark] .colab-df-convert:hover {\n",
       "      background-color: #434B5C;\n",
       "      box-shadow: 0px 1px 3px 1px rgba(0, 0, 0, 0.15);\n",
       "      filter: drop-shadow(0px 1px 2px rgba(0, 0, 0, 0.3));\n",
       "      fill: #FFFFFF;\n",
       "    }\n",
       "  </style>\n",
       "\n",
       "    <script>\n",
       "      const buttonEl =\n",
       "        document.querySelector('#df-e5eb38e6-b790-4718-8d9c-d2bbb1f99c21 button.colab-df-convert');\n",
       "      buttonEl.style.display =\n",
       "        google.colab.kernel.accessAllowed ? 'block' : 'none';\n",
       "\n",
       "      async function convertToInteractive(key) {\n",
       "        const element = document.querySelector('#df-e5eb38e6-b790-4718-8d9c-d2bbb1f99c21');\n",
       "        const dataTable =\n",
       "          await google.colab.kernel.invokeFunction('convertToInteractive',\n",
       "                                                    [key], {});\n",
       "        if (!dataTable) return;\n",
       "\n",
       "        const docLinkHtml = 'Like what you see? Visit the ' +\n",
       "          '<a target=\"_blank\" href=https://colab.research.google.com/notebooks/data_table.ipynb>data table notebook</a>'\n",
       "          + ' to learn more about interactive tables.';\n",
       "        element.innerHTML = '';\n",
       "        dataTable['output_type'] = 'display_data';\n",
       "        await google.colab.output.renderOutput(dataTable, element);\n",
       "        const docLink = document.createElement('div');\n",
       "        docLink.innerHTML = docLinkHtml;\n",
       "        element.appendChild(docLink);\n",
       "      }\n",
       "    </script>\n",
       "  </div>\n",
       "\n",
       "\n",
       "<div id=\"df-a5cb6625-6d71-4a3c-b147-e3636829fe63\">\n",
       "  <button class=\"colab-df-quickchart\" onclick=\"quickchart('df-a5cb6625-6d71-4a3c-b147-e3636829fe63')\"\n",
       "            title=\"Suggest charts\"\n",
       "            style=\"display:none;\">\n",
       "\n",
       "<svg xmlns=\"http://www.w3.org/2000/svg\" height=\"24px\"viewBox=\"0 0 24 24\"\n",
       "     width=\"24px\">\n",
       "    <g>\n",
       "        <path d=\"M19 3H5c-1.1 0-2 .9-2 2v14c0 1.1.9 2 2 2h14c1.1 0 2-.9 2-2V5c0-1.1-.9-2-2-2zM9 17H7v-7h2v7zm4 0h-2V7h2v10zm4 0h-2v-4h2v4z\"/>\n",
       "    </g>\n",
       "</svg>\n",
       "  </button>\n",
       "\n",
       "<style>\n",
       "  .colab-df-quickchart {\n",
       "      --bg-color: #E8F0FE;\n",
       "      --fill-color: #1967D2;\n",
       "      --hover-bg-color: #E2EBFA;\n",
       "      --hover-fill-color: #174EA6;\n",
       "      --disabled-fill-color: #AAA;\n",
       "      --disabled-bg-color: #DDD;\n",
       "  }\n",
       "\n",
       "  [theme=dark] .colab-df-quickchart {\n",
       "      --bg-color: #3B4455;\n",
       "      --fill-color: #D2E3FC;\n",
       "      --hover-bg-color: #434B5C;\n",
       "      --hover-fill-color: #FFFFFF;\n",
       "      --disabled-bg-color: #3B4455;\n",
       "      --disabled-fill-color: #666;\n",
       "  }\n",
       "\n",
       "  .colab-df-quickchart {\n",
       "    background-color: var(--bg-color);\n",
       "    border: none;\n",
       "    border-radius: 50%;\n",
       "    cursor: pointer;\n",
       "    display: none;\n",
       "    fill: var(--fill-color);\n",
       "    height: 32px;\n",
       "    padding: 0;\n",
       "    width: 32px;\n",
       "  }\n",
       "\n",
       "  .colab-df-quickchart:hover {\n",
       "    background-color: var(--hover-bg-color);\n",
       "    box-shadow: 0 1px 2px rgba(60, 64, 67, 0.3), 0 1px 3px 1px rgba(60, 64, 67, 0.15);\n",
       "    fill: var(--button-hover-fill-color);\n",
       "  }\n",
       "\n",
       "  .colab-df-quickchart-complete:disabled,\n",
       "  .colab-df-quickchart-complete:disabled:hover {\n",
       "    background-color: var(--disabled-bg-color);\n",
       "    fill: var(--disabled-fill-color);\n",
       "    box-shadow: none;\n",
       "  }\n",
       "\n",
       "  .colab-df-spinner {\n",
       "    border: 2px solid var(--fill-color);\n",
       "    border-color: transparent;\n",
       "    border-bottom-color: var(--fill-color);\n",
       "    animation:\n",
       "      spin 1s steps(1) infinite;\n",
       "  }\n",
       "\n",
       "  @keyframes spin {\n",
       "    0% {\n",
       "      border-color: transparent;\n",
       "      border-bottom-color: var(--fill-color);\n",
       "      border-left-color: var(--fill-color);\n",
       "    }\n",
       "    20% {\n",
       "      border-color: transparent;\n",
       "      border-left-color: var(--fill-color);\n",
       "      border-top-color: var(--fill-color);\n",
       "    }\n",
       "    30% {\n",
       "      border-color: transparent;\n",
       "      border-left-color: var(--fill-color);\n",
       "      border-top-color: var(--fill-color);\n",
       "      border-right-color: var(--fill-color);\n",
       "    }\n",
       "    40% {\n",
       "      border-color: transparent;\n",
       "      border-right-color: var(--fill-color);\n",
       "      border-top-color: var(--fill-color);\n",
       "    }\n",
       "    60% {\n",
       "      border-color: transparent;\n",
       "      border-right-color: var(--fill-color);\n",
       "    }\n",
       "    80% {\n",
       "      border-color: transparent;\n",
       "      border-right-color: var(--fill-color);\n",
       "      border-bottom-color: var(--fill-color);\n",
       "    }\n",
       "    90% {\n",
       "      border-color: transparent;\n",
       "      border-bottom-color: var(--fill-color);\n",
       "    }\n",
       "  }\n",
       "</style>\n",
       "\n",
       "  <script>\n",
       "    async function quickchart(key) {\n",
       "      const quickchartButtonEl =\n",
       "        document.querySelector('#' + key + ' button');\n",
       "      quickchartButtonEl.disabled = true;  // To prevent multiple clicks.\n",
       "      quickchartButtonEl.classList.add('colab-df-spinner');\n",
       "      try {\n",
       "        const charts = await google.colab.kernel.invokeFunction(\n",
       "            'suggestCharts', [key], {});\n",
       "      } catch (error) {\n",
       "        console.error('Error during call to suggestCharts:', error);\n",
       "      }\n",
       "      quickchartButtonEl.classList.remove('colab-df-spinner');\n",
       "      quickchartButtonEl.classList.add('colab-df-quickchart-complete');\n",
       "    }\n",
       "    (() => {\n",
       "      let quickchartButtonEl =\n",
       "        document.querySelector('#df-a5cb6625-6d71-4a3c-b147-e3636829fe63 button');\n",
       "      quickchartButtonEl.style.display =\n",
       "        google.colab.kernel.accessAllowed ? 'block' : 'none';\n",
       "    })();\n",
       "  </script>\n",
       "</div>\n",
       "\n",
       "    </div>\n",
       "  </div>\n"
      ],
      "text/plain": [
       "                                            raw_text  \\\n",
       "0  \\n\\nto compare the efficacy and side effects a...   \n",
       "1   to evaluate the efficacy and safety of a slow...   \n",
       "2   in a prospective randomized study, 287 patien...   \n",
       "3   data from experimental studies suggest that o...   \n",
       "4   for several decades, both preoperative intra-...   \n",
       "\n",
       "                                      tokenized_text  \\\n",
       "0  [[CLS], to, compare, the, efficacy, and, side,...   \n",
       "1  [[CLS], to, evaluate, the, efficacy, and, safe...   \n",
       "2  [[CLS], in, a, prospective, random, ##ized, st...   \n",
       "3  [[CLS], data, from, experimental, studies, sug...   \n",
       "4  [[CLS], for, several, decades, ,, both, pre, #...   \n",
       "\n",
       "                                           input_ids  \\\n",
       "0  [101, 1106, 14133, 1103, 23891, 1105, 1334, 31...   \n",
       "1  [101, 1106, 17459, 1103, 23891, 1105, 3429, 11...   \n",
       "2  [101, 1107, 170, 19916, 7091, 2200, 2025, 117,...   \n",
       "3  [101, 2233, 1121, 6700, 2527, 5996, 1115, 184,...   \n",
       "4  [101, 1111, 1317, 4397, 117, 1241, 3073, 19807...   \n",
       "\n",
       "                                      attention_mask  \\\n",
       "0  [1, 1, 1, 1, 1, 1, 1, 1, 1, 1, 1, 1, 1, 1, 1, ...   \n",
       "1  [1, 1, 1, 1, 1, 1, 1, 1, 1, 1, 1, 1, 1, 1, 1, ...   \n",
       "2  [1, 1, 1, 1, 1, 1, 1, 1, 1, 1, 1, 1, 1, 1, 1, ...   \n",
       "3  [1, 1, 1, 1, 1, 1, 1, 1, 1, 1, 1, 1, 1, 1, 1, ...   \n",
       "4  [1, 1, 1, 1, 1, 1, 1, 1, 1, 1, 1, 1, 1, 1, 1, ...   \n",
       "\n",
       "                                                tags  \\\n",
       "0  [O, O, O, O, O, O, O, O, O, O, O, O, O, O, O, ...   \n",
       "1  [O, O, O, O, O, O, O, O, O, O, O, O, O, O, O, ...   \n",
       "2  [O, O, O, O, O, O, O, O, O, O, O, O, O, O, O, ...   \n",
       "3  [O, O, O, O, O, O, O, B-Claim, I-Claim, I-Clai...   \n",
       "4  [O, B-Claim, I-Claim, I-Claim, I-Claim, I-Clai...   \n",
       "\n",
       "                                        encoded_tags  \\\n",
       "0  [4, 4, 4, 4, 4, 4, 4, 4, 4, 4, 4, 4, 4, 4, 4, ...   \n",
       "1  [4, 4, 4, 4, 4, 4, 4, 4, 4, 4, 4, 4, 4, 4, 4, ...   \n",
       "2  [4, 4, 4, 4, 4, 4, 4, 4, 4, 4, 4, 4, 4, 4, 4, ...   \n",
       "3  [4, 4, 4, 4, 4, 4, 4, 0, 2, 2, 2, 2, 2, 2, 2, ...   \n",
       "4  [4, 0, 2, 2, 2, 2, 2, 2, 2, 2, 2, 2, 2, 2, 2, ...   \n",
       "\n",
       "                             new_start_end_positions     file_name  \n",
       "0  {'T1': (334, 379), 'T2': (380, 442), 'T3': (44...  10080213.ann  \n",
       "1  {'T1': (195, 229), 'T2': (230, 267), 'T3': (26...  10506606.ann  \n",
       "2  {'T1': (449, 476), 'T2': (279, 297), 'T3': (29...  10403690.ann  \n",
       "3  {'T1': (7, 33), 'T2': (148, 205), 'T3': (206, ...  10210927.ann  \n",
       "4  {'T1': (1, 37), 'T3': (356, 389), 'T4': (392, ...  10526263.ann  "
      ]
     },
     "execution_count": 20,
     "metadata": {},
     "output_type": "execute_result"
    }
   ],
   "source": [
    "#create the dataset\n",
    "custom_train_df_biobert = create_dataframe_from_directory(custom_train_data_dir,tag_to_idx, bio_bert_tokenizer,\"component_detection\",MAX_LENGTH)\n",
    "custom_val_df_biobert = create_dataframe_from_directory(custom_val_data_dir,tag_to_idx,bio_bert_tokenizer,\"component_detection\", MAX_LENGTH)\n",
    "custom_test_df_biobert = create_dataframe_from_directory(custom_test_data_dir,tag_to_idx, bio_bert_tokenizer,\"component_detection\",MAX_LENGTH)\n",
    "\n",
    "\n",
    "print(f\"\\nShape Training dataframe: {custom_train_df_biobert.shape}\")\n",
    "print(f\"Shape Validation dataframe : {custom_val_df_biobert.shape}\")\n",
    "print(f\"Shape Test dataframe: {custom_test_df_biobert.shape}\")\n",
    "\n",
    "\n",
    "custom_train_df_biobert.head()"
   ]
  },
  {
   "cell_type": "code",
   "execution_count": null,
   "metadata": {
    "colab": {
     "base_uri": "https://localhost:8080/"
    },
    "id": "ZO6zpoC7o-Qx",
    "outputId": "b5710b64-252a-41da-dd5b-02c6baad2c9f"
   },
   "outputs": [
    {
     "name": "stdout",
     "output_type": "stream",
     "text": [
      "{'O': 0.0049495532302118676, 'B-Premise': 0.28616515909891416, 'I-Premise': 0.007268584229717112, 'B-Claim': 0.6759685109525704, 'I-Claim': 0.025648192488586474}\n"
     ]
    }
   ],
   "source": [
    "CLASS_WEIGHTS_NORMALIZED_CUSTOM_BIOBERT = compute_norm_class_weights(custom_train_df_biobert,label_column='tags', special_tokens=special_tokens, task_name='seqtag')\n",
    "print(CLASS_WEIGHTS_NORMALIZED_CUSTOM_BIOBERT)"
   ]
  },
  {
   "cell_type": "code",
   "execution_count": null,
   "metadata": {
    "colab": {
     "base_uri": "https://localhost:8080/",
     "height": 731
    },
    "id": "JsY1ATTvo-Qx",
    "outputId": "38ec5c84-822b-42dc-f88d-5375ceef17b5"
   },
   "outputs": [
    {
     "name": "stdout",
     "output_type": "stream",
     "text": [
      "\n",
      "Example of an annotated sentence:\n",
      "\n",
      "Raw text:\n",
      "['to', 'compare', 'the', 'efficacy', 'and', 'side', 'effects', 'and', 'the', 'effect', 'on', 'aqueous', 'humor', 'dynamics', 'of', '0.005%', 'latanoprost', 'applied', 'topically', 'once', 'daily', 'with', '0.5%', 'timolol', 'given', 'twice', 'daily', 'for', '12', 'months', 'to', 'patients', 'with', 'pigmentary', 'glaucoma.', 'prospective,', 'randomized,', 'double-masked,', 'clinical', 'study.', 'thirty-six', 'patients', 'affected', 'with', 'bilateral', 'pigmentary', 'glaucoma', 'controlled', 'with', 'no', 'more', 'than', 'a', 'single', 'hypotensive', 'medication', 'were', 'enrolled', 'in', 'the', 'study.', 'the', 'sample', 'population', 'was', 'randomly', 'divided', 'into', '2', 'age-', 'and', 'gender-matched', 'groups', 'each', 'of', '18', 'patients.', 'group', '1', 'received', '0.005%', 'latanoprost', 'eyedrops', 'once', 'daily', 'and', 'the', 'vehicle', '(placebo)', 'once', 'daily;', 'group', '2', 'was', 'assigned', 'to', 'timolol', '0.5%', 'eyedrops', 'twice', 'daily.', 'diurnal', 'curves', 'of', 'intraocular', 'pressure', '(iop)', 'were', 'performed', 'on', 'the', 'baseline', 'day', 'and', 'after', '0.5,', '3,', '6,', 'and', '12', 'months', 'of', 'treatment.', 'the', 'iop', 'measurements', 'were', 'performed', 'at', '8:00', 'am,', '12:00', 'noon,', '4:00', 'pm,', 'and', '8:00', 'pm.', 'outflow', 'facility', '(c)', 'was', 'measured', 'on', 'the', 'baseline', 'day', 'and', 'on', 'the', 'last', 'day', 'of', 'the', 'study', 'with', 'a', 'schiotz', 'electronic', 'tonometer.', 'a', 'two-tailed', \"student's\", 't', 'test', 'for', 'paired', 'or', 'unpaired', 'data', 'was', 'used', 'for', 'statistical', 'evaluation', 'of', 'differences', 'between', 'treatment', 'and', 'baseline', 'values', 'or', 'between', 'the', 'latanoprost', 'and', 'timolol', 'group.', 'diurnal', 'iop', 'measurements', 'were', 'compared', 'hour', 'by', 'hour.', 'mean', 'values', 'of', 'the', 'two', 'eyes', 'iop', 'and', 'c', 'were', 'used', 'for', 'analysis.', 'compared', 'with', 'baseline', 'measurements,', 'both', 'latanoprost', 'and', 'timolol', 'caused', 'a', 'significant', '(p', '<', '0.001)', 'reduction', 'of', 'iop', 'at', 'each', 'hour', 'of', 'diurnal', 'curve', 'throughout', 'the', 'duration', 'of', 'therapy.', 'reduction', 'of', 'iop', 'was', '6.0', '+/-', '4.5', 'and', '5.9', '+/-', '4.6', 'with', 'latanoprost', 'and', '4.8', '+/-', '3.0', 'and', '4.6', '+/-', '3.1', 'with', 'timolol', 'after', '6', 'and', '12', 'months,', 'respectively.', 'comparison', 'of', 'mean', 'diurnal', 'measurements', 'with', 'latanoprost', 'and', 'timolol', 'showed', 'a', 'statistical', 'significant', '(p', '<', '0.001)', 'difference', 'at', '3,', '6,', 'and', '12', 'months.', 'mean', 'c', 'was', 'found', 'to', 'be', 'significantly', 'enhanced', '(+30%)', 'only', 'in', 'the', 'latanoprost-treated', 'group', 'compared', 'with', 'the', 'baseline', '(p', '=', '0.017).', 'mean', 'conjunctival', 'hyperemia', 'was', 'graded', 'at', '0.3', 'in', 'latanoprost-treated', 'eyes', 'and', '0.2', 'in', 'timolol-treated', 'eyes.', 'a', 'remarkable', 'change', 'in', 'iris', 'color', 'was', 'observed', 'in', 'both', 'eyes', 'of', '1', 'of', 'the', '18', 'patients', 'treated', 'with', 'latanoprost', 'and', 'none', 'of', 'the', '18', 'patients', 'who', 'received', 'timolol.', 'darkening', 'of', 'the', 'peripheral', 'iris', 'stroma', 'was', 'suspected', 'in', 'two', 'patients', 'treated', 'with', 'latanoprost.', 'in', 'the', 'timolol', 'group,', 'heart', 'rate', 'was', 'significantly', 'reduced', 'from', '72', '+/-', '9', 'at', 'baseline', 'to', '67', '+/-', '10', 'beats', 'per', 'minute', 'at', '12', 'months.', 'although', 'further', 'studies', 'may', 'need', 'to', 'confirm', 'these', 'data', 'on', 'a', 'larger', 'sample', 'and', 'to', 'evaluate', 'the', 'side', 'effect', 'of', 'increased', 'iris', 'pigmentation', 'on', 'long-term', 'follow-up,', 'in', 'patients', 'with', 'pigmentary', 'glaucoma,', '0.005%', 'latanoprost', 'taken', 'once', 'daily', 'was', 'well', 'tolerated', 'and', 'more', 'effective', 'in', 'reducing', 'iop', 'than', '0.5%', 'timolol', 'taken', 'twice', 'daily.']\n",
      "\n",
      "Tokenized text with colored components:\n"
     ]
    },
    {
     "data": {
      "text/html": [
       "<span style='color: None;'>[CLS](O)</span> <span style='color: None;'>to(O)</span> <span style='color: None;'>compare(O)</span> <span style='color: None;'>the(O)</span> <span style='color: None;'>efficacy(O)</span> <span style='color: None;'>and(O)</span> <span style='color: None;'>side(O)</span> <span style='color: None;'>effects(O)</span> <span style='color: None;'>and(O)</span> <span style='color: None;'>the(O)</span> <span style='color: None;'>effect(O)</span> <span style='color: None;'>on(O)</span> <span style='color: None;'>a(O)</span> <span style='color: None;'>##que(O)</span> <span style='color: None;'>##ous(O)</span> <span style='color: None;'>humor(O)</span> <span style='color: None;'>dynamics(O)</span> <span style='color: None;'>of(O)</span> <span style='color: None;'>0(O)</span> <span style='color: None;'>.(O)</span> <span style='color: None;'>00(O)</span> <span style='color: None;'>##5(O)</span> <span style='color: None;'>%(O)</span> <span style='color: None;'>la(O)</span> <span style='color: None;'>##tano(O)</span> <span style='color: None;'>##p(O)</span> <span style='color: None;'>##ros(O)</span> <span style='color: None;'>##t(O)</span> <span style='color: None;'>applied(O)</span> <span style='color: None;'>topic(O)</span> <span style='color: None;'>##ally(O)</span> <span style='color: None;'>once(O)</span> <span style='color: None;'>daily(O)</span> <span style='color: None;'>with(O)</span> <span style='color: None;'>0(O)</span> <span style='color: None;'>.(O)</span> <span style='color: None;'>5(O)</span> <span style='color: None;'>%(O)</span> <span style='color: None;'>t(O)</span> <span style='color: None;'>##imo(O)</span> <span style='color: None;'>##lo(O)</span> <span style='color: None;'>##l(O)</span> <span style='color: None;'>given(O)</span> <span style='color: None;'>twice(O)</span> <span style='color: None;'>daily(O)</span> <span style='color: None;'>for(O)</span> <span style='color: None;'>12(O)</span> <span style='color: None;'>months(O)</span> <span style='color: None;'>to(O)</span> <span style='color: None;'>patients(O)</span> <span style='color: None;'>with(O)</span> <span style='color: None;'>pig(O)</span> <span style='color: None;'>##mentary(O)</span> <span style='color: None;'>g(O)</span> <span style='color: None;'>##lau(O)</span> <span style='color: None;'>##com(O)</span> <span style='color: None;'>##a(O)</span> <span style='color: None;'>.(O)</span> <span style='color: None;'>prospective(O)</span> <span style='color: None;'>,(O)</span> <span style='color: None;'>random(O)</span> <span style='color: None;'>##ized(O)</span> <span style='color: None;'>,(O)</span> <span style='color: None;'>double(O)</span> <span style='color: None;'>-(O)</span> <span style='color: None;'>masked(O)</span> <span style='color: None;'>,(O)</span> <span style='color: None;'>clinical(O)</span> <span style='color: None;'>study(O)</span> <span style='color: None;'>.(O)</span> <span style='color: None;'>thirty(O)</span> <span style='color: None;'>-(O)</span> <span style='color: None;'>six(O)</span> <span style='color: None;'>patients(O)</span> <span style='color: None;'>affected(O)</span> <span style='color: None;'>with(O)</span> <span style='color: None;'>bilateral(O)</span> <span style='color: None;'>pig(O)</span> <span style='color: None;'>##mentary(O)</span> <span style='color: None;'>g(O)</span> <span style='color: None;'>##lau(O)</span> <span style='color: None;'>##com(O)</span> <span style='color: None;'>##a(O)</span> <span style='color: None;'>controlled(O)</span> <span style='color: None;'>with(O)</span> <span style='color: None;'>no(O)</span> <span style='color: None;'>more(O)</span> <span style='color: None;'>than(O)</span> <span style='color: None;'>a(O)</span> <span style='color: None;'>single(O)</span> <span style='color: None;'>h(O)</span> <span style='color: None;'>##y(O)</span> <span style='color: None;'>##pot(O)</span> <span style='color: None;'>##ens(O)</span> <span style='color: None;'>##ive(O)</span> <span style='color: None;'>medication(O)</span> <span style='color: None;'>were(O)</span> <span style='color: None;'>enrolled(O)</span> <span style='color: None;'>in(O)</span> <span style='color: None;'>the(O)</span> <span style='color: None;'>study(O)</span> <span style='color: None;'>.(O)</span> <span style='color: None;'>the(O)</span> <span style='color: None;'>sample(O)</span> <span style='color: None;'>population(O)</span> <span style='color: None;'>was(O)</span> <span style='color: None;'>randomly(O)</span> <span style='color: None;'>divided(O)</span> <span style='color: None;'>into(O)</span> <span style='color: None;'>2(O)</span> <span style='color: None;'>age(O)</span> <span style='color: None;'>-(O)</span> <span style='color: None;'>and(O)</span> <span style='color: None;'>gender(O)</span> <span style='color: None;'>-(O)</span> <span style='color: None;'>matched(O)</span> <span style='color: None;'>groups(O)</span> <span style='color: None;'>each(O)</span> <span style='color: None;'>of(O)</span> <span style='color: None;'>18(O)</span> <span style='color: None;'>patients(O)</span> <span style='color: None;'>.(O)</span> <span style='color: None;'>group(O)</span> <span style='color: None;'>1(O)</span> <span style='color: None;'>received(O)</span> <span style='color: None;'>0(O)</span> <span style='color: None;'>.(O)</span> <span style='color: None;'>00(O)</span> <span style='color: None;'>##5(O)</span> <span style='color: None;'>%(O)</span> <span style='color: None;'>la(O)</span> <span style='color: None;'>##tano(O)</span> <span style='color: None;'>##p(O)</span> <span style='color: None;'>##ros(O)</span> <span style='color: None;'>##t(O)</span> <span style='color: None;'>eyed(O)</span> <span style='color: None;'>##rops(O)</span> <span style='color: None;'>once(O)</span> <span style='color: None;'>daily(O)</span> <span style='color: None;'>and(O)</span> <span style='color: None;'>the(O)</span> <span style='color: None;'>vehicle(O)</span> <span style='color: None;'>((O)</span> <span style='color: None;'>place(O)</span> <span style='color: None;'>##bo(O)</span> <span style='color: None;'>)(O)</span> <span style='color: None;'>once(O)</span> <span style='color: None;'>daily(O)</span> <span style='color: None;'>;(O)</span> <span style='color: None;'>group(O)</span> <span style='color: None;'>2(O)</span> <span style='color: None;'>was(O)</span> <span style='color: None;'>assigned(O)</span> <span style='color: None;'>to(O)</span> <span style='color: None;'>t(O)</span> <span style='color: None;'>##imo(O)</span> <span style='color: None;'>##lo(O)</span> <span style='color: None;'>##l(O)</span> <span style='color: None;'>0(O)</span> <span style='color: None;'>.(O)</span> <span style='color: None;'>5(O)</span> <span style='color: None;'>%(O)</span> <span style='color: None;'>eyed(O)</span> <span style='color: None;'>##rops(O)</span> <span style='color: None;'>twice(O)</span> <span style='color: None;'>daily(O)</span> <span style='color: None;'>.(O)</span> <span style='color: None;'>di(O)</span> <span style='color: None;'>##urn(O)</span> <span style='color: None;'>##al(O)</span> <span style='color: None;'>curves(O)</span> <span style='color: None;'>of(O)</span> <span style='color: None;'>in(O)</span> <span style='color: None;'>##tra(O)</span> <span style='color: None;'>##oc(O)</span> <span style='color: None;'>##ular(O)</span> <span style='color: None;'>pressure(O)</span> <span style='color: None;'>((O)</span> <span style='color: None;'>i(O)</span> <span style='color: None;'>##op(O)</span> <span style='color: None;'>)(O)</span> <span style='color: None;'>were(O)</span> <span style='color: None;'>performed(O)</span> <span style='color: None;'>on(O)</span> <span style='color: None;'>the(O)</span> <span style='color: None;'>base(O)</span> <span style='color: None;'>##line(O)</span> <span style='color: None;'>day(O)</span> <span style='color: None;'>and(O)</span> <span style='color: None;'>after(O)</span> <span style='color: None;'>0(O)</span> <span style='color: None;'>.(O)</span> <span style='color: None;'>5(O)</span> <span style='color: None;'>,(O)</span> <span style='color: None;'>3(O)</span> <span style='color: None;'>,(O)</span> <span style='color: None;'>6(O)</span> <span style='color: None;'>,(O)</span> <span style='color: None;'>and(O)</span> <span style='color: None;'>12(O)</span> <span style='color: None;'>months(O)</span> <span style='color: None;'>of(O)</span> <span style='color: None;'>treatment(O)</span> <span style='color: None;'>.(O)</span> <span style='color: None;'>the(O)</span> <span style='color: None;'>i(O)</span> <span style='color: None;'>##op(O)</span> <span style='color: None;'>measurements(O)</span> <span style='color: None;'>were(O)</span> <span style='color: None;'>performed(O)</span> <span style='color: None;'>at(O)</span> <span style='color: None;'>8(O)</span> <span style='color: None;'>:(O)</span> <span style='color: None;'>00(O)</span> <span style='color: None;'>am(O)</span> <span style='color: None;'>,(O)</span> <span style='color: None;'>12(O)</span> <span style='color: None;'>:(O)</span> <span style='color: None;'>00(O)</span> <span style='color: None;'>noon(O)</span> <span style='color: None;'>,(O)</span> <span style='color: None;'>4(O)</span> <span style='color: None;'>:(O)</span> <span style='color: None;'>00(O)</span> <span style='color: None;'>pm(O)</span> <span style='color: None;'>,(O)</span> <span style='color: None;'>and(O)</span> <span style='color: None;'>8(O)</span> <span style='color: None;'>:(O)</span> <span style='color: None;'>00(O)</span> <span style='color: None;'>pm(O)</span> <span style='color: None;'>.(O)</span> <span style='color: None;'>out(O)</span> <span style='color: None;'>##flow(O)</span> <span style='color: None;'>facility(O)</span> <span style='color: None;'>((O)</span> <span style='color: None;'>c(O)</span> <span style='color: None;'>)(O)</span> <span style='color: None;'>was(O)</span> <span style='color: None;'>measured(O)</span> <span style='color: None;'>on(O)</span> <span style='color: None;'>the(O)</span> <span style='color: None;'>base(O)</span> <span style='color: None;'>##line(O)</span> <span style='color: None;'>day(O)</span> <span style='color: None;'>and(O)</span> <span style='color: None;'>on(O)</span> <span style='color: None;'>the(O)</span> <span style='color: None;'>last(O)</span> <span style='color: None;'>day(O)</span> <span style='color: None;'>of(O)</span> <span style='color: None;'>the(O)</span> <span style='color: None;'>study(O)</span> <span style='color: None;'>with(O)</span> <span style='color: None;'>a(O)</span> <span style='color: None;'>s(O)</span> <span style='color: None;'>##chi(O)</span> <span style='color: None;'>##ot(O)</span> <span style='color: None;'>##z(O)</span> <span style='color: None;'>electronic(O)</span> <span style='color: None;'>ton(O)</span> <span style='color: None;'>##ometer(O)</span> <span style='color: None;'>.(O)</span> <span style='color: None;'>a(O)</span> <span style='color: None;'>two(O)</span> <span style='color: None;'>-(O)</span> <span style='color: None;'>tailed(O)</span> <span style='color: None;'>student(O)</span> <span style='color: None;'>'(O)</span> <span style='color: None;'>s(O)</span> <span style='color: None;'>t(O)</span> <span style='color: None;'>test(O)</span> <span style='color: None;'>for(O)</span> <span style='color: None;'>paired(O)</span> <span style='color: None;'>or(O)</span> <span style='color: None;'>un(O)</span> <span style='color: None;'>##pair(O)</span> <span style='color: None;'>##ed(O)</span> <span style='color: None;'>data(O)</span> <span style='color: None;'>was(O)</span> <span style='color: None;'>used(O)</span> <span style='color: None;'>for(O)</span> <span style='color: None;'>statistical(O)</span> <span style='color: None;'>evaluation(O)</span> <span style='color: None;'>of(O)</span> <span style='color: None;'>differences(O)</span> <span style='color: None;'>between(O)</span> <span style='color: None;'>treatment(O)</span> <span style='color: None;'>and(O)</span> <span style='color: None;'>base(O)</span> <span style='color: None;'>##line(O)</span> <span style='color: None;'>values(O)</span> <span style='color: None;'>or(O)</span> <span style='color: None;'>between(O)</span> <span style='color: None;'>the(O)</span> <span style='color: None;'>la(O)</span> <span style='color: None;'>##tano(O)</span> <span style='color: None;'>##p(O)</span> <span style='color: None;'>##ros(O)</span> <span style='color: None;'>##t(O)</span> <span style='color: None;'>and(O)</span> <span style='color: None;'>t(O)</span> <span style='color: None;'>##imo(O)</span> <span style='color: None;'>##lo(O)</span> <span style='color: None;'>##l(O)</span> <span style='color: None;'>group(O)</span> <span style='color: None;'>.(O)</span> <span style='color: None;'>di(O)</span> <span style='color: None;'>##urn(O)</span> <span style='color: None;'>##al(O)</span> <span style='color: None;'>i(O)</span> <span style='color: None;'>##op(O)</span> <span style='color: None;'>measurements(O)</span> <span style='color: None;'>were(O)</span> <span style='color: None;'>compared(O)</span> <span style='color: None;'>hour(O)</span> <span style='color: None;'>by(O)</span> <span style='color: None;'>hour(O)</span> <span style='color: None;'>.(O)</span> <span style='color: None;'>mean(O)</span> <span style='color: None;'>values(O)</span> <span style='color: None;'>of(O)</span> <span style='color: None;'>the(O)</span> <span style='color: None;'>two(O)</span> <span style='color: None;'>eyes(O)</span> <span style='color: None;'>i(O)</span> <span style='color: None;'>##op(O)</span> <span style='color: None;'>and(O)</span> <span style='color: None;'>c(O)</span> <span style='color: None;'>were(O)</span> <span style='color: None;'>used(O)</span> <span style='color: None;'>for(O)</span> <span style='color: None;'>analysis(O)</span> <span style='color: None;'>.(O)</span> <span style='color: #8d977a;'>compared(B-Premise)</span> <span style='color: #8d977a;'>with(I-Premise)</span> <span style='color: #8d977a;'>base(I-Premise)</span> <span style='color: #8d977a;'>##line(I-Premise)</span> <span style='color: #8d977a;'>measurements(I-Premise)</span> <span style='color: #8d977a;'>,(I-Premise)</span> <span style='color: #8d977a;'>both(I-Premise)</span> <span style='color: #8d977a;'>la(I-Premise)</span> <span style='color: #8d977a;'>##tano(I-Premise)</span> <span style='color: #8d977a;'>##p(I-Premise)</span> <span style='color: #8d977a;'>##ros(I-Premise)</span> <span style='color: #8d977a;'>##t(I-Premise)</span> <span style='color: #8d977a;'>and(I-Premise)</span> <span style='color: #8d977a;'>t(I-Premise)</span> <span style='color: #8d977a;'>##imo(I-Premise)</span> <span style='color: #8d977a;'>##lo(I-Premise)</span> <span style='color: #8d977a;'>##l(I-Premise)</span> <span style='color: #8d977a;'>caused(I-Premise)</span> <span style='color: #8d977a;'>a(I-Premise)</span> <span style='color: #8d977a;'>significant(I-Premise)</span> <span style='color: #8d977a;'>((I-Premise)</span> <span style='color: #8d977a;'>p(I-Premise)</span> <span style='color: #8d977a;'><(I-Premise)</span> <span style='color: #8d977a;'>0(I-Premise)</span> <span style='color: #8d977a;'>.(I-Premise)</span> <span style='color: #8d977a;'>00(I-Premise)</span> <span style='color: #8d977a;'>##1(I-Premise)</span> <span style='color: #8d977a;'>)(I-Premise)</span> <span style='color: #8d977a;'>reduction(I-Premise)</span> <span style='color: #8d977a;'>of(I-Premise)</span> <span style='color: #8d977a;'>i(I-Premise)</span> <span style='color: #8d977a;'>##op(I-Premise)</span> <span style='color: #8d977a;'>at(I-Premise)</span> <span style='color: #8d977a;'>each(I-Premise)</span> <span style='color: #8d977a;'>hour(I-Premise)</span> <span style='color: #8d977a;'>of(I-Premise)</span> <span style='color: #8d977a;'>di(I-Premise)</span> <span style='color: #8d977a;'>##urn(I-Premise)</span> <span style='color: #8d977a;'>##al(I-Premise)</span> <span style='color: #8d977a;'>curve(I-Premise)</span> <span style='color: #8d977a;'>throughout(I-Premise)</span> <span style='color: #8d977a;'>the(I-Premise)</span> <span style='color: #8d977a;'>duration(I-Premise)</span> <span style='color: #8d977a;'>of(I-Premise)</span> <span style='color: #8d977a;'>therapy(I-Premise)</span> <span style='color: #8d977a;'>.(I-Premise)</span> <span style='color: #74b8c2;'>reduction(B-Premise)</span> <span style='color: #74b8c2;'>of(I-Premise)</span> <span style='color: #74b8c2;'>i(I-Premise)</span> <span style='color: #74b8c2;'>##op(I-Premise)</span> <span style='color: #74b8c2;'>was(I-Premise)</span> <span style='color: #74b8c2;'>6(I-Premise)</span> <span style='color: #74b8c2;'>.(I-Premise)</span> <span style='color: #74b8c2;'>0(I-Premise)</span> <span style='color: #74b8c2;'>+(I-Premise)</span> <span style='color: #74b8c2;'>/(I-Premise)</span> <span style='color: #74b8c2;'>-(I-Premise)</span> <span style='color: #74b8c2;'>4(I-Premise)</span> <span style='color: #74b8c2;'>.(I-Premise)</span> <span style='color: #74b8c2;'>5(I-Premise)</span> <span style='color: #74b8c2;'>and(I-Premise)</span> <span style='color: #74b8c2;'>5(I-Premise)</span> <span style='color: #74b8c2;'>.(I-Premise)</span> <span style='color: #74b8c2;'>9(I-Premise)</span> <span style='color: #74b8c2;'>+(I-Premise)</span> <span style='color: #74b8c2;'>/(I-Premise)</span> <span style='color: #74b8c2;'>-(I-Premise)</span> <span style='color: #74b8c2;'>4(I-Premise)</span> <span style='color: #74b8c2;'>.(I-Premise)</span> <span style='color: #74b8c2;'>6(I-Premise)</span> <span style='color: #74b8c2;'>with(I-Premise)</span> <span style='color: #74b8c2;'>la(I-Premise)</span> <span style='color: #74b8c2;'>##tano(I-Premise)</span> <span style='color: #74b8c2;'>##p(I-Premise)</span> <span style='color: #74b8c2;'>##ros(I-Premise)</span> <span style='color: #74b8c2;'>##t(I-Premise)</span> <span style='color: #74b8c2;'>and(I-Premise)</span> <span style='color: #74b8c2;'>4(I-Premise)</span> <span style='color: #74b8c2;'>.(I-Premise)</span> <span style='color: #74b8c2;'>8(I-Premise)</span> <span style='color: #74b8c2;'>+(I-Premise)</span> <span style='color: #74b8c2;'>/(I-Premise)</span> <span style='color: #74b8c2;'>-(I-Premise)</span> <span style='color: #74b8c2;'>3(I-Premise)</span> <span style='color: #74b8c2;'>.(I-Premise)</span> <span style='color: #74b8c2;'>0(I-Premise)</span> <span style='color: #74b8c2;'>and(I-Premise)</span> <span style='color: #74b8c2;'>4(I-Premise)</span> <span style='color: #74b8c2;'>.(I-Premise)</span> <span style='color: #74b8c2;'>6(I-Premise)</span> <span style='color: #74b8c2;'>+(I-Premise)</span> <span style='color: #74b8c2;'>/(I-Premise)</span> <span style='color: #74b8c2;'>-(I-Premise)</span> <span style='color: #74b8c2;'>3(I-Premise)</span> <span style='color: #74b8c2;'>.(I-Premise)</span> <span style='color: #74b8c2;'>1(I-Premise)</span> <span style='color: #74b8c2;'>with(I-Premise)</span> <span style='color: #74b8c2;'>t(I-Premise)</span> <span style='color: #74b8c2;'>##imo(I-Premise)</span> <span style='color: #74b8c2;'>##lo(I-Premise)</span> <span style='color: #74b8c2;'>##l(I-Premise)</span> <span style='color: #74b8c2;'>after(I-Premise)</span> <span style='color: #74b8c2;'>6(I-Premise)</span> <span style='color: #74b8c2;'>and(I-Premise)</span> <span style='color: #74b8c2;'>12(I-Premise)</span> <span style='color: #74b8c2;'>months(I-Premise)</span> <span style='color: #74b8c2;'>,(I-Premise)</span> <span style='color: #74b8c2;'>respectively(I-Premise)</span> <span style='color: #74b8c2;'>.(I-Premise)</span> <span style='color: #84aba3;'>comparison(B-Premise)</span> <span style='color: #84aba3;'>of(I-Premise)</span> <span style='color: #84aba3;'>mean(I-Premise)</span> <span style='color: #84aba3;'>di(I-Premise)</span> <span style='color: #84aba3;'>##urn(I-Premise)</span> <span style='color: #84aba3;'>##al(I-Premise)</span> <span style='color: #84aba3;'>measurements(I-Premise)</span> <span style='color: #84aba3;'>with(I-Premise)</span> <span style='color: #84aba3;'>la(I-Premise)</span> <span style='color: #84aba3;'>##tano(I-Premise)</span> <span style='color: #84aba3;'>##p(I-Premise)</span> <span style='color: #84aba3;'>##ros(I-Premise)</span> <span style='color: #84aba3;'>##t(I-Premise)</span> <span style='color: #84aba3;'>and(I-Premise)</span> <span style='color: #84aba3;'>t(I-Premise)</span> <span style='color: #84aba3;'>##imo(I-Premise)</span> <span style='color: #84aba3;'>##lo(I-Premise)</span> <span style='color: #84aba3;'>##l(I-Premise)</span> <span style='color: #84aba3;'>showed(I-Premise)</span> <span style='color: #84aba3;'>a(I-Premise)</span> <span style='color: #84aba3;'>statistical(I-Premise)</span> <span style='color: #84aba3;'>significant(I-Premise)</span> <span style='color: #84aba3;'>((I-Premise)</span> <span style='color: #84aba3;'>p(I-Premise)</span> <span style='color: #84aba3;'><(I-Premise)</span> <span style='color: #84aba3;'>0(I-Premise)</span> <span style='color: #84aba3;'>.(I-Premise)</span> <span style='color: #84aba3;'>00(I-Premise)</span> <span style='color: #84aba3;'>##1(I-Premise)</span> <span style='color: #84aba3;'>)(I-Premise)</span> <span style='color: #84aba3;'>difference(I-Premise)</span> <span style='color: #84aba3;'>at(I-Premise)</span> <span style='color: #84aba3;'>3(I-Premise)</span> <span style='color: #84aba3;'>,(I-Premise)</span> <span style='color: #84aba3;'>6(I-Premise)</span> <span style='color: #84aba3;'>,(I-Premise)</span> <span style='color: #84aba3;'>and(I-Premise)</span> <span style='color: #84aba3;'>12(I-Premise)</span> <span style='color: #84aba3;'>months(I-Premise)</span> <span style='color: #84aba3;'>.(I-Premise)</span> <span style='color: #984652;'>mean(B-Premise)</span> <span style='color: #984652;'>c(I-Premise)</span> <span style='color: #984652;'>was(I-Premise)</span> <span style='color: #984652;'>found(I-Premise)</span> <span style='color: #984652;'>to(I-Premise)</span> <span style='color: #984652;'>be(I-Premise)</span> <span style='color: #984652;'>significantly(I-Premise)</span> <span style='color: #984652;'>enhanced(I-Premise)</span> <span style='color: #984652;'>((I-Premise)</span> <span style='color: #984652;'>+(I-Premise)</span> <span style='color: #984652;'>30(I-Premise)</span> <span style='color: #984652;'>%(I-Premise)</span> <span style='color: #984652;'>)(I-Premise)</span> <span style='color: #984652;'>only(I-Premise)</span> <span style='color: #984652;'>in(I-Premise)</span> <span style='color: #984652;'>the(I-Premise)</span> <span style='color: #984652;'>la(I-Premise)</span> <span style='color: #984652;'>##tano(I-Premise)</span> <span style='color: #984652;'>##p(I-Premise)</span> <span style='color: #984652;'>##ros(I-Premise)</span> <span style='color: #984652;'>##t(I-Premise)</span> <span style='color: #984652;'>-(I-Premise)</span> <span style='color: #984652;'>treated(I-Premise)</span> <span style='color: #984652;'>group(I-Premise)</span> <span style='color: #984652;'>compared(I-Premise)</span> <span style='color: #984652;'>with(I-Premise)</span> <span style='color: #984652;'>the(I-Premise)</span> <span style='color: #984652;'>base(I-Premise)</span> <span style='color: None;'>[SEP](O)</span>"
      ],
      "text/plain": [
       "<IPython.core.display.HTML object>"
      ]
     },
     "metadata": {},
     "output_type": "display_data"
    }
   ],
   "source": [
    "print_annotated_example(custom_train_df_biobert, show_special_tokens=True,sample_idx=0)"
   ]
  },
  {
   "cell_type": "markdown",
   "metadata": {
    "id": "u2nkTYFZHSaF"
   },
   "source": [
    "#### 1.3 SciBERT - Corpus"
   ]
  },
  {
   "cell_type": "code",
   "execution_count": 18,
   "metadata": {
    "colab": {
     "base_uri": "https://localhost:8080/",
     "height": 744
    },
    "id": "SmYUht04HZLU",
    "outputId": "84717883-8796-4509-b94d-999124ea5da8"
   },
   "outputs": [
    {
     "name": "stdout",
     "output_type": "stream",
     "text": [
      "\n",
      "Shape Training dataframe: (350, 8)\n",
      "Shape Validation dataframe : (50, 8)\n",
      "Shape Neoplasm Test dataframe: (100, 8)\n",
      "Shape Glaucoma Test dataframe: (100, 8)\n",
      "Shape Mixed Test dataframe: (100, 8)\n"
     ]
    },
    {
     "data": {
      "text/html": [
       "<div>\n",
       "<style scoped>\n",
       "    .dataframe tbody tr th:only-of-type {\n",
       "        vertical-align: middle;\n",
       "    }\n",
       "\n",
       "    .dataframe tbody tr th {\n",
       "        vertical-align: top;\n",
       "    }\n",
       "\n",
       "    .dataframe thead th {\n",
       "        text-align: right;\n",
       "    }\n",
       "</style>\n",
       "<table border=\"1\" class=\"dataframe\">\n",
       "  <thead>\n",
       "    <tr style=\"text-align: right;\">\n",
       "      <th></th>\n",
       "      <th>raw_text</th>\n",
       "      <th>tokenized_text</th>\n",
       "      <th>input_ids</th>\n",
       "      <th>attention_mask</th>\n",
       "      <th>tags</th>\n",
       "      <th>encoded_tags</th>\n",
       "      <th>new_start_end_positions</th>\n",
       "      <th>file_name</th>\n",
       "    </tr>\n",
       "  </thead>\n",
       "  <tbody>\n",
       "    <tr>\n",
       "      <th>0</th>\n",
       "      <td>a combination of mitoxantrone plus prednisone...</td>\n",
       "      <td>[[CLS], a, combination, of, mit, ##ox, ##ant, ...</td>\n",
       "      <td>[102, 106, 2702, 131, 1805, 786, 268, 1809, 30...</td>\n",
       "      <td>[1, 1, 1, 1, 1, 1, 1, 1, 1, 1, 1, 1, 1, 1, 1, ...</td>\n",
       "      <td>[O, B-Claim, I-Claim, I-Claim, I-Claim, I-Clai...</td>\n",
       "      <td>[4, 0, 2, 2, 2, 2, 2, 2, 2, 2, 2, 2, 2, 2, 2, ...</td>\n",
       "      <td>{'T1': (1, 33), 'T2': (213, 226), 'T3': (228, ...</td>\n",
       "      <td>10561201.ann</td>\n",
       "    </tr>\n",
       "    <tr>\n",
       "      <th>1</th>\n",
       "      <td>in endocrine therapy trials in advanced breas...</td>\n",
       "      <td>[[CLS], in, endocrine, therapy, trials, in, ad...</td>\n",
       "      <td>[102, 121, 13489, 2223, 3270, 121, 4378, 3479,...</td>\n",
       "      <td>[1, 1, 1, 1, 1, 1, 1, 1, 1, 1, 1, 1, 1, 1, 1, ...</td>\n",
       "      <td>[O, B-Claim, I-Claim, I-Claim, I-Claim, I-Clai...</td>\n",
       "      <td>[4, 0, 2, 2, 2, 2, 2, 2, 2, 2, 2, 2, 2, 2, 2, ...</td>\n",
       "      <td>{'T1': (1, 70), 'T3': (296, 321), 'T4': (322, ...</td>\n",
       "      <td>10561203.ann</td>\n",
       "    </tr>\n",
       "    <tr>\n",
       "      <th>2</th>\n",
       "      <td>treatment with cisplatin-based chemotherapy p...</td>\n",
       "      <td>[[CLS], treatment, with, cisplatin, -, based, ...</td>\n",
       "      <td>[102, 922, 190, 14120, 579, 791, 6127, 2315, 1...</td>\n",
       "      <td>[1, 1, 1, 1, 1, 1, 1, 1, 1, 1, 1, 1, 1, 1, 1, ...</td>\n",
       "      <td>[O, B-Claim, I-Claim, I-Claim, I-Claim, I-Clai...</td>\n",
       "      <td>[4, 0, 2, 2, 2, 2, 2, 2, 2, 2, 2, 2, 2, 2, 2, ...</td>\n",
       "      <td>{'T1': (1, 28), 'T2': (195, 259), 'T3': (260, ...</td>\n",
       "      <td>10653877.ann</td>\n",
       "    </tr>\n",
       "    <tr>\n",
       "      <th>3</th>\n",
       "      <td>extracellular adenosine 5'-triphosphate (atp)...</td>\n",
       "      <td>[[CLS], extracellular, adenosine, 5, ', -, tri...</td>\n",
       "      <td>[102, 6636, 14584, 305, 2505, 579, 15268, 2369...</td>\n",
       "      <td>[1, 1, 1, 1, 1, 1, 1, 1, 1, 1, 1, 1, 1, 1, 1, ...</td>\n",
       "      <td>[O, O, O, O, O, O, O, O, O, O, O, O, O, O, O, ...</td>\n",
       "      <td>[4, 4, 4, 4, 4, 4, 4, 4, 4, 4, 4, 4, 4, 4, 4, ...</td>\n",
       "      <td>{'T1': (42, 85), 'T2': (200, 268), 'T3': (269,...</td>\n",
       "      <td>10675381.ann</td>\n",
       "    </tr>\n",
       "    <tr>\n",
       "      <th>4</th>\n",
       "      <td>this phase iii, double-blind, randomized, mul...</td>\n",
       "      <td>[[CLS], this, phase, iii, ,, double, -, blind,...</td>\n",
       "      <td>[102, 238, 1481, 2786, 422, 3917, 579, 8478, 4...</td>\n",
       "      <td>[1, 1, 1, 1, 1, 1, 1, 1, 1, 1, 1, 1, 1, 1, 1, ...</td>\n",
       "      <td>[O, O, O, O, O, O, O, O, O, O, O, O, O, O, O, ...</td>\n",
       "      <td>[4, 4, 4, 4, 4, 4, 4, 4, 4, 4, 4, 4, 4, 4, 4, ...</td>\n",
       "      <td>{'T1': (128, 160), 'T2': (161, 182), 'T3': (18...</td>\n",
       "      <td>10735887.ann</td>\n",
       "    </tr>\n",
       "  </tbody>\n",
       "</table>\n",
       "</div>"
      ],
      "text/plain": [
       "                                            raw_text  \\\n",
       "0   a combination of mitoxantrone plus prednisone...   \n",
       "1   in endocrine therapy trials in advanced breas...   \n",
       "2   treatment with cisplatin-based chemotherapy p...   \n",
       "3   extracellular adenosine 5'-triphosphate (atp)...   \n",
       "4   this phase iii, double-blind, randomized, mul...   \n",
       "\n",
       "                                      tokenized_text  \\\n",
       "0  [[CLS], a, combination, of, mit, ##ox, ##ant, ...   \n",
       "1  [[CLS], in, endocrine, therapy, trials, in, ad...   \n",
       "2  [[CLS], treatment, with, cisplatin, -, based, ...   \n",
       "3  [[CLS], extracellular, adenosine, 5, ', -, tri...   \n",
       "4  [[CLS], this, phase, iii, ,, double, -, blind,...   \n",
       "\n",
       "                                           input_ids  \\\n",
       "0  [102, 106, 2702, 131, 1805, 786, 268, 1809, 30...   \n",
       "1  [102, 121, 13489, 2223, 3270, 121, 4378, 3479,...   \n",
       "2  [102, 922, 190, 14120, 579, 791, 6127, 2315, 1...   \n",
       "3  [102, 6636, 14584, 305, 2505, 579, 15268, 2369...   \n",
       "4  [102, 238, 1481, 2786, 422, 3917, 579, 8478, 4...   \n",
       "\n",
       "                                      attention_mask  \\\n",
       "0  [1, 1, 1, 1, 1, 1, 1, 1, 1, 1, 1, 1, 1, 1, 1, ...   \n",
       "1  [1, 1, 1, 1, 1, 1, 1, 1, 1, 1, 1, 1, 1, 1, 1, ...   \n",
       "2  [1, 1, 1, 1, 1, 1, 1, 1, 1, 1, 1, 1, 1, 1, 1, ...   \n",
       "3  [1, 1, 1, 1, 1, 1, 1, 1, 1, 1, 1, 1, 1, 1, 1, ...   \n",
       "4  [1, 1, 1, 1, 1, 1, 1, 1, 1, 1, 1, 1, 1, 1, 1, ...   \n",
       "\n",
       "                                                tags  \\\n",
       "0  [O, B-Claim, I-Claim, I-Claim, I-Claim, I-Clai...   \n",
       "1  [O, B-Claim, I-Claim, I-Claim, I-Claim, I-Clai...   \n",
       "2  [O, B-Claim, I-Claim, I-Claim, I-Claim, I-Clai...   \n",
       "3  [O, O, O, O, O, O, O, O, O, O, O, O, O, O, O, ...   \n",
       "4  [O, O, O, O, O, O, O, O, O, O, O, O, O, O, O, ...   \n",
       "\n",
       "                                        encoded_tags  \\\n",
       "0  [4, 0, 2, 2, 2, 2, 2, 2, 2, 2, 2, 2, 2, 2, 2, ...   \n",
       "1  [4, 0, 2, 2, 2, 2, 2, 2, 2, 2, 2, 2, 2, 2, 2, ...   \n",
       "2  [4, 0, 2, 2, 2, 2, 2, 2, 2, 2, 2, 2, 2, 2, 2, ...   \n",
       "3  [4, 4, 4, 4, 4, 4, 4, 4, 4, 4, 4, 4, 4, 4, 4, ...   \n",
       "4  [4, 4, 4, 4, 4, 4, 4, 4, 4, 4, 4, 4, 4, 4, 4, ...   \n",
       "\n",
       "                             new_start_end_positions     file_name  \n",
       "0  {'T1': (1, 33), 'T2': (213, 226), 'T3': (228, ...  10561201.ann  \n",
       "1  {'T1': (1, 70), 'T3': (296, 321), 'T4': (322, ...  10561203.ann  \n",
       "2  {'T1': (1, 28), 'T2': (195, 259), 'T3': (260, ...  10653877.ann  \n",
       "3  {'T1': (42, 85), 'T2': (200, 268), 'T3': (269,...  10675381.ann  \n",
       "4  {'T1': (128, 160), 'T2': (161, 182), 'T3': (18...  10735887.ann  "
      ]
     },
     "execution_count": 18,
     "metadata": {},
     "output_type": "execute_result"
    }
   ],
   "source": [
    "MAX_LENGTH = 512\n",
    "\n",
    "#original corpus\n",
    "train_df_scibert = create_dataframe_from_directory(train_data_dir,tag_to_idx,scibert_tokenizer,\"component_detection\",MAX_LENGTH)\n",
    "val_df_scibert = create_dataframe_from_directory(val_data_dir,tag_to_idx,scibert_tokenizer,\"component_detection\",MAX_LENGTH)\n",
    "neoplasm_test_df_scibert = create_dataframe_from_directory(neoplasm_test_data_dir,tag_to_idx,scibert_tokenizer,\"component_detection\",MAX_LENGTH)\n",
    "glaucoma_test_df_scibert = create_dataframe_from_directory(glaucoma_test_data_dir,tag_to_idx,scibert_tokenizer,\"component_detection\",MAX_LENGTH)\n",
    "mixed_test_df_scibert = create_dataframe_from_directory(mixed_test_data_dir,tag_to_idx,scibert_tokenizer,\"component_detection\",MAX_LENGTH)\n",
    "\n",
    "\n",
    "print(f\"\\nShape Training dataframe: {train_df_scibert.shape}\")\n",
    "print(f\"Shape Validation dataframe : {val_df_scibert.shape}\")\n",
    "print(f\"Shape Neoplasm Test dataframe: {neoplasm_test_df_scibert.shape}\")\n",
    "print(f\"Shape Glaucoma Test dataframe: {glaucoma_test_df_scibert.shape}\")\n",
    "print(f\"Shape Mixed Test dataframe: {mixed_test_df_scibert.shape}\")\n",
    "\n",
    "\n",
    "train_df_scibert.head()"
   ]
  },
  {
   "cell_type": "code",
   "execution_count": 38,
   "metadata": {
    "colab": {
     "base_uri": "https://localhost:8080/"
    },
    "id": "gPeo9e9Eo-Qy",
    "outputId": "c3962879-b4cf-4610-a985-5e2a39d10d51"
   },
   "outputs": [
    {
     "name": "stdout",
     "output_type": "stream",
     "text": [
      "{'B-Claim': 0.6587091711632913, 'I-Claim': 0.0297329452881422, 'O': 0.0062897817630954075, 'B-Premise': 0.2966805195517205, 'I-Premise': 0.008587582233750696}\n"
     ]
    }
   ],
   "source": [
    "special_tokens_scibert = special_tokens_scibert = [special_tokens_scibert['cls_token'], special_tokens_scibert['sep_token'], special_tokens_scibert['pad_token']]\n",
    "\n",
    "\n",
    "CLASS_WEIGHTS_NORMALIZED_SCIBERT = compute_norm_class_weights(train_df_scibert, label_column='tags', special_tokens=special_tokens_scibert, task_name='seqtag')\n",
    "print(CLASS_WEIGHTS_NORMALIZED_SCIBERT)"
   ]
  },
  {
   "cell_type": "code",
   "execution_count": 20,
   "metadata": {
    "colab": {
     "base_uri": "https://localhost:8080/",
     "height": 800
    },
    "id": "mDuzrT5tHdem",
    "outputId": "dd845b08-b9e6-47f2-be1a-86439512982c"
   },
   "outputs": [
    {
     "name": "stdout",
     "output_type": "stream",
     "text": [
      "\n",
      "Example of an annotated sentence:\n",
      "\n",
      "Raw text:\n",
      "['a', 'combination', 'of', 'mitoxantrone', 'plus', 'prednisone', 'is', 'preferable', 'to', 'prednisone', 'alone', 'for', 'reduction', 'of', 'pain', 'in', 'men', 'with', 'metastatic,', 'hormone-resistant,', 'prostate', 'cancer.', 'the', 'purpose', 'of', 'this', 'study', 'was', 'to', 'assess', 'the', 'effects', 'of', 'these', 'treatments', 'on', 'health-related', 'quality', 'of', 'life', '(hql).', 'men', 'with', 'metastatic', 'prostate', 'cancer', '(n', '=', '161)', 'were', 'randomized', 'to', 'receive', 'either', 'daily', 'prednisone', 'alone', 'or', 'mitoxantrone', '(every', '3', 'weeks)', 'plus', 'prednisone.', 'those', 'who', 'received', 'prednisone', 'alone', 'could', 'have', 'mitoxantrone', 'added', 'after', '6', 'weeks', 'if', 'there', 'was', 'no', 'improvement', 'in', 'pain.', 'hql', 'was', 'assessed', 'before', 'treatment', 'initiation', 'and', 'then', 'every', '3', 'weeks', 'using', 'the', 'european', 'organization', 'for', 'research', 'and', 'treatment', 'of', 'cancer', 'quality-of-life', 'questionnaire', 'c30', '(eortc', 'qlq-c30)', 'and', 'the', 'quality', 'of', 'life', 'module-prostate', '14', '(qolm-p14),', 'a', 'trial-specific', 'module', 'developed', 'for', 'this', 'study.', 'an', 'intent-to-treat', 'analysis', 'was', 'used', 'to', 'determine', 'the', 'mean', 'duration', 'of', 'hql', 'improvement', 'and', 'differences', 'in', 'improvement', 'duration', 'between', 'groups', 'of', 'patients.', 'at', '6', 'weeks,', 'both', 'groups', 'showed', 'improvement', 'in', 'several', 'hql', 'domains,', 'and', 'only', 'physical', 'functioning', 'and', 'pain', 'were', 'better', 'in', 'the', 'mitoxantrone-plus-prednisone', 'group', 'than', 'in', 'the', 'prednisone-alone', 'group.', 'after', '6', 'weeks,', 'patients', 'taking', 'prednisone', 'showed', 'no', 'improvement', 'in', 'hql', 'scores,', 'whereas', 'those', 'taking', 'mitoxantrone', 'plus', 'prednisone', 'showed', 'significant', 'improvements', 'in', 'global', 'quality', 'of', 'life', '(p', '=.009),', 'four', 'functioning', 'domains,', 'and', 'nine', 'symptoms', '(.001', '<', 'p', '<.', '01),', 'and', 'the', 'improvement', '(>', '10', 'units', 'on', 'a', 'scale', 'of', '0', 'to100)', 'lasted', 'longer', 'than', 'in', 'the', 'prednisone-alone', 'group', '(.004', '<', 'p', '<.05).', 'the', 'addition', 'of', 'mitoxantrone', 'to', 'prednisone', 'after', 'failure', 'of', 'prednisone', 'alone', 'was', 'associated', 'with', 'improvements', 'in', 'pain,', 'pain', 'impact,', 'pain', 'relief,', 'insomnia,', 'and', 'global', 'quality', 'of', 'life', '(.001', '<', 'p', '<.003).', 'treatment', 'with', 'mitoxantrone', 'plus', 'prednisone', 'was', 'associated', 'with', 'greater', 'and', 'longer-lasting', 'improvement', 'in', 'several', 'hql', 'domains', 'and', 'symptoms', 'than', 'treatment', 'with', 'prednisone', 'alone.']\n",
      "\n",
      "Tokenized text with colored components:\n"
     ]
    },
    {
     "data": {
      "text/html": [
       "<span style='color: None;'>[CLS](O)</span> <span style='color: #4a6d80;'>a(B-Claim)</span> <span style='color: #4a6d80;'>combination(I-Claim)</span> <span style='color: #4a6d80;'>of(I-Claim)</span> <span style='color: #4a6d80;'>mit(I-Claim)</span> <span style='color: #4a6d80;'>##ox(I-Claim)</span> <span style='color: #4a6d80;'>##ant(I-Claim)</span> <span style='color: #4a6d80;'>##ron(I-Claim)</span> <span style='color: #4a6d80;'>##e(I-Claim)</span> <span style='color: #4a6d80;'>plus(I-Claim)</span> <span style='color: #4a6d80;'>prednis(I-Claim)</span> <span style='color: #4a6d80;'>##one(I-Claim)</span> <span style='color: #4a6d80;'>is(I-Claim)</span> <span style='color: #4a6d80;'>preferable(I-Claim)</span> <span style='color: #4a6d80;'>to(I-Claim)</span> <span style='color: #4a6d80;'>prednis(I-Claim)</span> <span style='color: #4a6d80;'>##one(I-Claim)</span> <span style='color: #4a6d80;'>alone(I-Claim)</span> <span style='color: #4a6d80;'>for(I-Claim)</span> <span style='color: #4a6d80;'>reduction(I-Claim)</span> <span style='color: #4a6d80;'>of(I-Claim)</span> <span style='color: #4a6d80;'>pain(I-Claim)</span> <span style='color: #4a6d80;'>in(I-Claim)</span> <span style='color: #4a6d80;'>men(I-Claim)</span> <span style='color: #4a6d80;'>with(I-Claim)</span> <span style='color: #4a6d80;'>metastatic(I-Claim)</span> <span style='color: #4a6d80;'>,(I-Claim)</span> <span style='color: #4a6d80;'>hormone(I-Claim)</span> <span style='color: #4a6d80;'>-(I-Claim)</span> <span style='color: #4a6d80;'>resistant(I-Claim)</span> <span style='color: #4a6d80;'>,(I-Claim)</span> <span style='color: #4a6d80;'>prostate(I-Claim)</span> <span style='color: #4a6d80;'>cancer(I-Claim)</span> <span style='color: #4a6d80;'>.(I-Claim)</span> <span style='color: None;'>the(O)</span> <span style='color: None;'>purpose(O)</span> <span style='color: None;'>of(O)</span> <span style='color: None;'>this(O)</span> <span style='color: None;'>study(O)</span> <span style='color: None;'>was(O)</span> <span style='color: None;'>to(O)</span> <span style='color: None;'>assess(O)</span> <span style='color: None;'>the(O)</span> <span style='color: None;'>effects(O)</span> <span style='color: None;'>of(O)</span> <span style='color: None;'>these(O)</span> <span style='color: None;'>treatments(O)</span> <span style='color: None;'>on(O)</span> <span style='color: None;'>health(O)</span> <span style='color: None;'>-(O)</span> <span style='color: None;'>related(O)</span> <span style='color: None;'>quality(O)</span> <span style='color: None;'>of(O)</span> <span style='color: None;'>life(O)</span> <span style='color: None;'>((O)</span> <span style='color: None;'>hq(O)</span> <span style='color: None;'>##l(O)</span> <span style='color: None;'>)(O)</span> <span style='color: None;'>.(O)</span> <span style='color: None;'>men(O)</span> <span style='color: None;'>with(O)</span> <span style='color: None;'>metastatic(O)</span> <span style='color: None;'>prostate(O)</span> <span style='color: None;'>cancer(O)</span> <span style='color: None;'>((O)</span> <span style='color: None;'>n(O)</span> <span style='color: None;'>=(O)</span> <span style='color: None;'>161(O)</span> <span style='color: None;'>)(O)</span> <span style='color: None;'>were(O)</span> <span style='color: None;'>randomized(O)</span> <span style='color: None;'>to(O)</span> <span style='color: None;'>receive(O)</span> <span style='color: None;'>either(O)</span> <span style='color: None;'>daily(O)</span> <span style='color: None;'>prednis(O)</span> <span style='color: None;'>##one(O)</span> <span style='color: None;'>alone(O)</span> <span style='color: None;'>or(O)</span> <span style='color: None;'>mit(O)</span> <span style='color: None;'>##ox(O)</span> <span style='color: None;'>##ant(O)</span> <span style='color: None;'>##ron(O)</span> <span style='color: None;'>##e(O)</span> <span style='color: None;'>((O)</span> <span style='color: None;'>every(O)</span> <span style='color: None;'>3(O)</span> <span style='color: None;'>weeks(O)</span> <span style='color: None;'>)(O)</span> <span style='color: None;'>plus(O)</span> <span style='color: None;'>prednis(O)</span> <span style='color: None;'>##one(O)</span> <span style='color: None;'>.(O)</span> <span style='color: None;'>those(O)</span> <span style='color: None;'>who(O)</span> <span style='color: None;'>received(O)</span> <span style='color: None;'>prednis(O)</span> <span style='color: None;'>##one(O)</span> <span style='color: None;'>alone(O)</span> <span style='color: None;'>could(O)</span> <span style='color: None;'>have(O)</span> <span style='color: None;'>mit(O)</span> <span style='color: None;'>##ox(O)</span> <span style='color: None;'>##ant(O)</span> <span style='color: None;'>##ron(O)</span> <span style='color: None;'>##e(O)</span> <span style='color: None;'>added(O)</span> <span style='color: None;'>after(O)</span> <span style='color: None;'>6(O)</span> <span style='color: None;'>weeks(O)</span> <span style='color: None;'>if(O)</span> <span style='color: None;'>there(O)</span> <span style='color: None;'>was(O)</span> <span style='color: None;'>no(O)</span> <span style='color: None;'>improvement(O)</span> <span style='color: None;'>in(O)</span> <span style='color: None;'>pain(O)</span> <span style='color: None;'>.(O)</span> <span style='color: None;'>hq(O)</span> <span style='color: None;'>##l(O)</span> <span style='color: None;'>was(O)</span> <span style='color: None;'>assessed(O)</span> <span style='color: None;'>before(O)</span> <span style='color: None;'>treatment(O)</span> <span style='color: None;'>initiation(O)</span> <span style='color: None;'>and(O)</span> <span style='color: None;'>then(O)</span> <span style='color: None;'>every(O)</span> <span style='color: None;'>3(O)</span> <span style='color: None;'>weeks(O)</span> <span style='color: None;'>using(O)</span> <span style='color: None;'>the(O)</span> <span style='color: None;'>european(O)</span> <span style='color: None;'>organization(O)</span> <span style='color: None;'>for(O)</span> <span style='color: None;'>research(O)</span> <span style='color: None;'>and(O)</span> <span style='color: None;'>treatment(O)</span> <span style='color: None;'>of(O)</span> <span style='color: None;'>cancer(O)</span> <span style='color: None;'>quality(O)</span> <span style='color: None;'>-(O)</span> <span style='color: None;'>of(O)</span> <span style='color: None;'>-(O)</span> <span style='color: None;'>life(O)</span> <span style='color: None;'>questionnaire(O)</span> <span style='color: None;'>c(O)</span> <span style='color: None;'>##30(O)</span> <span style='color: None;'>((O)</span> <span style='color: None;'>eo(O)</span> <span style='color: None;'>##rt(O)</span> <span style='color: None;'>##c(O)</span> <span style='color: None;'>ql(O)</span> <span style='color: None;'>##q(O)</span> <span style='color: None;'>-(O)</span> <span style='color: None;'>c(O)</span> <span style='color: None;'>##30(O)</span> <span style='color: None;'>)(O)</span> <span style='color: None;'>and(O)</span> <span style='color: None;'>the(O)</span> <span style='color: None;'>quality(O)</span> <span style='color: None;'>of(O)</span> <span style='color: None;'>life(O)</span> <span style='color: None;'>module(O)</span> <span style='color: None;'>-(O)</span> <span style='color: None;'>prostate(O)</span> <span style='color: None;'>14(O)</span> <span style='color: None;'>((O)</span> <span style='color: None;'>qol(O)</span> <span style='color: None;'>##m(O)</span> <span style='color: None;'>-(O)</span> <span style='color: None;'>p(O)</span> <span style='color: None;'>##14(O)</span> <span style='color: None;'>)(O)</span> <span style='color: None;'>,(O)</span> <span style='color: None;'>a(O)</span> <span style='color: None;'>trial(O)</span> <span style='color: None;'>-(O)</span> <span style='color: None;'>specific(O)</span> <span style='color: None;'>module(O)</span> <span style='color: None;'>developed(O)</span> <span style='color: None;'>for(O)</span> <span style='color: None;'>this(O)</span> <span style='color: None;'>study(O)</span> <span style='color: None;'>.(O)</span> <span style='color: None;'>an(O)</span> <span style='color: None;'>intent(O)</span> <span style='color: None;'>-(O)</span> <span style='color: None;'>to(O)</span> <span style='color: None;'>-(O)</span> <span style='color: None;'>treat(O)</span> <span style='color: None;'>analysis(O)</span> <span style='color: None;'>was(O)</span> <span style='color: None;'>used(O)</span> <span style='color: None;'>to(O)</span> <span style='color: None;'>determine(O)</span> <span style='color: None;'>the(O)</span> <span style='color: None;'>mean(O)</span> <span style='color: None;'>duration(O)</span> <span style='color: None;'>of(O)</span> <span style='color: None;'>hq(O)</span> <span style='color: None;'>##l(O)</span> <span style='color: None;'>improvement(O)</span> <span style='color: None;'>and(O)</span> <span style='color: None;'>differences(O)</span> <span style='color: None;'>in(O)</span> <span style='color: None;'>improvement(O)</span> <span style='color: None;'>duration(O)</span> <span style='color: None;'>between(O)</span> <span style='color: None;'>groups(O)</span> <span style='color: None;'>of(O)</span> <span style='color: None;'>patients(O)</span> <span style='color: None;'>.(O)</span> <span style='color: #767bb4;'>at(B-Premise)</span> <span style='color: #767bb4;'>6(I-Premise)</span> <span style='color: #767bb4;'>weeks(I-Premise)</span> <span style='color: #767bb4;'>,(I-Premise)</span> <span style='color: #767bb4;'>both(I-Premise)</span> <span style='color: #767bb4;'>groups(I-Premise)</span> <span style='color: #767bb4;'>showed(I-Premise)</span> <span style='color: #767bb4;'>improvement(I-Premise)</span> <span style='color: #767bb4;'>in(I-Premise)</span> <span style='color: #767bb4;'>several(I-Premise)</span> <span style='color: #767bb4;'>hq(I-Premise)</span> <span style='color: #767bb4;'>##l(I-Premise)</span> <span style='color: #767bb4;'>domains(I-Premise)</span> <span style='color: #767bb4;'>,(I-Premise)</span> <span style='color: None;'>and(O)</span> <span style='color: #825080;'>only(B-Premise)</span> <span style='color: #825080;'>physical(I-Premise)</span> <span style='color: #825080;'>functioning(I-Premise)</span> <span style='color: #825080;'>and(I-Premise)</span> <span style='color: #825080;'>pain(I-Premise)</span> <span style='color: #825080;'>were(I-Premise)</span> <span style='color: #825080;'>better(I-Premise)</span> <span style='color: #825080;'>in(I-Premise)</span> <span style='color: #825080;'>the(I-Premise)</span> <span style='color: #825080;'>mit(I-Premise)</span> <span style='color: #825080;'>##ox(I-Premise)</span> <span style='color: #825080;'>##ant(I-Premise)</span> <span style='color: #825080;'>##ron(I-Premise)</span> <span style='color: #825080;'>##e(I-Premise)</span> <span style='color: #825080;'>-(I-Premise)</span> <span style='color: #825080;'>plus(I-Premise)</span> <span style='color: #825080;'>-(I-Premise)</span> <span style='color: #825080;'>prednis(I-Premise)</span> <span style='color: #825080;'>##one(I-Premise)</span> <span style='color: #825080;'>group(I-Premise)</span> <span style='color: #825080;'>than(I-Premise)</span> <span style='color: #825080;'>in(I-Premise)</span> <span style='color: #825080;'>the(I-Premise)</span> <span style='color: #825080;'>prednis(I-Premise)</span> <span style='color: #825080;'>##one(I-Premise)</span> <span style='color: #825080;'>-(I-Premise)</span> <span style='color: #825080;'>alone(I-Premise)</span> <span style='color: #825080;'>group(I-Premise)</span> <span style='color: #825080;'>.(I-Premise)</span> <span style='color: #beb78a;'>after(B-Premise)</span> <span style='color: #beb78a;'>6(I-Premise)</span> <span style='color: #beb78a;'>weeks(I-Premise)</span> <span style='color: #beb78a;'>,(I-Premise)</span> <span style='color: #beb78a;'>patients(I-Premise)</span> <span style='color: #beb78a;'>taking(I-Premise)</span> <span style='color: #beb78a;'>prednis(I-Premise)</span> <span style='color: #beb78a;'>##one(I-Premise)</span> <span style='color: #beb78a;'>showed(I-Premise)</span> <span style='color: #beb78a;'>no(I-Premise)</span> <span style='color: #beb78a;'>improvement(I-Premise)</span> <span style='color: #beb78a;'>in(I-Premise)</span> <span style='color: #beb78a;'>hq(I-Premise)</span> <span style='color: #beb78a;'>##l(I-Premise)</span> <span style='color: #beb78a;'>scores(I-Premise)</span> <span style='color: #beb78a;'>,(I-Premise)</span> <span style='color: #beb78a;'>whereas(I-Premise)</span> <span style='color: #beb78a;'>those(I-Premise)</span> <span style='color: #beb78a;'>taking(I-Premise)</span> <span style='color: #beb78a;'>mit(I-Premise)</span> <span style='color: #beb78a;'>##ox(I-Premise)</span> <span style='color: #beb78a;'>##ant(I-Premise)</span> <span style='color: #beb78a;'>##ron(I-Premise)</span> <span style='color: #beb78a;'>##e(I-Premise)</span> <span style='color: #beb78a;'>plus(I-Premise)</span> <span style='color: #beb78a;'>prednis(I-Premise)</span> <span style='color: #beb78a;'>##one(I-Premise)</span> <span style='color: #beb78a;'>showed(I-Premise)</span> <span style='color: #beb78a;'>significant(I-Premise)</span> <span style='color: #beb78a;'>improvements(I-Premise)</span> <span style='color: #beb78a;'>in(I-Premise)</span> <span style='color: #beb78a;'>global(I-Premise)</span> <span style='color: #beb78a;'>quality(I-Premise)</span> <span style='color: #beb78a;'>of(I-Premise)</span> <span style='color: #beb78a;'>life(I-Premise)</span> <span style='color: #beb78a;'>((I-Premise)</span> <span style='color: #beb78a;'>p(I-Premise)</span> <span style='color: #beb78a;'>=(I-Premise)</span> <span style='color: #beb78a;'>.(I-Premise)</span> <span style='color: #beb78a;'>00(I-Premise)</span> <span style='color: #beb78a;'>##9(I-Premise)</span> <span style='color: #beb78a;'>)(I-Premise)</span> <span style='color: #beb78a;'>,(I-Premise)</span> <span style='color: #beb78a;'>four(I-Premise)</span> <span style='color: #beb78a;'>functioning(I-Premise)</span> <span style='color: #beb78a;'>domains(I-Premise)</span> <span style='color: #beb78a;'>,(I-Premise)</span> <span style='color: #beb78a;'>and(I-Premise)</span> <span style='color: #beb78a;'>nine(I-Premise)</span> <span style='color: #beb78a;'>symptoms(I-Premise)</span> <span style='color: #beb78a;'>((I-Premise)</span> <span style='color: #beb78a;'>.(I-Premise)</span> <span style='color: #beb78a;'>00(I-Premise)</span> <span style='color: #beb78a;'>##1(I-Premise)</span> <span style='color: #beb78a;'><(I-Premise)</span> <span style='color: #beb78a;'>p(I-Premise)</span> <span style='color: #beb78a;'><(I-Premise)</span> <span style='color: #beb78a;'>.(I-Premise)</span> <span style='color: #beb78a;'>01(I-Premise)</span> <span style='color: #beb78a;'>)(I-Premise)</span> <span style='color: #beb78a;'>,(I-Premise)</span> <span style='color: None;'>and(O)</span> <span style='color: #a3727d;'>the(B-Premise)</span> <span style='color: #a3727d;'>improvement(I-Premise)</span> <span style='color: #a3727d;'>((I-Premise)</span> <span style='color: #a3727d;'>>(I-Premise)</span> <span style='color: #a3727d;'>10(I-Premise)</span> <span style='color: #a3727d;'>units(I-Premise)</span> <span style='color: #a3727d;'>on(I-Premise)</span> <span style='color: #a3727d;'>a(I-Premise)</span> <span style='color: #a3727d;'>scale(I-Premise)</span> <span style='color: #a3727d;'>of(I-Premise)</span> <span style='color: #a3727d;'>0(I-Premise)</span> <span style='color: #a3727d;'>to(I-Premise)</span> <span style='color: #a3727d;'>##100(I-Premise)</span> <span style='color: #a3727d;'>)(I-Premise)</span> <span style='color: #a3727d;'>lasted(I-Premise)</span> <span style='color: #a3727d;'>longer(I-Premise)</span> <span style='color: #a3727d;'>than(I-Premise)</span> <span style='color: #a3727d;'>in(I-Premise)</span> <span style='color: #a3727d;'>the(I-Premise)</span> <span style='color: #a3727d;'>prednis(I-Premise)</span> <span style='color: #a3727d;'>##one(I-Premise)</span> <span style='color: #a3727d;'>-(I-Premise)</span> <span style='color: #a3727d;'>alone(I-Premise)</span> <span style='color: #a3727d;'>group(I-Premise)</span> <span style='color: #a3727d;'>((I-Premise)</span> <span style='color: #a3727d;'>.(I-Premise)</span> <span style='color: #a3727d;'>00(I-Premise)</span> <span style='color: #a3727d;'>##4(I-Premise)</span> <span style='color: #a3727d;'><(I-Premise)</span> <span style='color: #a3727d;'>p(I-Premise)</span> <span style='color: #a3727d;'><(I-Premise)</span> <span style='color: #a3727d;'>.(I-Premise)</span> <span style='color: #a3727d;'>05(I-Premise)</span> <span style='color: #a3727d;'>)(I-Premise)</span> <span style='color: #a3727d;'>.(I-Premise)</span> <span style='color: #9947bb;'>the(B-Premise)</span> <span style='color: #9947bb;'>addition(I-Premise)</span> <span style='color: #9947bb;'>of(I-Premise)</span> <span style='color: #9947bb;'>mit(I-Premise)</span> <span style='color: #9947bb;'>##ox(I-Premise)</span> <span style='color: #9947bb;'>##ant(I-Premise)</span> <span style='color: #9947bb;'>##ron(I-Premise)</span> <span style='color: #9947bb;'>##e(I-Premise)</span> <span style='color: #9947bb;'>to(I-Premise)</span> <span style='color: #9947bb;'>prednis(I-Premise)</span> <span style='color: #9947bb;'>##one(I-Premise)</span> <span style='color: #9947bb;'>after(I-Premise)</span> <span style='color: #9947bb;'>failure(I-Premise)</span> <span style='color: #9947bb;'>of(I-Premise)</span> <span style='color: #9947bb;'>prednis(I-Premise)</span> <span style='color: #9947bb;'>##one(I-Premise)</span> <span style='color: #9947bb;'>alone(I-Premise)</span> <span style='color: #9947bb;'>was(I-Premise)</span> <span style='color: #9947bb;'>associated(I-Premise)</span> <span style='color: #9947bb;'>with(I-Premise)</span> <span style='color: #9947bb;'>improvements(I-Premise)</span> <span style='color: #9947bb;'>in(I-Premise)</span> <span style='color: #9947bb;'>pain(I-Premise)</span> <span style='color: #9947bb;'>,(I-Premise)</span> <span style='color: #9947bb;'>pain(I-Premise)</span> <span style='color: #9947bb;'>impact(I-Premise)</span> <span style='color: #9947bb;'>,(I-Premise)</span> <span style='color: #9947bb;'>pain(I-Premise)</span> <span style='color: #9947bb;'>relief(I-Premise)</span> <span style='color: #9947bb;'>,(I-Premise)</span> <span style='color: #9947bb;'>insomnia(I-Premise)</span> <span style='color: #9947bb;'>,(I-Premise)</span> <span style='color: #9947bb;'>and(I-Premise)</span> <span style='color: #9947bb;'>global(I-Premise)</span> <span style='color: #9947bb;'>quality(I-Premise)</span> <span style='color: #9947bb;'>of(I-Premise)</span> <span style='color: #9947bb;'>life(I-Premise)</span> <span style='color: #9947bb;'>((I-Premise)</span> <span style='color: #9947bb;'>.(I-Premise)</span> <span style='color: #9947bb;'>00(I-Premise)</span> <span style='color: #9947bb;'>##1(I-Premise)</span> <span style='color: #9947bb;'><(I-Premise)</span> <span style='color: #9947bb;'>p(I-Premise)</span> <span style='color: #9947bb;'><(I-Premise)</span> <span style='color: #9947bb;'>.(I-Premise)</span> <span style='color: #9947bb;'>00(I-Premise)</span> <span style='color: #9947bb;'>##3(I-Premise)</span> <span style='color: #9947bb;'>)(I-Premise)</span> <span style='color: #9947bb;'>.(I-Premise)</span> <span style='color: #c35c9f;'>treatment(B-Claim)</span> <span style='color: #c35c9f;'>with(I-Claim)</span> <span style='color: #c35c9f;'>mit(I-Claim)</span> <span style='color: #c35c9f;'>##ox(I-Claim)</span> <span style='color: #c35c9f;'>##ant(I-Claim)</span> <span style='color: #c35c9f;'>##ron(I-Claim)</span> <span style='color: #c35c9f;'>##e(I-Claim)</span> <span style='color: #c35c9f;'>plus(I-Claim)</span> <span style='color: #c35c9f;'>prednis(I-Claim)</span> <span style='color: #c35c9f;'>##one(I-Claim)</span> <span style='color: #c35c9f;'>was(I-Claim)</span> <span style='color: #c35c9f;'>associated(I-Claim)</span> <span style='color: #c35c9f;'>with(I-Claim)</span> <span style='color: #c35c9f;'>greater(I-Claim)</span> <span style='color: #c35c9f;'>and(I-Claim)</span> <span style='color: #c35c9f;'>longer(I-Claim)</span> <span style='color: #c35c9f;'>-(I-Claim)</span> <span style='color: #c35c9f;'>lasting(I-Claim)</span> <span style='color: #c35c9f;'>improvement(I-Claim)</span> <span style='color: #c35c9f;'>in(I-Claim)</span> <span style='color: #c35c9f;'>several(I-Claim)</span> <span style='color: #c35c9f;'>hq(I-Claim)</span> <span style='color: #c35c9f;'>##l(I-Claim)</span> <span style='color: #c35c9f;'>domains(I-Claim)</span> <span style='color: #c35c9f;'>and(I-Claim)</span> <span style='color: #c35c9f;'>symptoms(I-Claim)</span> <span style='color: #c35c9f;'>than(I-Claim)</span> <span style='color: #c35c9f;'>treatment(I-Claim)</span> <span style='color: #c35c9f;'>with(I-Claim)</span> <span style='color: #c35c9f;'>prednis(I-Claim)</span> <span style='color: #c35c9f;'>##one(I-Claim)</span> <span style='color: #c35c9f;'>alone(I-Claim)</span> <span style='color: #c35c9f;'>.(I-Claim)</span> <span style='color: None;'>[SEP](O)</span> <span style='color: None;'>[PAD](O)</span> <span style='color: None;'>[PAD](O)</span> <span style='color: None;'>[PAD](O)</span> <span style='color: None;'>[PAD](O)</span> <span style='color: None;'>[PAD](O)</span> <span style='color: None;'>[PAD](O)</span> <span style='color: None;'>[PAD](O)</span> <span style='color: None;'>[PAD](O)</span> <span style='color: None;'>[PAD](O)</span> <span style='color: None;'>[PAD](O)</span> <span style='color: None;'>[PAD](O)</span> <span style='color: None;'>[PAD](O)</span> <span style='color: None;'>[PAD](O)</span> <span style='color: None;'>[PAD](O)</span> <span style='color: None;'>[PAD](O)</span> <span style='color: None;'>[PAD](O)</span> <span style='color: None;'>[PAD](O)</span> <span style='color: None;'>[PAD](O)</span> <span style='color: None;'>[PAD](O)</span> <span style='color: None;'>[PAD](O)</span> <span style='color: None;'>[PAD](O)</span> <span style='color: None;'>[PAD](O)</span> <span style='color: None;'>[PAD](O)</span> <span style='color: None;'>[PAD](O)</span> <span style='color: None;'>[PAD](O)</span> <span style='color: None;'>[PAD](O)</span> <span style='color: None;'>[PAD](O)</span> <span style='color: None;'>[PAD](O)</span> <span style='color: None;'>[PAD](O)</span> <span style='color: None;'>[PAD](O)</span> <span style='color: None;'>[PAD](O)</span> <span style='color: None;'>[PAD](O)</span> <span style='color: None;'>[PAD](O)</span> <span style='color: None;'>[PAD](O)</span> <span style='color: None;'>[PAD](O)</span> <span style='color: None;'>[PAD](O)</span> <span style='color: None;'>[PAD](O)</span> <span style='color: None;'>[PAD](O)</span> <span style='color: None;'>[PAD](O)</span> <span style='color: None;'>[PAD](O)</span> <span style='color: None;'>[PAD](O)</span> <span style='color: None;'>[PAD](O)</span> <span style='color: None;'>[PAD](O)</span> <span style='color: None;'>[PAD](O)</span> <span style='color: None;'>[PAD](O)</span> <span style='color: None;'>[PAD](O)</span> <span style='color: None;'>[PAD](O)</span> <span style='color: None;'>[PAD](O)</span> <span style='color: None;'>[PAD](O)</span> <span style='color: None;'>[PAD](O)</span> <span style='color: None;'>[PAD](O)</span> <span style='color: None;'>[PAD](O)</span> <span style='color: None;'>[PAD](O)</span> <span style='color: None;'>[PAD](O)</span> <span style='color: None;'>[PAD](O)</span> <span style='color: None;'>[PAD](O)</span> <span style='color: None;'>[PAD](O)</span> <span style='color: None;'>[PAD](O)</span> <span style='color: None;'>[PAD](O)</span> <span style='color: None;'>[PAD](O)</span> <span style='color: None;'>[PAD](O)</span> <span style='color: None;'>[PAD](O)</span> <span style='color: None;'>[PAD](O)</span> <span style='color: None;'>[PAD](O)</span> <span style='color: None;'>[PAD](O)</span> <span style='color: None;'>[PAD](O)</span> <span style='color: None;'>[PAD](O)</span> <span style='color: None;'>[PAD](O)</span> <span style='color: None;'>[PAD](O)</span> <span style='color: None;'>[PAD](O)</span> <span style='color: None;'>[PAD](O)</span> <span style='color: None;'>[PAD](O)</span> <span style='color: None;'>[PAD](O)</span> <span style='color: None;'>[PAD](O)</span> <span style='color: None;'>[PAD](O)</span>"
      ],
      "text/plain": [
       "<IPython.core.display.HTML object>"
      ]
     },
     "metadata": {},
     "output_type": "display_data"
    }
   ],
   "source": [
    "print_annotated_example(train_df_scibert,show_special_tokens=True,sample_idx=0)"
   ]
  },
  {
   "cell_type": "code",
   "execution_count": 21,
   "metadata": {
    "colab": {
     "base_uri": "https://localhost:8080/",
     "height": 709
    },
    "id": "NeFOUFnYkrK0",
    "outputId": "46eee3cd-5c77-4845-d74e-a1eaee7c9c46"
   },
   "outputs": [
    {
     "name": "stdout",
     "output_type": "stream",
     "text": [
      "\n",
      "Shape Training dataframe: (428, 8)\n",
      "Shape Validation dataframe : (107, 8)\n",
      "Shape Test dataframe: (134, 8)\n"
     ]
    },
    {
     "data": {
      "text/html": [
       "<div>\n",
       "<style scoped>\n",
       "    .dataframe tbody tr th:only-of-type {\n",
       "        vertical-align: middle;\n",
       "    }\n",
       "\n",
       "    .dataframe tbody tr th {\n",
       "        vertical-align: top;\n",
       "    }\n",
       "\n",
       "    .dataframe thead th {\n",
       "        text-align: right;\n",
       "    }\n",
       "</style>\n",
       "<table border=\"1\" class=\"dataframe\">\n",
       "  <thead>\n",
       "    <tr style=\"text-align: right;\">\n",
       "      <th></th>\n",
       "      <th>raw_text</th>\n",
       "      <th>tokenized_text</th>\n",
       "      <th>input_ids</th>\n",
       "      <th>attention_mask</th>\n",
       "      <th>tags</th>\n",
       "      <th>encoded_tags</th>\n",
       "      <th>new_start_end_positions</th>\n",
       "      <th>file_name</th>\n",
       "    </tr>\n",
       "  </thead>\n",
       "  <tbody>\n",
       "    <tr>\n",
       "      <th>0</th>\n",
       "      <td>\\n\\nto compare the efficacy and side effects a...</td>\n",
       "      <td>[[CLS], to, compare, the, efficacy, and, side,...</td>\n",
       "      <td>[102, 147, 3745, 111, 4684, 137, 2480, 1056, 1...</td>\n",
       "      <td>[1, 1, 1, 1, 1, 1, 1, 1, 1, 1, 1, 1, 1, 1, 1, ...</td>\n",
       "      <td>[O, O, O, O, O, O, O, O, O, O, O, O, O, O, O, ...</td>\n",
       "      <td>[4, 4, 4, 4, 4, 4, 4, 4, 4, 4, 4, 4, 4, 4, 4, ...</td>\n",
       "      <td>{'T1': (302, 341), 'T2': (342, 401), 'T3': (40...</td>\n",
       "      <td>10080213.ann</td>\n",
       "    </tr>\n",
       "    <tr>\n",
       "      <th>1</th>\n",
       "      <td>data from experimental studies suggest that o...</td>\n",
       "      <td>[[CLS], data, from, experimental, studies, sug...</td>\n",
       "      <td>[102, 453, 263, 1798, 826, 1739, 198, 6595, 10...</td>\n",
       "      <td>[1, 1, 1, 1, 1, 1, 1, 1, 1, 1, 1, 1, 1, 1, 1, ...</td>\n",
       "      <td>[O, O, O, O, O, O, O, B-Claim, I-Claim, I-Clai...</td>\n",
       "      <td>[4, 4, 4, 4, 4, 4, 4, 0, 2, 2, 2, 2, 2, 2, 2, ...</td>\n",
       "      <td>{'T1': (7, 26), 'T2': (124, 173), 'T3': (174, ...</td>\n",
       "      <td>10210927.ann</td>\n",
       "    </tr>\n",
       "    <tr>\n",
       "      <th>2</th>\n",
       "      <td>in a prospective randomized study, 287 patien...</td>\n",
       "      <td>[[CLS], in, a, prospective, randomized, study,...</td>\n",
       "      <td>[102, 121, 106, 6880, 5460, 527, 422, 26713, 5...</td>\n",
       "      <td>[1, 1, 1, 1, 1, 1, 1, 1, 1, 1, 1, 1, 1, 1, 1, ...</td>\n",
       "      <td>[O, O, O, O, O, O, O, O, O, O, O, O, O, O, O, ...</td>\n",
       "      <td>[4, 4, 4, 4, 4, 4, 4, 4, 4, 4, 4, 4, 4, 4, 4, ...</td>\n",
       "      <td>{'T1': (398, 417), 'T2': (244, 261), 'T3': (26...</td>\n",
       "      <td>10403690.ann</td>\n",
       "    </tr>\n",
       "    <tr>\n",
       "      <th>3</th>\n",
       "      <td>to evaluate the efficacy and safety of a slow...</td>\n",
       "      <td>[[CLS], to, evaluate, the, efficacy, and, safe...</td>\n",
       "      <td>[102, 147, 3138, 111, 4684, 137, 4104, 131, 10...</td>\n",
       "      <td>[1, 1, 1, 1, 1, 1, 1, 1, 1, 1, 1, 1, 1, 1, 1, ...</td>\n",
       "      <td>[O, O, O, O, O, O, O, O, O, O, O, O, O, O, O, ...</td>\n",
       "      <td>[4, 4, 4, 4, 4, 4, 4, 4, 4, 4, 4, 4, 4, 4, 4, ...</td>\n",
       "      <td>{'T1': (155, 186), 'T2': (187, 220), 'T3': (22...</td>\n",
       "      <td>10506606.ann</td>\n",
       "    </tr>\n",
       "    <tr>\n",
       "      <th>4</th>\n",
       "      <td>for several decades, both preoperative intra-...</td>\n",
       "      <td>[[CLS], for, several, decades, ,, both, preope...</td>\n",
       "      <td>[102, 168, 1323, 8148, 422, 655, 10014, 4743, ...</td>\n",
       "      <td>[1, 1, 1, 1, 1, 1, 1, 1, 1, 1, 1, 1, 1, 1, 1, ...</td>\n",
       "      <td>[O, B-Claim, I-Claim, I-Claim, I-Claim, I-Clai...</td>\n",
       "      <td>[4, 0, 2, 2, 2, 2, 2, 2, 2, 2, 2, 2, 2, 2, 2, ...</td>\n",
       "      <td>{'T1': (1, 27), 'T3': (295, 322), 'T4': (325, ...</td>\n",
       "      <td>10526263.ann</td>\n",
       "    </tr>\n",
       "  </tbody>\n",
       "</table>\n",
       "</div>"
      ],
      "text/plain": [
       "                                            raw_text  \\\n",
       "0  \\n\\nto compare the efficacy and side effects a...   \n",
       "1   data from experimental studies suggest that o...   \n",
       "2   in a prospective randomized study, 287 patien...   \n",
       "3   to evaluate the efficacy and safety of a slow...   \n",
       "4   for several decades, both preoperative intra-...   \n",
       "\n",
       "                                      tokenized_text  \\\n",
       "0  [[CLS], to, compare, the, efficacy, and, side,...   \n",
       "1  [[CLS], data, from, experimental, studies, sug...   \n",
       "2  [[CLS], in, a, prospective, randomized, study,...   \n",
       "3  [[CLS], to, evaluate, the, efficacy, and, safe...   \n",
       "4  [[CLS], for, several, decades, ,, both, preope...   \n",
       "\n",
       "                                           input_ids  \\\n",
       "0  [102, 147, 3745, 111, 4684, 137, 2480, 1056, 1...   \n",
       "1  [102, 453, 263, 1798, 826, 1739, 198, 6595, 10...   \n",
       "2  [102, 121, 106, 6880, 5460, 527, 422, 26713, 5...   \n",
       "3  [102, 147, 3138, 111, 4684, 137, 4104, 131, 10...   \n",
       "4  [102, 168, 1323, 8148, 422, 655, 10014, 4743, ...   \n",
       "\n",
       "                                      attention_mask  \\\n",
       "0  [1, 1, 1, 1, 1, 1, 1, 1, 1, 1, 1, 1, 1, 1, 1, ...   \n",
       "1  [1, 1, 1, 1, 1, 1, 1, 1, 1, 1, 1, 1, 1, 1, 1, ...   \n",
       "2  [1, 1, 1, 1, 1, 1, 1, 1, 1, 1, 1, 1, 1, 1, 1, ...   \n",
       "3  [1, 1, 1, 1, 1, 1, 1, 1, 1, 1, 1, 1, 1, 1, 1, ...   \n",
       "4  [1, 1, 1, 1, 1, 1, 1, 1, 1, 1, 1, 1, 1, 1, 1, ...   \n",
       "\n",
       "                                                tags  \\\n",
       "0  [O, O, O, O, O, O, O, O, O, O, O, O, O, O, O, ...   \n",
       "1  [O, O, O, O, O, O, O, B-Claim, I-Claim, I-Clai...   \n",
       "2  [O, O, O, O, O, O, O, O, O, O, O, O, O, O, O, ...   \n",
       "3  [O, O, O, O, O, O, O, O, O, O, O, O, O, O, O, ...   \n",
       "4  [O, B-Claim, I-Claim, I-Claim, I-Claim, I-Clai...   \n",
       "\n",
       "                                        encoded_tags  \\\n",
       "0  [4, 4, 4, 4, 4, 4, 4, 4, 4, 4, 4, 4, 4, 4, 4, ...   \n",
       "1  [4, 4, 4, 4, 4, 4, 4, 0, 2, 2, 2, 2, 2, 2, 2, ...   \n",
       "2  [4, 4, 4, 4, 4, 4, 4, 4, 4, 4, 4, 4, 4, 4, 4, ...   \n",
       "3  [4, 4, 4, 4, 4, 4, 4, 4, 4, 4, 4, 4, 4, 4, 4, ...   \n",
       "4  [4, 0, 2, 2, 2, 2, 2, 2, 2, 2, 2, 2, 2, 2, 2, ...   \n",
       "\n",
       "                             new_start_end_positions     file_name  \n",
       "0  {'T1': (302, 341), 'T2': (342, 401), 'T3': (40...  10080213.ann  \n",
       "1  {'T1': (7, 26), 'T2': (124, 173), 'T3': (174, ...  10210927.ann  \n",
       "2  {'T1': (398, 417), 'T2': (244, 261), 'T3': (26...  10403690.ann  \n",
       "3  {'T1': (155, 186), 'T2': (187, 220), 'T3': (22...  10506606.ann  \n",
       "4  {'T1': (1, 27), 'T3': (295, 322), 'T4': (325, ...  10526263.ann  "
      ]
     },
     "execution_count": 21,
     "metadata": {},
     "output_type": "execute_result"
    }
   ],
   "source": [
    "# custom corpus\n",
    "custom_train_df_scibert = create_dataframe_from_directory(custom_train_data_dir,tag_to_idx, scibert_tokenizer,\"component_detection\",MAX_LENGTH)\n",
    "custom_val_df_scibert = create_dataframe_from_directory(custom_val_data_dir,tag_to_idx,scibert_tokenizer,\"component_detection\",MAX_LENGTH)\n",
    "custom_test_df_scibert = create_dataframe_from_directory(custom_test_data_dir,tag_to_idx,scibert_tokenizer,\"component_detection\",MAX_LENGTH)\n",
    "\n",
    "print(f\"\\nShape Training dataframe: {custom_train_df_scibert.shape}\")\n",
    "print(f\"Shape Validation dataframe : {custom_val_df_scibert.shape}\")\n",
    "print(f\"Shape Test dataframe: {custom_test_df_scibert.shape}\")\n",
    "\n",
    "custom_train_df_scibert.head()"
   ]
  },
  {
   "cell_type": "code",
   "execution_count": 22,
   "metadata": {
    "colab": {
     "base_uri": "https://localhost:8080/"
    },
    "id": "pv4gV8Fao-Qz",
    "outputId": "006d4ca4-174c-4e02-b8a8-601650b88516"
   },
   "outputs": [
    {
     "name": "stdout",
     "output_type": "stream",
     "text": [
      "{'O': 0.006138235983269374, 'B-Premise': 0.29795623535639276, 'I-Premise': 0.008266760717044224, 'B-Claim': 0.657910708179844, 'I-Claim': 0.029728059763449614}\n"
     ]
    }
   ],
   "source": [
    "CLASS_WEIGHTS_NORMALIZED_CUSTOM_SCIBERT = compute_norm_class_weights(custom_train_df_scibert, label_column='tags', special_tokens=special_tokens_scibert, task_name='seqtag')\n",
    "print(CLASS_WEIGHTS_NORMALIZED_CUSTOM_SCIBERT)"
   ]
  },
  {
   "cell_type": "code",
   "execution_count": 23,
   "metadata": {
    "colab": {
     "base_uri": "https://localhost:8080/",
     "height": 575
    },
    "id": "eTaoYQt0opIy",
    "outputId": "7300ffc7-919c-49c8-b36e-d5d0fb54a619"
   },
   "outputs": [
    {
     "name": "stdout",
     "output_type": "stream",
     "text": [
      "\n",
      "Example of an annotated sentence:\n",
      "\n",
      "Raw text:\n",
      "['in', 'the', 'context', 'of', 'chronic', 'physical', 'illness,', 'such', 'as', 'breast', 'cancer,', 'depression', 'is', 'associated', 'with', 'increased', 'morbidity,', 'longer', 'periods', 'of', 'hospitalization,', 'and', 'greater', 'overall', 'disability.', 'prompt', 'diagnosis', 'and', 'effective', 'treatment', 'is,', 'therefore,', 'essential.', 'several', 'small', 'studies', 'have', 'established', 'the', 'efficacy', 'of', 'tricyclic', 'antidepressants', '(tcas)', 'in', 'this', 'setting,', 'and', 'the', 'selective', 'serotonin', 'reuptake', 'inhibitors', '(ssris)', 'would', 'appear', 'to', 'be', 'an', 'alternative', 'therapeutic', 'option', 'because', 'of', 'their', 'established', 'efficacy', 'and', 'better', 'tolerability', 'profile.', 'this', 'was', 'a', 'multicenter.', 'double-blind,', 'parallel-group', 'study', 'in', 'which', '179', 'women', 'with', 'breast', 'cancer', 'were', 'randomized', 'to', 'treatment', 'with', 'either', 'the', 'ssri', 'paroxetine', '(20-40', 'mg/day),', 'or', 'the', 'tca,', 'amitriptyline', '(75-150', 'mg/day).', 'after', '8-weeks', 'treatment,', 'depressive', 'symptomatology', 'had', 'improved', 'markedly', 'and', 'to', 'a', 'similar', 'extent', 'in', 'both', 'groups', 'on', 'the', 'montgomery', 'asberg', 'depression', 'rating', 'scale.', 'clinical', 'global', 'impression', '(cgi)', 'global', 'improvement', 'and', 'patient', 'global', 'evaluation', 'scales', 'indicated', 'that', 'patients', 'were', 'minimally', 'to', 'much', 'improved', 'at', 'study', 'endpoint:', 'a', 'change', 'from', 'moderately/mildly', 'ill', 'to', 'borderline', 'ill', 'on', 'the', 'cgi', 'severity', 'of', 'illness', 'scale.', 'a', 'steady', 'improvement', 'in', 'quality', 'of', 'life', 'was', 'also', 'observed', 'in', 'both', 'groups.', 'there', 'were', 'no', 'clinically', 'significant', 'differences', 'between', 'the', 'groups.', 'in', 'total,', '47', '(53.4%)', 'patients', 'in', 'the', 'paroxetine', 'group', 'and', '53', '(59.6%)', 'patients', 'in', 'the', 'amitriptyline', 'group', 'had', 'adverse', 'experiences,', 'the', 'most', 'common', 'of', 'which', 'were', 'the', 'well-recognized', 'side-effects', 'of', 'the', 'antidepressant', 'medications', 'or', 'chemotherapy.', 'anticholinergic', 'effects', 'were', 'almost', 'twice', 'as', 'frequent', 'in', 'the', 'amitriptyline', 'group', '(19.1%)', 'compared', 'with', 'paroxetine', '(11.4%).', 'this', 'study', 'has', 'demonstrated', 'that', 'paroxetine', 'is', 'a', 'suitable', 'alternative', 'to', 'amitriptyline', 'for', 'the', 'treatment', 'of', 'depression', 'in', 'patients', 'with', 'breast', 'cancer.']\n",
      "\n",
      "Tokenized text with colored components:\n"
     ]
    },
    {
     "data": {
      "text/html": [
       "<span style='color: #bfabb7;'>in(B-Claim)</span> <span style='color: #bfabb7;'>the(I-Claim)</span> <span style='color: #bfabb7;'>context(I-Claim)</span> <span style='color: #bfabb7;'>of(I-Claim)</span> <span style='color: #bfabb7;'>chronic(I-Claim)</span> <span style='color: #bfabb7;'>physical(I-Claim)</span> <span style='color: #bfabb7;'>illness(I-Claim)</span> <span style='color: #bfabb7;'>,(I-Claim)</span> <span style='color: #bfabb7;'>such(I-Claim)</span> <span style='color: #bfabb7;'>as(I-Claim)</span> <span style='color: #bfabb7;'>breast(I-Claim)</span> <span style='color: #bfabb7;'>cancer(I-Claim)</span> <span style='color: #bfabb7;'>,(I-Claim)</span> <span style='color: #bfabb7;'>depression(I-Claim)</span> <span style='color: #bfabb7;'>is(I-Claim)</span> <span style='color: #bfabb7;'>associated(I-Claim)</span> <span style='color: #bfabb7;'>with(I-Claim)</span> <span style='color: #bfabb7;'>increased(I-Claim)</span> <span style='color: #bfabb7;'>morbidity(I-Claim)</span> <span style='color: #bfabb7;'>,(I-Claim)</span> <span style='color: #bfabb7;'>longer(I-Claim)</span> <span style='color: #bfabb7;'>periods(I-Claim)</span> <span style='color: #bfabb7;'>of(I-Claim)</span> <span style='color: #bfabb7;'>hospitalization(I-Claim)</span> <span style='color: #bfabb7;'>,(I-Claim)</span> <span style='color: #bfabb7;'>and(I-Claim)</span> <span style='color: #bfabb7;'>greater(I-Claim)</span> <span style='color: #bfabb7;'>overall(I-Claim)</span> <span style='color: #bfabb7;'>disability(I-Claim)</span> <span style='color: #bfabb7;'>.(I-Claim)</span> <span style='color: #7e6282;'>prompt(B-Claim)</span> <span style='color: #7e6282;'>diagnosis(I-Claim)</span> <span style='color: #7e6282;'>and(I-Claim)</span> <span style='color: #7e6282;'>effective(I-Claim)</span> <span style='color: #7e6282;'>treatment(I-Claim)</span> <span style='color: #7e6282;'>is(I-Claim)</span> <span style='color: #7e6282;'>,(I-Claim)</span> <span style='color: #7e6282;'>therefore(I-Claim)</span> <span style='color: #7e6282;'>,(I-Claim)</span> <span style='color: #7e6282;'>essential(I-Claim)</span> <span style='color: #7e6282;'>.(I-Claim)</span> <span style='color: None;'>several(O)</span> <span style='color: None;'>small(O)</span> <span style='color: None;'>studies(O)</span> <span style='color: None;'>have(O)</span> <span style='color: None;'>established(O)</span> <span style='color: None;'>the(O)</span> <span style='color: None;'>efficacy(O)</span> <span style='color: None;'>of(O)</span> <span style='color: None;'>tric(O)</span> <span style='color: None;'>##yclic(O)</span> <span style='color: None;'>antidepressants(O)</span> <span style='color: None;'>((O)</span> <span style='color: None;'>tca(O)</span> <span style='color: None;'>##s(O)</span> <span style='color: None;'>)(O)</span> <span style='color: None;'>in(O)</span> <span style='color: None;'>this(O)</span> <span style='color: None;'>setting(O)</span> <span style='color: None;'>,(O)</span> <span style='color: None;'>and(O)</span> <span style='color: None;'>the(O)</span> <span style='color: None;'>selective(O)</span> <span style='color: None;'>serotonin(O)</span> <span style='color: None;'>re(O)</span> <span style='color: None;'>##uptake(O)</span> <span style='color: None;'>inhibitors(O)</span> <span style='color: None;'>((O)</span> <span style='color: None;'>ssr(O)</span> <span style='color: None;'>##is(O)</span> <span style='color: None;'>)(O)</span> <span style='color: None;'>would(O)</span> <span style='color: None;'>appear(O)</span> <span style='color: None;'>to(O)</span> <span style='color: None;'>be(O)</span> <span style='color: None;'>an(O)</span> <span style='color: None;'>alternative(O)</span> <span style='color: None;'>therapeutic(O)</span> <span style='color: None;'>option(O)</span> <span style='color: None;'>because(O)</span> <span style='color: None;'>of(O)</span> <span style='color: None;'>their(O)</span> <span style='color: None;'>established(O)</span> <span style='color: None;'>efficacy(O)</span> <span style='color: None;'>and(O)</span> <span style='color: None;'>better(O)</span> <span style='color: None;'>tolerability(O)</span> <span style='color: None;'>profile(O)</span> <span style='color: None;'>.(O)</span> <span style='color: None;'>this(O)</span> <span style='color: None;'>was(O)</span> <span style='color: None;'>a(O)</span> <span style='color: None;'>multicenter(O)</span> <span style='color: None;'>.(O)</span> <span style='color: None;'>double(O)</span> <span style='color: None;'>-(O)</span> <span style='color: None;'>blind(O)</span> <span style='color: None;'>,(O)</span> <span style='color: None;'>parallel(O)</span> <span style='color: None;'>-(O)</span> <span style='color: None;'>group(O)</span> <span style='color: None;'>study(O)</span> <span style='color: None;'>in(O)</span> <span style='color: None;'>which(O)</span> <span style='color: None;'>179(O)</span> <span style='color: None;'>women(O)</span> <span style='color: None;'>with(O)</span> <span style='color: None;'>breast(O)</span> <span style='color: None;'>cancer(O)</span> <span style='color: None;'>were(O)</span> <span style='color: None;'>randomized(O)</span> <span style='color: None;'>to(O)</span> <span style='color: None;'>treatment(O)</span> <span style='color: None;'>with(O)</span> <span style='color: None;'>either(O)</span> <span style='color: None;'>the(O)</span> <span style='color: None;'>ssr(O)</span> <span style='color: None;'>##i(O)</span> <span style='color: None;'>parox(O)</span> <span style='color: None;'>##etine(O)</span> <span style='color: None;'>((O)</span> <span style='color: None;'>20(O)</span> <span style='color: None;'>-(O)</span> <span style='color: None;'>40(O)</span> <span style='color: None;'>mg(O)</span> <span style='color: None;'>/(O)</span> <span style='color: None;'>day(O)</span> <span style='color: None;'>)(O)</span> <span style='color: None;'>,(O)</span> <span style='color: None;'>or(O)</span> <span style='color: None;'>the(O)</span> <span style='color: None;'>tca(O)</span> <span style='color: None;'>,(O)</span> <span style='color: None;'>ami(O)</span> <span style='color: None;'>##tri(O)</span> <span style='color: None;'>##pty(O)</span> <span style='color: None;'>##line(O)</span> <span style='color: None;'>((O)</span> <span style='color: None;'>75(O)</span> <span style='color: None;'>-(O)</span> <span style='color: None;'>150(O)</span> <span style='color: None;'>mg(O)</span> <span style='color: None;'>/(O)</span> <span style='color: None;'>day(O)</span> <span style='color: None;'>)(O)</span> <span style='color: None;'>.(O)</span> <span style='color: #bdc389;'>after(B-Premise)</span> <span style='color: #bdc389;'>8(I-Premise)</span> <span style='color: #bdc389;'>-(I-Premise)</span> <span style='color: #bdc389;'>weeks(I-Premise)</span> <span style='color: #bdc389;'>treatment(I-Premise)</span> <span style='color: #bdc389;'>,(I-Premise)</span> <span style='color: #bdc389;'>depressive(I-Premise)</span> <span style='color: #bdc389;'>symptom(I-Premise)</span> <span style='color: #bdc389;'>##atology(I-Premise)</span> <span style='color: #bdc389;'>had(I-Premise)</span> <span style='color: #bdc389;'>improved(I-Premise)</span> <span style='color: #bdc389;'>markedly(I-Premise)</span> <span style='color: #bdc389;'>and(I-Premise)</span> <span style='color: #bdc389;'>to(I-Premise)</span> <span style='color: #bdc389;'>a(I-Premise)</span> <span style='color: #bdc389;'>similar(I-Premise)</span> <span style='color: #bdc389;'>extent(I-Premise)</span> <span style='color: #bdc389;'>in(I-Premise)</span> <span style='color: #bdc389;'>both(I-Premise)</span> <span style='color: #bdc389;'>groups(I-Premise)</span> <span style='color: #bdc389;'>on(I-Premise)</span> <span style='color: #bdc389;'>the(I-Premise)</span> <span style='color: #bdc389;'>mont(I-Premise)</span> <span style='color: #bdc389;'>##go(I-Premise)</span> <span style='color: #bdc389;'>##mer(I-Premise)</span> <span style='color: #bdc389;'>##y(I-Premise)</span> <span style='color: #bdc389;'>as(I-Premise)</span> <span style='color: #bdc389;'>##berg(I-Premise)</span> <span style='color: #bdc389;'>depression(I-Premise)</span> <span style='color: #bdc389;'>rating(I-Premise)</span> <span style='color: #bdc389;'>scale(I-Premise)</span> <span style='color: #bdc389;'>.(I-Premise)</span> <span style='color: #535fbb;'>clinical(B-Premise)</span> <span style='color: #535fbb;'>global(I-Premise)</span> <span style='color: #535fbb;'>impression(I-Premise)</span> <span style='color: #535fbb;'>((I-Premise)</span> <span style='color: #535fbb;'>cg(I-Premise)</span> <span style='color: #535fbb;'>##i(I-Premise)</span> <span style='color: #535fbb;'>)(I-Premise)</span> <span style='color: #535fbb;'>global(I-Premise)</span> <span style='color: #535fbb;'>improvement(I-Premise)</span> <span style='color: #535fbb;'>and(I-Premise)</span> <span style='color: #535fbb;'>patient(I-Premise)</span> <span style='color: #535fbb;'>global(I-Premise)</span> <span style='color: #535fbb;'>evaluation(I-Premise)</span> <span style='color: #535fbb;'>scales(I-Premise)</span> <span style='color: #535fbb;'>indicated(I-Premise)</span> <span style='color: #535fbb;'>that(I-Premise)</span> <span style='color: #535fbb;'>patients(I-Premise)</span> <span style='color: #535fbb;'>were(I-Premise)</span> <span style='color: #535fbb;'>minimally(I-Premise)</span> <span style='color: #535fbb;'>to(I-Premise)</span> <span style='color: #535fbb;'>much(I-Premise)</span> <span style='color: #535fbb;'>improved(I-Premise)</span> <span style='color: #535fbb;'>at(I-Premise)</span> <span style='color: #535fbb;'>study(I-Premise)</span> <span style='color: #535fbb;'>endpoint(I-Premise)</span> <span style='color: #535fbb;'>:(I-Premise)</span> <span style='color: #535fbb;'>a(I-Premise)</span> <span style='color: #535fbb;'>change(I-Premise)</span> <span style='color: #535fbb;'>from(I-Premise)</span> <span style='color: #535fbb;'>moderately(I-Premise)</span> <span style='color: #535fbb;'>/(I-Premise)</span> <span style='color: #535fbb;'>mildly(I-Premise)</span> <span style='color: #535fbb;'>ill(I-Premise)</span> <span style='color: #535fbb;'>to(I-Premise)</span> <span style='color: #535fbb;'>borderline(I-Premise)</span> <span style='color: #535fbb;'>ill(I-Premise)</span> <span style='color: #535fbb;'>on(I-Premise)</span> <span style='color: #535fbb;'>the(I-Premise)</span> <span style='color: #535fbb;'>cg(I-Premise)</span> <span style='color: #535fbb;'>##i(I-Premise)</span> <span style='color: #535fbb;'>severity(I-Premise)</span> <span style='color: #535fbb;'>of(I-Premise)</span> <span style='color: #535fbb;'>illness(I-Premise)</span> <span style='color: #535fbb;'>scale(I-Premise)</span> <span style='color: #535fbb;'>.(I-Premise)</span> <span style='color: #85af54;'>a(B-Claim)</span> <span style='color: #85af54;'>steady(I-Claim)</span> <span style='color: #85af54;'>improvement(I-Claim)</span> <span style='color: #85af54;'>in(I-Claim)</span> <span style='color: #85af54;'>quality(I-Claim)</span> <span style='color: #85af54;'>of(I-Claim)</span> <span style='color: #85af54;'>life(I-Claim)</span> <span style='color: #85af54;'>was(I-Claim)</span> <span style='color: #85af54;'>also(I-Claim)</span> <span style='color: #85af54;'>observed(I-Claim)</span> <span style='color: #85af54;'>in(I-Claim)</span> <span style='color: #85af54;'>both(I-Claim)</span> <span style='color: #85af54;'>groups(I-Claim)</span> <span style='color: #85af54;'>.(I-Claim)</span> <span style='color: #9a80c2;'>there(B-Premise)</span> <span style='color: #9a80c2;'>were(I-Premise)</span> <span style='color: #9a80c2;'>no(I-Premise)</span> <span style='color: #9a80c2;'>clinically(I-Premise)</span> <span style='color: #9a80c2;'>significant(I-Premise)</span> <span style='color: #9a80c2;'>differences(I-Premise)</span> <span style='color: #9a80c2;'>between(I-Premise)</span> <span style='color: #9a80c2;'>the(I-Premise)</span> <span style='color: #9a80c2;'>groups(I-Premise)</span> <span style='color: #9a80c2;'>.(I-Premise)</span> <span style='color: #ad4681;'>in(B-Premise)</span> <span style='color: #ad4681;'>total(I-Premise)</span> <span style='color: #ad4681;'>,(I-Premise)</span> <span style='color: #ad4681;'>47(I-Premise)</span> <span style='color: #ad4681;'>((I-Premise)</span> <span style='color: #ad4681;'>53(I-Premise)</span> <span style='color: #ad4681;'>.(I-Premise)</span> <span style='color: #ad4681;'>4(I-Premise)</span> <span style='color: #ad4681;'>%(I-Premise)</span> <span style='color: #ad4681;'>)(I-Premise)</span> <span style='color: #ad4681;'>patients(I-Premise)</span> <span style='color: #ad4681;'>in(I-Premise)</span> <span style='color: #ad4681;'>the(I-Premise)</span> <span style='color: #ad4681;'>parox(I-Premise)</span> <span style='color: #ad4681;'>##etine(I-Premise)</span> <span style='color: #ad4681;'>group(I-Premise)</span> <span style='color: #ad4681;'>and(I-Premise)</span> <span style='color: #ad4681;'>53(I-Premise)</span> <span style='color: #ad4681;'>((I-Premise)</span> <span style='color: #ad4681;'>59(I-Premise)</span> <span style='color: #ad4681;'>.(I-Premise)</span> <span style='color: #ad4681;'>6(I-Premise)</span> <span style='color: #ad4681;'>%(I-Premise)</span> <span style='color: #ad4681;'>)(I-Premise)</span> <span style='color: #ad4681;'>patients(I-Premise)</span> <span style='color: #ad4681;'>in(I-Premise)</span> <span style='color: #ad4681;'>the(I-Premise)</span> <span style='color: #ad4681;'>ami(I-Premise)</span> <span style='color: #ad4681;'>##tri(I-Premise)</span> <span style='color: #ad4681;'>##pty(I-Premise)</span> <span style='color: #ad4681;'>##line(I-Premise)</span> <span style='color: #ad4681;'>group(I-Premise)</span> <span style='color: #ad4681;'>had(I-Premise)</span> <span style='color: #ad4681;'>adverse(I-Premise)</span> <span style='color: #ad4681;'>experiences(I-Premise)</span> <span style='color: #ad4681;'>,(I-Premise)</span> <span style='color: #ad4681;'>the(I-Premise)</span> <span style='color: #ad4681;'>most(I-Premise)</span> <span style='color: #ad4681;'>common(I-Premise)</span> <span style='color: #ad4681;'>of(I-Premise)</span> <span style='color: #ad4681;'>which(I-Premise)</span> <span style='color: #ad4681;'>were(I-Premise)</span> <span style='color: #ad4681;'>the(I-Premise)</span> <span style='color: #ad4681;'>well(I-Premise)</span> <span style='color: #ad4681;'>-(I-Premise)</span> <span style='color: #ad4681;'>recognized(I-Premise)</span> <span style='color: #ad4681;'>side(I-Premise)</span> <span style='color: #ad4681;'>-(I-Premise)</span> <span style='color: #ad4681;'>effects(I-Premise)</span> <span style='color: #ad4681;'>of(I-Premise)</span> <span style='color: #ad4681;'>the(I-Premise)</span> <span style='color: #ad4681;'>antidepressant(I-Premise)</span> <span style='color: #ad4681;'>medications(I-Premise)</span> <span style='color: #ad4681;'>or(I-Premise)</span> <span style='color: #ad4681;'>chemotherapy(I-Premise)</span> <span style='color: #ad4681;'>.(I-Premise)</span> <span style='color: #518f7b;'>antic(B-Premise)</span> <span style='color: #518f7b;'>##hol(I-Premise)</span> <span style='color: #518f7b;'>##inergic(I-Premise)</span> <span style='color: #518f7b;'>effects(I-Premise)</span> <span style='color: #518f7b;'>were(I-Premise)</span> <span style='color: #518f7b;'>almost(I-Premise)</span> <span style='color: #518f7b;'>twice(I-Premise)</span> <span style='color: #518f7b;'>as(I-Premise)</span> <span style='color: #518f7b;'>frequent(I-Premise)</span> <span style='color: #518f7b;'>in(I-Premise)</span> <span style='color: #518f7b;'>the(I-Premise)</span> <span style='color: #518f7b;'>ami(I-Premise)</span> <span style='color: #518f7b;'>##tri(I-Premise)</span> <span style='color: #518f7b;'>##pty(I-Premise)</span> <span style='color: #518f7b;'>##line(I-Premise)</span> <span style='color: #518f7b;'>group(I-Premise)</span> <span style='color: #518f7b;'>((I-Premise)</span> <span style='color: #518f7b;'>19(I-Premise)</span> <span style='color: #518f7b;'>.(I-Premise)</span> <span style='color: #518f7b;'>1(I-Premise)</span> <span style='color: #518f7b;'>%(I-Premise)</span> <span style='color: #518f7b;'>)(I-Premise)</span> <span style='color: #518f7b;'>compared(I-Premise)</span> <span style='color: #518f7b;'>with(I-Premise)</span> <span style='color: #518f7b;'>parox(I-Premise)</span> <span style='color: #518f7b;'>##etine(I-Premise)</span> <span style='color: #518f7b;'>((I-Premise)</span> <span style='color: #518f7b;'>11(I-Premise)</span> <span style='color: #518f7b;'>.(I-Premise)</span> <span style='color: #518f7b;'>4(I-Premise)</span> <span style='color: #518f7b;'>%(I-Premise)</span> <span style='color: #518f7b;'>)(I-Premise)</span> <span style='color: #518f7b;'>.(I-Premise)</span> <span style='color: None;'>this(O)</span> <span style='color: None;'>study(O)</span> <span style='color: None;'>has(O)</span> <span style='color: None;'>demonstrated(O)</span> <span style='color: None;'>that(O)</span> <span style='color: #6ab877;'>parox(B-Claim)</span> <span style='color: #6ab877;'>##etine(I-Claim)</span> <span style='color: #6ab877;'>is(I-Claim)</span> <span style='color: #6ab877;'>a(I-Claim)</span> <span style='color: #6ab877;'>suitable(I-Claim)</span> <span style='color: #6ab877;'>alternative(I-Claim)</span> <span style='color: #6ab877;'>to(I-Claim)</span> <span style='color: #6ab877;'>ami(I-Claim)</span> <span style='color: #6ab877;'>##tri(I-Claim)</span> <span style='color: #6ab877;'>##pty(I-Claim)</span> <span style='color: #6ab877;'>##line(I-Claim)</span> <span style='color: #6ab877;'>for(I-Claim)</span> <span style='color: #6ab877;'>the(I-Claim)</span> <span style='color: #6ab877;'>treatment(I-Claim)</span> <span style='color: #6ab877;'>of(I-Claim)</span> <span style='color: #6ab877;'>depression(I-Claim)</span> <span style='color: #6ab877;'>in(I-Claim)</span> <span style='color: #6ab877;'>patients(I-Claim)</span> <span style='color: #6ab877;'>with(I-Claim)</span> <span style='color: #6ab877;'>breast(I-Claim)</span> <span style='color: #6ab877;'>cancer(I-Claim)</span> <span style='color: #6ab877;'>.(I-Claim)</span>"
      ],
      "text/plain": [
       "<IPython.core.display.HTML object>"
      ]
     },
     "metadata": {},
     "output_type": "display_data"
    }
   ],
   "source": [
    "print_annotated_example(custom_test_df_scibert, show_special_tokens=False, sample_idx=3)"
   ]
  },
  {
   "cell_type": "markdown",
   "metadata": {
    "id": "z_OVs8wE3l9h"
   },
   "source": [
    "### 2. Dataset and Dataloader Creation\n",
    "\n",
    "For each dataframe we can now create a custom dataset and dataloader, which will be used to train the models. The chosen batch size is 8 while the maximum sequence length is 512. Sentence with more than 512 tokens are truncated, while shorter sentences are padded with the token [PAD]."
   ]
  },
  {
   "cell_type": "markdown",
   "metadata": {},
   "source": [
    "#### 2.1 BERT base - Dataset and Dataloader"
   ]
  },
  {
   "cell_type": "code",
   "execution_count": null,
   "metadata": {
    "id": "SBLtjivc2lee"
   },
   "outputs": [],
   "source": [
    "BATCH_SIZE = 8\n",
    "\n",
    "#original dataset BERT\n",
    "train_dataset = ArgumentationDataset(train_df, bert_tokenizer)\n",
    "val_dataset = ArgumentationDataset(val_df, bert_tokenizer)\n",
    "neoplasm_test_dataset = ArgumentationDataset(neoplasm_test_df, bert_tokenizer)\n",
    "glaucoma_test_dataset = ArgumentationDataset(glaucoma_test_df, bert_tokenizer)\n",
    "mixed_test_dataset = ArgumentationDataset(mixed_test_df, bert_tokenizer)\n",
    "\n",
    "# original dataloader BERT\n",
    "train_dataloader = DataLoader(train_dataset, batch_size=BATCH_SIZE, shuffle=True)\n",
    "val_dataloader = DataLoader(val_dataset, batch_size=BATCH_SIZE, shuffle=False)\n",
    "neoplasm_test_dataloader = DataLoader(neoplasm_test_dataset, batch_size=BATCH_SIZE, shuffle=False)\n",
    "glaucoma_test_dataloader = DataLoader(glaucoma_test_dataset, batch_size=BATCH_SIZE, shuffle=False)\n",
    "mixed_test_dataloader = DataLoader(mixed_test_dataset, batch_size=BATCH_SIZE, shuffle=False)"
   ]
  },
  {
   "cell_type": "code",
   "execution_count": null,
   "metadata": {},
   "outputs": [],
   "source": [
    "#custom dataset BERT\n",
    "custom_train_dataset = ArgumentationDataset(custom_train_df, bert_tokenizer)\n",
    "custom_val_dataset = ArgumentationDataset(custom_val_df, bert_tokenizer)\n",
    "custom_test_dataset = ArgumentationDataset(custom_test_df, bert_tokenizer)\n",
    "\n",
    "#custom dataloader BERT\n",
    "custom_train_dataloader = DataLoader(custom_train_dataset, batch_size=BATCH_SIZE, shuffle=True)\n",
    "custom_val_dataloader = DataLoader(custom_val_dataset, batch_size=BATCH_SIZE, shuffle=False)\n",
    "custom_test_dataloader = DataLoader(custom_test_dataset, batch_size=BATCH_SIZE, shuffle=False)"
   ]
  },
  {
   "cell_type": "markdown",
   "metadata": {
    "id": "d8XahtMOJAz4"
   },
   "source": [
    "#### 2.2 BioBERT base - Dataset and Dataloader"
   ]
  },
  {
   "cell_type": "code",
   "execution_count": null,
   "metadata": {
    "id": "VyJUiaL82lhB"
   },
   "outputs": [],
   "source": [
    "#original dataset BioBERT\n",
    "train_dataset_bio = ArgumentationDataset(train_df_biobert, bio_bert_tokenizer)\n",
    "val_dataset_bio = ArgumentationDataset(val_df_biobert, bio_bert_tokenizer)\n",
    "neoplasm_test_dataset_bio = ArgumentationDataset(neoplasm_test_df_biobert, bio_bert_tokenizer)\n",
    "glaucoma_test_dataset_bio = ArgumentationDataset(glaucoma_test_df_biobert, bio_bert_tokenizer)\n",
    "mixed_test_dataset_bio = ArgumentationDataset(mixed_test_df_biobert, bio_bert_tokenizer)\n",
    "\n",
    "\n",
    "#original dataloader BioBERT\n",
    "train_dataloader_bio = DataLoader(train_dataset_bio, batch_size=BATCH_SIZE, shuffle=True)\n",
    "val_dataloader_bio = DataLoader(val_dataset_bio, batch_size=BATCH_SIZE, shuffle=False)\n",
    "neoplasm_test_dataloader_bio = DataLoader(neoplasm_test_dataset_bio, batch_size=BATCH_SIZE, shuffle=False)\n",
    "glaucoma_test_dataloader_bio = DataLoader(glaucoma_test_dataset_bio, batch_size=BATCH_SIZE, shuffle=False)\n",
    "mixed_test_dataloader_bio = DataLoader(mixed_test_dataset_bio, batch_size=BATCH_SIZE, shuffle=False)"
   ]
  },
  {
   "cell_type": "code",
   "execution_count": null,
   "metadata": {
    "id": "hno2YFdW2ljc"
   },
   "outputs": [],
   "source": [
    "#custom dataset BioBERT\n",
    "custom_train_dataset_bio = ArgumentationDataset(custom_train_df_biobert, bio_bert_tokenizer)\n",
    "custom_val_dataset_bio = ArgumentationDataset(custom_val_df_biobert, bio_bert_tokenizer)\n",
    "custom_test_dataset_bio = ArgumentationDataset(custom_test_df_biobert, bio_bert_tokenizer)\n",
    "\n",
    "#custom dataloader BioBERT\n",
    "custom_train_dataloader_bio = DataLoader(custom_train_dataset_bio, batch_size=BATCH_SIZE, shuffle=True)\n",
    "custom_val_dataloader_bio = DataLoader(custom_val_dataset_bio, batch_size=BATCH_SIZE, shuffle=False)\n",
    "custom_test_dataloader_bio = DataLoader(custom_test_dataset_bio, batch_size=BATCH_SIZE, shuffle=False)"
   ]
  },
  {
   "cell_type": "markdown",
   "metadata": {
    "id": "ku8k22bKJHbS"
   },
   "source": [
    "#### 2.3 SciBERT - Dataset and Dataloader"
   ]
  },
  {
   "cell_type": "code",
   "execution_count": null,
   "metadata": {
    "id": "tcJu1w-gJO8f"
   },
   "outputs": [],
   "source": [
    "#original dataset SciBERT\n",
    "train_dataset_sci = ArgumentationDataset(train_df_scibert, scibert_tokenizer)\n",
    "val_dataset_sci = ArgumentationDataset(val_df_scibert, scibert_tokenizer)\n",
    "neoplasm_test_dataset_sci = ArgumentationDataset(neoplasm_test_df_scibert, scibert_tokenizer)\n",
    "glaucoma_test_dataset_sci = ArgumentationDataset(glaucoma_test_df_scibert, scibert_tokenizer)\n",
    "mixed_test_dataset_sci = ArgumentationDataset(mixed_test_df_scibert, scibert_tokenizer)\n",
    "\n",
    "#original dataloader SciBERT\n",
    "train_dataloader_sci = DataLoader(train_dataset_sci, batch_size=BATCH_SIZE, shuffle=True)\n",
    "val_dataloader_sci = DataLoader(val_dataset_sci, batch_size=BATCH_SIZE, shuffle=False)\n",
    "neoplasm_test_dataloader_sci = DataLoader(neoplasm_test_dataset_sci, batch_size=BATCH_SIZE, shuffle=False)\n",
    "glaucoma_test_dataloader_sci = DataLoader(glaucoma_test_dataset_sci, batch_size=BATCH_SIZE, shuffle=False)\n",
    "mixed_test_dataloader_sci = DataLoader(mixed_test_dataset_sci, batch_size=BATCH_SIZE, shuffle=False)"
   ]
  },
  {
   "cell_type": "code",
   "execution_count": null,
   "metadata": {
    "id": "TkmYUlkBJPC-"
   },
   "outputs": [],
   "source": [
    "#custom dataset SciBERT\n",
    "custom_train_dataset_sci = ArgumentationDataset(custom_train_df_scibert, scibert_tokenizer)\n",
    "custom_val_dataset_sci = ArgumentationDataset(custom_val_df_scibert, scibert_tokenizer)\n",
    "custom_test_dataset_sci = ArgumentationDataset(custom_test_df_scibert, scibert_tokenizer)\n",
    "\n",
    "#custom dataloader SciBERT\n",
    "custom_train_dataloader_sci = DataLoader(custom_train_dataset_sci, batch_size=BATCH_SIZE, shuffle=True)\n",
    "custom_val_dataloader_sci = DataLoader(custom_val_dataset_sci, batch_size=BATCH_SIZE, shuffle=False)\n",
    "custom_test_dataloader_sci = DataLoader(custom_test_dataset_sci, batch_size=BATCH_SIZE, shuffle=False)"
   ]
  },
  {
   "cell_type": "markdown",
   "metadata": {},
   "source": [
    "### 3. Model Definition\n",
    "Building on the approaches presented in [1](https://pubmed.ncbi.nlm.nih.gov/34412851/) and [2](https://hal.science/hal-02879293/document), this experiment implements the best-performing models from these studies, namely:\n",
    "* BERT + BiLSTM + CRF\n",
    "* BioBERT + BiLSTM + CRF\n",
    "* SciBERT + BiLSTM + CRF\n",
    "\n",
    "We decided to adopt and adapt their architecture for our task, fine-tuning the model end-to-end and performing hyperparameter tuning to improve performance further."
   ]
  },
  {
   "cell_type": "code",
   "execution_count": null,
   "metadata": {
    "id": "hKw9HLjdlGtM"
   },
   "outputs": [],
   "source": [
    "import warnings\n",
    "from sklearn.exceptions import UndefinedMetricWarning\n",
    "\n",
    "# Disabilita i warning per metriche non definite\n",
    "warnings.filterwarnings(\"ignore\", category=UndefinedMetricWarning)"
   ]
  },
  {
   "cell_type": "code",
   "execution_count": 69,
   "metadata": {
    "id": "BCPD0uf74-ez"
   },
   "outputs": [],
   "source": [
    "seeds = [42]\n",
    "GRU_HIDDEN_SIZE = 128\n",
    "DROPOUT = 0.43\n",
    "LR = 1e-4\n",
    "EPOCHS = 5\n",
    "\n",
    "#BERT\n",
    "bert_model_original = BertGRUCRF(MODEL_CARD_BERT, NUM_LABELS, GRU_HIDDEN_SIZE, dropout_prob=DROPOUT).to(device)\n",
    "bert_model_custom = BertGRUCRF(MODEL_CARD_BERT, NUM_LABELS, GRU_HIDDEN_SIZE, dropout_prob=DROPOUT).to(device)\n",
    "\n",
    "#BioBERT\n",
    "bio_bert_model_original = BertGRUCRF(MODEL_CARD_BioBERT, NUM_LABELS, GRU_HIDDEN_SIZE, dropout_prob=DROPOUT).to(device)\n",
    "bio_bert_model_custom = BertGRUCRF(MODEL_CARD_BioBERT, NUM_LABELS, GRU_HIDDEN_SIZE, dropout_prob=DROPOUT).to(device)\n",
    "\n",
    "#SciBERT\n",
    "scibert_model_original = BertGRUCRF(MODEL_CARD_SciBERT, NUM_LABELS, GRU_HIDDEN_SIZE, dropout_prob=DROPOUT).to(device)\n",
    "scibert_model_custom = BertGRUCRF(MODEL_CARD_SciBERT, NUM_LABELS, GRU_HIDDEN_SIZE, dropout_prob=DROPOUT).to(device)"
   ]
  },
  {
   "cell_type": "markdown",
   "metadata": {},
   "source": [
    "#### BERT - Training"
   ]
  },
  {
   "cell_type": "code",
   "execution_count": null,
   "metadata": {
    "colab": {
     "base_uri": "https://localhost:8080/"
    },
    "id": "cfXBYCbJy1xS",
    "outputId": "27e69b3b-64f3-4e5f-cebc-1667ed793a72"
   },
   "outputs": [
    {
     "name": "stdout",
     "output_type": "stream",
     "text": [
      "\n",
      "Training with seed 42...\n",
      "\n",
      "Epoch 1/5\n"
     ]
    },
    {
     "name": "stderr",
     "output_type": "stream",
     "text": []
    },
    {
     "name": "stdout",
     "output_type": "stream",
     "text": [
      "Training\n",
      "\ttrain_loss: 795.0075\n",
      "\tF1-Score Micro: 0.4989 | F1-Score Macro: 0.2611 | Weighted F1-Score: 0.530504 | Precision: 0.5737 | Recall: 0.4989 | Accuracy: 0.4989\n"
     ]
    },
    {
     "name": "stderr",
     "output_type": "stream",
     "text": [
      "/usr/local/lib/python3.10/dist-packages/sklearn/metrics/_classification.py:1531: UndefinedMetricWarning: Precision is ill-defined and being set to 0.0 in labels with no predicted samples. Use `zero_division` parameter to control this behavior.\n",
      "  _warn_prf(average, modifier, f\"{metric.capitalize()} is\", len(result))\n"
     ]
    },
    {
     "name": "stdout",
     "output_type": "stream",
     "text": [
      "Validation\n",
      "\tval_loss: 1847.6604\n",
      "\tF1-Score Micro: 0.7861 | F1-Score Macro: 0.3284 | Weighted F1-Score: 0.7445 | Precision: 0.7086 | Recall: 0.7861 | Accuracy: 0.7861\n",
      "****************************************************************************************************\n",
      "\n",
      "Epoch 2/5\n"
     ]
    },
    {
     "name": "stderr",
     "output_type": "stream",
     "text": []
    },
    {
     "name": "stdout",
     "output_type": "stream",
     "text": [
      "Training\n",
      "\ttrain_loss: 719.7863\n",
      "\tF1-Score Micro: 0.5592 | F1-Score Macro: 0.2972 | Weighted F1-Score: 0.591569 | Precision: 0.6404 | Recall: 0.5592 | Accuracy: 0.5592\n"
     ]
    },
    {
     "name": "stderr",
     "output_type": "stream",
     "text": [
      "/usr/local/lib/python3.10/dist-packages/sklearn/metrics/_classification.py:1531: UndefinedMetricWarning: Precision is ill-defined and being set to 0.0 in labels with no predicted samples. Use `zero_division` parameter to control this behavior.\n",
      "  _warn_prf(average, modifier, f\"{metric.capitalize()} is\", len(result))\n"
     ]
    },
    {
     "name": "stdout",
     "output_type": "stream",
     "text": [
      "Validation\n",
      "\tval_loss: 1937.5831\n",
      "\tF1-Score Micro: 0.7808 | F1-Score Macro: 0.3285 | Weighted F1-Score: 0.7424 | Precision: 0.7253 | Recall: 0.7808 | Accuracy: 0.7808\n",
      "****************************************************************************************************\n",
      "\n",
      "Epoch 3/5\n"
     ]
    },
    {
     "name": "stderr",
     "output_type": "stream",
     "text": []
    },
    {
     "name": "stdout",
     "output_type": "stream",
     "text": [
      "Training\n",
      "\ttrain_loss: 695.7893\n",
      "\tF1-Score Micro: 0.5839 | F1-Score Macro: 0.3189 | Weighted F1-Score: 0.614859 | Precision: 0.6625 | Recall: 0.5839 | Accuracy: 0.5839\n"
     ]
    },
    {
     "name": "stderr",
     "output_type": "stream",
     "text": [
      "/usr/local/lib/python3.10/dist-packages/sklearn/metrics/_classification.py:1531: UndefinedMetricWarning: Precision is ill-defined and being set to 0.0 in labels with no predicted samples. Use `zero_division` parameter to control this behavior.\n",
      "  _warn_prf(average, modifier, f\"{metric.capitalize()} is\", len(result))\n"
     ]
    },
    {
     "name": "stdout",
     "output_type": "stream",
     "text": [
      "Validation\n",
      "\tval_loss: 1782.2304\n",
      "\tF1-Score Micro: 0.8062 | F1-Score Macro: 0.4229 | Weighted F1-Score: 0.7898 | Precision: 0.7971 | Recall: 0.8062 | Accuracy: 0.8062\n",
      "****************************************************************************************************\n",
      "\n",
      "Epoch 4/5\n"
     ]
    },
    {
     "name": "stderr",
     "output_type": "stream",
     "text": []
    },
    {
     "name": "stdout",
     "output_type": "stream",
     "text": [
      "Training\n",
      "\ttrain_loss: 657.1298\n",
      "\tF1-Score Micro: 0.6203 | F1-Score Macro: 0.3563 | Weighted F1-Score: 0.648119 | Precision: 0.6985 | Recall: 0.6203 | Accuracy: 0.6203\n"
     ]
    },
    {
     "name": "stderr",
     "output_type": "stream",
     "text": [
      "/usr/local/lib/python3.10/dist-packages/sklearn/metrics/_classification.py:1531: UndefinedMetricWarning: Precision is ill-defined and being set to 0.0 in labels with no predicted samples. Use `zero_division` parameter to control this behavior.\n",
      "  _warn_prf(average, modifier, f\"{metric.capitalize()} is\", len(result))\n"
     ]
    },
    {
     "name": "stdout",
     "output_type": "stream",
     "text": [
      "Validation\n",
      "\tval_loss: 1765.5448\n",
      "\tF1-Score Micro: 0.7750 | F1-Score Macro: 0.4044 | Weighted F1-Score: 0.7555 | Precision: 0.7743 | Recall: 0.7750 | Accuracy: 0.7750\n",
      "****************************************************************************************************\n",
      "\n",
      "Epoch 5/5\n"
     ]
    },
    {
     "name": "stderr",
     "output_type": "stream",
     "text": []
    },
    {
     "name": "stdout",
     "output_type": "stream",
     "text": [
      "Training\n",
      "\ttrain_loss: 649.3673\n",
      "\tF1-Score Micro: 0.6215 | F1-Score Macro: 0.3498 | Weighted F1-Score: 0.648364 | Precision: 0.6898 | Recall: 0.6215 | Accuracy: 0.6215\n"
     ]
    },
    {
     "name": "stderr",
     "output_type": "stream",
     "text": [
      "/usr/local/lib/python3.10/dist-packages/sklearn/metrics/_classification.py:1531: UndefinedMetricWarning: Precision is ill-defined and being set to 0.0 in labels with no predicted samples. Use `zero_division` parameter to control this behavior.\n",
      "  _warn_prf(average, modifier, f\"{metric.capitalize()} is\", len(result))\n"
     ]
    },
    {
     "name": "stdout",
     "output_type": "stream",
     "text": [
      "Validation\n",
      "\tval_loss: 1835.8728\n",
      "\tF1-Score Micro: 0.7904 | F1-Score Macro: 0.3907 | Weighted F1-Score: 0.7707 | Precision: 0.8008 | Recall: 0.7904 | Accuracy: 0.7904\n",
      "****************************************************************************************************\n",
      "\n",
      "Best Val F1-Score: 0.4229 at epoch 3\n",
      "Saving model...\n",
      "Saved!\n",
      "\n",
      "Training completed.\n"
     ]
    }
   ],
   "source": [
    "#BERT training original dataset\n",
    "output_folder = \"bert_models\"\n",
    "\n",
    "bert_model_original, results_original = train(bert_model_original,  \"bert-base_original\" , train_dataloader, val_dataloader, learning_rate=LR, num_epochs=EPOCHS,class_weights = CLASS_WEIGHTS_NORMALIZED,scheduler=False,\n",
    "                                seeds=seeds,save_model=True,models_folder=output_folder)"
   ]
  },
  {
   "cell_type": "code",
   "execution_count": 66,
   "metadata": {
    "colab": {
     "base_uri": "https://localhost:8080/"
    },
    "id": "wxi6TOBP9n5B",
    "outputId": "2603dc3c-1486-4be9-9747-c150b60e73d9"
   },
   "outputs": [
    {
     "name": "stderr",
     "output_type": "stream",
     "text": [
      "/usr/local/lib/python3.10/dist-packages/sklearn/metrics/_classification.py:1531: UndefinedMetricWarning: Precision is ill-defined and being set to 0.0 in labels with no predicted samples. Use `zero_division` parameter to control this behavior.\n",
      "  _warn_prf(average, modifier, f\"{metric.capitalize()} is\", len(result))\n"
     ]
    },
    {
     "name": "stdout",
     "output_type": "stream",
     "text": [
      "\n",
      "Test Results\n",
      "\tAverage loss: 1137.9671\n",
      "\tF1-Score Micro: 0.8830\n",
      "\tF1-Score Macro: 0.5360\n",
      "\tWeighted F1-Score: 0.8759\n",
      "\tPrecision: 0.8800\n",
      "\tRecall: 0.8830\n",
      "\tAccuracy: 0.8830\n",
      "\tF1 Claim: 0.7405\n",
      "\tF1 Evidence 0.8785\n",
      "\tClassification Report:\n",
      "              precision    recall  f1-score   support\n",
      "\n",
      "           0       0.00      0.00      0.00         0\n",
      "           1       0.06      0.74      0.11        35\n",
      "           2       0.69      0.84      0.76      4496\n",
      "           3       0.96      0.83      0.89     17047\n",
      "           4       0.90      0.94      0.92     21295\n",
      "\n",
      "    accuracy                           0.88     42873\n",
      "   macro avg       0.52      0.67      0.54     42873\n",
      "weighted avg       0.90      0.88      0.89     42873\n",
      "\n"
     ]
    },
    {
     "name": "stderr",
     "output_type": "stream",
     "text": [
      "/usr/local/lib/python3.10/dist-packages/sklearn/metrics/_classification.py:1531: UndefinedMetricWarning: Precision is ill-defined and being set to 0.0 in labels with no predicted samples. Use `zero_division` parameter to control this behavior.\n",
      "  _warn_prf(average, modifier, f\"{metric.capitalize()} is\", len(result))\n"
     ]
    },
    {
     "name": "stdout",
     "output_type": "stream",
     "text": [
      "\n",
      "Test Results\n",
      "\tAverage loss: 1215.0380\n",
      "\tF1-Score Micro: 0.8859\n",
      "\tF1-Score Macro: 0.5356\n",
      "\tWeighted F1-Score: 0.8820\n",
      "\tPrecision: 0.8940\n",
      "\tRecall: 0.8859\n",
      "\tAccuracy: 0.8859\n",
      "\tF1 Claim: 0.7510\n",
      "\tF1 Evidence 0.8680\n",
      "\tClassification Report:\n",
      "              precision    recall  f1-score   support\n",
      "\n",
      "           0       0.00      0.00      0.00         0\n",
      "           1       0.06      0.73      0.11        30\n",
      "           2       0.71      0.83      0.77      3567\n",
      "           3       0.97      0.80      0.88     20076\n",
      "           4       0.87      0.99      0.93     19689\n",
      "\n",
      "    accuracy                           0.89     43362\n",
      "   macro avg       0.52      0.67      0.54     43362\n",
      "weighted avg       0.91      0.89      0.89     43362\n",
      "\n"
     ]
    },
    {
     "name": "stderr",
     "output_type": "stream",
     "text": [
      "/usr/local/lib/python3.10/dist-packages/sklearn/metrics/_classification.py:1531: UndefinedMetricWarning: Precision is ill-defined and being set to 0.0 in labels with no predicted samples. Use `zero_division` parameter to control this behavior.\n",
      "  _warn_prf(average, modifier, f\"{metric.capitalize()} is\", len(result))\n"
     ]
    },
    {
     "name": "stdout",
     "output_type": "stream",
     "text": [
      "\n",
      "Test Results\n",
      "\tAverage loss: 1114.0633\n",
      "\tF1-Score Micro: 0.8890\n",
      "\tF1-Score Macro: 0.5428\n",
      "\tWeighted F1-Score: 0.8836\n",
      "\tPrecision: 0.8878\n",
      "\tRecall: 0.8890\n",
      "\tAccuracy: 0.8890\n",
      "\tF1 Claim: 0.7241\n",
      "\tF1 Evidence 0.8944\n",
      "\tClassification Report:\n",
      "              precision    recall  f1-score   support\n",
      "\n",
      "           0       0.00      0.00      0.00         0\n",
      "           1       0.08      0.89      0.15        35\n",
      "           2       0.71      0.77      0.74      4349\n",
      "           3       0.96      0.85      0.90     18525\n",
      "           4       0.89      0.95      0.92     20733\n",
      "\n",
      "    accuracy                           0.89     43642\n",
      "   macro avg       0.53      0.69      0.54     43642\n",
      "weighted avg       0.90      0.89      0.89     43642\n",
      "\n"
     ]
    }
   ],
   "source": [
    "evaluate(bert_model_original, neoplasm_test_dataloader, device, verbose=True);\n",
    "evaluate(bert_model_original, glaucoma_test_dataloader, device, verbose=True);\n",
    "evaluate(bert_model_original, mixed_test_dataloader, device, verbose=True);"
   ]
  },
  {
   "cell_type": "code",
   "execution_count": 67,
   "metadata": {
    "colab": {
     "base_uri": "https://localhost:8080/"
    },
    "id": "kKMhRJD8Qoge",
    "outputId": "fb0227f2-c549-402f-8768-2427e5b83811"
   },
   "outputs": [
    {
     "name": "stdout",
     "output_type": "stream",
     "text": [
      "\n",
      "Training with seed 42...\n",
      "\n",
      "Epoch 1/5\n"
     ]
    },
    {
     "name": "stderr",
     "output_type": "stream",
     "text": []
    },
    {
     "name": "stdout",
     "output_type": "stream",
     "text": [
      "Training\n",
      "\ttrain_loss: 671.9845\n",
      "\tF1-Score Micro: 0.5617 | F1-Score Macro: 0.3233 | Weighted F1-Score: 0.604411 | Precision: 0.6606 | Recall: 0.5617 | Accuracy: 0.5617\n"
     ]
    },
    {
     "name": "stderr",
     "output_type": "stream",
     "text": [
      "/usr/local/lib/python3.10/dist-packages/sklearn/metrics/_classification.py:1531: UndefinedMetricWarning: Precision is ill-defined and being set to 0.0 in labels with no predicted samples. Use `zero_division` parameter to control this behavior.\n",
      "  _warn_prf(average, modifier, f\"{metric.capitalize()} is\", len(result))\n"
     ]
    },
    {
     "name": "stdout",
     "output_type": "stream",
     "text": [
      "Validation\n",
      "\tval_loss: 1027.4487\n",
      "\tF1-Score Micro: 0.8865 | F1-Score Macro: 0.5025 | Weighted F1-Score: 0.8821 | Precision: 0.8787 | Recall: 0.8865 | Accuracy: 0.8865\n",
      "****************************************************************************************************\n",
      "\n",
      "Epoch 2/5\n"
     ]
    },
    {
     "name": "stderr",
     "output_type": "stream",
     "text": []
    },
    {
     "name": "stdout",
     "output_type": "stream",
     "text": [
      "Training\n",
      "\ttrain_loss: 501.7376\n",
      "\tF1-Score Micro: 0.6151 | F1-Score Macro: 0.3785 | Weighted F1-Score: 0.666763 | Precision: 0.7412 | Recall: 0.6151 | Accuracy: 0.6151\n"
     ]
    },
    {
     "name": "stderr",
     "output_type": "stream",
     "text": [
      "/usr/local/lib/python3.10/dist-packages/sklearn/metrics/_classification.py:1531: UndefinedMetricWarning: Precision is ill-defined and being set to 0.0 in labels with no predicted samples. Use `zero_division` parameter to control this behavior.\n",
      "  _warn_prf(average, modifier, f\"{metric.capitalize()} is\", len(result))\n"
     ]
    },
    {
     "name": "stdout",
     "output_type": "stream",
     "text": [
      "Validation\n",
      "\tval_loss: 710.0954\n",
      "\tF1-Score Micro: 0.9117 | F1-Score Macro: 0.6562 | Weighted F1-Score: 0.9115 | Precision: 0.9129 | Recall: 0.9117 | Accuracy: 0.9117\n",
      "****************************************************************************************************\n",
      "\n",
      "Epoch 3/5\n"
     ]
    },
    {
     "name": "stderr",
     "output_type": "stream",
     "text": []
    },
    {
     "name": "stdout",
     "output_type": "stream",
     "text": [
      "Training\n",
      "\ttrain_loss: 440.3242\n",
      "\tF1-Score Micro: 0.6352 | F1-Score Macro: 0.4084 | Weighted F1-Score: 0.686707 | Precision: 0.7663 | Recall: 0.6352 | Accuracy: 0.6352\n"
     ]
    },
    {
     "name": "stderr",
     "output_type": "stream",
     "text": []
    },
    {
     "name": "stdout",
     "output_type": "stream",
     "text": [
      "Validation\n",
      "\tval_loss: 678.1822\n",
      "\tF1-Score Micro: 0.9251 | F1-Score Macro: 0.8010 | Weighted F1-Score: 0.9260 | Precision: 0.9284 | Recall: 0.9251 | Accuracy: 0.9251\n",
      "****************************************************************************************************\n",
      "\n",
      "Epoch 4/5\n"
     ]
    },
    {
     "name": "stderr",
     "output_type": "stream",
     "text": []
    },
    {
     "name": "stdout",
     "output_type": "stream",
     "text": [
      "Training\n",
      "\ttrain_loss: 393.3184\n",
      "\tF1-Score Micro: 0.6488 | F1-Score Macro: 0.4264 | Weighted F1-Score: 0.695508 | Precision: 0.7698 | Recall: 0.6488 | Accuracy: 0.6488\n"
     ]
    },
    {
     "name": "stderr",
     "output_type": "stream",
     "text": []
    },
    {
     "name": "stdout",
     "output_type": "stream",
     "text": [
      "Validation\n",
      "\tval_loss: 774.5019\n",
      "\tF1-Score Micro: 0.9100 | F1-Score Macro: 0.7876 | Weighted F1-Score: 0.9112 | Precision: 0.9164 | Recall: 0.9100 | Accuracy: 0.9100\n",
      "****************************************************************************************************\n",
      "\n",
      "Epoch 5/5\n"
     ]
    },
    {
     "name": "stderr",
     "output_type": "stream",
     "text": []
    },
    {
     "name": "stdout",
     "output_type": "stream",
     "text": [
      "Training\n",
      "\ttrain_loss: 370.4218\n",
      "\tF1-Score Micro: 0.6791 | F1-Score Macro: 0.4496 | Weighted F1-Score: 0.721130 | Precision: 0.7878 | Recall: 0.6791 | Accuracy: 0.6791\n"
     ]
    },
    {
     "name": "stderr",
     "output_type": "stream",
     "text": []
    },
    {
     "name": "stdout",
     "output_type": "stream",
     "text": [
      "Validation\n",
      "\tval_loss: 742.6063\n",
      "\tF1-Score Micro: 0.9037 | F1-Score Macro: 0.7971 | Weighted F1-Score: 0.9072 | Precision: 0.9146 | Recall: 0.9037 | Accuracy: 0.9037\n",
      "****************************************************************************************************\n",
      "\n",
      "Best Val F1-Score: 0.8010 at epoch 3\n",
      "Saving model...\n",
      "Saved!\n",
      "\n",
      "Training completed.\n"
     ]
    }
   ],
   "source": [
    "#BERT training custom dataset\n",
    "\n",
    "bert_model_custom, results_custom = train(bert_model_custom,  \"bert-base_custom\" , train_dataloader, val_dataloader, learning_rate=LR, num_epochs=EPOCHS,class_weights = CLASS_WEIGHTS_NORMALIZED_CUSTOM,\n",
    "                                seeds=seeds,save_model=True,models_folder=output_folder)"
   ]
  },
  {
   "cell_type": "code",
   "execution_count": 68,
   "metadata": {
    "colab": {
     "base_uri": "https://localhost:8080/"
    },
    "id": "U_gDyaxfSj7z",
    "outputId": "760e4c3b-6fd9-4794-db9c-c81b5b35d1d5"
   },
   "outputs": [
    {
     "name": "stderr",
     "output_type": "stream",
     "text": []
    },
    {
     "name": "stdout",
     "output_type": "stream",
     "text": [
      "\n",
      "Test Results\n",
      "\tAverage loss: 570.0512\n",
      "\tF1-Score Micro: 0.9414\n",
      "\tF1-Score Macro: 0.8717\n",
      "\tWeighted F1-Score: 0.9419\n",
      "\tPrecision: 0.9428\n",
      "\tRecall: 0.9414\n",
      "\tAccuracy: 0.9414\n",
      "\tF1 Claim: 0.8566\n",
      "\tF1 Evidence 0.9447\n",
      "\tClassification Report:\n",
      "              precision    recall  f1-score   support\n",
      "\n",
      "           0       0.73      0.77      0.75       248\n",
      "           1       0.84      0.84      0.84       539\n",
      "           2       0.90      0.82      0.86      7214\n",
      "           3       0.94      0.95      0.95     20796\n",
      "           4       0.95      0.96      0.96     29386\n",
      "\n",
      "    accuracy                           0.94     58183\n",
      "   macro avg       0.87      0.87      0.87     58183\n",
      "weighted avg       0.94      0.94      0.94     58183\n",
      "\n"
     ]
    }
   ],
   "source": [
    "evaluate(bert_model_custom, custom_test_dataloader, device, verbose=True);"
   ]
  },
  {
   "cell_type": "markdown",
   "metadata": {
    "id": "k880rH8o9hsb"
   },
   "source": [
    "#### BioBERT - Training"
   ]
  },
  {
   "cell_type": "code",
   "execution_count": 50,
   "metadata": {
    "colab": {
     "base_uri": "https://localhost:8080/"
    },
    "id": "f6GcNCp9y1xS",
    "outputId": "1ccd417e-05b5-48d8-fb84-54734842b67b"
   },
   "outputs": [
    {
     "name": "stdout",
     "output_type": "stream",
     "text": [
      "\n",
      "Training with seed 42...\n",
      "\n",
      "Epoch 1/5\n"
     ]
    },
    {
     "name": "stderr",
     "output_type": "stream",
     "text": []
    },
    {
     "name": "stdout",
     "output_type": "stream",
     "text": [
      "Training\n",
      "\ttrain_loss: 582.8458\n",
      "\tF1-Score Micro: 0.6989 | F1-Score Macro: 0.4083 | Weighted F1-Score: 0.725396 | Precision: 0.7837 | Recall: 0.6989 | Accuracy: 0.6989\n"
     ]
    },
    {
     "name": "stderr",
     "output_type": "stream",
     "text": [
      "/usr/local/lib/python3.10/dist-packages/sklearn/metrics/_classification.py:1531: UndefinedMetricWarning: Precision is ill-defined and being set to 0.0 in labels with no predicted samples. Use `zero_division` parameter to control this behavior.\n",
      "  _warn_prf(average, modifier, f\"{metric.capitalize()} is\", len(result))\n"
     ]
    },
    {
     "name": "stdout",
     "output_type": "stream",
     "text": [
      "Validation\n",
      "\tval_loss: 733.4613\n",
      "\tF1-Score Micro: 0.9238 | F1-Score Macro: 0.5344 | Weighted F1-Score: 0.9182 | Precision: 0.9133 | Recall: 0.9238 | Accuracy: 0.9238\n",
      "****************************************************************************************************\n",
      "\n",
      "Epoch 2/5\n"
     ]
    },
    {
     "name": "stderr",
     "output_type": "stream",
     "text": []
    },
    {
     "name": "stdout",
     "output_type": "stream",
     "text": [
      "Training\n",
      "\ttrain_loss: 454.5709\n",
      "\tF1-Score Micro: 0.7491 | F1-Score Macro: 0.4720 | Weighted F1-Score: 0.778903 | Precision: 0.8417 | Recall: 0.7491 | Accuracy: 0.7491\n"
     ]
    },
    {
     "name": "stderr",
     "output_type": "stream",
     "text": []
    },
    {
     "name": "stdout",
     "output_type": "stream",
     "text": [
      "Validation\n",
      "\tval_loss: 709.7893\n",
      "\tF1-Score Micro: 0.9221 | F1-Score Macro: 0.8218 | Weighted F1-Score: 0.9218 | Precision: 0.9218 | Recall: 0.9221 | Accuracy: 0.9221\n",
      "****************************************************************************************************\n",
      "\n",
      "Epoch 3/5\n"
     ]
    },
    {
     "name": "stderr",
     "output_type": "stream",
     "text": []
    },
    {
     "name": "stdout",
     "output_type": "stream",
     "text": [
      "Training\n",
      "\ttrain_loss: 406.4441\n",
      "\tF1-Score Micro: 0.7689 | F1-Score Macro: 0.5549 | Weighted F1-Score: 0.799124 | Precision: 0.8628 | Recall: 0.7689 | Accuracy: 0.7689\n"
     ]
    },
    {
     "name": "stderr",
     "output_type": "stream",
     "text": []
    },
    {
     "name": "stdout",
     "output_type": "stream",
     "text": [
      "Validation\n",
      "\tval_loss: 782.5351\n",
      "\tF1-Score Micro: 0.9055 | F1-Score Macro: 0.8193 | Weighted F1-Score: 0.9088 | Precision: 0.9217 | Recall: 0.9055 | Accuracy: 0.9055\n",
      "****************************************************************************************************\n",
      "\n",
      "Epoch 4/5\n"
     ]
    },
    {
     "name": "stderr",
     "output_type": "stream",
     "text": []
    },
    {
     "name": "stdout",
     "output_type": "stream",
     "text": [
      "Training\n",
      "\ttrain_loss: 362.7870\n",
      "\tF1-Score Micro: 0.8048 | F1-Score Macro: 0.5855 | Weighted F1-Score: 0.838963 | Precision: 0.8986 | Recall: 0.8048 | Accuracy: 0.8048\n"
     ]
    },
    {
     "name": "stderr",
     "output_type": "stream",
     "text": []
    },
    {
     "name": "stdout",
     "output_type": "stream",
     "text": [
      "Validation\n",
      "\tval_loss: 587.3463\n",
      "\tF1-Score Micro: 0.9309 | F1-Score Macro: 0.8524 | Weighted F1-Score: 0.9315 | Precision: 0.9334 | Recall: 0.9309 | Accuracy: 0.9309\n",
      "****************************************************************************************************\n",
      "\n",
      "Epoch 5/5\n"
     ]
    },
    {
     "name": "stderr",
     "output_type": "stream",
     "text": []
    },
    {
     "name": "stdout",
     "output_type": "stream",
     "text": [
      "Training\n",
      "\ttrain_loss: 329.3842\n",
      "\tF1-Score Micro: 0.8150 | F1-Score Macro: 0.5944 | Weighted F1-Score: 0.849952 | Precision: 0.9096 | Recall: 0.8150 | Accuracy: 0.8150\n"
     ]
    },
    {
     "name": "stderr",
     "output_type": "stream",
     "text": []
    },
    {
     "name": "stdout",
     "output_type": "stream",
     "text": [
      "Validation\n",
      "\tval_loss: 733.3507\n",
      "\tF1-Score Micro: 0.9154 | F1-Score Macro: 0.8276 | Weighted F1-Score: 0.9158 | Precision: 0.9188 | Recall: 0.9154 | Accuracy: 0.9154\n",
      "****************************************************************************************************\n",
      "\n",
      "Best Val F1-Score: 0.8524 at epoch 4\n",
      "Saving model...\n",
      "Saved!\n",
      "\n",
      "Training completed.\n"
     ]
    }
   ],
   "source": [
    "#BioBERT training original dataset\n",
    "output_folder = \"bio_bert_models\"\n",
    "\n",
    "bio_bert_model_original, results_bio_custom = train(bio_bert_model_original,  \"bio-bert_original\" , train_dataloader_bio, val_dataloader_bio, learning_rate=LR, num_epochs=EPOCHS,class_weights = CLASS_WEIGHTS_NORMALIZED_BIOBERT,\n",
    "                                seeds=seeds,save_model=True,models_folder=output_folder)"
   ]
  },
  {
   "cell_type": "code",
   "execution_count": 51,
   "metadata": {
    "colab": {
     "base_uri": "https://localhost:8080/"
    },
    "id": "x4ER_WboprT4",
    "outputId": "1658bb4e-9001-4da9-f8d2-4ab5f2b8f990"
   },
   "outputs": [
    {
     "name": "stderr",
     "output_type": "stream",
     "text": []
    },
    {
     "name": "stdout",
     "output_type": "stream",
     "text": [
      "\n",
      "Neoplasm Test Results\n",
      "\tAverage loss: 1027.3477\n",
      "\tF1-Score Micro: 0.9135\n",
      "\tF1-Score Macro: 0.8313\n",
      "\tWeighted F1-Score: 0.9124\n",
      "\tPrecision: 0.9155\n",
      "\tRecall: 0.9135\n",
      "\tAccuracy: 0.9135\n",
      "\tF1 Claim: 0.7797\n",
      "\tF1 Evidence 0.9191\n",
      "\tClassification Report:\n",
      "              precision    recall  f1-score   support\n",
      "\n",
      "           0       0.62      0.76      0.68       178\n",
      "           1       0.90      0.77      0.83       499\n",
      "           2       0.72      0.85      0.78      4713\n",
      "           3       0.98      0.87      0.92     17039\n",
      "           4       0.92      0.96      0.94     22082\n",
      "\n",
      "    accuracy                           0.91     44511\n",
      "   macro avg       0.83      0.84      0.83     44511\n",
      "weighted avg       0.92      0.91      0.91     44511\n",
      "\n"
     ]
    },
    {
     "name": "stderr",
     "output_type": "stream",
     "text": []
    },
    {
     "name": "stdout",
     "output_type": "stream",
     "text": [
      "\n",
      "Glaucoma Test Results\n",
      "\tAverage loss: 924.9071\n",
      "\tF1-Score Micro: 0.9279\n",
      "\tF1-Score Macro: 0.8651\n",
      "\tWeighted F1-Score: 0.9283\n",
      "\tPrecision: 0.9330\n",
      "\tRecall: 0.9279\n",
      "\tAccuracy: 0.9279\n",
      "\tF1 Claim: 0.8506\n",
      "\tF1 Evidence 0.9210\n",
      "\tClassification Report:\n",
      "              precision    recall  f1-score   support\n",
      "\n",
      "           0       0.75      0.81      0.78       139\n",
      "           1       0.92      0.74      0.82       461\n",
      "           2       0.82      0.89      0.85      3871\n",
      "           3       0.98      0.87      0.92     18912\n",
      "           4       0.91      0.99      0.95     21421\n",
      "\n",
      "    accuracy                           0.93     44804\n",
      "   macro avg       0.88      0.86      0.87     44804\n",
      "weighted avg       0.93      0.93      0.93     44804\n",
      "\n"
     ]
    },
    {
     "name": "stderr",
     "output_type": "stream",
     "text": []
    },
    {
     "name": "stdout",
     "output_type": "stream",
     "text": [
      "\n",
      "Mixed Test Results\n",
      "\tAverage loss: 965.9122\n",
      "\tF1-Score Micro: 0.9156\n",
      "\tF1-Score Macro: 0.8378\n",
      "\tWeighted F1-Score: 0.9155\n",
      "\tPrecision: 0.9173\n",
      "\tRecall: 0.9156\n",
      "\tAccuracy: 0.9156\n",
      "\tF1 Claim: 0.7847\n",
      "\tF1 Evidence 0.9290\n",
      "\tClassification Report:\n",
      "              precision    recall  f1-score   support\n",
      "\n",
      "           0       0.69      0.74      0.72       172\n",
      "           1       0.89      0.76      0.82       435\n",
      "           2       0.78      0.80      0.79      4706\n",
      "           3       0.97      0.90      0.93     18127\n",
      "           4       0.91      0.96      0.93     21980\n",
      "\n",
      "    accuracy                           0.92     45420\n",
      "   macro avg       0.85      0.83      0.84     45420\n",
      "weighted avg       0.92      0.92      0.92     45420\n",
      "\n"
     ]
    }
   ],
   "source": [
    "evaluate(bio_bert_model_original, neoplasm_test_dataloader_bio, device, verbose=True, name='Neoplasm');\n",
    "evaluate(bio_bert_model_original, glaucoma_test_dataloader_bio, device, verbose=True, name='Glaucoma');\n",
    "evaluate(bio_bert_model_original, mixed_test_dataloader_bio, device, verbose=True, name='Mixed');"
   ]
  },
  {
   "cell_type": "code",
   "execution_count": 52,
   "metadata": {
    "colab": {
     "base_uri": "https://localhost:8080/"
    },
    "id": "pZQ-zZAStZWo",
    "outputId": "774e922e-8258-4506-ea1e-b274fb00c6c1"
   },
   "outputs": [
    {
     "name": "stdout",
     "output_type": "stream",
     "text": [
      "\n",
      "Training with seed 42...\n",
      "\n",
      "Epoch 1/5\n"
     ]
    },
    {
     "name": "stderr",
     "output_type": "stream",
     "text": []
    },
    {
     "name": "stdout",
     "output_type": "stream",
     "text": [
      "Training\n",
      "\ttrain_loss: 593.0507\n",
      "\tF1-Score Micro: 0.6951 | F1-Score Macro: 0.4124 | Weighted F1-Score: 0.732026 | Precision: 0.8004 | Recall: 0.6951 | Accuracy: 0.6951\n"
     ]
    },
    {
     "name": "stderr",
     "output_type": "stream",
     "text": [
      "/usr/local/lib/python3.10/dist-packages/sklearn/metrics/_classification.py:1531: UndefinedMetricWarning: Precision is ill-defined and being set to 0.0 in labels with no predicted samples. Use `zero_division` parameter to control this behavior.\n",
      "  _warn_prf(average, modifier, f\"{metric.capitalize()} is\", len(result))\n"
     ]
    },
    {
     "name": "stdout",
     "output_type": "stream",
     "text": [
      "Validation\n",
      "\tval_loss: 997.2362\n",
      "\tF1-Score Micro: 0.8867 | F1-Score Macro: 0.5156 | Weighted F1-Score: 0.8786 | Precision: 0.8762 | Recall: 0.8867 | Accuracy: 0.8867\n",
      "****************************************************************************************************\n",
      "\n",
      "Epoch 2/5\n"
     ]
    },
    {
     "name": "stderr",
     "output_type": "stream",
     "text": []
    },
    {
     "name": "stdout",
     "output_type": "stream",
     "text": [
      "Training\n",
      "\ttrain_loss: 473.1755\n",
      "\tF1-Score Micro: 0.7529 | F1-Score Macro: 0.4778 | Weighted F1-Score: 0.793638 | Precision: 0.8641 | Recall: 0.7529 | Accuracy: 0.7529\n"
     ]
    },
    {
     "name": "stderr",
     "output_type": "stream",
     "text": []
    },
    {
     "name": "stdout",
     "output_type": "stream",
     "text": [
      "Validation\n",
      "\tval_loss: 818.9150\n",
      "\tF1-Score Micro: 0.9104 | F1-Score Macro: 0.7785 | Weighted F1-Score: 0.9115 | Precision: 0.9211 | Recall: 0.9104 | Accuracy: 0.9104\n",
      "****************************************************************************************************\n",
      "\n",
      "Epoch 3/5\n"
     ]
    },
    {
     "name": "stderr",
     "output_type": "stream",
     "text": []
    },
    {
     "name": "stdout",
     "output_type": "stream",
     "text": [
      "Training\n",
      "\ttrain_loss: 418.7474\n",
      "\tF1-Score Micro: 0.7732 | F1-Score Macro: 0.5198 | Weighted F1-Score: 0.815452 | Precision: 0.8890 | Recall: 0.7732 | Accuracy: 0.7732\n"
     ]
    },
    {
     "name": "stderr",
     "output_type": "stream",
     "text": []
    },
    {
     "name": "stdout",
     "output_type": "stream",
     "text": [
      "Validation\n",
      "\tval_loss: 668.7815\n",
      "\tF1-Score Micro: 0.9280 | F1-Score Macro: 0.8570 | Weighted F1-Score: 0.9276 | Precision: 0.9289 | Recall: 0.9280 | Accuracy: 0.9280\n",
      "****************************************************************************************************\n",
      "\n",
      "Epoch 4/5\n"
     ]
    },
    {
     "name": "stderr",
     "output_type": "stream",
     "text": []
    },
    {
     "name": "stdout",
     "output_type": "stream",
     "text": [
      "Training\n",
      "\ttrain_loss: 374.4778\n",
      "\tF1-Score Micro: 0.7938 | F1-Score Macro: 0.5396 | Weighted F1-Score: 0.836513 | Precision: 0.9098 | Recall: 0.7938 | Accuracy: 0.7938\n"
     ]
    },
    {
     "name": "stderr",
     "output_type": "stream",
     "text": []
    },
    {
     "name": "stdout",
     "output_type": "stream",
     "text": [
      "Validation\n",
      "\tval_loss: 803.3311\n",
      "\tF1-Score Micro: 0.9174 | F1-Score Macro: 0.8428 | Weighted F1-Score: 0.9181 | Precision: 0.9210 | Recall: 0.9174 | Accuracy: 0.9174\n",
      "****************************************************************************************************\n",
      "\n",
      "Epoch 5/5\n"
     ]
    },
    {
     "name": "stderr",
     "output_type": "stream",
     "text": []
    },
    {
     "name": "stdout",
     "output_type": "stream",
     "text": [
      "Training\n",
      "\ttrain_loss: 348.8136\n",
      "\tF1-Score Micro: 0.8337 | F1-Score Macro: 0.6234 | Weighted F1-Score: 0.870096 | Precision: 0.9263 | Recall: 0.8337 | Accuracy: 0.8337\n"
     ]
    },
    {
     "name": "stderr",
     "output_type": "stream",
     "text": []
    },
    {
     "name": "stdout",
     "output_type": "stream",
     "text": [
      "Validation\n",
      "\tval_loss: 982.2916\n",
      "\tF1-Score Micro: 0.9136 | F1-Score Macro: 0.8336 | Weighted F1-Score: 0.9146 | Precision: 0.9202 | Recall: 0.9136 | Accuracy: 0.9136\n",
      "****************************************************************************************************\n",
      "\n",
      "Best Val F1-Score: 0.8570 at epoch 3\n",
      "Saving model...\n",
      "Saved!\n",
      "\n",
      "Training completed.\n"
     ]
    }
   ],
   "source": [
    "#BioBERT training custom dataset\n",
    "\n",
    "bio_bert_model_custom, results_custom_bio = train(bio_bert_model_custom,  \"bio-bert_custom\" , custom_train_dataloader_bio, custom_val_dataloader_bio, learning_rate=LR, num_epochs=EPOCHS,class_weights = CLASS_WEIGHTS_NORMALIZED_CUSTOM_BIOBERT,seeds=seeds,save_model=True,models_folder=output_folder)"
   ]
  },
  {
   "cell_type": "code",
   "execution_count": 53,
   "metadata": {
    "colab": {
     "base_uri": "https://localhost:8080/"
    },
    "id": "Q9ZOOkEH3pHd",
    "outputId": "3452db74-8f46-4235-ba93-a036f260832b"
   },
   "outputs": [
    {
     "name": "stderr",
     "output_type": "stream",
     "text": []
    },
    {
     "name": "stdout",
     "output_type": "stream",
     "text": [
      "\n",
      "Test Results\n",
      "\tAverage loss: 960.0096\n",
      "\tF1-Score Micro: 0.9127\n",
      "\tF1-Score Macro: 0.8283\n",
      "\tWeighted F1-Score: 0.9124\n",
      "\tPrecision: 0.9137\n",
      "\tRecall: 0.9127\n",
      "\tAccuracy: 0.9127\n",
      "\tF1 Claim: 0.7285\n",
      "\tF1 Evidence 0.9339\n",
      "\tClassification Report:\n",
      "              precision    recall  f1-score   support\n",
      "\n",
      "           0       0.69      0.71      0.70       238\n",
      "           1       0.88      0.79      0.84       586\n",
      "           2       0.72      0.74      0.73      6451\n",
      "           3       0.97      0.90      0.94     23253\n",
      "           4       0.91      0.96      0.94     29724\n",
      "\n",
      "    accuracy                           0.91     60252\n",
      "   macro avg       0.84      0.82      0.83     60252\n",
      "weighted avg       0.91      0.91      0.91     60252\n",
      "\n"
     ]
    }
   ],
   "source": [
    "evaluate(bio_bert_model_custom, custom_test_dataloader_bio, device, verbose=True);"
   ]
  },
  {
   "cell_type": "markdown",
   "metadata": {
    "id": "C6eebzW2Dk6G"
   },
   "source": [
    "#### SciBERT - Training"
   ]
  },
  {
   "cell_type": "code",
   "execution_count": 54,
   "metadata": {
    "colab": {
     "base_uri": "https://localhost:8080/"
    },
    "id": "2BuO3Gw-DkHC",
    "outputId": "24da9f31-5b30-4340-c9f9-b8e68e4fce31"
   },
   "outputs": [
    {
     "name": "stdout",
     "output_type": "stream",
     "text": [
      "\n",
      "Training with seed 42...\n",
      "\n",
      "Epoch 1/5\n"
     ]
    },
    {
     "name": "stderr",
     "output_type": "stream",
     "text": []
    },
    {
     "name": "stdout",
     "output_type": "stream",
     "text": [
      "Training\n",
      "\ttrain_loss: 489.4452\n",
      "\tF1-Score Micro: 0.7250 | F1-Score Macro: 0.4169 | Weighted F1-Score: 0.746850 | Precision: 0.7854 | Recall: 0.7250 | Accuracy: 0.7250\n"
     ]
    },
    {
     "name": "stderr",
     "output_type": "stream",
     "text": []
    },
    {
     "name": "stdout",
     "output_type": "stream",
     "text": [
      "Validation\n",
      "\tval_loss: 628.7805\n",
      "\tF1-Score Micro: 0.9212 | F1-Score Macro: 0.6688 | Weighted F1-Score: 0.9190 | Precision: 0.9212 | Recall: 0.9212 | Accuracy: 0.9212\n",
      "****************************************************************************************************\n",
      "\n",
      "Epoch 2/5\n"
     ]
    },
    {
     "name": "stderr",
     "output_type": "stream",
     "text": []
    },
    {
     "name": "stdout",
     "output_type": "stream",
     "text": [
      "Training\n",
      "\ttrain_loss: 380.9554\n",
      "\tF1-Score Micro: 0.7865 | F1-Score Macro: 0.5338 | Weighted F1-Score: 0.808755 | Precision: 0.8567 | Recall: 0.7865 | Accuracy: 0.7865\n"
     ]
    },
    {
     "name": "stderr",
     "output_type": "stream",
     "text": []
    },
    {
     "name": "stdout",
     "output_type": "stream",
     "text": [
      "Validation\n",
      "\tval_loss: 578.4485\n",
      "\tF1-Score Micro: 0.9193 | F1-Score Macro: 0.8136 | Weighted F1-Score: 0.9195 | Precision: 0.9201 | Recall: 0.9193 | Accuracy: 0.9193\n",
      "****************************************************************************************************\n",
      "\n",
      "Epoch 3/5\n"
     ]
    },
    {
     "name": "stderr",
     "output_type": "stream",
     "text": []
    },
    {
     "name": "stdout",
     "output_type": "stream",
     "text": [
      "Training\n",
      "\ttrain_loss: 336.1370\n",
      "\tF1-Score Micro: 0.8294 | F1-Score Macro: 0.5985 | Weighted F1-Score: 0.848030 | Precision: 0.8918 | Recall: 0.8294 | Accuracy: 0.8294\n"
     ]
    },
    {
     "name": "stderr",
     "output_type": "stream",
     "text": []
    },
    {
     "name": "stdout",
     "output_type": "stream",
     "text": [
      "Validation\n",
      "\tval_loss: 516.8951\n",
      "\tF1-Score Micro: 0.9192 | F1-Score Macro: 0.8304 | Weighted F1-Score: 0.9206 | Precision: 0.9260 | Recall: 0.9192 | Accuracy: 0.9192\n",
      "****************************************************************************************************\n",
      "\n",
      "Epoch 4/5\n"
     ]
    },
    {
     "name": "stderr",
     "output_type": "stream",
     "text": []
    },
    {
     "name": "stdout",
     "output_type": "stream",
     "text": [
      "Training\n",
      "\ttrain_loss: 319.5597\n",
      "\tF1-Score Micro: 0.8598 | F1-Score Macro: 0.6561 | Weighted F1-Score: 0.872633 | Precision: 0.9077 | Recall: 0.8598 | Accuracy: 0.8598\n"
     ]
    },
    {
     "name": "stderr",
     "output_type": "stream",
     "text": []
    },
    {
     "name": "stdout",
     "output_type": "stream",
     "text": [
      "Validation\n",
      "\tval_loss: 557.6377\n",
      "\tF1-Score Micro: 0.9206 | F1-Score Macro: 0.8439 | Weighted F1-Score: 0.9215 | Precision: 0.9245 | Recall: 0.9206 | Accuracy: 0.9206\n",
      "****************************************************************************************************\n",
      "\n",
      "Epoch 5/5\n"
     ]
    },
    {
     "name": "stderr",
     "output_type": "stream",
     "text": []
    },
    {
     "name": "stdout",
     "output_type": "stream",
     "text": [
      "Training\n",
      "\ttrain_loss: 298.1745\n",
      "\tF1-Score Micro: 0.8746 | F1-Score Macro: 0.6827 | Weighted F1-Score: 0.885154 | Precision: 0.9173 | Recall: 0.8746 | Accuracy: 0.8746\n"
     ]
    },
    {
     "name": "stderr",
     "output_type": "stream",
     "text": []
    },
    {
     "name": "stdout",
     "output_type": "stream",
     "text": [
      "Validation\n",
      "\tval_loss: 662.4119\n",
      "\tF1-Score Micro: 0.9157 | F1-Score Macro: 0.8387 | Weighted F1-Score: 0.9167 | Precision: 0.9198 | Recall: 0.9157 | Accuracy: 0.9157\n",
      "****************************************************************************************************\n",
      "\n",
      "Best Val F1-Score: 0.8439 at epoch 4\n",
      "Saving model...\n",
      "Saved!\n",
      "\n",
      "Training completed.\n"
     ]
    }
   ],
   "source": [
    "#SciBERT training original dataset\n",
    "output_folder = \"/content/drive/MyDrive/data/sci_bert_models\"\n",
    "\n",
    "sci_bert_model_original, results = train(scibert_model_original,  \"sci-bert_original\" , train_dataloader_sci, val_dataloader_sci, learning_rate=LR, num_epochs=EPOCHS,class_weights = CLASS_WEIGHTS_NORMALIZED_SCIBERT,\n",
    "                                seeds=seeds,save_model=True,models_folder=output_folder)"
   ]
  },
  {
   "cell_type": "code",
   "execution_count": 55,
   "metadata": {
    "colab": {
     "base_uri": "https://localhost:8080/"
    },
    "id": "Jt18Npo5DwDA",
    "outputId": "183a33ba-4b15-4f96-ac64-d0e011c07558"
   },
   "outputs": [
    {
     "name": "stderr",
     "output_type": "stream",
     "text": []
    },
    {
     "name": "stdout",
     "output_type": "stream",
     "text": [
      "\n",
      "Neoplasm Test Results\n",
      "\tAverage loss: 742.2750\n",
      "\tF1-Score Micro: 0.9101\n",
      "\tF1-Score Macro: 0.8374\n",
      "\tWeighted F1-Score: 0.9101\n",
      "\tPrecision: 0.9109\n",
      "\tRecall: 0.9101\n",
      "\tAccuracy: 0.9101\n",
      "\tF1 Claim: 0.7946\n",
      "\tF1 Evidence 0.9156\n",
      "\tClassification Report:\n",
      "              precision    recall  f1-score   support\n",
      "\n",
      "           0       0.70      0.71      0.70       229\n",
      "           1       0.87      0.79      0.83       473\n",
      "           2       0.79      0.81      0.80      4890\n",
      "           3       0.94      0.90      0.92     14970\n",
      "           4       0.92      0.95      0.94     19138\n",
      "\n",
      "    accuracy                           0.91     39700\n",
      "   macro avg       0.84      0.83      0.84     39700\n",
      "weighted avg       0.91      0.91      0.91     39700\n",
      "\n"
     ]
    },
    {
     "name": "stderr",
     "output_type": "stream",
     "text": []
    },
    {
     "name": "stdout",
     "output_type": "stream",
     "text": [
      "\n",
      "Glaucoma Test Results\n",
      "\tAverage loss: 736.6398\n",
      "\tF1-Score Micro: 0.9215\n",
      "\tF1-Score Macro: 0.8591\n",
      "\tWeighted F1-Score: 0.9222\n",
      "\tPrecision: 0.9274\n",
      "\tRecall: 0.9215\n",
      "\tAccuracy: 0.9215\n",
      "\tF1 Claim: 0.8638\n",
      "\tF1 Evidence 0.9167\n",
      "\tClassification Report:\n",
      "              precision    recall  f1-score   support\n",
      "\n",
      "           0       0.80      0.75      0.77       182\n",
      "           1       0.91      0.71      0.80       500\n",
      "           2       0.88      0.85      0.87      4026\n",
      "           3       0.97      0.88      0.92     17255\n",
      "           4       0.89      0.99      0.94     17855\n",
      "\n",
      "    accuracy                           0.92     39818\n",
      "   macro avg       0.89      0.84      0.86     39818\n",
      "weighted avg       0.92      0.92      0.92     39818\n",
      "\n"
     ]
    },
    {
     "name": "stderr",
     "output_type": "stream",
     "text": []
    },
    {
     "name": "stdout",
     "output_type": "stream",
     "text": [
      "\n",
      "Mixed Test Results\n",
      "\tAverage loss: 756.5417\n",
      "\tF1-Score Micro: 0.9068\n",
      "\tF1-Score Macro: 0.8323\n",
      "\tWeighted F1-Score: 0.9080\n",
      "\tPrecision: 0.9108\n",
      "\tRecall: 0.9068\n",
      "\tAccuracy: 0.9068\n",
      "\tF1 Claim: 0.7799\n",
      "\tF1 Evidence 0.9213\n",
      "\tClassification Report:\n",
      "              precision    recall  f1-score   support\n",
      "\n",
      "           0       0.75      0.68      0.72       226\n",
      "           1       0.86      0.77      0.81       429\n",
      "           2       0.83      0.74      0.78      5099\n",
      "           3       0.94      0.91      0.92     15770\n",
      "           4       0.90      0.95      0.93     18522\n",
      "\n",
      "    accuracy                           0.91     40046\n",
      "   macro avg       0.86      0.81      0.83     40046\n",
      "weighted avg       0.91      0.91      0.91     40046\n",
      "\n"
     ]
    }
   ],
   "source": [
    "evaluate(sci_bert_model_original, neoplasm_test_dataloader_sci, device, verbose=True, name='Neoplasm');\n",
    "evaluate(sci_bert_model_original, glaucoma_test_dataloader_sci, device, verbose=True, name='Glaucoma');\n",
    "evaluate(sci_bert_model_original, mixed_test_dataloader_sci, device, verbose=True, name='Mixed');"
   ]
  },
  {
   "cell_type": "code",
   "execution_count": 56,
   "metadata": {
    "colab": {
     "base_uri": "https://localhost:8080/"
    },
    "id": "_nDJZM9Y39Ks",
    "outputId": "4475f0f1-d961-4928-a601-651a9183c735"
   },
   "outputs": [
    {
     "name": "stdout",
     "output_type": "stream",
     "text": [
      "\n",
      "Training with seed 42...\n",
      "\n",
      "Epoch 1/5\n"
     ]
    },
    {
     "name": "stderr",
     "output_type": "stream",
     "text": []
    },
    {
     "name": "stdout",
     "output_type": "stream",
     "text": [
      "Training\n",
      "\ttrain_loss: 518.1846\n",
      "\tF1-Score Micro: 0.5868 | F1-Score Macro: 0.3825 | Weighted F1-Score: 0.659046 | Precision: 0.7594 | Recall: 0.5868 | Accuracy: 0.5868\n"
     ]
    },
    {
     "name": "stderr",
     "output_type": "stream",
     "text": []
    },
    {
     "name": "stdout",
     "output_type": "stream",
     "text": [
      "Validation\n",
      "\tval_loss: 848.0863\n",
      "\tF1-Score Micro: 0.8779 | F1-Score Macro: 0.6415 | Weighted F1-Score: 0.8738 | Precision: 0.8805 | Recall: 0.8779 | Accuracy: 0.8779\n",
      "****************************************************************************************************\n",
      "\n",
      "Epoch 2/5\n"
     ]
    },
    {
     "name": "stderr",
     "output_type": "stream",
     "text": []
    },
    {
     "name": "stdout",
     "output_type": "stream",
     "text": [
      "Training\n",
      "\ttrain_loss: 409.4875\n",
      "\tF1-Score Micro: 0.6363 | F1-Score Macro: 0.4440 | Weighted F1-Score: 0.713850 | Precision: 0.8328 | Recall: 0.6363 | Accuracy: 0.6363\n"
     ]
    },
    {
     "name": "stderr",
     "output_type": "stream",
     "text": []
    },
    {
     "name": "stdout",
     "output_type": "stream",
     "text": [
      "Validation\n",
      "\tval_loss: 662.9297\n",
      "\tF1-Score Micro: 0.9085 | F1-Score Macro: 0.8069 | Weighted F1-Score: 0.9059 | Precision: 0.9105 | Recall: 0.9085 | Accuracy: 0.9085\n",
      "****************************************************************************************************\n",
      "\n",
      "Epoch 3/5\n"
     ]
    },
    {
     "name": "stderr",
     "output_type": "stream",
     "text": []
    },
    {
     "name": "stdout",
     "output_type": "stream",
     "text": [
      "Training\n",
      "\ttrain_loss: 371.9703\n",
      "\tF1-Score Micro: 0.6562 | F1-Score Macro: 0.4680 | Weighted F1-Score: 0.735557 | Precision: 0.8597 | Recall: 0.6562 | Accuracy: 0.6562\n"
     ]
    },
    {
     "name": "stderr",
     "output_type": "stream",
     "text": []
    },
    {
     "name": "stdout",
     "output_type": "stream",
     "text": [
      "Validation\n",
      "\tval_loss: 586.5672\n",
      "\tF1-Score Micro: 0.9169 | F1-Score Macro: 0.8284 | Weighted F1-Score: 0.9156 | Precision: 0.9181 | Recall: 0.9169 | Accuracy: 0.9169\n",
      "****************************************************************************************************\n",
      "\n",
      "Epoch 4/5\n"
     ]
    },
    {
     "name": "stderr",
     "output_type": "stream",
     "text": []
    },
    {
     "name": "stdout",
     "output_type": "stream",
     "text": [
      "Training\n",
      "\ttrain_loss: 333.8136\n",
      "\tF1-Score Micro: 0.6926 | F1-Score Macro: 0.5099 | Weighted F1-Score: 0.770630 | Precision: 0.8923 | Recall: 0.6926 | Accuracy: 0.6926\n"
     ]
    },
    {
     "name": "stderr",
     "output_type": "stream",
     "text": []
    },
    {
     "name": "stdout",
     "output_type": "stream",
     "text": [
      "Validation\n",
      "\tval_loss: 723.5990\n",
      "\tF1-Score Micro: 0.8933 | F1-Score Macro: 0.8194 | Weighted F1-Score: 0.8945 | Precision: 0.8965 | Recall: 0.8933 | Accuracy: 0.8933\n",
      "****************************************************************************************************\n",
      "\n",
      "Epoch 5/5\n"
     ]
    },
    {
     "name": "stderr",
     "output_type": "stream",
     "text": []
    },
    {
     "name": "stdout",
     "output_type": "stream",
     "text": [
      "Training\n",
      "\ttrain_loss: 321.8989\n",
      "\tF1-Score Micro: 0.7016 | F1-Score Macro: 0.5219 | Weighted F1-Score: 0.780164 | Precision: 0.9042 | Recall: 0.7016 | Accuracy: 0.7016\n"
     ]
    },
    {
     "name": "stderr",
     "output_type": "stream",
     "text": []
    },
    {
     "name": "stdout",
     "output_type": "stream",
     "text": [
      "Validation\n",
      "\tval_loss: 710.5429\n",
      "\tF1-Score Micro: 0.9113 | F1-Score Macro: 0.8420 | Weighted F1-Score: 0.9127 | Precision: 0.9199 | Recall: 0.9113 | Accuracy: 0.9113\n",
      "****************************************************************************************************\n",
      "\n",
      "Best Val F1-Score: 0.8420 at epoch 5\n",
      "Saving model...\n",
      "Saved!\n",
      "\n",
      "Training completed.\n"
     ]
    }
   ],
   "source": [
    "#SciBERT training custom dataset\n",
    "\n",
    "scibert_model_custom, results_custom = train(scibert_model_custom,  \"sci-bert_custom\" , custom_train_dataloader_sci, custom_val_dataloader_sci, learning_rate=LR, num_epochs=EPOCHS,class_weights = CLASS_WEIGHTS_NORMALIZED_CUSTOM_SCIBERT,seeds=seeds,save_model=True,models_folder=output_folder)"
   ]
  },
  {
   "cell_type": "code",
   "execution_count": 57,
   "metadata": {
    "colab": {
     "base_uri": "https://localhost:8080/"
    },
    "id": "bnO9hl3dEDzX",
    "outputId": "cab520de-4ea3-4f46-a28a-3583a3944020"
   },
   "outputs": [
    {
     "name": "stderr",
     "output_type": "stream",
     "text": []
    },
    {
     "name": "stdout",
     "output_type": "stream",
     "text": [
      "\n",
      "Test Results\n",
      "\tAverage loss: 692.0840\n",
      "\tF1-Score Micro: 0.9155\n",
      "\tF1-Score Macro: 0.8416\n",
      "\tWeighted F1-Score: 0.9165\n",
      "\tPrecision: 0.9201\n",
      "\tRecall: 0.9155\n",
      "\tAccuracy: 0.9155\n",
      "\tF1 Claim: 0.7819\n",
      "\tF1 Evidence 0.9341\n",
      "\tClassification Report:\n",
      "              precision    recall  f1-score   support\n",
      "\n",
      "           0       0.76      0.69      0.72       307\n",
      "           1       0.88      0.78      0.83       617\n",
      "           2       0.82      0.75      0.78      6945\n",
      "           3       0.97      0.91      0.94     21374\n",
      "           4       0.90      0.97      0.94     24854\n",
      "\n",
      "    accuracy                           0.92     54097\n",
      "   macro avg       0.87      0.82      0.84     54097\n",
      "weighted avg       0.92      0.92      0.91     54097\n",
      "\n"
     ]
    }
   ],
   "source": [
    "evaluate(scibert_model_custom, custom_test_dataloader_sci, device, verbose=True);"
   ]
  },
  {
   "cell_type": "markdown",
   "metadata": {
    "id": "yeOykC0UW4jl"
   },
   "source": [
    "## Error Analysis"
   ]
  },
  {
   "cell_type": "code",
   "execution_count": 76,
   "metadata": {
    "colab": {
     "base_uri": "https://localhost:8080/",
     "height": 1000
    },
    "id": "KGWnyBKDo-RB",
    "outputId": "5a001f5c-fa16-46fd-f50d-2687c56d1475"
   },
   "outputs": [
    {
     "name": "stdout",
     "output_type": "stream",
     "text": [
      "\n",
      "Example of an annotated sentence:\n",
      "\n",
      "Raw text:\n",
      "['proinflammatory', 'cytokines,', 'especially', 'tumour', 'necrosis', 'factor', 'alpha', '(tnf-alpha),', 'play', 'a', 'prominent', 'role', 'in', 'the', 'pathogenesis', 'of', 'cancer', 'cachexia.', 'thalidomide,', 'which', 'is', 'an', 'inhibitor', 'of', 'tnf-alpha', 'synthesis,', 'may', 'represent', 'a', 'novel', 'and', 'rational', 'approach', 'to', 'the', 'treatment', 'of', 'cancer', 'cachexia.', 'to', 'assess', 'the', 'safety', 'and', 'efficacy', 'of', 'thalidomide', 'in', 'attenuating', 'weight', 'loss', 'in', 'patients', 'with', 'cachexia', 'secondary', 'to', 'advanced', 'pancreatic', 'cancer.', 'fifty', 'patients', 'with', 'advanced', 'pancreatic', 'cancer', 'who', 'had', 'lost', 'at', 'least', '10%', 'of', 'their', 'body', 'weight', 'were', 'randomised', 'to', 'receive', 'thalidomide', '200', 'mg', 'daily', 'or', 'placebo', 'for', '24', 'weeks', 'in', 'a', 'single', 'centre,', 'double', 'blind,', 'randomised', 'controlled', 'trial.', 'the', 'primary', 'outcome', 'was', 'change', 'in', 'weight', 'and', 'nutritional', 'status.', 'thirty', 'three', 'patients', '(16', 'control,', '17', 'thalidomide)', 'were', 'evaluated', 'at', 'four', 'weeks,', 'and', '20', 'patients', '(eight', 'control,', '12', 'thalidomide)', 'at', 'eight', 'weeks.', 'at', 'four', 'weeks,', 'patients', 'who', 'received', 'thalidomide', 'had', 'gained', 'on', 'average', '0.37', 'kg', 'in', 'weight', 'and', '1.0', 'cm(3)', 'in', 'arm', 'muscle', 'mass', '(ama)', 'compared', 'with', 'a', 'loss', 'of', '2.21', 'kg', '(absolute', 'difference', '-2.59', 'kg', '(95%', 'confidence', 'interval', '(ci)', '-4.3', 'to', '-0.8);', 'p', '=', '0.005)', 'and', '4.46', 'cm(3)', '(absolute', 'difference', '-5.6', 'cm(3)', '(95%', 'ci', '-8.9', 'to', '-2.2);', 'p', '=', '0.002)', 'in', 'the', 'placebo', 'group.', 'at', 'eight', 'weeks,', 'patients', 'in', 'the', 'thalidomide', 'group', 'had', 'lost', '0.06', 'kg', 'in', 'weight', 'and', '0.5', 'cm(3)', 'in', 'ama', 'compared', 'with', 'a', 'loss', 'of', '3.62', 'kg', '(absolute', 'difference', '-3.57', 'kg', '(95%', 'ci', '-6.8', 'to', '-0.3);', 'p', '=', '0.034)', 'and', '8.4', 'cm(3)', '(absolute', 'difference', '-7.9', 'cm(3)', '(95%', 'ci', '-14.0', 'to', '-1.8);', 'p', '=', '0.014)', 'in', 'the', 'placebo', 'group.', 'improvement', 'in', 'physical', 'functioning', 'correlated', 'positively', 'with', 'weight', 'gain', '(r', '=', '0.56,', 'p', '=', '0.001).', 'thalidomide', 'was', 'well', 'tolerated', 'and', 'effective', 'at', 'attenuating', 'loss', 'of', 'weight', 'and', 'lean', 'body', 'mass', 'in', 'patients', 'with', 'cachexia', 'due', 'to', 'advanced', 'pancreatic', 'cancer.']\n",
      "\n",
      "Tokenized text with colored components:\n"
     ]
    },
    {
     "data": {
      "text/html": [
       "<span style='color: None;'>proinflammatory(O)</span> <span style='color: None;'>cytokines(O)</span> <span style='color: None;'>,(O)</span> <span style='color: None;'>especially(O)</span> <span style='color: None;'>tumour(O)</span> <span style='color: None;'>necrosis(O)</span> <span style='color: None;'>factor(O)</span> <span style='color: None;'>alpha(O)</span> <span style='color: None;'>((O)</span> <span style='color: None;'>tnf(O)</span> <span style='color: None;'>-(O)</span> <span style='color: None;'>alpha(O)</span> <span style='color: None;'>)(O)</span> <span style='color: None;'>,(O)</span> <span style='color: None;'>play(O)</span> <span style='color: None;'>a(O)</span> <span style='color: None;'>prominent(O)</span> <span style='color: None;'>role(O)</span> <span style='color: None;'>in(O)</span> <span style='color: None;'>the(O)</span> <span style='color: None;'>pathogenesis(O)</span> <span style='color: None;'>of(O)</span> <span style='color: None;'>cancer(O)</span> <span style='color: None;'>cache(O)</span> <span style='color: None;'>##xia(O)</span> <span style='color: None;'>.(O)</span> <span style='color: #a19e89;'>thal(B-Claim)</span> <span style='color: #a19e89;'>##ido(I-Claim)</span> <span style='color: #a19e89;'>##mid(I-Claim)</span> <span style='color: #a19e89;'>##e(I-Claim)</span> <span style='color: #a19e89;'>,(I-Claim)</span> <span style='color: #a19e89;'>which(I-Claim)</span> <span style='color: #a19e89;'>is(I-Claim)</span> <span style='color: #a19e89;'>an(I-Claim)</span> <span style='color: #a19e89;'>inhibitor(I-Claim)</span> <span style='color: #a19e89;'>of(I-Claim)</span> <span style='color: #a19e89;'>tnf(I-Claim)</span> <span style='color: #a19e89;'>-(I-Claim)</span> <span style='color: #a19e89;'>alpha(I-Claim)</span> <span style='color: #a19e89;'>synthesis(I-Claim)</span> <span style='color: #a19e89;'>,(I-Claim)</span> <span style='color: #a19e89;'>may(I-Claim)</span> <span style='color: #a19e89;'>represent(I-Claim)</span> <span style='color: #a19e89;'>a(I-Claim)</span> <span style='color: #a19e89;'>novel(I-Claim)</span> <span style='color: #a19e89;'>and(I-Claim)</span> <span style='color: #a19e89;'>rational(I-Claim)</span> <span style='color: #a19e89;'>approach(I-Claim)</span> <span style='color: #a19e89;'>to(I-Claim)</span> <span style='color: #a19e89;'>the(I-Claim)</span> <span style='color: #a19e89;'>treatment(I-Claim)</span> <span style='color: #a19e89;'>of(I-Claim)</span> <span style='color: #a19e89;'>cancer(I-Claim)</span> <span style='color: #a19e89;'>cache(I-Claim)</span> <span style='color: #a19e89;'>##xia(I-Claim)</span> <span style='color: #a19e89;'>.(I-Claim)</span> <span style='color: None;'>to(O)</span> <span style='color: None;'>assess(O)</span> <span style='color: None;'>the(O)</span> <span style='color: None;'>safety(O)</span> <span style='color: None;'>and(O)</span> <span style='color: None;'>efficacy(O)</span> <span style='color: None;'>of(O)</span> <span style='color: None;'>thal(O)</span> <span style='color: None;'>##ido(O)</span> <span style='color: None;'>##mid(O)</span> <span style='color: None;'>##e(O)</span> <span style='color: None;'>in(O)</span> <span style='color: None;'>atten(O)</span> <span style='color: None;'>##uating(O)</span> <span style='color: None;'>weight(O)</span> <span style='color: None;'>loss(O)</span> <span style='color: None;'>in(O)</span> <span style='color: None;'>patients(O)</span> <span style='color: None;'>with(O)</span> <span style='color: None;'>cache(O)</span> <span style='color: None;'>##xia(O)</span> <span style='color: None;'>secondary(O)</span> <span style='color: None;'>to(O)</span> <span style='color: None;'>advanced(O)</span> <span style='color: None;'>pancreatic(O)</span> <span style='color: None;'>cancer(O)</span> <span style='color: None;'>.(O)</span> <span style='color: None;'>fifty(O)</span> <span style='color: None;'>patients(O)</span> <span style='color: None;'>with(O)</span> <span style='color: None;'>advanced(O)</span> <span style='color: None;'>pancreatic(O)</span> <span style='color: None;'>cancer(O)</span> <span style='color: None;'>who(O)</span> <span style='color: None;'>had(O)</span> <span style='color: None;'>lost(O)</span> <span style='color: None;'>at(O)</span> <span style='color: None;'>least(O)</span> <span style='color: None;'>10(O)</span> <span style='color: None;'>%(O)</span> <span style='color: None;'>of(O)</span> <span style='color: None;'>their(O)</span> <span style='color: None;'>body(O)</span> <span style='color: None;'>weight(O)</span> <span style='color: None;'>were(O)</span> <span style='color: None;'>randomised(O)</span> <span style='color: None;'>to(O)</span> <span style='color: None;'>receive(O)</span> <span style='color: None;'>thal(O)</span> <span style='color: None;'>##ido(O)</span> <span style='color: None;'>##mid(O)</span> <span style='color: None;'>##e(O)</span> <span style='color: None;'>200(O)</span> <span style='color: None;'>mg(O)</span> <span style='color: None;'>daily(O)</span> <span style='color: None;'>or(O)</span> <span style='color: None;'>placebo(O)</span> <span style='color: None;'>for(O)</span> <span style='color: None;'>24(O)</span> <span style='color: None;'>weeks(O)</span> <span style='color: None;'>in(O)</span> <span style='color: None;'>a(O)</span> <span style='color: None;'>single(O)</span> <span style='color: None;'>centre(O)</span> <span style='color: None;'>,(O)</span> <span style='color: None;'>double(O)</span> <span style='color: None;'>blind(O)</span> <span style='color: None;'>,(O)</span> <span style='color: None;'>randomised(O)</span> <span style='color: None;'>controlled(O)</span> <span style='color: None;'>trial(O)</span> <span style='color: None;'>.(O)</span> <span style='color: None;'>the(O)</span> <span style='color: None;'>primary(O)</span> <span style='color: None;'>outcome(O)</span> <span style='color: None;'>was(O)</span> <span style='color: None;'>change(O)</span> <span style='color: None;'>in(O)</span> <span style='color: None;'>weight(O)</span> <span style='color: None;'>and(O)</span> <span style='color: None;'>nutritional(O)</span> <span style='color: None;'>status(O)</span> <span style='color: None;'>.(O)</span> <span style='color: None;'>thirty(O)</span> <span style='color: None;'>three(O)</span> <span style='color: None;'>patients(O)</span> <span style='color: None;'>((O)</span> <span style='color: None;'>16(O)</span> <span style='color: None;'>control(O)</span> <span style='color: None;'>,(O)</span> <span style='color: None;'>17(O)</span> <span style='color: None;'>thal(O)</span> <span style='color: None;'>##ido(O)</span> <span style='color: None;'>##mid(O)</span> <span style='color: None;'>##e(O)</span> <span style='color: None;'>)(O)</span> <span style='color: None;'>were(O)</span> <span style='color: None;'>evaluated(O)</span> <span style='color: None;'>at(O)</span> <span style='color: None;'>four(O)</span> <span style='color: None;'>weeks(O)</span> <span style='color: None;'>,(O)</span> <span style='color: None;'>and(O)</span> <span style='color: None;'>20(O)</span> <span style='color: None;'>patients(O)</span> <span style='color: None;'>((O)</span> <span style='color: None;'>eight(O)</span> <span style='color: None;'>control(O)</span> <span style='color: None;'>,(O)</span> <span style='color: None;'>12(O)</span> <span style='color: None;'>thal(O)</span> <span style='color: None;'>##ido(O)</span> <span style='color: None;'>##mid(O)</span> <span style='color: None;'>##e(O)</span> <span style='color: None;'>)(O)</span> <span style='color: None;'>at(O)</span> <span style='color: None;'>eight(O)</span> <span style='color: None;'>weeks(O)</span> <span style='color: None;'>.(O)</span> <span style='color: #51bb65;'>at(B-Premise)</span> <span style='color: #51bb65;'>four(I-Premise)</span> <span style='color: #51bb65;'>weeks(I-Premise)</span> <span style='color: #51bb65;'>,(I-Premise)</span> <span style='color: #51bb65;'>patients(I-Premise)</span> <span style='color: #51bb65;'>who(I-Premise)</span> <span style='color: #51bb65;'>received(I-Premise)</span> <span style='color: #51bb65;'>thal(I-Premise)</span> <span style='color: #51bb65;'>##ido(I-Premise)</span> <span style='color: #51bb65;'>##mid(I-Premise)</span> <span style='color: #51bb65;'>##e(I-Premise)</span> <span style='color: #51bb65;'>had(I-Premise)</span> <span style='color: #51bb65;'>gained(I-Premise)</span> <span style='color: #51bb65;'>on(I-Premise)</span> <span style='color: #51bb65;'>average(I-Premise)</span> <span style='color: #51bb65;'>0(I-Premise)</span> <span style='color: #51bb65;'>.(I-Premise)</span> <span style='color: #51bb65;'>37(I-Premise)</span> <span style='color: #51bb65;'>kg(I-Premise)</span> <span style='color: #51bb65;'>in(I-Premise)</span> <span style='color: #51bb65;'>weight(I-Premise)</span> <span style='color: #51bb65;'>and(I-Premise)</span> <span style='color: #51bb65;'>1(I-Premise)</span> <span style='color: #51bb65;'>.(I-Premise)</span> <span style='color: #51bb65;'>0(I-Premise)</span> <span style='color: #51bb65;'>cm(I-Premise)</span> <span style='color: #51bb65;'>((I-Premise)</span> <span style='color: #51bb65;'>3(I-Premise)</span> <span style='color: #51bb65;'>)(I-Premise)</span> <span style='color: #51bb65;'>in(I-Premise)</span> <span style='color: #51bb65;'>arm(I-Premise)</span> <span style='color: #51bb65;'>muscle(I-Premise)</span> <span style='color: #51bb65;'>mass(I-Premise)</span> <span style='color: #51bb65;'>((I-Premise)</span> <span style='color: #51bb65;'>am(I-Premise)</span> <span style='color: #51bb65;'>##a(I-Premise)</span> <span style='color: #51bb65;'>)(I-Premise)</span> <span style='color: #51bb65;'>compared(I-Premise)</span> <span style='color: #51bb65;'>with(I-Premise)</span> <span style='color: #51bb65;'>a(I-Premise)</span> <span style='color: #51bb65;'>loss(I-Premise)</span> <span style='color: #51bb65;'>of(I-Premise)</span> <span style='color: #51bb65;'>2(I-Premise)</span> <span style='color: #51bb65;'>.(I-Premise)</span> <span style='color: #51bb65;'>21(I-Premise)</span> <span style='color: #51bb65;'>kg(I-Premise)</span> <span style='color: #51bb65;'>((I-Premise)</span> <span style='color: #51bb65;'>absolute(I-Premise)</span> <span style='color: #51bb65;'>difference(I-Premise)</span> <span style='color: #51bb65;'>-(I-Premise)</span> <span style='color: #51bb65;'>2(I-Premise)</span> <span style='color: #51bb65;'>.(I-Premise)</span> <span style='color: #51bb65;'>59(I-Premise)</span> <span style='color: #51bb65;'>kg(I-Premise)</span> <span style='color: #51bb65;'>((I-Premise)</span> <span style='color: #51bb65;'>95(I-Premise)</span> <span style='color: #51bb65;'>%(I-Premise)</span> <span style='color: #51bb65;'>confidence(I-Premise)</span> <span style='color: #51bb65;'>interval(I-Premise)</span> <span style='color: #51bb65;'>((I-Premise)</span> <span style='color: #51bb65;'>ci(I-Premise)</span> <span style='color: #51bb65;'>)(I-Premise)</span> <span style='color: #51bb65;'>-(I-Premise)</span> <span style='color: #51bb65;'>4(I-Premise)</span> <span style='color: #51bb65;'>.(I-Premise)</span> <span style='color: #51bb65;'>3(I-Premise)</span> <span style='color: #51bb65;'>to(I-Premise)</span> <span style='color: #51bb65;'>-(I-Premise)</span> <span style='color: #51bb65;'>0(I-Premise)</span> <span style='color: #51bb65;'>.(I-Premise)</span> <span style='color: #51bb65;'>8(I-Premise)</span> <span style='color: #51bb65;'>)(I-Premise)</span> <span style='color: #51bb65;'>;(I-Premise)</span> <span style='color: #51bb65;'>p(I-Premise)</span> <span style='color: #51bb65;'>=(I-Premise)</span> <span style='color: #51bb65;'>0(I-Premise)</span> <span style='color: #51bb65;'>.(I-Premise)</span> <span style='color: #51bb65;'>00(I-Premise)</span> <span style='color: #51bb65;'>##5(I-Premise)</span> <span style='color: #51bb65;'>)(I-Premise)</span> <span style='color: #51bb65;'>and(I-Premise)</span> <span style='color: #51bb65;'>4(I-Premise)</span> <span style='color: #51bb65;'>.(I-Premise)</span> <span style='color: #51bb65;'>46(I-Premise)</span> <span style='color: #51bb65;'>cm(I-Premise)</span> <span style='color: #51bb65;'>((I-Premise)</span> <span style='color: #51bb65;'>3(I-Premise)</span> <span style='color: #51bb65;'>)(I-Premise)</span> <span style='color: #51bb65;'>((I-Premise)</span> <span style='color: #51bb65;'>absolute(I-Premise)</span> <span style='color: #51bb65;'>difference(I-Premise)</span> <span style='color: #51bb65;'>-(I-Premise)</span> <span style='color: #51bb65;'>5(I-Premise)</span> <span style='color: #51bb65;'>.(I-Premise)</span> <span style='color: #51bb65;'>6(I-Premise)</span> <span style='color: #51bb65;'>cm(I-Premise)</span> <span style='color: #51bb65;'>((I-Premise)</span> <span style='color: #51bb65;'>3(I-Premise)</span> <span style='color: #51bb65;'>)(I-Premise)</span> <span style='color: #51bb65;'>((I-Premise)</span> <span style='color: #51bb65;'>95(I-Premise)</span> <span style='color: #51bb65;'>%(I-Premise)</span> <span style='color: #51bb65;'>ci(I-Premise)</span> <span style='color: #51bb65;'>-(I-Premise)</span> <span style='color: #51bb65;'>8(I-Premise)</span> <span style='color: #51bb65;'>.(I-Premise)</span> <span style='color: #51bb65;'>9(I-Premise)</span> <span style='color: #51bb65;'>to(I-Premise)</span> <span style='color: #51bb65;'>-(I-Premise)</span> <span style='color: #51bb65;'>2(I-Premise)</span> <span style='color: #51bb65;'>.(I-Premise)</span> <span style='color: #51bb65;'>2(I-Premise)</span> <span style='color: #51bb65;'>)(I-Premise)</span> <span style='color: #51bb65;'>;(I-Premise)</span> <span style='color: #51bb65;'>p(I-Premise)</span> <span style='color: #51bb65;'>=(I-Premise)</span> <span style='color: #51bb65;'>0(I-Premise)</span> <span style='color: #51bb65;'>.(I-Premise)</span> <span style='color: #51bb65;'>00(I-Premise)</span> <span style='color: #51bb65;'>##2(I-Premise)</span> <span style='color: #51bb65;'>)(I-Premise)</span> <span style='color: #51bb65;'>in(I-Premise)</span> <span style='color: #51bb65;'>the(I-Premise)</span> <span style='color: #51bb65;'>placebo(I-Premise)</span> <span style='color: #51bb65;'>group(I-Premise)</span> <span style='color: #51bb65;'>.(I-Premise)</span> <span style='color: #a65a91;'>at(B-Premise)</span> <span style='color: #a65a91;'>eight(I-Premise)</span> <span style='color: #a65a91;'>weeks(I-Premise)</span> <span style='color: #a65a91;'>,(I-Premise)</span> <span style='color: #a65a91;'>patients(I-Premise)</span> <span style='color: #a65a91;'>in(I-Premise)</span> <span style='color: #a65a91;'>the(I-Premise)</span> <span style='color: #a65a91;'>thal(I-Premise)</span> <span style='color: #a65a91;'>##ido(I-Premise)</span> <span style='color: #a65a91;'>##mid(I-Premise)</span> <span style='color: #a65a91;'>##e(I-Premise)</span> <span style='color: #a65a91;'>group(I-Premise)</span> <span style='color: #a65a91;'>had(I-Premise)</span> <span style='color: #a65a91;'>lost(I-Premise)</span> <span style='color: #a65a91;'>0(I-Premise)</span> <span style='color: #a65a91;'>.(I-Premise)</span> <span style='color: #a65a91;'>06(I-Premise)</span> <span style='color: #a65a91;'>kg(I-Premise)</span> <span style='color: #a65a91;'>in(I-Premise)</span> <span style='color: #a65a91;'>weight(I-Premise)</span> <span style='color: #a65a91;'>and(I-Premise)</span> <span style='color: #a65a91;'>0(I-Premise)</span> <span style='color: #a65a91;'>.(I-Premise)</span> <span style='color: #a65a91;'>5(I-Premise)</span> <span style='color: #a65a91;'>cm(I-Premise)</span> <span style='color: #a65a91;'>((I-Premise)</span> <span style='color: #a65a91;'>3(I-Premise)</span> <span style='color: #a65a91;'>)(I-Premise)</span> <span style='color: #a65a91;'>in(I-Premise)</span> <span style='color: #a65a91;'>am(I-Premise)</span> <span style='color: #a65a91;'>##a(I-Premise)</span> <span style='color: #a65a91;'>compared(I-Premise)</span> <span style='color: #a65a91;'>with(I-Premise)</span> <span style='color: #a65a91;'>a(I-Premise)</span> <span style='color: #a65a91;'>loss(I-Premise)</span> <span style='color: #a65a91;'>of(I-Premise)</span> <span style='color: #a65a91;'>3(I-Premise)</span> <span style='color: #a65a91;'>.(I-Premise)</span> <span style='color: #a65a91;'>62(I-Premise)</span> <span style='color: #a65a91;'>kg(I-Premise)</span> <span style='color: #a65a91;'>((I-Premise)</span> <span style='color: #a65a91;'>absolute(I-Premise)</span> <span style='color: #a65a91;'>difference(I-Premise)</span> <span style='color: #a65a91;'>-(I-Premise)</span> <span style='color: #a65a91;'>3(I-Premise)</span> <span style='color: #a65a91;'>.(I-Premise)</span> <span style='color: #a65a91;'>57(I-Premise)</span> <span style='color: #a65a91;'>kg(I-Premise)</span> <span style='color: #a65a91;'>((I-Premise)</span> <span style='color: #a65a91;'>95(I-Premise)</span> <span style='color: #a65a91;'>%(I-Premise)</span> <span style='color: #a65a91;'>ci(I-Premise)</span> <span style='color: #a65a91;'>-(I-Premise)</span> <span style='color: #a65a91;'>6(I-Premise)</span> <span style='color: #a65a91;'>.(I-Premise)</span> <span style='color: #a65a91;'>8(I-Premise)</span> <span style='color: #a65a91;'>to(I-Premise)</span> <span style='color: #a65a91;'>-(I-Premise)</span> <span style='color: #a65a91;'>0(I-Premise)</span> <span style='color: #a65a91;'>.(I-Premise)</span> <span style='color: #a65a91;'>3(I-Premise)</span> <span style='color: #a65a91;'>)(I-Premise)</span> <span style='color: #a65a91;'>;(I-Premise)</span> <span style='color: #a65a91;'>p(I-Premise)</span> <span style='color: #a65a91;'>=(I-Premise)</span> <span style='color: #a65a91;'>0(I-Premise)</span> <span style='color: #a65a91;'>.(I-Premise)</span> <span style='color: #a65a91;'>03(I-Premise)</span> <span style='color: #a65a91;'>##4(I-Premise)</span> <span style='color: #a65a91;'>)(I-Premise)</span> <span style='color: #a65a91;'>and(I-Premise)</span> <span style='color: #a65a91;'>8(I-Premise)</span> <span style='color: #a65a91;'>.(I-Premise)</span> <span style='color: #a65a91;'>4(I-Premise)</span> <span style='color: #a65a91;'>cm(I-Premise)</span> <span style='color: #a65a91;'>((I-Premise)</span> <span style='color: #a65a91;'>3(I-Premise)</span> <span style='color: #a65a91;'>)(I-Premise)</span> <span style='color: #a65a91;'>((I-Premise)</span> <span style='color: #a65a91;'>absolute(I-Premise)</span> <span style='color: #a65a91;'>difference(I-Premise)</span> <span style='color: #a65a91;'>-(I-Premise)</span> <span style='color: #a65a91;'>7(I-Premise)</span> <span style='color: #a65a91;'>.(I-Premise)</span> <span style='color: #a65a91;'>9(I-Premise)</span> <span style='color: #a65a91;'>cm(I-Premise)</span> <span style='color: #a65a91;'>((I-Premise)</span> <span style='color: #a65a91;'>3(I-Premise)</span> <span style='color: #a65a91;'>)(I-Premise)</span> <span style='color: #a65a91;'>((I-Premise)</span> <span style='color: #a65a91;'>95(I-Premise)</span> <span style='color: #a65a91;'>%(I-Premise)</span> <span style='color: #a65a91;'>ci(I-Premise)</span> <span style='color: #a65a91;'>-(I-Premise)</span> <span style='color: #a65a91;'>14(I-Premise)</span> <span style='color: #a65a91;'>.(I-Premise)</span> <span style='color: #a65a91;'>0(I-Premise)</span> <span style='color: #a65a91;'>to(I-Premise)</span> <span style='color: #a65a91;'>-(I-Premise)</span> <span style='color: #a65a91;'>1(I-Premise)</span> <span style='color: #a65a91;'>.(I-Premise)</span> <span style='color: #a65a91;'>8(I-Premise)</span> <span style='color: #a65a91;'>)(I-Premise)</span> <span style='color: #a65a91;'>;(I-Premise)</span> <span style='color: #a65a91;'>p(I-Premise)</span> <span style='color: #a65a91;'>=(I-Premise)</span> <span style='color: #a65a91;'>0(I-Premise)</span> <span style='color: #a65a91;'>.(I-Premise)</span> <span style='color: #a65a91;'>01(I-Premise)</span> <span style='color: #a65a91;'>##4(I-Premise)</span> <span style='color: #a65a91;'>)(I-Premise)</span> <span style='color: #a65a91;'>in(I-Premise)</span> <span style='color: #a65a91;'>the(I-Premise)</span> <span style='color: #a65a91;'>placebo(I-Premise)</span> <span style='color: #a65a91;'>group(I-Premise)</span> <span style='color: #a65a91;'>.(I-Premise)</span> <span style='color: #a27757;'>improvement(B-Premise)</span> <span style='color: #a27757;'>in(I-Premise)</span> <span style='color: #a27757;'>physical(I-Premise)</span> <span style='color: #a27757;'>functioning(I-Premise)</span> <span style='color: #a27757;'>correlated(I-Premise)</span> <span style='color: #a27757;'>positively(I-Premise)</span> <span style='color: #a27757;'>with(I-Premise)</span> <span style='color: #a27757;'>weight(I-Premise)</span> <span style='color: #a27757;'>gain(I-Premise)</span> <span style='color: #a27757;'>((I-Premise)</span> <span style='color: #a27757;'>r(I-Premise)</span> <span style='color: #a27757;'>=(I-Premise)</span> <span style='color: #a27757;'>0(I-Premise)</span> <span style='color: #a27757;'>.(I-Premise)</span> <span style='color: #a27757;'>56(I-Premise)</span> <span style='color: #a27757;'>,(I-Premise)</span> <span style='color: #a27757;'>p(I-Premise)</span> <span style='color: #a27757;'>=(I-Premise)</span> <span style='color: #a27757;'>0(I-Premise)</span> <span style='color: #a27757;'>.(I-Premise)</span> <span style='color: #a27757;'>00(I-Premise)</span> <span style='color: #a27757;'>##1(I-Premise)</span> <span style='color: #a27757;'>)(I-Premise)</span> <span style='color: #a27757;'>.(I-Premise)</span> <span style='color: #518090;'>thal(B-Claim)</span> <span style='color: #518090;'>##ido(I-Claim)</span> <span style='color: #518090;'>##mid(I-Claim)</span> <span style='color: #518090;'>##e(I-Claim)</span> <span style='color: #518090;'>was(I-Claim)</span> <span style='color: #518090;'>well(I-Claim)</span> <span style='color: #518090;'>tolerated(I-Claim)</span> <span style='color: #518090;'>and(I-Claim)</span> <span style='color: #518090;'>effective(I-Claim)</span> <span style='color: #518090;'>at(I-Claim)</span> <span style='color: #518090;'>atten(I-Claim)</span> <span style='color: #518090;'>##uating(I-Claim)</span> <span style='color: #518090;'>loss(I-Claim)</span> <span style='color: #518090;'>of(I-Claim)</span> <span style='color: #518090;'>weight(I-Claim)</span> <span style='color: #518090;'>and(I-Claim)</span> <span style='color: #518090;'>lean(I-Claim)</span> <span style='color: #518090;'>body(I-Claim)</span> <span style='color: #518090;'>mass(I-Claim)</span> <span style='color: #518090;'>in(I-Claim)</span> <span style='color: #518090;'>patients(I-Claim)</span> <span style='color: #518090;'>with(I-Claim)</span> <span style='color: #518090;'>cache(I-Claim)</span> <span style='color: #518090;'>##xia(I-Claim)</span> <span style='color: #518090;'>due(I-Claim)</span> <span style='color: #518090;'>to(I-Claim)</span> <span style='color: #518090;'>advanced(I-Claim)</span> <span style='color: #518090;'>pancreatic(I-Claim)</span> <span style='color: #518090;'>cancer(I-Claim)</span> <span style='color: #518090;'>.(I-Claim)</span>"
      ],
      "text/plain": [
       "<IPython.core.display.HTML object>"
      ]
     },
     "metadata": {},
     "output_type": "display_data"
    },
    {
     "name": "stdout",
     "output_type": "stream",
     "text": [
      "\n",
      "Tokenized text with predicted tags:\n"
     ]
    },
    {
     "data": {
      "text/html": [
       "<span style='color: None;'>proinflammatory(O)</span> <span style='color: #5a815f;'>cytokines(B-Claim)</span> <span style='color: #5a815f;'>,(I-Claim)</span> <span style='color: #5a815f;'>especially(I-Claim)</span> <span style='color: #5a815f;'>tumour(I-Claim)</span> <span style='color: #5a815f;'>necrosis(I-Claim)</span> <span style='color: #5a815f;'>factor(I-Claim)</span> <span style='color: #5a815f;'>alpha(I-Claim)</span> <span style='color: #5a815f;'>((I-Claim)</span> <span style='color: #5a815f;'>tnf(I-Claim)</span> <span style='color: #5a815f;'>-(I-Claim)</span> <span style='color: #5a815f;'>alpha(I-Claim)</span> <span style='color: #5a815f;'>)(I-Claim)</span> <span style='color: #5a815f;'>,(I-Claim)</span> <span style='color: #5a815f;'>play(I-Claim)</span> <span style='color: #5a815f;'>a(I-Claim)</span> <span style='color: #5a815f;'>prominent(I-Claim)</span> <span style='color: #5a815f;'>role(I-Claim)</span> <span style='color: #5a815f;'>in(I-Claim)</span> <span style='color: #5a815f;'>the(I-Claim)</span> <span style='color: #5a815f;'>pathogenesis(I-Claim)</span> <span style='color: #5a815f;'>of(I-Claim)</span> <span style='color: #5a815f;'>cancer(I-Claim)</span> <span style='color: #5a815f;'>cache(I-Claim)</span> <span style='color: #5a815f;'>##xia(I-Claim)</span> <span style='color: #5a815f;'>.(I-Claim)</span> <span style='color: #5a815f;'>thal(I-Claim)</span> <span style='color: #a78dba;'>##ido(B-Claim)</span> <span style='color: #a78dba;'>##mid(I-Claim)</span> <span style='color: #a78dba;'>##e(I-Claim)</span> <span style='color: #a78dba;'>,(I-Claim)</span> <span style='color: #a78dba;'>which(I-Claim)</span> <span style='color: #a78dba;'>is(I-Claim)</span> <span style='color: #a78dba;'>an(I-Claim)</span> <span style='color: #a78dba;'>inhibitor(I-Claim)</span> <span style='color: #a78dba;'>of(I-Claim)</span> <span style='color: #a78dba;'>tnf(I-Claim)</span> <span style='color: #a78dba;'>-(I-Claim)</span> <span style='color: #a78dba;'>alpha(I-Claim)</span> <span style='color: #a78dba;'>synthesis(I-Claim)</span> <span style='color: #a78dba;'>,(I-Claim)</span> <span style='color: #a78dba;'>may(I-Claim)</span> <span style='color: #a78dba;'>represent(I-Claim)</span> <span style='color: #a78dba;'>a(I-Claim)</span> <span style='color: #a78dba;'>novel(I-Claim)</span> <span style='color: #a78dba;'>and(I-Claim)</span> <span style='color: #a78dba;'>rational(I-Claim)</span> <span style='color: #a78dba;'>approach(I-Claim)</span> <span style='color: #a78dba;'>to(I-Claim)</span> <span style='color: #a78dba;'>the(I-Claim)</span> <span style='color: #a78dba;'>treatment(I-Claim)</span> <span style='color: #a78dba;'>of(I-Claim)</span> <span style='color: #a78dba;'>cancer(I-Claim)</span> <span style='color: #a78dba;'>cache(I-Claim)</span> <span style='color: #a78dba;'>##xia(I-Claim)</span> <span style='color: #a78dba;'>.(I-Claim)</span> <span style='color: #a78dba;'>to(I-Claim)</span> <span style='color: None;'>assess(O)</span> <span style='color: None;'>the(O)</span> <span style='color: None;'>safety(O)</span> <span style='color: None;'>and(O)</span> <span style='color: None;'>efficacy(O)</span> <span style='color: None;'>of(O)</span> <span style='color: None;'>thal(O)</span> <span style='color: None;'>##ido(O)</span> <span style='color: None;'>##mid(O)</span> <span style='color: None;'>##e(O)</span> <span style='color: None;'>in(O)</span> <span style='color: None;'>atten(O)</span> <span style='color: None;'>##uating(O)</span> <span style='color: None;'>weight(O)</span> <span style='color: None;'>loss(O)</span> <span style='color: None;'>in(O)</span> <span style='color: None;'>patients(O)</span> <span style='color: None;'>with(O)</span> <span style='color: None;'>cache(O)</span> <span style='color: None;'>##xia(O)</span> <span style='color: None;'>secondary(O)</span> <span style='color: None;'>to(O)</span> <span style='color: None;'>advanced(O)</span> <span style='color: None;'>pancreatic(O)</span> <span style='color: None;'>cancer(O)</span> <span style='color: None;'>.(O)</span> <span style='color: None;'>fifty(O)</span> <span style='color: None;'>patients(O)</span> <span style='color: None;'>with(O)</span> <span style='color: None;'>advanced(O)</span> <span style='color: None;'>pancreatic(O)</span> <span style='color: None;'>cancer(O)</span> <span style='color: None;'>who(O)</span> <span style='color: None;'>had(O)</span> <span style='color: None;'>lost(O)</span> <span style='color: None;'>at(O)</span> <span style='color: None;'>least(O)</span> <span style='color: None;'>10(O)</span> <span style='color: None;'>%(O)</span> <span style='color: None;'>of(O)</span> <span style='color: None;'>their(O)</span> <span style='color: None;'>body(O)</span> <span style='color: None;'>weight(O)</span> <span style='color: None;'>were(O)</span> <span style='color: None;'>randomised(O)</span> <span style='color: None;'>to(O)</span> <span style='color: None;'>receive(O)</span> <span style='color: None;'>thal(O)</span> <span style='color: None;'>##ido(O)</span> <span style='color: None;'>##mid(O)</span> <span style='color: None;'>##e(O)</span> <span style='color: None;'>200(O)</span> <span style='color: None;'>mg(O)</span> <span style='color: None;'>daily(O)</span> <span style='color: None;'>or(O)</span> <span style='color: None;'>placebo(O)</span> <span style='color: None;'>for(O)</span> <span style='color: None;'>24(O)</span> <span style='color: None;'>weeks(O)</span> <span style='color: None;'>in(O)</span> <span style='color: None;'>a(O)</span> <span style='color: None;'>single(O)</span> <span style='color: None;'>centre(O)</span> <span style='color: None;'>,(O)</span> <span style='color: None;'>double(O)</span> <span style='color: None;'>blind(O)</span> <span style='color: None;'>,(O)</span> <span style='color: None;'>randomised(O)</span> <span style='color: None;'>controlled(O)</span> <span style='color: None;'>trial(O)</span> <span style='color: None;'>.(O)</span> <span style='color: None;'>the(O)</span> <span style='color: None;'>primary(O)</span> <span style='color: None;'>outcome(O)</span> <span style='color: None;'>was(O)</span> <span style='color: None;'>change(O)</span> <span style='color: None;'>in(O)</span> <span style='color: None;'>weight(O)</span> <span style='color: None;'>and(O)</span> <span style='color: None;'>nutritional(O)</span> <span style='color: None;'>status(O)</span> <span style='color: None;'>.(O)</span> <span style='color: None;'>thirty(O)</span> <span style='color: None;'>three(O)</span> <span style='color: None;'>patients(O)</span> <span style='color: None;'>((O)</span> <span style='color: None;'>16(O)</span> <span style='color: None;'>control(O)</span> <span style='color: None;'>,(O)</span> <span style='color: None;'>17(O)</span> <span style='color: None;'>thal(O)</span> <span style='color: None;'>##ido(O)</span> <span style='color: None;'>##mid(O)</span> <span style='color: None;'>##e(O)</span> <span style='color: None;'>)(O)</span> <span style='color: None;'>were(O)</span> <span style='color: None;'>evaluated(O)</span> <span style='color: None;'>at(O)</span> <span style='color: None;'>four(O)</span> <span style='color: None;'>weeks(O)</span> <span style='color: None;'>,(O)</span> <span style='color: None;'>and(O)</span> <span style='color: None;'>20(O)</span> <span style='color: None;'>patients(O)</span> <span style='color: None;'>((O)</span> <span style='color: None;'>eight(O)</span> <span style='color: None;'>control(O)</span> <span style='color: None;'>,(O)</span> <span style='color: None;'>12(O)</span> <span style='color: None;'>thal(O)</span> <span style='color: None;'>##ido(O)</span> <span style='color: None;'>##mid(O)</span> <span style='color: None;'>##e(O)</span> <span style='color: None;'>)(O)</span> <span style='color: None;'>at(O)</span> <span style='color: None;'>eight(O)</span> <span style='color: None;'>weeks(O)</span> <span style='color: None;'>.(O)</span> <span style='color: None;'>at(O)</span> <span style='color: #a36fa4;'>four(B-Premise)</span> <span style='color: #a36fa4;'>weeks(I-Premise)</span> <span style='color: #a36fa4;'>,(I-Premise)</span> <span style='color: #a36fa4;'>patients(I-Premise)</span> <span style='color: #a36fa4;'>who(I-Premise)</span> <span style='color: #a36fa4;'>received(I-Premise)</span> <span style='color: #a36fa4;'>thal(I-Premise)</span> <span style='color: #a36fa4;'>##ido(I-Premise)</span> <span style='color: #a36fa4;'>##mid(I-Premise)</span> <span style='color: #a36fa4;'>##e(I-Premise)</span> <span style='color: #a36fa4;'>had(I-Premise)</span> <span style='color: #a36fa4;'>gained(I-Premise)</span> <span style='color: #a36fa4;'>on(I-Premise)</span> <span style='color: #a36fa4;'>average(I-Premise)</span> <span style='color: #a36fa4;'>0(I-Premise)</span> <span style='color: #a36fa4;'>.(I-Premise)</span> <span style='color: #a36fa4;'>37(I-Premise)</span> <span style='color: #a36fa4;'>kg(I-Premise)</span> <span style='color: #a36fa4;'>in(I-Premise)</span> <span style='color: #a36fa4;'>weight(I-Premise)</span> <span style='color: #a36fa4;'>and(I-Premise)</span> <span style='color: #a36fa4;'>1(I-Premise)</span> <span style='color: #a36fa4;'>.(I-Premise)</span> <span style='color: #a36fa4;'>0(I-Premise)</span> <span style='color: #a36fa4;'>cm(I-Premise)</span> <span style='color: #a36fa4;'>((I-Premise)</span> <span style='color: #a36fa4;'>3(I-Premise)</span> <span style='color: #a36fa4;'>)(I-Premise)</span> <span style='color: #a36fa4;'>in(I-Premise)</span> <span style='color: #a36fa4;'>arm(I-Premise)</span> <span style='color: #a36fa4;'>muscle(I-Premise)</span> <span style='color: #a36fa4;'>mass(I-Premise)</span> <span style='color: #a36fa4;'>((I-Premise)</span> <span style='color: #a36fa4;'>am(I-Premise)</span> <span style='color: #a36fa4;'>##a(I-Premise)</span> <span style='color: #a36fa4;'>)(I-Premise)</span> <span style='color: #a36fa4;'>compared(I-Premise)</span> <span style='color: #a36fa4;'>with(I-Premise)</span> <span style='color: #a36fa4;'>a(I-Premise)</span> <span style='color: #a36fa4;'>loss(I-Premise)</span> <span style='color: #a36fa4;'>of(I-Premise)</span> <span style='color: #a36fa4;'>2(I-Premise)</span> <span style='color: #a36fa4;'>.(I-Premise)</span> <span style='color: #a36fa4;'>21(I-Premise)</span> <span style='color: #a36fa4;'>kg(I-Premise)</span> <span style='color: #a36fa4;'>((I-Premise)</span> <span style='color: #a36fa4;'>absolute(I-Premise)</span> <span style='color: #a36fa4;'>difference(I-Premise)</span> <span style='color: #a36fa4;'>-(I-Premise)</span> <span style='color: #a36fa4;'>2(I-Premise)</span> <span style='color: #a36fa4;'>.(I-Premise)</span> <span style='color: #a36fa4;'>59(I-Premise)</span> <span style='color: #a36fa4;'>kg(I-Premise)</span> <span style='color: #a36fa4;'>((I-Premise)</span> <span style='color: #a36fa4;'>95(I-Premise)</span> <span style='color: #a36fa4;'>%(I-Premise)</span> <span style='color: #a36fa4;'>confidence(I-Premise)</span> <span style='color: #a36fa4;'>interval(I-Premise)</span> <span style='color: #a36fa4;'>((I-Premise)</span> <span style='color: #a36fa4;'>ci(I-Premise)</span> <span style='color: #a36fa4;'>)(I-Premise)</span> <span style='color: #a36fa4;'>-(I-Premise)</span> <span style='color: #a36fa4;'>4(I-Premise)</span> <span style='color: #a36fa4;'>.(I-Premise)</span> <span style='color: #a36fa4;'>3(I-Premise)</span> <span style='color: #a36fa4;'>to(I-Premise)</span> <span style='color: #a36fa4;'>-(I-Premise)</span> <span style='color: #a36fa4;'>0(I-Premise)</span> <span style='color: #a36fa4;'>.(I-Premise)</span> <span style='color: #a36fa4;'>8(I-Premise)</span> <span style='color: #a36fa4;'>)(I-Premise)</span> <span style='color: #a36fa4;'>;(I-Premise)</span> <span style='color: #a36fa4;'>p(I-Premise)</span> <span style='color: #a36fa4;'>=(I-Premise)</span> <span style='color: #a36fa4;'>0(I-Premise)</span> <span style='color: #a36fa4;'>.(I-Premise)</span> <span style='color: #a36fa4;'>00(I-Premise)</span> <span style='color: #a36fa4;'>##5(I-Premise)</span> <span style='color: #a36fa4;'>)(I-Premise)</span> <span style='color: #a36fa4;'>and(I-Premise)</span> <span style='color: #a36fa4;'>4(I-Premise)</span> <span style='color: #a36fa4;'>.(I-Premise)</span> <span style='color: #a36fa4;'>46(I-Premise)</span> <span style='color: #a36fa4;'>cm(I-Premise)</span> <span style='color: #a36fa4;'>((I-Premise)</span> <span style='color: #a36fa4;'>3(I-Premise)</span> <span style='color: #a36fa4;'>)(I-Premise)</span> <span style='color: #a36fa4;'>((I-Premise)</span> <span style='color: #a36fa4;'>absolute(I-Premise)</span> <span style='color: #a36fa4;'>difference(I-Premise)</span> <span style='color: #a36fa4;'>-(I-Premise)</span> <span style='color: #a36fa4;'>5(I-Premise)</span> <span style='color: #a36fa4;'>.(I-Premise)</span> <span style='color: #a36fa4;'>6(I-Premise)</span> <span style='color: #a36fa4;'>cm(I-Premise)</span> <span style='color: #a36fa4;'>((I-Premise)</span> <span style='color: #a36fa4;'>3(I-Premise)</span> <span style='color: #a36fa4;'>)(I-Premise)</span> <span style='color: #a36fa4;'>((I-Premise)</span> <span style='color: #a36fa4;'>95(I-Premise)</span> <span style='color: #a36fa4;'>%(I-Premise)</span> <span style='color: #a36fa4;'>ci(I-Premise)</span> <span style='color: #a36fa4;'>-(I-Premise)</span> <span style='color: #a36fa4;'>8(I-Premise)</span> <span style='color: #a36fa4;'>.(I-Premise)</span> <span style='color: #a36fa4;'>9(I-Premise)</span> <span style='color: #a36fa4;'>to(I-Premise)</span> <span style='color: #a36fa4;'>-(I-Premise)</span> <span style='color: #a36fa4;'>2(I-Premise)</span> <span style='color: #a36fa4;'>.(I-Premise)</span> <span style='color: #a36fa4;'>2(I-Premise)</span> <span style='color: #a36fa4;'>)(I-Premise)</span> <span style='color: #a36fa4;'>;(I-Premise)</span> <span style='color: #a36fa4;'>p(I-Premise)</span> <span style='color: #a36fa4;'>=(I-Premise)</span> <span style='color: #a36fa4;'>0(I-Premise)</span> <span style='color: #a36fa4;'>.(I-Premise)</span> <span style='color: #a36fa4;'>00(I-Premise)</span> <span style='color: #a36fa4;'>##2(I-Premise)</span> <span style='color: #a36fa4;'>)(I-Premise)</span> <span style='color: #a36fa4;'>in(I-Premise)</span> <span style='color: #a36fa4;'>the(I-Premise)</span> <span style='color: #a36fa4;'>placebo(I-Premise)</span> <span style='color: #a36fa4;'>group(I-Premise)</span> <span style='color: #a36fa4;'>.(I-Premise)</span> <span style='color: #a36fa4;'>at(I-Premise)</span> <span style='color: #a07b8a;'>eight(B-Premise)</span> <span style='color: #a07b8a;'>weeks(I-Premise)</span> <span style='color: #a07b8a;'>,(I-Premise)</span> <span style='color: #a07b8a;'>patients(I-Premise)</span> <span style='color: #a07b8a;'>in(I-Premise)</span> <span style='color: #a07b8a;'>the(I-Premise)</span> <span style='color: #a07b8a;'>thal(I-Premise)</span> <span style='color: #a07b8a;'>##ido(I-Premise)</span> <span style='color: #a07b8a;'>##mid(I-Premise)</span> <span style='color: #a07b8a;'>##e(I-Premise)</span> <span style='color: #a07b8a;'>group(I-Premise)</span> <span style='color: #a07b8a;'>had(I-Premise)</span> <span style='color: #a07b8a;'>lost(I-Premise)</span> <span style='color: #a07b8a;'>0(I-Premise)</span> <span style='color: #a07b8a;'>.(I-Premise)</span> <span style='color: #a07b8a;'>06(I-Premise)</span> <span style='color: #a07b8a;'>kg(I-Premise)</span> <span style='color: #a07b8a;'>in(I-Premise)</span> <span style='color: #a07b8a;'>weight(I-Premise)</span> <span style='color: #a07b8a;'>and(I-Premise)</span> <span style='color: #a07b8a;'>0(I-Premise)</span> <span style='color: #a07b8a;'>.(I-Premise)</span> <span style='color: #a07b8a;'>5(I-Premise)</span> <span style='color: #a07b8a;'>cm(I-Premise)</span> <span style='color: #a07b8a;'>((I-Premise)</span> <span style='color: #a07b8a;'>3(I-Premise)</span> <span style='color: #a07b8a;'>)(I-Premise)</span> <span style='color: #a07b8a;'>in(I-Premise)</span> <span style='color: #a07b8a;'>am(I-Premise)</span> <span style='color: #a07b8a;'>##a(I-Premise)</span> <span style='color: #a07b8a;'>compared(I-Premise)</span> <span style='color: #a07b8a;'>with(I-Premise)</span> <span style='color: #a07b8a;'>a(I-Premise)</span> <span style='color: #a07b8a;'>loss(I-Premise)</span> <span style='color: #a07b8a;'>of(I-Premise)</span> <span style='color: #a07b8a;'>3(I-Premise)</span> <span style='color: #a07b8a;'>.(I-Premise)</span> <span style='color: #a07b8a;'>62(I-Premise)</span> <span style='color: #a07b8a;'>kg(I-Premise)</span> <span style='color: #a07b8a;'>((I-Premise)</span> <span style='color: #a07b8a;'>absolute(I-Premise)</span> <span style='color: #a07b8a;'>difference(I-Premise)</span> <span style='color: #a07b8a;'>-(I-Premise)</span> <span style='color: #a07b8a;'>3(I-Premise)</span> <span style='color: #a07b8a;'>.(I-Premise)</span> <span style='color: #a07b8a;'>57(I-Premise)</span> <span style='color: #a07b8a;'>kg(I-Premise)</span> <span style='color: #a07b8a;'>((I-Premise)</span> <span style='color: #a07b8a;'>95(I-Premise)</span> <span style='color: #a07b8a;'>%(I-Premise)</span> <span style='color: #a07b8a;'>ci(I-Premise)</span> <span style='color: #a07b8a;'>-(I-Premise)</span> <span style='color: #a07b8a;'>6(I-Premise)</span> <span style='color: #a07b8a;'>.(I-Premise)</span> <span style='color: #a07b8a;'>8(I-Premise)</span> <span style='color: #a07b8a;'>to(I-Premise)</span> <span style='color: #a07b8a;'>-(I-Premise)</span> <span style='color: #a07b8a;'>0(I-Premise)</span> <span style='color: #a07b8a;'>.(I-Premise)</span> <span style='color: #a07b8a;'>3(I-Premise)</span> <span style='color: #a07b8a;'>)(I-Premise)</span> <span style='color: #a07b8a;'>;(I-Premise)</span> <span style='color: #a07b8a;'>p(I-Premise)</span> <span style='color: #a07b8a;'>=(I-Premise)</span> <span style='color: #a07b8a;'>0(I-Premise)</span> <span style='color: #a07b8a;'>.(I-Premise)</span> <span style='color: #a07b8a;'>03(I-Premise)</span> <span style='color: #a07b8a;'>##4(I-Premise)</span> <span style='color: #a07b8a;'>)(I-Premise)</span> <span style='color: #a07b8a;'>and(I-Premise)</span> <span style='color: #a07b8a;'>8(I-Premise)</span> <span style='color: #a07b8a;'>.(I-Premise)</span> <span style='color: #a07b8a;'>4(I-Premise)</span> <span style='color: #a07b8a;'>cm(I-Premise)</span> <span style='color: #a07b8a;'>((I-Premise)</span> <span style='color: #a07b8a;'>3(I-Premise)</span> <span style='color: #a07b8a;'>)(I-Premise)</span> <span style='color: #a07b8a;'>((I-Premise)</span> <span style='color: #a07b8a;'>absolute(I-Premise)</span> <span style='color: #a07b8a;'>difference(I-Premise)</span> <span style='color: #a07b8a;'>-(I-Premise)</span> <span style='color: #a07b8a;'>7(I-Premise)</span> <span style='color: #a07b8a;'>.(I-Premise)</span> <span style='color: #a07b8a;'>9(I-Premise)</span> <span style='color: #a07b8a;'>cm(I-Premise)</span> <span style='color: #a07b8a;'>((I-Premise)</span> <span style='color: #a07b8a;'>3(I-Premise)</span> <span style='color: #a07b8a;'>)(I-Premise)</span> <span style='color: #a07b8a;'>((I-Premise)</span> <span style='color: #a07b8a;'>95(I-Premise)</span> <span style='color: #a07b8a;'>%(I-Premise)</span> <span style='color: #a07b8a;'>ci(I-Premise)</span> <span style='color: #a07b8a;'>-(I-Premise)</span> <span style='color: #a07b8a;'>14(I-Premise)</span> <span style='color: #a07b8a;'>.(I-Premise)</span> <span style='color: #a07b8a;'>0(I-Premise)</span> <span style='color: #a07b8a;'>to(I-Premise)</span> <span style='color: #a07b8a;'>-(I-Premise)</span> <span style='color: #a07b8a;'>1(I-Premise)</span> <span style='color: #a07b8a;'>.(I-Premise)</span> <span style='color: #a07b8a;'>8(I-Premise)</span> <span style='color: #a07b8a;'>)(I-Premise)</span> <span style='color: #a07b8a;'>;(I-Premise)</span> <span style='color: #a07b8a;'>p(I-Premise)</span> <span style='color: #a07b8a;'>=(I-Premise)</span> <span style='color: #a07b8a;'>0(I-Premise)</span> <span style='color: #a07b8a;'>.(I-Premise)</span> <span style='color: #a07b8a;'>01(I-Premise)</span> <span style='color: #a07b8a;'>##4(I-Premise)</span> <span style='color: #a07b8a;'>)(I-Premise)</span> <span style='color: #a07b8a;'>in(I-Premise)</span> <span style='color: #a07b8a;'>the(I-Premise)</span> <span style='color: #a07b8a;'>placebo(I-Premise)</span> <span style='color: #a07b8a;'>group(I-Premise)</span> <span style='color: #a07b8a;'>.(I-Premise)</span> <span style='color: #a07b8a;'>improvement(I-Premise)</span> <span style='color: #587184;'>in(B-Premise)</span> <span style='color: #587184;'>physical(I-Premise)</span> <span style='color: #587184;'>functioning(I-Premise)</span> <span style='color: #587184;'>correlated(I-Premise)</span> <span style='color: #587184;'>positively(I-Premise)</span> <span style='color: #587184;'>with(I-Premise)</span> <span style='color: #587184;'>weight(I-Premise)</span> <span style='color: #587184;'>gain(I-Premise)</span> <span style='color: #587184;'>((I-Premise)</span> <span style='color: #587184;'>r(I-Premise)</span> <span style='color: #587184;'>=(I-Premise)</span> <span style='color: #587184;'>0(I-Premise)</span> <span style='color: #587184;'>.(I-Premise)</span> <span style='color: #587184;'>56(I-Premise)</span> <span style='color: #587184;'>,(I-Premise)</span> <span style='color: #587184;'>p(I-Premise)</span> <span style='color: #587184;'>=(I-Premise)</span> <span style='color: #587184;'>0(I-Premise)</span> <span style='color: #587184;'>.(I-Premise)</span> <span style='color: #587184;'>00(I-Premise)</span> <span style='color: #587184;'>##1(I-Premise)</span> <span style='color: #587184;'>)(I-Premise)</span> <span style='color: #587184;'>.(I-Premise)</span> <span style='color: #587184;'>thal(I-Premise)</span> <span style='color: #6fbca7;'>##ido(B-Claim)</span> <span style='color: #6fbca7;'>##mid(I-Claim)</span> <span style='color: #6fbca7;'>##e(I-Claim)</span> <span style='color: #6fbca7;'>was(I-Claim)</span> <span style='color: #6fbca7;'>well(I-Claim)</span> <span style='color: #6fbca7;'>tolerated(I-Claim)</span> <span style='color: #6fbca7;'>and(I-Claim)</span> <span style='color: #6fbca7;'>effective(I-Claim)</span> <span style='color: #6fbca7;'>at(I-Claim)</span> <span style='color: #6fbca7;'>atten(I-Claim)</span> <span style='color: #6fbca7;'>##uating(I-Claim)</span> <span style='color: #6fbca7;'>loss(I-Claim)</span> <span style='color: #6fbca7;'>of(I-Claim)</span> <span style='color: #6fbca7;'>weight(I-Claim)</span> <span style='color: #6fbca7;'>and(I-Claim)</span> <span style='color: #6fbca7;'>lean(I-Claim)</span> <span style='color: #6fbca7;'>body(I-Claim)</span> <span style='color: #6fbca7;'>mass(I-Claim)</span> <span style='color: #6fbca7;'>in(I-Claim)</span> <span style='color: #6fbca7;'>patients(I-Claim)</span> <span style='color: #6fbca7;'>with(I-Claim)</span> <span style='color: #6fbca7;'>cache(I-Claim)</span> <span style='color: #6fbca7;'>##xia(I-Claim)</span> <span style='color: #6fbca7;'>due(I-Claim)</span> <span style='color: #6fbca7;'>to(I-Claim)</span> <span style='color: #6fbca7;'>advanced(I-Claim)</span> <span style='color: #6fbca7;'>pancreatic(I-Claim)</span> <span style='color: #6fbca7;'>cancer(I-Claim)</span> <span style='color: #6fbca7;'>.(I-Claim)</span>"
      ],
      "text/plain": [
       "<IPython.core.display.HTML object>"
      ]
     },
     "metadata": {},
     "output_type": "display_data"
    }
   ],
   "source": [
    "kgward = {'ac_detector':{\n",
    "    'model_card': MODEL_CARD_SciBERT,\n",
    "    'num_labels': NUM_LABELS,\n",
    "    'gru_hidden_size': 128,\n",
    "    'gru_num_layers': 1,\n",
    "    'dropout_prob': 0.43}\n",
    "}\n",
    "\n",
    "sample_idx = 30\n",
    "predicted_labels, predicted_tags = predict(scibert_model_custom, custom_test_df_scibert, custom_test_dataset_sci,sample_idx,idx_to_tag)"
   ]
  },
  {
   "cell_type": "markdown",
   "metadata": {},
   "source": [
    "The best performing model, SciBERT, was selected for the error analysis. As we can see the detection of the argumentative components is relatively well done, with the model being able to identify the majority of the claims and premises. However, there are still some errors, with the model sometimes failing to identify the correct component or assigning the wrong tag to a token. The most common errors are related to the detection of claims, this is due also to the less frequency in the abstracts. The detection of premises is generally more accurate, with the model being able to correctly identify the majority of the premises."
   ]
  }
 ],
 "metadata": {
  "accelerator": "GPU",
  "colab": {
   "gpuType": "A100",
   "provenance": []
  },
  "kernelspec": {
   "display_name": "nlp",
   "language": "python",
   "name": "python3"
  },
  "language_info": {
   "codemirror_mode": {
    "name": "ipython",
    "version": 3
   },
   "file_extension": ".py",
   "mimetype": "text/x-python",
   "name": "python",
   "nbconvert_exporter": "python",
   "pygments_lexer": "ipython3",
   "version": "3.11.10"
  },
  "widgets": {
   "application/vnd.jupyter.widget-state+json": {
    "002c5d5aa7584b30b9007def5ccc07a8": {
     "model_module": "@jupyter-widgets/controls",
     "model_module_version": "1.5.0",
     "model_name": "HTMLModel",
     "state": {
      "_dom_classes": [],
      "_model_module": "@jupyter-widgets/controls",
      "_model_module_version": "1.5.0",
      "_model_name": "HTMLModel",
      "_view_count": null,
      "_view_module": "@jupyter-widgets/controls",
      "_view_module_version": "1.5.0",
      "_view_name": "HTMLView",
      "description": "",
      "description_tooltip": null,
      "layout": "IPY_MODEL_b7d975e388384c56b921dec10a48cb92",
      "placeholder": "​",
      "style": "IPY_MODEL_2a0f6fa5b5884ded9fb62bd7e1517298",
      "value": " 228k/228k [00:00&lt;00:00, 1.10MB/s]"
     }
    },
    "03967e2e3380494eb0dcdfdba50a98ad": {
     "model_module": "@jupyter-widgets/base",
     "model_module_version": "1.2.0",
     "model_name": "LayoutModel",
     "state": {
      "_model_module": "@jupyter-widgets/base",
      "_model_module_version": "1.2.0",
      "_model_name": "LayoutModel",
      "_view_count": null,
      "_view_module": "@jupyter-widgets/base",
      "_view_module_version": "1.2.0",
      "_view_name": "LayoutView",
      "align_content": null,
      "align_items": null,
      "align_self": null,
      "border": null,
      "bottom": null,
      "display": null,
      "flex": null,
      "flex_flow": null,
      "grid_area": null,
      "grid_auto_columns": null,
      "grid_auto_flow": null,
      "grid_auto_rows": null,
      "grid_column": null,
      "grid_gap": null,
      "grid_row": null,
      "grid_template_areas": null,
      "grid_template_columns": null,
      "grid_template_rows": null,
      "height": null,
      "justify_content": null,
      "justify_items": null,
      "left": null,
      "margin": null,
      "max_height": null,
      "max_width": null,
      "min_height": null,
      "min_width": null,
      "object_fit": null,
      "object_position": null,
      "order": null,
      "overflow": null,
      "overflow_x": null,
      "overflow_y": null,
      "padding": null,
      "right": null,
      "top": null,
      "visibility": null,
      "width": null
     }
    },
    "0399dced43d14792a22cef7d43b8f952": {
     "model_module": "@jupyter-widgets/controls",
     "model_module_version": "1.5.0",
     "model_name": "HTMLModel",
     "state": {
      "_dom_classes": [],
      "_model_module": "@jupyter-widgets/controls",
      "_model_module_version": "1.5.0",
      "_model_name": "HTMLModel",
      "_view_count": null,
      "_view_module": "@jupyter-widgets/controls",
      "_view_module_version": "1.5.0",
      "_view_name": "HTMLView",
      "description": "",
      "description_tooltip": null,
      "layout": "IPY_MODEL_7351e488a01d4a218ddc2f0926a6aef5",
      "placeholder": "​",
      "style": "IPY_MODEL_b87afe30ad314dc8a3ea25ceb06324d4",
      "value": " 112/112 [00:00&lt;00:00, 8.85kB/s]"
     }
    },
    "0800f954acab4983a7f9e7b64bd2ec86": {
     "model_module": "@jupyter-widgets/controls",
     "model_module_version": "1.5.0",
     "model_name": "FloatProgressModel",
     "state": {
      "_dom_classes": [],
      "_model_module": "@jupyter-widgets/controls",
      "_model_module_version": "1.5.0",
      "_model_name": "FloatProgressModel",
      "_view_count": null,
      "_view_module": "@jupyter-widgets/controls",
      "_view_module_version": "1.5.0",
      "_view_name": "ProgressView",
      "bar_style": "success",
      "description": "",
      "description_tooltip": null,
      "layout": "IPY_MODEL_eeb5bae601cc4d49bebace10263e697b",
      "max": 462,
      "min": 0,
      "orientation": "horizontal",
      "style": "IPY_MODEL_605cd2d88d8740d8ba005647922f3180",
      "value": 462
     }
    },
    "08680ed78b1a4d138741c7e7f343bdef": {
     "model_module": "@jupyter-widgets/base",
     "model_module_version": "1.2.0",
     "model_name": "LayoutModel",
     "state": {
      "_model_module": "@jupyter-widgets/base",
      "_model_module_version": "1.2.0",
      "_model_name": "LayoutModel",
      "_view_count": null,
      "_view_module": "@jupyter-widgets/base",
      "_view_module_version": "1.2.0",
      "_view_name": "LayoutView",
      "align_content": null,
      "align_items": null,
      "align_self": null,
      "border": null,
      "bottom": null,
      "display": null,
      "flex": null,
      "flex_flow": null,
      "grid_area": null,
      "grid_auto_columns": null,
      "grid_auto_flow": null,
      "grid_auto_rows": null,
      "grid_column": null,
      "grid_gap": null,
      "grid_row": null,
      "grid_template_areas": null,
      "grid_template_columns": null,
      "grid_template_rows": null,
      "height": null,
      "justify_content": null,
      "justify_items": null,
      "left": null,
      "margin": null,
      "max_height": null,
      "max_width": null,
      "min_height": null,
      "min_width": null,
      "object_fit": null,
      "object_position": null,
      "order": null,
      "overflow": null,
      "overflow_x": null,
      "overflow_y": null,
      "padding": null,
      "right": null,
      "top": null,
      "visibility": null,
      "width": null
     }
    },
    "098584a9e8c14f0a8a8bc157d9de7c21": {
     "model_module": "@jupyter-widgets/controls",
     "model_module_version": "1.5.0",
     "model_name": "ProgressStyleModel",
     "state": {
      "_model_module": "@jupyter-widgets/controls",
      "_model_module_version": "1.5.0",
      "_model_name": "ProgressStyleModel",
      "_view_count": null,
      "_view_module": "@jupyter-widgets/base",
      "_view_module_version": "1.2.0",
      "_view_name": "StyleView",
      "bar_color": null,
      "description_width": ""
     }
    },
    "0a469368de2b4dac9b67c3d37d8c167d": {
     "model_module": "@jupyter-widgets/base",
     "model_module_version": "1.2.0",
     "model_name": "LayoutModel",
     "state": {
      "_model_module": "@jupyter-widgets/base",
      "_model_module_version": "1.2.0",
      "_model_name": "LayoutModel",
      "_view_count": null,
      "_view_module": "@jupyter-widgets/base",
      "_view_module_version": "1.2.0",
      "_view_name": "LayoutView",
      "align_content": null,
      "align_items": null,
      "align_self": null,
      "border": null,
      "bottom": null,
      "display": null,
      "flex": null,
      "flex_flow": null,
      "grid_area": null,
      "grid_auto_columns": null,
      "grid_auto_flow": null,
      "grid_auto_rows": null,
      "grid_column": null,
      "grid_gap": null,
      "grid_row": null,
      "grid_template_areas": null,
      "grid_template_columns": null,
      "grid_template_rows": null,
      "height": null,
      "justify_content": null,
      "justify_items": null,
      "left": null,
      "margin": null,
      "max_height": null,
      "max_width": null,
      "min_height": null,
      "min_width": null,
      "object_fit": null,
      "object_position": null,
      "order": null,
      "overflow": null,
      "overflow_x": null,
      "overflow_y": null,
      "padding": null,
      "right": null,
      "top": null,
      "visibility": null,
      "width": null
     }
    },
    "0d413dda5e594308aed3c5e6fc5757a7": {
     "model_module": "@jupyter-widgets/controls",
     "model_module_version": "1.5.0",
     "model_name": "FloatProgressModel",
     "state": {
      "_dom_classes": [],
      "_model_module": "@jupyter-widgets/controls",
      "_model_module_version": "1.5.0",
      "_model_name": "FloatProgressModel",
      "_view_count": null,
      "_view_module": "@jupyter-widgets/controls",
      "_view_module_version": "1.5.0",
      "_view_name": "ProgressView",
      "bar_style": "success",
      "description": "",
      "description_tooltip": null,
      "layout": "IPY_MODEL_b5790f4ccf214a80a6bc99ead720b95d",
      "max": 231508,
      "min": 0,
      "orientation": "horizontal",
      "style": "IPY_MODEL_6e74612280024f53931fe487baee3b11",
      "value": 231508
     }
    },
    "0fa1a61a37b040a9b25dc6b9853449e0": {
     "model_module": "@jupyter-widgets/controls",
     "model_module_version": "1.5.0",
     "model_name": "HTMLModel",
     "state": {
      "_dom_classes": [],
      "_model_module": "@jupyter-widgets/controls",
      "_model_module_version": "1.5.0",
      "_model_name": "HTMLModel",
      "_view_count": null,
      "_view_module": "@jupyter-widgets/controls",
      "_view_module_version": "1.5.0",
      "_view_name": "HTMLView",
      "description": "",
      "description_tooltip": null,
      "layout": "IPY_MODEL_31cb7d6a7efb4bb39441e18b5cd6c91d",
      "placeholder": "​",
      "style": "IPY_MODEL_bd13a6d42e6f48d79de425fc6877dfa2",
      "value": " 462/462 [00:00&lt;00:00, 36.8kB/s]"
     }
    },
    "138899d11ded495c9cfb7382e5199fd9": {
     "model_module": "@jupyter-widgets/controls",
     "model_module_version": "1.5.0",
     "model_name": "FloatProgressModel",
     "state": {
      "_dom_classes": [],
      "_model_module": "@jupyter-widgets/controls",
      "_model_module_version": "1.5.0",
      "_model_name": "FloatProgressModel",
      "_view_count": null,
      "_view_module": "@jupyter-widgets/controls",
      "_view_module_version": "1.5.0",
      "_view_name": "ProgressView",
      "bar_style": "success",
      "description": "",
      "description_tooltip": null,
      "layout": "IPY_MODEL_9a3c05cf57c84aa48515f94529370d14",
      "max": 570,
      "min": 0,
      "orientation": "horizontal",
      "style": "IPY_MODEL_6f7bab4ae298451c89871eb3eb2ae8cd",
      "value": 570
     }
    },
    "158b066e50dc45f894ee82d96adb3af7": {
     "model_module": "@jupyter-widgets/controls",
     "model_module_version": "1.5.0",
     "model_name": "HTMLModel",
     "state": {
      "_dom_classes": [],
      "_model_module": "@jupyter-widgets/controls",
      "_model_module_version": "1.5.0",
      "_model_name": "HTMLModel",
      "_view_count": null,
      "_view_module": "@jupyter-widgets/controls",
      "_view_module_version": "1.5.0",
      "_view_name": "HTMLView",
      "description": "",
      "description_tooltip": null,
      "layout": "IPY_MODEL_c059a51bf29e483281f3f375d08b08ee",
      "placeholder": "​",
      "style": "IPY_MODEL_4483346d9a3346f5ba6636cabf78176c",
      "value": "special_tokens_map.json: 100%"
     }
    },
    "1a6dcc1b14624a919452f865a3bbb484": {
     "model_module": "@jupyter-widgets/controls",
     "model_module_version": "1.5.0",
     "model_name": "HBoxModel",
     "state": {
      "_dom_classes": [],
      "_model_module": "@jupyter-widgets/controls",
      "_model_module_version": "1.5.0",
      "_model_name": "HBoxModel",
      "_view_count": null,
      "_view_module": "@jupyter-widgets/controls",
      "_view_module_version": "1.5.0",
      "_view_name": "HBoxView",
      "box_style": "",
      "children": [
       "IPY_MODEL_5403dd2c215c48128fef2b3a40637b82",
       "IPY_MODEL_3e02c08be6b4472e993599c5cafae380",
       "IPY_MODEL_f7e096373bd5427182cbbe2f3e5fafd9"
      ],
      "layout": "IPY_MODEL_e7fe06ce574648469e37fa1a32c456c9"
     }
    },
    "1dc49ab7211e4e138e0dce30cd2ae6e2": {
     "model_module": "@jupyter-widgets/controls",
     "model_module_version": "1.5.0",
     "model_name": "DescriptionStyleModel",
     "state": {
      "_model_module": "@jupyter-widgets/controls",
      "_model_module_version": "1.5.0",
      "_model_name": "DescriptionStyleModel",
      "_view_count": null,
      "_view_module": "@jupyter-widgets/base",
      "_view_module_version": "1.2.0",
      "_view_name": "StyleView",
      "description_width": ""
     }
    },
    "1f3d2846aaa64bcf9454dbdfdd769311": {
     "model_module": "@jupyter-widgets/base",
     "model_module_version": "1.2.0",
     "model_name": "LayoutModel",
     "state": {
      "_model_module": "@jupyter-widgets/base",
      "_model_module_version": "1.2.0",
      "_model_name": "LayoutModel",
      "_view_count": null,
      "_view_module": "@jupyter-widgets/base",
      "_view_module_version": "1.2.0",
      "_view_name": "LayoutView",
      "align_content": null,
      "align_items": null,
      "align_self": null,
      "border": null,
      "bottom": null,
      "display": null,
      "flex": null,
      "flex_flow": null,
      "grid_area": null,
      "grid_auto_columns": null,
      "grid_auto_flow": null,
      "grid_auto_rows": null,
      "grid_column": null,
      "grid_gap": null,
      "grid_row": null,
      "grid_template_areas": null,
      "grid_template_columns": null,
      "grid_template_rows": null,
      "height": null,
      "justify_content": null,
      "justify_items": null,
      "left": null,
      "margin": null,
      "max_height": null,
      "max_width": null,
      "min_height": null,
      "min_width": null,
      "object_fit": null,
      "object_position": null,
      "order": null,
      "overflow": null,
      "overflow_x": null,
      "overflow_y": null,
      "padding": null,
      "right": null,
      "top": null,
      "visibility": null,
      "width": null
     }
    },
    "1f556c33a9f44bc394085e7806389171": {
     "model_module": "@jupyter-widgets/base",
     "model_module_version": "1.2.0",
     "model_name": "LayoutModel",
     "state": {
      "_model_module": "@jupyter-widgets/base",
      "_model_module_version": "1.2.0",
      "_model_name": "LayoutModel",
      "_view_count": null,
      "_view_module": "@jupyter-widgets/base",
      "_view_module_version": "1.2.0",
      "_view_name": "LayoutView",
      "align_content": null,
      "align_items": null,
      "align_self": null,
      "border": null,
      "bottom": null,
      "display": null,
      "flex": null,
      "flex_flow": null,
      "grid_area": null,
      "grid_auto_columns": null,
      "grid_auto_flow": null,
      "grid_auto_rows": null,
      "grid_column": null,
      "grid_gap": null,
      "grid_row": null,
      "grid_template_areas": null,
      "grid_template_columns": null,
      "grid_template_rows": null,
      "height": null,
      "justify_content": null,
      "justify_items": null,
      "left": null,
      "margin": null,
      "max_height": null,
      "max_width": null,
      "min_height": null,
      "min_width": null,
      "object_fit": null,
      "object_position": null,
      "order": null,
      "overflow": null,
      "overflow_x": null,
      "overflow_y": null,
      "padding": null,
      "right": null,
      "top": null,
      "visibility": null,
      "width": null
     }
    },
    "21aa8b0da8224b24b1e8d0bb6cb5e731": {
     "model_module": "@jupyter-widgets/controls",
     "model_module_version": "1.5.0",
     "model_name": "HTMLModel",
     "state": {
      "_dom_classes": [],
      "_model_module": "@jupyter-widgets/controls",
      "_model_module_version": "1.5.0",
      "_model_name": "HTMLModel",
      "_view_count": null,
      "_view_module": "@jupyter-widgets/controls",
      "_view_module_version": "1.5.0",
      "_view_name": "HTMLView",
      "description": "",
      "description_tooltip": null,
      "layout": "IPY_MODEL_8af0c0b7a4ff4fc79a5d969c564b969b",
      "placeholder": "​",
      "style": "IPY_MODEL_915d695173a244ec86e1c0bda0c237e8",
      "value": "vocab.txt: 100%"
     }
    },
    "223a357204e0490e929654ae65b8de54": {
     "model_module": "@jupyter-widgets/controls",
     "model_module_version": "1.5.0",
     "model_name": "HTMLModel",
     "state": {
      "_dom_classes": [],
      "_model_module": "@jupyter-widgets/controls",
      "_model_module_version": "1.5.0",
      "_model_name": "HTMLModel",
      "_view_count": null,
      "_view_module": "@jupyter-widgets/controls",
      "_view_module_version": "1.5.0",
      "_view_name": "HTMLView",
      "description": "",
      "description_tooltip": null,
      "layout": "IPY_MODEL_1f3d2846aaa64bcf9454dbdfdd769311",
      "placeholder": "​",
      "style": "IPY_MODEL_a60975e240204f358e5687798927659b",
      "value": " 213k/213k [00:00&lt;00:00, 15.5MB/s]"
     }
    },
    "2349d35bf16e4dbd974aa97b2f6065f9": {
     "model_module": "@jupyter-widgets/controls",
     "model_module_version": "1.5.0",
     "model_name": "DescriptionStyleModel",
     "state": {
      "_model_module": "@jupyter-widgets/controls",
      "_model_module_version": "1.5.0",
      "_model_name": "DescriptionStyleModel",
      "_view_count": null,
      "_view_module": "@jupyter-widgets/base",
      "_view_module_version": "1.2.0",
      "_view_name": "StyleView",
      "description_width": ""
     }
    },
    "23d83c17594243c4b26893b0567439aa": {
     "model_module": "@jupyter-widgets/controls",
     "model_module_version": "1.5.0",
     "model_name": "FloatProgressModel",
     "state": {
      "_dom_classes": [],
      "_model_module": "@jupyter-widgets/controls",
      "_model_module_version": "1.5.0",
      "_model_name": "FloatProgressModel",
      "_view_count": null,
      "_view_module": "@jupyter-widgets/controls",
      "_view_module_version": "1.5.0",
      "_view_name": "ProgressView",
      "bar_style": "success",
      "description": "",
      "description_tooltip": null,
      "layout": "IPY_MODEL_b7ffab25e9d54c92a86c46a8a7c76c58",
      "max": 213450,
      "min": 0,
      "orientation": "horizontal",
      "style": "IPY_MODEL_29540fe051384e12ab8cb4dc278666b9",
      "value": 213450
     }
    },
    "29540fe051384e12ab8cb4dc278666b9": {
     "model_module": "@jupyter-widgets/controls",
     "model_module_version": "1.5.0",
     "model_name": "ProgressStyleModel",
     "state": {
      "_model_module": "@jupyter-widgets/controls",
      "_model_module_version": "1.5.0",
      "_model_name": "ProgressStyleModel",
      "_view_count": null,
      "_view_module": "@jupyter-widgets/base",
      "_view_module_version": "1.2.0",
      "_view_name": "StyleView",
      "bar_color": null,
      "description_width": ""
     }
    },
    "2a0f6fa5b5884ded9fb62bd7e1517298": {
     "model_module": "@jupyter-widgets/controls",
     "model_module_version": "1.5.0",
     "model_name": "DescriptionStyleModel",
     "state": {
      "_model_module": "@jupyter-widgets/controls",
      "_model_module_version": "1.5.0",
      "_model_name": "DescriptionStyleModel",
      "_view_count": null,
      "_view_module": "@jupyter-widgets/base",
      "_view_module_version": "1.2.0",
      "_view_name": "StyleView",
      "description_width": ""
     }
    },
    "2a56ee1bb4cc4fdbbbf0f33a7ef12d3d": {
     "model_module": "@jupyter-widgets/controls",
     "model_module_version": "1.5.0",
     "model_name": "ProgressStyleModel",
     "state": {
      "_model_module": "@jupyter-widgets/controls",
      "_model_module_version": "1.5.0",
      "_model_name": "ProgressStyleModel",
      "_view_count": null,
      "_view_module": "@jupyter-widgets/base",
      "_view_module_version": "1.2.0",
      "_view_name": "StyleView",
      "bar_color": null,
      "description_width": ""
     }
    },
    "31c6e3ad67f14f79b82638bbc5100c1a": {
     "model_module": "@jupyter-widgets/base",
     "model_module_version": "1.2.0",
     "model_name": "LayoutModel",
     "state": {
      "_model_module": "@jupyter-widgets/base",
      "_model_module_version": "1.2.0",
      "_model_name": "LayoutModel",
      "_view_count": null,
      "_view_module": "@jupyter-widgets/base",
      "_view_module_version": "1.2.0",
      "_view_name": "LayoutView",
      "align_content": null,
      "align_items": null,
      "align_self": null,
      "border": null,
      "bottom": null,
      "display": null,
      "flex": null,
      "flex_flow": null,
      "grid_area": null,
      "grid_auto_columns": null,
      "grid_auto_flow": null,
      "grid_auto_rows": null,
      "grid_column": null,
      "grid_gap": null,
      "grid_row": null,
      "grid_template_areas": null,
      "grid_template_columns": null,
      "grid_template_rows": null,
      "height": null,
      "justify_content": null,
      "justify_items": null,
      "left": null,
      "margin": null,
      "max_height": null,
      "max_width": null,
      "min_height": null,
      "min_width": null,
      "object_fit": null,
      "object_position": null,
      "order": null,
      "overflow": null,
      "overflow_x": null,
      "overflow_y": null,
      "padding": null,
      "right": null,
      "top": null,
      "visibility": null,
      "width": null
     }
    },
    "31cb7d6a7efb4bb39441e18b5cd6c91d": {
     "model_module": "@jupyter-widgets/base",
     "model_module_version": "1.2.0",
     "model_name": "LayoutModel",
     "state": {
      "_model_module": "@jupyter-widgets/base",
      "_model_module_version": "1.2.0",
      "_model_name": "LayoutModel",
      "_view_count": null,
      "_view_module": "@jupyter-widgets/base",
      "_view_module_version": "1.2.0",
      "_view_name": "LayoutView",
      "align_content": null,
      "align_items": null,
      "align_self": null,
      "border": null,
      "bottom": null,
      "display": null,
      "flex": null,
      "flex_flow": null,
      "grid_area": null,
      "grid_auto_columns": null,
      "grid_auto_flow": null,
      "grid_auto_rows": null,
      "grid_column": null,
      "grid_gap": null,
      "grid_row": null,
      "grid_template_areas": null,
      "grid_template_columns": null,
      "grid_template_rows": null,
      "height": null,
      "justify_content": null,
      "justify_items": null,
      "left": null,
      "margin": null,
      "max_height": null,
      "max_width": null,
      "min_height": null,
      "min_width": null,
      "object_fit": null,
      "object_position": null,
      "order": null,
      "overflow": null,
      "overflow_x": null,
      "overflow_y": null,
      "padding": null,
      "right": null,
      "top": null,
      "visibility": null,
      "width": null
     }
    },
    "33c5aeb2a88a4bf3bfedb920463ba1f8": {
     "model_module": "@jupyter-widgets/base",
     "model_module_version": "1.2.0",
     "model_name": "LayoutModel",
     "state": {
      "_model_module": "@jupyter-widgets/base",
      "_model_module_version": "1.2.0",
      "_model_name": "LayoutModel",
      "_view_count": null,
      "_view_module": "@jupyter-widgets/base",
      "_view_module_version": "1.2.0",
      "_view_name": "LayoutView",
      "align_content": null,
      "align_items": null,
      "align_self": null,
      "border": null,
      "bottom": null,
      "display": null,
      "flex": null,
      "flex_flow": null,
      "grid_area": null,
      "grid_auto_columns": null,
      "grid_auto_flow": null,
      "grid_auto_rows": null,
      "grid_column": null,
      "grid_gap": null,
      "grid_row": null,
      "grid_template_areas": null,
      "grid_template_columns": null,
      "grid_template_rows": null,
      "height": null,
      "justify_content": null,
      "justify_items": null,
      "left": null,
      "margin": null,
      "max_height": null,
      "max_width": null,
      "min_height": null,
      "min_width": null,
      "object_fit": null,
      "object_position": null,
      "order": null,
      "overflow": null,
      "overflow_x": null,
      "overflow_y": null,
      "padding": null,
      "right": null,
      "top": null,
      "visibility": null,
      "width": null
     }
    },
    "34274911bb8942278c124130c9433760": {
     "model_module": "@jupyter-widgets/controls",
     "model_module_version": "1.5.0",
     "model_name": "HTMLModel",
     "state": {
      "_dom_classes": [],
      "_model_module": "@jupyter-widgets/controls",
      "_model_module_version": "1.5.0",
      "_model_name": "HTMLModel",
      "_view_count": null,
      "_view_module": "@jupyter-widgets/controls",
      "_view_module_version": "1.5.0",
      "_view_name": "HTMLView",
      "description": "",
      "description_tooltip": null,
      "layout": "IPY_MODEL_62b279ad7cdf46dbb5d8a1d021e7d9e5",
      "placeholder": "​",
      "style": "IPY_MODEL_75a35d11da484709a69b2442a10fa99a",
      "value": " 385/385 [00:00&lt;00:00, 33.7kB/s]"
     }
    },
    "35a09ac6454047158470f8391ca8e664": {
     "model_module": "@jupyter-widgets/controls",
     "model_module_version": "1.5.0",
     "model_name": "DescriptionStyleModel",
     "state": {
      "_model_module": "@jupyter-widgets/controls",
      "_model_module_version": "1.5.0",
      "_model_name": "DescriptionStyleModel",
      "_view_count": null,
      "_view_module": "@jupyter-widgets/base",
      "_view_module_version": "1.2.0",
      "_view_name": "StyleView",
      "description_width": ""
     }
    },
    "377ab2eaac574a7880f8d66f85078e85": {
     "model_module": "@jupyter-widgets/controls",
     "model_module_version": "1.5.0",
     "model_name": "HBoxModel",
     "state": {
      "_dom_classes": [],
      "_model_module": "@jupyter-widgets/controls",
      "_model_module_version": "1.5.0",
      "_model_name": "HBoxModel",
      "_view_count": null,
      "_view_module": "@jupyter-widgets/controls",
      "_view_module_version": "1.5.0",
      "_view_name": "HBoxView",
      "box_style": "",
      "children": [
       "IPY_MODEL_929a4b5de14943e8a824f31576c4b9aa",
       "IPY_MODEL_6ed8f8755de940a4955a8399a0aea1f4",
       "IPY_MODEL_002c5d5aa7584b30b9007def5ccc07a8"
      ],
      "layout": "IPY_MODEL_1f556c33a9f44bc394085e7806389171"
     }
    },
    "38771b7df0aa42178dad39b3cb8d4dc1": {
     "model_module": "@jupyter-widgets/controls",
     "model_module_version": "1.5.0",
     "model_name": "DescriptionStyleModel",
     "state": {
      "_model_module": "@jupyter-widgets/controls",
      "_model_module_version": "1.5.0",
      "_model_name": "DescriptionStyleModel",
      "_view_count": null,
      "_view_module": "@jupyter-widgets/base",
      "_view_module_version": "1.2.0",
      "_view_name": "StyleView",
      "description_width": ""
     }
    },
    "3e02c08be6b4472e993599c5cafae380": {
     "model_module": "@jupyter-widgets/controls",
     "model_module_version": "1.5.0",
     "model_name": "FloatProgressModel",
     "state": {
      "_dom_classes": [],
      "_model_module": "@jupyter-widgets/controls",
      "_model_module_version": "1.5.0",
      "_model_name": "FloatProgressModel",
      "_view_count": null,
      "_view_module": "@jupyter-widgets/controls",
      "_view_module_version": "1.5.0",
      "_view_name": "ProgressView",
      "bar_style": "success",
      "description": "",
      "description_tooltip": null,
      "layout": "IPY_MODEL_03967e2e3380494eb0dcdfdba50a98ad",
      "max": 466062,
      "min": 0,
      "orientation": "horizontal",
      "style": "IPY_MODEL_8639434f16d841bfa4e935b8a7a0dbf6",
      "value": 466062
     }
    },
    "3ede10371f504cdaaf256bd716795c1a": {
     "model_module": "@jupyter-widgets/base",
     "model_module_version": "1.2.0",
     "model_name": "LayoutModel",
     "state": {
      "_model_module": "@jupyter-widgets/base",
      "_model_module_version": "1.2.0",
      "_model_name": "LayoutModel",
      "_view_count": null,
      "_view_module": "@jupyter-widgets/base",
      "_view_module_version": "1.2.0",
      "_view_name": "LayoutView",
      "align_content": null,
      "align_items": null,
      "align_self": null,
      "border": null,
      "bottom": null,
      "display": null,
      "flex": null,
      "flex_flow": null,
      "grid_area": null,
      "grid_auto_columns": null,
      "grid_auto_flow": null,
      "grid_auto_rows": null,
      "grid_column": null,
      "grid_gap": null,
      "grid_row": null,
      "grid_template_areas": null,
      "grid_template_columns": null,
      "grid_template_rows": null,
      "height": null,
      "justify_content": null,
      "justify_items": null,
      "left": null,
      "margin": null,
      "max_height": null,
      "max_width": null,
      "min_height": null,
      "min_width": null,
      "object_fit": null,
      "object_position": null,
      "order": null,
      "overflow": null,
      "overflow_x": null,
      "overflow_y": null,
      "padding": null,
      "right": null,
      "top": null,
      "visibility": null,
      "width": null
     }
    },
    "4085d8e7d16b443296364d8912a7aef2": {
     "model_module": "@jupyter-widgets/controls",
     "model_module_version": "1.5.0",
     "model_name": "HTMLModel",
     "state": {
      "_dom_classes": [],
      "_model_module": "@jupyter-widgets/controls",
      "_model_module_version": "1.5.0",
      "_model_name": "HTMLModel",
      "_view_count": null,
      "_view_module": "@jupyter-widgets/controls",
      "_view_module_version": "1.5.0",
      "_view_name": "HTMLView",
      "description": "",
      "description_tooltip": null,
      "layout": "IPY_MODEL_4dad72a61f7947fba905345eeed54b73",
      "placeholder": "​",
      "style": "IPY_MODEL_921c8941157741a78afd30f9844796e6",
      "value": "config.json: 100%"
     }
    },
    "4407db20761b44d08c2a40f50bc76633": {
     "model_module": "@jupyter-widgets/base",
     "model_module_version": "1.2.0",
     "model_name": "LayoutModel",
     "state": {
      "_model_module": "@jupyter-widgets/base",
      "_model_module_version": "1.2.0",
      "_model_name": "LayoutModel",
      "_view_count": null,
      "_view_module": "@jupyter-widgets/base",
      "_view_module_version": "1.2.0",
      "_view_name": "LayoutView",
      "align_content": null,
      "align_items": null,
      "align_self": null,
      "border": null,
      "bottom": null,
      "display": null,
      "flex": null,
      "flex_flow": null,
      "grid_area": null,
      "grid_auto_columns": null,
      "grid_auto_flow": null,
      "grid_auto_rows": null,
      "grid_column": null,
      "grid_gap": null,
      "grid_row": null,
      "grid_template_areas": null,
      "grid_template_columns": null,
      "grid_template_rows": null,
      "height": null,
      "justify_content": null,
      "justify_items": null,
      "left": null,
      "margin": null,
      "max_height": null,
      "max_width": null,
      "min_height": null,
      "min_width": null,
      "object_fit": null,
      "object_position": null,
      "order": null,
      "overflow": null,
      "overflow_x": null,
      "overflow_y": null,
      "padding": null,
      "right": null,
      "top": null,
      "visibility": null,
      "width": null
     }
    },
    "4483346d9a3346f5ba6636cabf78176c": {
     "model_module": "@jupyter-widgets/controls",
     "model_module_version": "1.5.0",
     "model_name": "DescriptionStyleModel",
     "state": {
      "_model_module": "@jupyter-widgets/controls",
      "_model_module_version": "1.5.0",
      "_model_name": "DescriptionStyleModel",
      "_view_count": null,
      "_view_module": "@jupyter-widgets/base",
      "_view_module_version": "1.2.0",
      "_view_name": "StyleView",
      "description_width": ""
     }
    },
    "464027954ef54f8ba363bf51c454900b": {
     "model_module": "@jupyter-widgets/controls",
     "model_module_version": "1.5.0",
     "model_name": "FloatProgressModel",
     "state": {
      "_dom_classes": [],
      "_model_module": "@jupyter-widgets/controls",
      "_model_module_version": "1.5.0",
      "_model_name": "FloatProgressModel",
      "_view_count": null,
      "_view_module": "@jupyter-widgets/controls",
      "_view_module_version": "1.5.0",
      "_view_name": "ProgressView",
      "bar_style": "success",
      "description": "",
      "description_tooltip": null,
      "layout": "IPY_MODEL_9035155318ed4e3a9bb72876722ff574",
      "max": 48,
      "min": 0,
      "orientation": "horizontal",
      "style": "IPY_MODEL_f44a1e1ba78c4f52b381b08367416328",
      "value": 48
     }
    },
    "48befb5c3363487f900c3736412c390e": {
     "model_module": "@jupyter-widgets/controls",
     "model_module_version": "1.5.0",
     "model_name": "DescriptionStyleModel",
     "state": {
      "_model_module": "@jupyter-widgets/controls",
      "_model_module_version": "1.5.0",
      "_model_name": "DescriptionStyleModel",
      "_view_count": null,
      "_view_module": "@jupyter-widgets/base",
      "_view_module_version": "1.2.0",
      "_view_name": "StyleView",
      "description_width": ""
     }
    },
    "491fddcc6e634af2bc9900d95d5dcc0a": {
     "model_module": "@jupyter-widgets/controls",
     "model_module_version": "1.5.0",
     "model_name": "FloatProgressModel",
     "state": {
      "_dom_classes": [],
      "_model_module": "@jupyter-widgets/controls",
      "_model_module_version": "1.5.0",
      "_model_name": "FloatProgressModel",
      "_view_count": null,
      "_view_module": "@jupyter-widgets/controls",
      "_view_module_version": "1.5.0",
      "_view_name": "ProgressView",
      "bar_style": "success",
      "description": "",
      "description_tooltip": null,
      "layout": "IPY_MODEL_abbe5334d1e846c4922013a0f2cd68fa",
      "max": 112,
      "min": 0,
      "orientation": "horizontal",
      "style": "IPY_MODEL_5f9037895910459fb1c0fcef179beae7",
      "value": 112
     }
    },
    "4b5f74e7e61e4e29998488792908e667": {
     "model_module": "@jupyter-widgets/controls",
     "model_module_version": "1.5.0",
     "model_name": "HTMLModel",
     "state": {
      "_dom_classes": [],
      "_model_module": "@jupyter-widgets/controls",
      "_model_module_version": "1.5.0",
      "_model_name": "HTMLModel",
      "_view_count": null,
      "_view_module": "@jupyter-widgets/controls",
      "_view_module_version": "1.5.0",
      "_view_name": "HTMLView",
      "description": "",
      "description_tooltip": null,
      "layout": "IPY_MODEL_5f523aaaf4ef4571bbc9aed1ae8ebfb5",
      "placeholder": "​",
      "style": "IPY_MODEL_6c7dfa43f81845b4a0200dd31ff41135",
      "value": " 232k/232k [00:00&lt;00:00, 16.9MB/s]"
     }
    },
    "4dad72a61f7947fba905345eeed54b73": {
     "model_module": "@jupyter-widgets/base",
     "model_module_version": "1.2.0",
     "model_name": "LayoutModel",
     "state": {
      "_model_module": "@jupyter-widgets/base",
      "_model_module_version": "1.2.0",
      "_model_name": "LayoutModel",
      "_view_count": null,
      "_view_module": "@jupyter-widgets/base",
      "_view_module_version": "1.2.0",
      "_view_name": "LayoutView",
      "align_content": null,
      "align_items": null,
      "align_self": null,
      "border": null,
      "bottom": null,
      "display": null,
      "flex": null,
      "flex_flow": null,
      "grid_area": null,
      "grid_auto_columns": null,
      "grid_auto_flow": null,
      "grid_auto_rows": null,
      "grid_column": null,
      "grid_gap": null,
      "grid_row": null,
      "grid_template_areas": null,
      "grid_template_columns": null,
      "grid_template_rows": null,
      "height": null,
      "justify_content": null,
      "justify_items": null,
      "left": null,
      "margin": null,
      "max_height": null,
      "max_width": null,
      "min_height": null,
      "min_width": null,
      "object_fit": null,
      "object_position": null,
      "order": null,
      "overflow": null,
      "overflow_x": null,
      "overflow_y": null,
      "padding": null,
      "right": null,
      "top": null,
      "visibility": null,
      "width": null
     }
    },
    "5272512013f24665a2fd5d6ed3c23204": {
     "model_module": "@jupyter-widgets/controls",
     "model_module_version": "1.5.0",
     "model_name": "HBoxModel",
     "state": {
      "_dom_classes": [],
      "_model_module": "@jupyter-widgets/controls",
      "_model_module_version": "1.5.0",
      "_model_name": "HBoxModel",
      "_view_count": null,
      "_view_module": "@jupyter-widgets/controls",
      "_view_module_version": "1.5.0",
      "_view_name": "HBoxView",
      "box_style": "",
      "children": [
       "IPY_MODEL_c1e32c3d92474ecaa33f217e75f599ce",
       "IPY_MODEL_464027954ef54f8ba363bf51c454900b",
       "IPY_MODEL_eff71e91ec094bcb8ef51ef69599bcdc"
      ],
      "layout": "IPY_MODEL_08680ed78b1a4d138741c7e7f343bdef"
     }
    },
    "5403dd2c215c48128fef2b3a40637b82": {
     "model_module": "@jupyter-widgets/controls",
     "model_module_version": "1.5.0",
     "model_name": "HTMLModel",
     "state": {
      "_dom_classes": [],
      "_model_module": "@jupyter-widgets/controls",
      "_model_module_version": "1.5.0",
      "_model_name": "HTMLModel",
      "_view_count": null,
      "_view_module": "@jupyter-widgets/controls",
      "_view_module_version": "1.5.0",
      "_view_name": "HTMLView",
      "description": "",
      "description_tooltip": null,
      "layout": "IPY_MODEL_b9ff9ee3fcc3469fbb813fbede02d378",
      "placeholder": "​",
      "style": "IPY_MODEL_82a7c2520ade4db9bf07f1a97e1ba00b",
      "value": "tokenizer.json: 100%"
     }
    },
    "54ca0f85c49d49b19ea167926bff8bb4": {
     "model_module": "@jupyter-widgets/base",
     "model_module_version": "1.2.0",
     "model_name": "LayoutModel",
     "state": {
      "_model_module": "@jupyter-widgets/base",
      "_model_module_version": "1.2.0",
      "_model_name": "LayoutModel",
      "_view_count": null,
      "_view_module": "@jupyter-widgets/base",
      "_view_module_version": "1.2.0",
      "_view_name": "LayoutView",
      "align_content": null,
      "align_items": null,
      "align_self": null,
      "border": null,
      "bottom": null,
      "display": null,
      "flex": null,
      "flex_flow": null,
      "grid_area": null,
      "grid_auto_columns": null,
      "grid_auto_flow": null,
      "grid_auto_rows": null,
      "grid_column": null,
      "grid_gap": null,
      "grid_row": null,
      "grid_template_areas": null,
      "grid_template_columns": null,
      "grid_template_rows": null,
      "height": null,
      "justify_content": null,
      "justify_items": null,
      "left": null,
      "margin": null,
      "max_height": null,
      "max_width": null,
      "min_height": null,
      "min_width": null,
      "object_fit": null,
      "object_position": null,
      "order": null,
      "overflow": null,
      "overflow_x": null,
      "overflow_y": null,
      "padding": null,
      "right": null,
      "top": null,
      "visibility": null,
      "width": null
     }
    },
    "54ea4a30cd474b2989cdf6a981145eb0": {
     "model_module": "@jupyter-widgets/base",
     "model_module_version": "1.2.0",
     "model_name": "LayoutModel",
     "state": {
      "_model_module": "@jupyter-widgets/base",
      "_model_module_version": "1.2.0",
      "_model_name": "LayoutModel",
      "_view_count": null,
      "_view_module": "@jupyter-widgets/base",
      "_view_module_version": "1.2.0",
      "_view_name": "LayoutView",
      "align_content": null,
      "align_items": null,
      "align_self": null,
      "border": null,
      "bottom": null,
      "display": null,
      "flex": null,
      "flex_flow": null,
      "grid_area": null,
      "grid_auto_columns": null,
      "grid_auto_flow": null,
      "grid_auto_rows": null,
      "grid_column": null,
      "grid_gap": null,
      "grid_row": null,
      "grid_template_areas": null,
      "grid_template_columns": null,
      "grid_template_rows": null,
      "height": null,
      "justify_content": null,
      "justify_items": null,
      "left": null,
      "margin": null,
      "max_height": null,
      "max_width": null,
      "min_height": null,
      "min_width": null,
      "object_fit": null,
      "object_position": null,
      "order": null,
      "overflow": null,
      "overflow_x": null,
      "overflow_y": null,
      "padding": null,
      "right": null,
      "top": null,
      "visibility": null,
      "width": null
     }
    },
    "5e6b37e91910405d96f6eb66e64ab47f": {
     "model_module": "@jupyter-widgets/controls",
     "model_module_version": "1.5.0",
     "model_name": "HBoxModel",
     "state": {
      "_dom_classes": [],
      "_model_module": "@jupyter-widgets/controls",
      "_model_module_version": "1.5.0",
      "_model_name": "HBoxModel",
      "_view_count": null,
      "_view_module": "@jupyter-widgets/controls",
      "_view_module_version": "1.5.0",
      "_view_name": "HBoxView",
      "box_style": "",
      "children": [
       "IPY_MODEL_158b066e50dc45f894ee82d96adb3af7",
       "IPY_MODEL_491fddcc6e634af2bc9900d95d5dcc0a",
       "IPY_MODEL_0399dced43d14792a22cef7d43b8f952"
      ],
      "layout": "IPY_MODEL_d0a111a9977647f2b69673b4444f63d7"
     }
    },
    "5f523aaaf4ef4571bbc9aed1ae8ebfb5": {
     "model_module": "@jupyter-widgets/base",
     "model_module_version": "1.2.0",
     "model_name": "LayoutModel",
     "state": {
      "_model_module": "@jupyter-widgets/base",
      "_model_module_version": "1.2.0",
      "_model_name": "LayoutModel",
      "_view_count": null,
      "_view_module": "@jupyter-widgets/base",
      "_view_module_version": "1.2.0",
      "_view_name": "LayoutView",
      "align_content": null,
      "align_items": null,
      "align_self": null,
      "border": null,
      "bottom": null,
      "display": null,
      "flex": null,
      "flex_flow": null,
      "grid_area": null,
      "grid_auto_columns": null,
      "grid_auto_flow": null,
      "grid_auto_rows": null,
      "grid_column": null,
      "grid_gap": null,
      "grid_row": null,
      "grid_template_areas": null,
      "grid_template_columns": null,
      "grid_template_rows": null,
      "height": null,
      "justify_content": null,
      "justify_items": null,
      "left": null,
      "margin": null,
      "max_height": null,
      "max_width": null,
      "min_height": null,
      "min_width": null,
      "object_fit": null,
      "object_position": null,
      "order": null,
      "overflow": null,
      "overflow_x": null,
      "overflow_y": null,
      "padding": null,
      "right": null,
      "top": null,
      "visibility": null,
      "width": null
     }
    },
    "5f9037895910459fb1c0fcef179beae7": {
     "model_module": "@jupyter-widgets/controls",
     "model_module_version": "1.5.0",
     "model_name": "ProgressStyleModel",
     "state": {
      "_model_module": "@jupyter-widgets/controls",
      "_model_module_version": "1.5.0",
      "_model_name": "ProgressStyleModel",
      "_view_count": null,
      "_view_module": "@jupyter-widgets/base",
      "_view_module_version": "1.2.0",
      "_view_name": "StyleView",
      "bar_color": null,
      "description_width": ""
     }
    },
    "605cd2d88d8740d8ba005647922f3180": {
     "model_module": "@jupyter-widgets/controls",
     "model_module_version": "1.5.0",
     "model_name": "ProgressStyleModel",
     "state": {
      "_model_module": "@jupyter-widgets/controls",
      "_model_module_version": "1.5.0",
      "_model_name": "ProgressStyleModel",
      "_view_count": null,
      "_view_module": "@jupyter-widgets/base",
      "_view_module_version": "1.2.0",
      "_view_name": "StyleView",
      "bar_color": null,
      "description_width": ""
     }
    },
    "61ab54b92cb84ed79a1e27562716f743": {
     "model_module": "@jupyter-widgets/base",
     "model_module_version": "1.2.0",
     "model_name": "LayoutModel",
     "state": {
      "_model_module": "@jupyter-widgets/base",
      "_model_module_version": "1.2.0",
      "_model_name": "LayoutModel",
      "_view_count": null,
      "_view_module": "@jupyter-widgets/base",
      "_view_module_version": "1.2.0",
      "_view_name": "LayoutView",
      "align_content": null,
      "align_items": null,
      "align_self": null,
      "border": null,
      "bottom": null,
      "display": null,
      "flex": null,
      "flex_flow": null,
      "grid_area": null,
      "grid_auto_columns": null,
      "grid_auto_flow": null,
      "grid_auto_rows": null,
      "grid_column": null,
      "grid_gap": null,
      "grid_row": null,
      "grid_template_areas": null,
      "grid_template_columns": null,
      "grid_template_rows": null,
      "height": null,
      "justify_content": null,
      "justify_items": null,
      "left": null,
      "margin": null,
      "max_height": null,
      "max_width": null,
      "min_height": null,
      "min_width": null,
      "object_fit": null,
      "object_position": null,
      "order": null,
      "overflow": null,
      "overflow_x": null,
      "overflow_y": null,
      "padding": null,
      "right": null,
      "top": null,
      "visibility": null,
      "width": null
     }
    },
    "62b279ad7cdf46dbb5d8a1d021e7d9e5": {
     "model_module": "@jupyter-widgets/base",
     "model_module_version": "1.2.0",
     "model_name": "LayoutModel",
     "state": {
      "_model_module": "@jupyter-widgets/base",
      "_model_module_version": "1.2.0",
      "_model_name": "LayoutModel",
      "_view_count": null,
      "_view_module": "@jupyter-widgets/base",
      "_view_module_version": "1.2.0",
      "_view_name": "LayoutView",
      "align_content": null,
      "align_items": null,
      "align_self": null,
      "border": null,
      "bottom": null,
      "display": null,
      "flex": null,
      "flex_flow": null,
      "grid_area": null,
      "grid_auto_columns": null,
      "grid_auto_flow": null,
      "grid_auto_rows": null,
      "grid_column": null,
      "grid_gap": null,
      "grid_row": null,
      "grid_template_areas": null,
      "grid_template_columns": null,
      "grid_template_rows": null,
      "height": null,
      "justify_content": null,
      "justify_items": null,
      "left": null,
      "margin": null,
      "max_height": null,
      "max_width": null,
      "min_height": null,
      "min_width": null,
      "object_fit": null,
      "object_position": null,
      "order": null,
      "overflow": null,
      "overflow_x": null,
      "overflow_y": null,
      "padding": null,
      "right": null,
      "top": null,
      "visibility": null,
      "width": null
     }
    },
    "63530ebc4d3249cd8cb4874cfbd1d63d": {
     "model_module": "@jupyter-widgets/controls",
     "model_module_version": "1.5.0",
     "model_name": "DescriptionStyleModel",
     "state": {
      "_model_module": "@jupyter-widgets/controls",
      "_model_module_version": "1.5.0",
      "_model_name": "DescriptionStyleModel",
      "_view_count": null,
      "_view_module": "@jupyter-widgets/base",
      "_view_module_version": "1.2.0",
      "_view_name": "StyleView",
      "description_width": ""
     }
    },
    "6434795e114d445fb0e139799d1b7c75": {
     "model_module": "@jupyter-widgets/base",
     "model_module_version": "1.2.0",
     "model_name": "LayoutModel",
     "state": {
      "_model_module": "@jupyter-widgets/base",
      "_model_module_version": "1.2.0",
      "_model_name": "LayoutModel",
      "_view_count": null,
      "_view_module": "@jupyter-widgets/base",
      "_view_module_version": "1.2.0",
      "_view_name": "LayoutView",
      "align_content": null,
      "align_items": null,
      "align_self": null,
      "border": null,
      "bottom": null,
      "display": null,
      "flex": null,
      "flex_flow": null,
      "grid_area": null,
      "grid_auto_columns": null,
      "grid_auto_flow": null,
      "grid_auto_rows": null,
      "grid_column": null,
      "grid_gap": null,
      "grid_row": null,
      "grid_template_areas": null,
      "grid_template_columns": null,
      "grid_template_rows": null,
      "height": null,
      "justify_content": null,
      "justify_items": null,
      "left": null,
      "margin": null,
      "max_height": null,
      "max_width": null,
      "min_height": null,
      "min_width": null,
      "object_fit": null,
      "object_position": null,
      "order": null,
      "overflow": null,
      "overflow_x": null,
      "overflow_y": null,
      "padding": null,
      "right": null,
      "top": null,
      "visibility": null,
      "width": null
     }
    },
    "6c7dfa43f81845b4a0200dd31ff41135": {
     "model_module": "@jupyter-widgets/controls",
     "model_module_version": "1.5.0",
     "model_name": "DescriptionStyleModel",
     "state": {
      "_model_module": "@jupyter-widgets/controls",
      "_model_module_version": "1.5.0",
      "_model_name": "DescriptionStyleModel",
      "_view_count": null,
      "_view_module": "@jupyter-widgets/base",
      "_view_module_version": "1.2.0",
      "_view_name": "StyleView",
      "description_width": ""
     }
    },
    "6d7ded67803840729bfe778fccad42d1": {
     "model_module": "@jupyter-widgets/controls",
     "model_module_version": "1.5.0",
     "model_name": "HBoxModel",
     "state": {
      "_dom_classes": [],
      "_model_module": "@jupyter-widgets/controls",
      "_model_module_version": "1.5.0",
      "_model_name": "HBoxModel",
      "_view_count": null,
      "_view_module": "@jupyter-widgets/controls",
      "_view_module_version": "1.5.0",
      "_view_name": "HBoxView",
      "box_style": "",
      "children": [
       "IPY_MODEL_86e5b4efa68a488793e59602a1d69e4c",
       "IPY_MODEL_0d413dda5e594308aed3c5e6fc5757a7",
       "IPY_MODEL_4b5f74e7e61e4e29998488792908e667"
      ],
      "layout": "IPY_MODEL_e65476c0aceb4c269835babe52c7737a"
     }
    },
    "6e65dead3e194c34bfb5c30e3b9d50c3": {
     "model_module": "@jupyter-widgets/base",
     "model_module_version": "1.2.0",
     "model_name": "LayoutModel",
     "state": {
      "_model_module": "@jupyter-widgets/base",
      "_model_module_version": "1.2.0",
      "_model_name": "LayoutModel",
      "_view_count": null,
      "_view_module": "@jupyter-widgets/base",
      "_view_module_version": "1.2.0",
      "_view_name": "LayoutView",
      "align_content": null,
      "align_items": null,
      "align_self": null,
      "border": null,
      "bottom": null,
      "display": null,
      "flex": null,
      "flex_flow": null,
      "grid_area": null,
      "grid_auto_columns": null,
      "grid_auto_flow": null,
      "grid_auto_rows": null,
      "grid_column": null,
      "grid_gap": null,
      "grid_row": null,
      "grid_template_areas": null,
      "grid_template_columns": null,
      "grid_template_rows": null,
      "height": null,
      "justify_content": null,
      "justify_items": null,
      "left": null,
      "margin": null,
      "max_height": null,
      "max_width": null,
      "min_height": null,
      "min_width": null,
      "object_fit": null,
      "object_position": null,
      "order": null,
      "overflow": null,
      "overflow_x": null,
      "overflow_y": null,
      "padding": null,
      "right": null,
      "top": null,
      "visibility": null,
      "width": null
     }
    },
    "6e74612280024f53931fe487baee3b11": {
     "model_module": "@jupyter-widgets/controls",
     "model_module_version": "1.5.0",
     "model_name": "ProgressStyleModel",
     "state": {
      "_model_module": "@jupyter-widgets/controls",
      "_model_module_version": "1.5.0",
      "_model_name": "ProgressStyleModel",
      "_view_count": null,
      "_view_module": "@jupyter-widgets/base",
      "_view_module_version": "1.2.0",
      "_view_name": "StyleView",
      "bar_color": null,
      "description_width": ""
     }
    },
    "6ed8f8755de940a4955a8399a0aea1f4": {
     "model_module": "@jupyter-widgets/controls",
     "model_module_version": "1.5.0",
     "model_name": "FloatProgressModel",
     "state": {
      "_dom_classes": [],
      "_model_module": "@jupyter-widgets/controls",
      "_model_module_version": "1.5.0",
      "_model_name": "FloatProgressModel",
      "_view_count": null,
      "_view_module": "@jupyter-widgets/controls",
      "_view_module_version": "1.5.0",
      "_view_name": "ProgressView",
      "bar_style": "success",
      "description": "",
      "description_tooltip": null,
      "layout": "IPY_MODEL_eb4955be9b4845cc9ad3cf24ce96cefe",
      "max": 227845,
      "min": 0,
      "orientation": "horizontal",
      "style": "IPY_MODEL_7b840dd30d28448393544e3c58c211e3",
      "value": 227845
     }
    },
    "6f7bab4ae298451c89871eb3eb2ae8cd": {
     "model_module": "@jupyter-widgets/controls",
     "model_module_version": "1.5.0",
     "model_name": "ProgressStyleModel",
     "state": {
      "_model_module": "@jupyter-widgets/controls",
      "_model_module_version": "1.5.0",
      "_model_name": "ProgressStyleModel",
      "_view_count": null,
      "_view_module": "@jupyter-widgets/base",
      "_view_module_version": "1.2.0",
      "_view_name": "StyleView",
      "bar_color": null,
      "description_width": ""
     }
    },
    "7351e488a01d4a218ddc2f0926a6aef5": {
     "model_module": "@jupyter-widgets/base",
     "model_module_version": "1.2.0",
     "model_name": "LayoutModel",
     "state": {
      "_model_module": "@jupyter-widgets/base",
      "_model_module_version": "1.2.0",
      "_model_name": "LayoutModel",
      "_view_count": null,
      "_view_module": "@jupyter-widgets/base",
      "_view_module_version": "1.2.0",
      "_view_name": "LayoutView",
      "align_content": null,
      "align_items": null,
      "align_self": null,
      "border": null,
      "bottom": null,
      "display": null,
      "flex": null,
      "flex_flow": null,
      "grid_area": null,
      "grid_auto_columns": null,
      "grid_auto_flow": null,
      "grid_auto_rows": null,
      "grid_column": null,
      "grid_gap": null,
      "grid_row": null,
      "grid_template_areas": null,
      "grid_template_columns": null,
      "grid_template_rows": null,
      "height": null,
      "justify_content": null,
      "justify_items": null,
      "left": null,
      "margin": null,
      "max_height": null,
      "max_width": null,
      "min_height": null,
      "min_width": null,
      "object_fit": null,
      "object_position": null,
      "order": null,
      "overflow": null,
      "overflow_x": null,
      "overflow_y": null,
      "padding": null,
      "right": null,
      "top": null,
      "visibility": null,
      "width": null
     }
    },
    "75a35d11da484709a69b2442a10fa99a": {
     "model_module": "@jupyter-widgets/controls",
     "model_module_version": "1.5.0",
     "model_name": "DescriptionStyleModel",
     "state": {
      "_model_module": "@jupyter-widgets/controls",
      "_model_module_version": "1.5.0",
      "_model_name": "DescriptionStyleModel",
      "_view_count": null,
      "_view_module": "@jupyter-widgets/base",
      "_view_module_version": "1.2.0",
      "_view_name": "StyleView",
      "description_width": ""
     }
    },
    "77aa54b1f12b4a1ba7204ae5a1dc9ea2": {
     "model_module": "@jupyter-widgets/base",
     "model_module_version": "1.2.0",
     "model_name": "LayoutModel",
     "state": {
      "_model_module": "@jupyter-widgets/base",
      "_model_module_version": "1.2.0",
      "_model_name": "LayoutModel",
      "_view_count": null,
      "_view_module": "@jupyter-widgets/base",
      "_view_module_version": "1.2.0",
      "_view_name": "LayoutView",
      "align_content": null,
      "align_items": null,
      "align_self": null,
      "border": null,
      "bottom": null,
      "display": null,
      "flex": null,
      "flex_flow": null,
      "grid_area": null,
      "grid_auto_columns": null,
      "grid_auto_flow": null,
      "grid_auto_rows": null,
      "grid_column": null,
      "grid_gap": null,
      "grid_row": null,
      "grid_template_areas": null,
      "grid_template_columns": null,
      "grid_template_rows": null,
      "height": null,
      "justify_content": null,
      "justify_items": null,
      "left": null,
      "margin": null,
      "max_height": null,
      "max_width": null,
      "min_height": null,
      "min_width": null,
      "object_fit": null,
      "object_position": null,
      "order": null,
      "overflow": null,
      "overflow_x": null,
      "overflow_y": null,
      "padding": null,
      "right": null,
      "top": null,
      "visibility": null,
      "width": null
     }
    },
    "7b840dd30d28448393544e3c58c211e3": {
     "model_module": "@jupyter-widgets/controls",
     "model_module_version": "1.5.0",
     "model_name": "ProgressStyleModel",
     "state": {
      "_model_module": "@jupyter-widgets/controls",
      "_model_module_version": "1.5.0",
      "_model_name": "ProgressStyleModel",
      "_view_count": null,
      "_view_module": "@jupyter-widgets/base",
      "_view_module_version": "1.2.0",
      "_view_name": "StyleView",
      "bar_color": null,
      "description_width": ""
     }
    },
    "816e9b8c904446d8b31b4556c4276adf": {
     "model_module": "@jupyter-widgets/controls",
     "model_module_version": "1.5.0",
     "model_name": "HTMLModel",
     "state": {
      "_dom_classes": [],
      "_model_module": "@jupyter-widgets/controls",
      "_model_module_version": "1.5.0",
      "_model_name": "HTMLModel",
      "_view_count": null,
      "_view_module": "@jupyter-widgets/controls",
      "_view_module_version": "1.5.0",
      "_view_name": "HTMLView",
      "description": "",
      "description_tooltip": null,
      "layout": "IPY_MODEL_bbe7fe013ad14c68894249e2aa56ce47",
      "placeholder": "​",
      "style": "IPY_MODEL_48befb5c3363487f900c3736412c390e",
      "value": "config.json: 100%"
     }
    },
    "828f701b98854515adb5ddd074d84f20": {
     "model_module": "@jupyter-widgets/controls",
     "model_module_version": "1.5.0",
     "model_name": "DescriptionStyleModel",
     "state": {
      "_model_module": "@jupyter-widgets/controls",
      "_model_module_version": "1.5.0",
      "_model_name": "DescriptionStyleModel",
      "_view_count": null,
      "_view_module": "@jupyter-widgets/base",
      "_view_module_version": "1.2.0",
      "_view_name": "StyleView",
      "description_width": ""
     }
    },
    "82a7c2520ade4db9bf07f1a97e1ba00b": {
     "model_module": "@jupyter-widgets/controls",
     "model_module_version": "1.5.0",
     "model_name": "DescriptionStyleModel",
     "state": {
      "_model_module": "@jupyter-widgets/controls",
      "_model_module_version": "1.5.0",
      "_model_name": "DescriptionStyleModel",
      "_view_count": null,
      "_view_module": "@jupyter-widgets/base",
      "_view_module_version": "1.2.0",
      "_view_name": "StyleView",
      "description_width": ""
     }
    },
    "82f401388e804134ab924bd2931bd9e6": {
     "model_module": "@jupyter-widgets/controls",
     "model_module_version": "1.5.0",
     "model_name": "HBoxModel",
     "state": {
      "_dom_classes": [],
      "_model_module": "@jupyter-widgets/controls",
      "_model_module_version": "1.5.0",
      "_model_name": "HBoxModel",
      "_view_count": null,
      "_view_module": "@jupyter-widgets/controls",
      "_view_module_version": "1.5.0",
      "_view_name": "HBoxView",
      "box_style": "",
      "children": [
       "IPY_MODEL_ecf23bbc910d46888e645862ede17c16",
       "IPY_MODEL_990d14c4dd044dce91b2708215c19cfb",
       "IPY_MODEL_e2b3ec10b8e844ac8ac219c0d1e0e63e"
      ],
      "layout": "IPY_MODEL_a70b78c52ad7420188748403b363636a"
     }
    },
    "8639434f16d841bfa4e935b8a7a0dbf6": {
     "model_module": "@jupyter-widgets/controls",
     "model_module_version": "1.5.0",
     "model_name": "ProgressStyleModel",
     "state": {
      "_model_module": "@jupyter-widgets/controls",
      "_model_module_version": "1.5.0",
      "_model_name": "ProgressStyleModel",
      "_view_count": null,
      "_view_module": "@jupyter-widgets/base",
      "_view_module_version": "1.2.0",
      "_view_name": "StyleView",
      "bar_color": null,
      "description_width": ""
     }
    },
    "86e5b4efa68a488793e59602a1d69e4c": {
     "model_module": "@jupyter-widgets/controls",
     "model_module_version": "1.5.0",
     "model_name": "HTMLModel",
     "state": {
      "_dom_classes": [],
      "_model_module": "@jupyter-widgets/controls",
      "_model_module_version": "1.5.0",
      "_model_name": "HTMLModel",
      "_view_count": null,
      "_view_module": "@jupyter-widgets/controls",
      "_view_module_version": "1.5.0",
      "_view_name": "HTMLView",
      "description": "",
      "description_tooltip": null,
      "layout": "IPY_MODEL_6e65dead3e194c34bfb5c30e3b9d50c3",
      "placeholder": "​",
      "style": "IPY_MODEL_ff896e1d621244d6ac84f7602e52b487",
      "value": "vocab.txt: 100%"
     }
    },
    "8af0c0b7a4ff4fc79a5d969c564b969b": {
     "model_module": "@jupyter-widgets/base",
     "model_module_version": "1.2.0",
     "model_name": "LayoutModel",
     "state": {
      "_model_module": "@jupyter-widgets/base",
      "_model_module_version": "1.2.0",
      "_model_name": "LayoutModel",
      "_view_count": null,
      "_view_module": "@jupyter-widgets/base",
      "_view_module_version": "1.2.0",
      "_view_name": "LayoutView",
      "align_content": null,
      "align_items": null,
      "align_self": null,
      "border": null,
      "bottom": null,
      "display": null,
      "flex": null,
      "flex_flow": null,
      "grid_area": null,
      "grid_auto_columns": null,
      "grid_auto_flow": null,
      "grid_auto_rows": null,
      "grid_column": null,
      "grid_gap": null,
      "grid_row": null,
      "grid_template_areas": null,
      "grid_template_columns": null,
      "grid_template_rows": null,
      "height": null,
      "justify_content": null,
      "justify_items": null,
      "left": null,
      "margin": null,
      "max_height": null,
      "max_width": null,
      "min_height": null,
      "min_width": null,
      "object_fit": null,
      "object_position": null,
      "order": null,
      "overflow": null,
      "overflow_x": null,
      "overflow_y": null,
      "padding": null,
      "right": null,
      "top": null,
      "visibility": null,
      "width": null
     }
    },
    "9035155318ed4e3a9bb72876722ff574": {
     "model_module": "@jupyter-widgets/base",
     "model_module_version": "1.2.0",
     "model_name": "LayoutModel",
     "state": {
      "_model_module": "@jupyter-widgets/base",
      "_model_module_version": "1.2.0",
      "_model_name": "LayoutModel",
      "_view_count": null,
      "_view_module": "@jupyter-widgets/base",
      "_view_module_version": "1.2.0",
      "_view_name": "LayoutView",
      "align_content": null,
      "align_items": null,
      "align_self": null,
      "border": null,
      "bottom": null,
      "display": null,
      "flex": null,
      "flex_flow": null,
      "grid_area": null,
      "grid_auto_columns": null,
      "grid_auto_flow": null,
      "grid_auto_rows": null,
      "grid_column": null,
      "grid_gap": null,
      "grid_row": null,
      "grid_template_areas": null,
      "grid_template_columns": null,
      "grid_template_rows": null,
      "height": null,
      "justify_content": null,
      "justify_items": null,
      "left": null,
      "margin": null,
      "max_height": null,
      "max_width": null,
      "min_height": null,
      "min_width": null,
      "object_fit": null,
      "object_position": null,
      "order": null,
      "overflow": null,
      "overflow_x": null,
      "overflow_y": null,
      "padding": null,
      "right": null,
      "top": null,
      "visibility": null,
      "width": null
     }
    },
    "912cd1d086d048a19c352cc0371c3d1d": {
     "model_module": "@jupyter-widgets/base",
     "model_module_version": "1.2.0",
     "model_name": "LayoutModel",
     "state": {
      "_model_module": "@jupyter-widgets/base",
      "_model_module_version": "1.2.0",
      "_model_name": "LayoutModel",
      "_view_count": null,
      "_view_module": "@jupyter-widgets/base",
      "_view_module_version": "1.2.0",
      "_view_name": "LayoutView",
      "align_content": null,
      "align_items": null,
      "align_self": null,
      "border": null,
      "bottom": null,
      "display": null,
      "flex": null,
      "flex_flow": null,
      "grid_area": null,
      "grid_auto_columns": null,
      "grid_auto_flow": null,
      "grid_auto_rows": null,
      "grid_column": null,
      "grid_gap": null,
      "grid_row": null,
      "grid_template_areas": null,
      "grid_template_columns": null,
      "grid_template_rows": null,
      "height": null,
      "justify_content": null,
      "justify_items": null,
      "left": null,
      "margin": null,
      "max_height": null,
      "max_width": null,
      "min_height": null,
      "min_width": null,
      "object_fit": null,
      "object_position": null,
      "order": null,
      "overflow": null,
      "overflow_x": null,
      "overflow_y": null,
      "padding": null,
      "right": null,
      "top": null,
      "visibility": null,
      "width": null
     }
    },
    "915d695173a244ec86e1c0bda0c237e8": {
     "model_module": "@jupyter-widgets/controls",
     "model_module_version": "1.5.0",
     "model_name": "DescriptionStyleModel",
     "state": {
      "_model_module": "@jupyter-widgets/controls",
      "_model_module_version": "1.5.0",
      "_model_name": "DescriptionStyleModel",
      "_view_count": null,
      "_view_module": "@jupyter-widgets/base",
      "_view_module_version": "1.2.0",
      "_view_name": "StyleView",
      "description_width": ""
     }
    },
    "921c8941157741a78afd30f9844796e6": {
     "model_module": "@jupyter-widgets/controls",
     "model_module_version": "1.5.0",
     "model_name": "DescriptionStyleModel",
     "state": {
      "_model_module": "@jupyter-widgets/controls",
      "_model_module_version": "1.5.0",
      "_model_name": "DescriptionStyleModel",
      "_view_count": null,
      "_view_module": "@jupyter-widgets/base",
      "_view_module_version": "1.2.0",
      "_view_name": "StyleView",
      "description_width": ""
     }
    },
    "929a4b5de14943e8a824f31576c4b9aa": {
     "model_module": "@jupyter-widgets/controls",
     "model_module_version": "1.5.0",
     "model_name": "HTMLModel",
     "state": {
      "_dom_classes": [],
      "_model_module": "@jupyter-widgets/controls",
      "_model_module_version": "1.5.0",
      "_model_name": "HTMLModel",
      "_view_count": null,
      "_view_module": "@jupyter-widgets/controls",
      "_view_module_version": "1.5.0",
      "_view_name": "HTMLView",
      "description": "",
      "description_tooltip": null,
      "layout": "IPY_MODEL_6434795e114d445fb0e139799d1b7c75",
      "placeholder": "​",
      "style": "IPY_MODEL_63530ebc4d3249cd8cb4874cfbd1d63d",
      "value": "vocab.txt: 100%"
     }
    },
    "990d14c4dd044dce91b2708215c19cfb": {
     "model_module": "@jupyter-widgets/controls",
     "model_module_version": "1.5.0",
     "model_name": "FloatProgressModel",
     "state": {
      "_dom_classes": [],
      "_model_module": "@jupyter-widgets/controls",
      "_model_module_version": "1.5.0",
      "_model_name": "FloatProgressModel",
      "_view_count": null,
      "_view_module": "@jupyter-widgets/controls",
      "_view_module_version": "1.5.0",
      "_view_name": "ProgressView",
      "bar_style": "success",
      "description": "",
      "description_tooltip": null,
      "layout": "IPY_MODEL_9a6528f414b7420baaa0925e66b7430c",
      "max": 49,
      "min": 0,
      "orientation": "horizontal",
      "style": "IPY_MODEL_098584a9e8c14f0a8a8bc157d9de7c21",
      "value": 49
     }
    },
    "9a3c05cf57c84aa48515f94529370d14": {
     "model_module": "@jupyter-widgets/base",
     "model_module_version": "1.2.0",
     "model_name": "LayoutModel",
     "state": {
      "_model_module": "@jupyter-widgets/base",
      "_model_module_version": "1.2.0",
      "_model_name": "LayoutModel",
      "_view_count": null,
      "_view_module": "@jupyter-widgets/base",
      "_view_module_version": "1.2.0",
      "_view_name": "LayoutView",
      "align_content": null,
      "align_items": null,
      "align_self": null,
      "border": null,
      "bottom": null,
      "display": null,
      "flex": null,
      "flex_flow": null,
      "grid_area": null,
      "grid_auto_columns": null,
      "grid_auto_flow": null,
      "grid_auto_rows": null,
      "grid_column": null,
      "grid_gap": null,
      "grid_row": null,
      "grid_template_areas": null,
      "grid_template_columns": null,
      "grid_template_rows": null,
      "height": null,
      "justify_content": null,
      "justify_items": null,
      "left": null,
      "margin": null,
      "max_height": null,
      "max_width": null,
      "min_height": null,
      "min_width": null,
      "object_fit": null,
      "object_position": null,
      "order": null,
      "overflow": null,
      "overflow_x": null,
      "overflow_y": null,
      "padding": null,
      "right": null,
      "top": null,
      "visibility": null,
      "width": null
     }
    },
    "9a6528f414b7420baaa0925e66b7430c": {
     "model_module": "@jupyter-widgets/base",
     "model_module_version": "1.2.0",
     "model_name": "LayoutModel",
     "state": {
      "_model_module": "@jupyter-widgets/base",
      "_model_module_version": "1.2.0",
      "_model_name": "LayoutModel",
      "_view_count": null,
      "_view_module": "@jupyter-widgets/base",
      "_view_module_version": "1.2.0",
      "_view_name": "LayoutView",
      "align_content": null,
      "align_items": null,
      "align_self": null,
      "border": null,
      "bottom": null,
      "display": null,
      "flex": null,
      "flex_flow": null,
      "grid_area": null,
      "grid_auto_columns": null,
      "grid_auto_flow": null,
      "grid_auto_rows": null,
      "grid_column": null,
      "grid_gap": null,
      "grid_row": null,
      "grid_template_areas": null,
      "grid_template_columns": null,
      "grid_template_rows": null,
      "height": null,
      "justify_content": null,
      "justify_items": null,
      "left": null,
      "margin": null,
      "max_height": null,
      "max_width": null,
      "min_height": null,
      "min_width": null,
      "object_fit": null,
      "object_position": null,
      "order": null,
      "overflow": null,
      "overflow_x": null,
      "overflow_y": null,
      "padding": null,
      "right": null,
      "top": null,
      "visibility": null,
      "width": null
     }
    },
    "a2559b46021f4d65b3c88f70d3a3447c": {
     "model_module": "@jupyter-widgets/controls",
     "model_module_version": "1.5.0",
     "model_name": "DescriptionStyleModel",
     "state": {
      "_model_module": "@jupyter-widgets/controls",
      "_model_module_version": "1.5.0",
      "_model_name": "DescriptionStyleModel",
      "_view_count": null,
      "_view_module": "@jupyter-widgets/base",
      "_view_module_version": "1.2.0",
      "_view_name": "StyleView",
      "description_width": ""
     }
    },
    "a60975e240204f358e5687798927659b": {
     "model_module": "@jupyter-widgets/controls",
     "model_module_version": "1.5.0",
     "model_name": "DescriptionStyleModel",
     "state": {
      "_model_module": "@jupyter-widgets/controls",
      "_model_module_version": "1.5.0",
      "_model_name": "DescriptionStyleModel",
      "_view_count": null,
      "_view_module": "@jupyter-widgets/base",
      "_view_module_version": "1.2.0",
      "_view_name": "StyleView",
      "description_width": ""
     }
    },
    "a6303b131e914fa5b52362bc62560775": {
     "model_module": "@jupyter-widgets/controls",
     "model_module_version": "1.5.0",
     "model_name": "HBoxModel",
     "state": {
      "_dom_classes": [],
      "_model_module": "@jupyter-widgets/controls",
      "_model_module_version": "1.5.0",
      "_model_name": "HBoxModel",
      "_view_count": null,
      "_view_module": "@jupyter-widgets/controls",
      "_view_module_version": "1.5.0",
      "_view_name": "HBoxView",
      "box_style": "",
      "children": [
       "IPY_MODEL_816e9b8c904446d8b31b4556c4276adf",
       "IPY_MODEL_138899d11ded495c9cfb7382e5199fd9",
       "IPY_MODEL_ee89afc492e34e9a88db136279bbc88b"
      ],
      "layout": "IPY_MODEL_0a469368de2b4dac9b67c3d37d8c167d"
     }
    },
    "a63e3b41867341ebbf578d3ea8ac9447": {
     "model_module": "@jupyter-widgets/controls",
     "model_module_version": "1.5.0",
     "model_name": "HBoxModel",
     "state": {
      "_dom_classes": [],
      "_model_module": "@jupyter-widgets/controls",
      "_model_module_version": "1.5.0",
      "_model_name": "HBoxModel",
      "_view_count": null,
      "_view_module": "@jupyter-widgets/controls",
      "_view_module_version": "1.5.0",
      "_view_name": "HBoxView",
      "box_style": "",
      "children": [
       "IPY_MODEL_4085d8e7d16b443296364d8912a7aef2",
       "IPY_MODEL_0800f954acab4983a7f9e7b64bd2ec86",
       "IPY_MODEL_0fa1a61a37b040a9b25dc6b9853449e0"
      ],
      "layout": "IPY_MODEL_4407db20761b44d08c2a40f50bc76633"
     }
    },
    "a6d5c18af6704cf19d0f3906dbef8a67": {
     "model_module": "@jupyter-widgets/controls",
     "model_module_version": "1.5.0",
     "model_name": "HBoxModel",
     "state": {
      "_dom_classes": [],
      "_model_module": "@jupyter-widgets/controls",
      "_model_module_version": "1.5.0",
      "_model_name": "HBoxModel",
      "_view_count": null,
      "_view_module": "@jupyter-widgets/controls",
      "_view_module_version": "1.5.0",
      "_view_name": "HBoxView",
      "box_style": "",
      "children": [
       "IPY_MODEL_21aa8b0da8224b24b1e8d0bb6cb5e731",
       "IPY_MODEL_23d83c17594243c4b26893b0567439aa",
       "IPY_MODEL_223a357204e0490e929654ae65b8de54"
      ],
      "layout": "IPY_MODEL_61ab54b92cb84ed79a1e27562716f743"
     }
    },
    "a70b78c52ad7420188748403b363636a": {
     "model_module": "@jupyter-widgets/base",
     "model_module_version": "1.2.0",
     "model_name": "LayoutModel",
     "state": {
      "_model_module": "@jupyter-widgets/base",
      "_model_module_version": "1.2.0",
      "_model_name": "LayoutModel",
      "_view_count": null,
      "_view_module": "@jupyter-widgets/base",
      "_view_module_version": "1.2.0",
      "_view_name": "LayoutView",
      "align_content": null,
      "align_items": null,
      "align_self": null,
      "border": null,
      "bottom": null,
      "display": null,
      "flex": null,
      "flex_flow": null,
      "grid_area": null,
      "grid_auto_columns": null,
      "grid_auto_flow": null,
      "grid_auto_rows": null,
      "grid_column": null,
      "grid_gap": null,
      "grid_row": null,
      "grid_template_areas": null,
      "grid_template_columns": null,
      "grid_template_rows": null,
      "height": null,
      "justify_content": null,
      "justify_items": null,
      "left": null,
      "margin": null,
      "max_height": null,
      "max_width": null,
      "min_height": null,
      "min_width": null,
      "object_fit": null,
      "object_position": null,
      "order": null,
      "overflow": null,
      "overflow_x": null,
      "overflow_y": null,
      "padding": null,
      "right": null,
      "top": null,
      "visibility": null,
      "width": null
     }
    },
    "abbe5334d1e846c4922013a0f2cd68fa": {
     "model_module": "@jupyter-widgets/base",
     "model_module_version": "1.2.0",
     "model_name": "LayoutModel",
     "state": {
      "_model_module": "@jupyter-widgets/base",
      "_model_module_version": "1.2.0",
      "_model_name": "LayoutModel",
      "_view_count": null,
      "_view_module": "@jupyter-widgets/base",
      "_view_module_version": "1.2.0",
      "_view_name": "LayoutView",
      "align_content": null,
      "align_items": null,
      "align_self": null,
      "border": null,
      "bottom": null,
      "display": null,
      "flex": null,
      "flex_flow": null,
      "grid_area": null,
      "grid_auto_columns": null,
      "grid_auto_flow": null,
      "grid_auto_rows": null,
      "grid_column": null,
      "grid_gap": null,
      "grid_row": null,
      "grid_template_areas": null,
      "grid_template_columns": null,
      "grid_template_rows": null,
      "height": null,
      "justify_content": null,
      "justify_items": null,
      "left": null,
      "margin": null,
      "max_height": null,
      "max_width": null,
      "min_height": null,
      "min_width": null,
      "object_fit": null,
      "object_position": null,
      "order": null,
      "overflow": null,
      "overflow_x": null,
      "overflow_y": null,
      "padding": null,
      "right": null,
      "top": null,
      "visibility": null,
      "width": null
     }
    },
    "b5790f4ccf214a80a6bc99ead720b95d": {
     "model_module": "@jupyter-widgets/base",
     "model_module_version": "1.2.0",
     "model_name": "LayoutModel",
     "state": {
      "_model_module": "@jupyter-widgets/base",
      "_model_module_version": "1.2.0",
      "_model_name": "LayoutModel",
      "_view_count": null,
      "_view_module": "@jupyter-widgets/base",
      "_view_module_version": "1.2.0",
      "_view_name": "LayoutView",
      "align_content": null,
      "align_items": null,
      "align_self": null,
      "border": null,
      "bottom": null,
      "display": null,
      "flex": null,
      "flex_flow": null,
      "grid_area": null,
      "grid_auto_columns": null,
      "grid_auto_flow": null,
      "grid_auto_rows": null,
      "grid_column": null,
      "grid_gap": null,
      "grid_row": null,
      "grid_template_areas": null,
      "grid_template_columns": null,
      "grid_template_rows": null,
      "height": null,
      "justify_content": null,
      "justify_items": null,
      "left": null,
      "margin": null,
      "max_height": null,
      "max_width": null,
      "min_height": null,
      "min_width": null,
      "object_fit": null,
      "object_position": null,
      "order": null,
      "overflow": null,
      "overflow_x": null,
      "overflow_y": null,
      "padding": null,
      "right": null,
      "top": null,
      "visibility": null,
      "width": null
     }
    },
    "b7d975e388384c56b921dec10a48cb92": {
     "model_module": "@jupyter-widgets/base",
     "model_module_version": "1.2.0",
     "model_name": "LayoutModel",
     "state": {
      "_model_module": "@jupyter-widgets/base",
      "_model_module_version": "1.2.0",
      "_model_name": "LayoutModel",
      "_view_count": null,
      "_view_module": "@jupyter-widgets/base",
      "_view_module_version": "1.2.0",
      "_view_name": "LayoutView",
      "align_content": null,
      "align_items": null,
      "align_self": null,
      "border": null,
      "bottom": null,
      "display": null,
      "flex": null,
      "flex_flow": null,
      "grid_area": null,
      "grid_auto_columns": null,
      "grid_auto_flow": null,
      "grid_auto_rows": null,
      "grid_column": null,
      "grid_gap": null,
      "grid_row": null,
      "grid_template_areas": null,
      "grid_template_columns": null,
      "grid_template_rows": null,
      "height": null,
      "justify_content": null,
      "justify_items": null,
      "left": null,
      "margin": null,
      "max_height": null,
      "max_width": null,
      "min_height": null,
      "min_width": null,
      "object_fit": null,
      "object_position": null,
      "order": null,
      "overflow": null,
      "overflow_x": null,
      "overflow_y": null,
      "padding": null,
      "right": null,
      "top": null,
      "visibility": null,
      "width": null
     }
    },
    "b7ffab25e9d54c92a86c46a8a7c76c58": {
     "model_module": "@jupyter-widgets/base",
     "model_module_version": "1.2.0",
     "model_name": "LayoutModel",
     "state": {
      "_model_module": "@jupyter-widgets/base",
      "_model_module_version": "1.2.0",
      "_model_name": "LayoutModel",
      "_view_count": null,
      "_view_module": "@jupyter-widgets/base",
      "_view_module_version": "1.2.0",
      "_view_name": "LayoutView",
      "align_content": null,
      "align_items": null,
      "align_self": null,
      "border": null,
      "bottom": null,
      "display": null,
      "flex": null,
      "flex_flow": null,
      "grid_area": null,
      "grid_auto_columns": null,
      "grid_auto_flow": null,
      "grid_auto_rows": null,
      "grid_column": null,
      "grid_gap": null,
      "grid_row": null,
      "grid_template_areas": null,
      "grid_template_columns": null,
      "grid_template_rows": null,
      "height": null,
      "justify_content": null,
      "justify_items": null,
      "left": null,
      "margin": null,
      "max_height": null,
      "max_width": null,
      "min_height": null,
      "min_width": null,
      "object_fit": null,
      "object_position": null,
      "order": null,
      "overflow": null,
      "overflow_x": null,
      "overflow_y": null,
      "padding": null,
      "right": null,
      "top": null,
      "visibility": null,
      "width": null
     }
    },
    "b87afe30ad314dc8a3ea25ceb06324d4": {
     "model_module": "@jupyter-widgets/controls",
     "model_module_version": "1.5.0",
     "model_name": "DescriptionStyleModel",
     "state": {
      "_model_module": "@jupyter-widgets/controls",
      "_model_module_version": "1.5.0",
      "_model_name": "DescriptionStyleModel",
      "_view_count": null,
      "_view_module": "@jupyter-widgets/base",
      "_view_module_version": "1.2.0",
      "_view_name": "StyleView",
      "description_width": ""
     }
    },
    "b9ff9ee3fcc3469fbb813fbede02d378": {
     "model_module": "@jupyter-widgets/base",
     "model_module_version": "1.2.0",
     "model_name": "LayoutModel",
     "state": {
      "_model_module": "@jupyter-widgets/base",
      "_model_module_version": "1.2.0",
      "_model_name": "LayoutModel",
      "_view_count": null,
      "_view_module": "@jupyter-widgets/base",
      "_view_module_version": "1.2.0",
      "_view_name": "LayoutView",
      "align_content": null,
      "align_items": null,
      "align_self": null,
      "border": null,
      "bottom": null,
      "display": null,
      "flex": null,
      "flex_flow": null,
      "grid_area": null,
      "grid_auto_columns": null,
      "grid_auto_flow": null,
      "grid_auto_rows": null,
      "grid_column": null,
      "grid_gap": null,
      "grid_row": null,
      "grid_template_areas": null,
      "grid_template_columns": null,
      "grid_template_rows": null,
      "height": null,
      "justify_content": null,
      "justify_items": null,
      "left": null,
      "margin": null,
      "max_height": null,
      "max_width": null,
      "min_height": null,
      "min_width": null,
      "object_fit": null,
      "object_position": null,
      "order": null,
      "overflow": null,
      "overflow_x": null,
      "overflow_y": null,
      "padding": null,
      "right": null,
      "top": null,
      "visibility": null,
      "width": null
     }
    },
    "bbe7fe013ad14c68894249e2aa56ce47": {
     "model_module": "@jupyter-widgets/base",
     "model_module_version": "1.2.0",
     "model_name": "LayoutModel",
     "state": {
      "_model_module": "@jupyter-widgets/base",
      "_model_module_version": "1.2.0",
      "_model_name": "LayoutModel",
      "_view_count": null,
      "_view_module": "@jupyter-widgets/base",
      "_view_module_version": "1.2.0",
      "_view_name": "LayoutView",
      "align_content": null,
      "align_items": null,
      "align_self": null,
      "border": null,
      "bottom": null,
      "display": null,
      "flex": null,
      "flex_flow": null,
      "grid_area": null,
      "grid_auto_columns": null,
      "grid_auto_flow": null,
      "grid_auto_rows": null,
      "grid_column": null,
      "grid_gap": null,
      "grid_row": null,
      "grid_template_areas": null,
      "grid_template_columns": null,
      "grid_template_rows": null,
      "height": null,
      "justify_content": null,
      "justify_items": null,
      "left": null,
      "margin": null,
      "max_height": null,
      "max_width": null,
      "min_height": null,
      "min_width": null,
      "object_fit": null,
      "object_position": null,
      "order": null,
      "overflow": null,
      "overflow_x": null,
      "overflow_y": null,
      "padding": null,
      "right": null,
      "top": null,
      "visibility": null,
      "width": null
     }
    },
    "bd13a6d42e6f48d79de425fc6877dfa2": {
     "model_module": "@jupyter-widgets/controls",
     "model_module_version": "1.5.0",
     "model_name": "DescriptionStyleModel",
     "state": {
      "_model_module": "@jupyter-widgets/controls",
      "_model_module_version": "1.5.0",
      "_model_name": "DescriptionStyleModel",
      "_view_count": null,
      "_view_module": "@jupyter-widgets/base",
      "_view_module_version": "1.2.0",
      "_view_name": "StyleView",
      "description_width": ""
     }
    },
    "c059a51bf29e483281f3f375d08b08ee": {
     "model_module": "@jupyter-widgets/base",
     "model_module_version": "1.2.0",
     "model_name": "LayoutModel",
     "state": {
      "_model_module": "@jupyter-widgets/base",
      "_model_module_version": "1.2.0",
      "_model_name": "LayoutModel",
      "_view_count": null,
      "_view_module": "@jupyter-widgets/base",
      "_view_module_version": "1.2.0",
      "_view_name": "LayoutView",
      "align_content": null,
      "align_items": null,
      "align_self": null,
      "border": null,
      "bottom": null,
      "display": null,
      "flex": null,
      "flex_flow": null,
      "grid_area": null,
      "grid_auto_columns": null,
      "grid_auto_flow": null,
      "grid_auto_rows": null,
      "grid_column": null,
      "grid_gap": null,
      "grid_row": null,
      "grid_template_areas": null,
      "grid_template_columns": null,
      "grid_template_rows": null,
      "height": null,
      "justify_content": null,
      "justify_items": null,
      "left": null,
      "margin": null,
      "max_height": null,
      "max_width": null,
      "min_height": null,
      "min_width": null,
      "object_fit": null,
      "object_position": null,
      "order": null,
      "overflow": null,
      "overflow_x": null,
      "overflow_y": null,
      "padding": null,
      "right": null,
      "top": null,
      "visibility": null,
      "width": null
     }
    },
    "c1e32c3d92474ecaa33f217e75f599ce": {
     "model_module": "@jupyter-widgets/controls",
     "model_module_version": "1.5.0",
     "model_name": "HTMLModel",
     "state": {
      "_dom_classes": [],
      "_model_module": "@jupyter-widgets/controls",
      "_model_module_version": "1.5.0",
      "_model_name": "HTMLModel",
      "_view_count": null,
      "_view_module": "@jupyter-widgets/controls",
      "_view_module_version": "1.5.0",
      "_view_name": "HTMLView",
      "description": "",
      "description_tooltip": null,
      "layout": "IPY_MODEL_31c6e3ad67f14f79b82638bbc5100c1a",
      "placeholder": "​",
      "style": "IPY_MODEL_35a09ac6454047158470f8391ca8e664",
      "value": "tokenizer_config.json: 100%"
     }
    },
    "c20fe90f906a44f3adc7603c8b3f397c": {
     "model_module": "@jupyter-widgets/base",
     "model_module_version": "1.2.0",
     "model_name": "LayoutModel",
     "state": {
      "_model_module": "@jupyter-widgets/base",
      "_model_module_version": "1.2.0",
      "_model_name": "LayoutModel",
      "_view_count": null,
      "_view_module": "@jupyter-widgets/base",
      "_view_module_version": "1.2.0",
      "_view_name": "LayoutView",
      "align_content": null,
      "align_items": null,
      "align_self": null,
      "border": null,
      "bottom": null,
      "display": null,
      "flex": null,
      "flex_flow": null,
      "grid_area": null,
      "grid_auto_columns": null,
      "grid_auto_flow": null,
      "grid_auto_rows": null,
      "grid_column": null,
      "grid_gap": null,
      "grid_row": null,
      "grid_template_areas": null,
      "grid_template_columns": null,
      "grid_template_rows": null,
      "height": null,
      "justify_content": null,
      "justify_items": null,
      "left": null,
      "margin": null,
      "max_height": null,
      "max_width": null,
      "min_height": null,
      "min_width": null,
      "object_fit": null,
      "object_position": null,
      "order": null,
      "overflow": null,
      "overflow_x": null,
      "overflow_y": null,
      "padding": null,
      "right": null,
      "top": null,
      "visibility": null,
      "width": null
     }
    },
    "c3dfea4b10494a16a7cdaa00631c448b": {
     "model_module": "@jupyter-widgets/controls",
     "model_module_version": "1.5.0",
     "model_name": "DescriptionStyleModel",
     "state": {
      "_model_module": "@jupyter-widgets/controls",
      "_model_module_version": "1.5.0",
      "_model_name": "DescriptionStyleModel",
      "_view_count": null,
      "_view_module": "@jupyter-widgets/base",
      "_view_module_version": "1.2.0",
      "_view_name": "StyleView",
      "description_width": ""
     }
    },
    "cc370c5fd0d34ee880f32f44718e0da4": {
     "model_module": "@jupyter-widgets/controls",
     "model_module_version": "1.5.0",
     "model_name": "FloatProgressModel",
     "state": {
      "_dom_classes": [],
      "_model_module": "@jupyter-widgets/controls",
      "_model_module_version": "1.5.0",
      "_model_name": "FloatProgressModel",
      "_view_count": null,
      "_view_module": "@jupyter-widgets/controls",
      "_view_module_version": "1.5.0",
      "_view_name": "ProgressView",
      "bar_style": "success",
      "description": "",
      "description_tooltip": null,
      "layout": "IPY_MODEL_33c5aeb2a88a4bf3bfedb920463ba1f8",
      "max": 385,
      "min": 0,
      "orientation": "horizontal",
      "style": "IPY_MODEL_2a56ee1bb4cc4fdbbbf0f33a7ef12d3d",
      "value": 385
     }
    },
    "d0a111a9977647f2b69673b4444f63d7": {
     "model_module": "@jupyter-widgets/base",
     "model_module_version": "1.2.0",
     "model_name": "LayoutModel",
     "state": {
      "_model_module": "@jupyter-widgets/base",
      "_model_module_version": "1.2.0",
      "_model_name": "LayoutModel",
      "_view_count": null,
      "_view_module": "@jupyter-widgets/base",
      "_view_module_version": "1.2.0",
      "_view_name": "LayoutView",
      "align_content": null,
      "align_items": null,
      "align_self": null,
      "border": null,
      "bottom": null,
      "display": null,
      "flex": null,
      "flex_flow": null,
      "grid_area": null,
      "grid_auto_columns": null,
      "grid_auto_flow": null,
      "grid_auto_rows": null,
      "grid_column": null,
      "grid_gap": null,
      "grid_row": null,
      "grid_template_areas": null,
      "grid_template_columns": null,
      "grid_template_rows": null,
      "height": null,
      "justify_content": null,
      "justify_items": null,
      "left": null,
      "margin": null,
      "max_height": null,
      "max_width": null,
      "min_height": null,
      "min_width": null,
      "object_fit": null,
      "object_position": null,
      "order": null,
      "overflow": null,
      "overflow_x": null,
      "overflow_y": null,
      "padding": null,
      "right": null,
      "top": null,
      "visibility": null,
      "width": null
     }
    },
    "df8e13e844614727bfc34c77a64588b2": {
     "model_module": "@jupyter-widgets/controls",
     "model_module_version": "1.5.0",
     "model_name": "HBoxModel",
     "state": {
      "_dom_classes": [],
      "_model_module": "@jupyter-widgets/controls",
      "_model_module_version": "1.5.0",
      "_model_name": "HBoxModel",
      "_view_count": null,
      "_view_module": "@jupyter-widgets/controls",
      "_view_module_version": "1.5.0",
      "_view_name": "HBoxView",
      "box_style": "",
      "children": [
       "IPY_MODEL_f08caae2ddfd4c90a207c69d072164f1",
       "IPY_MODEL_cc370c5fd0d34ee880f32f44718e0da4",
       "IPY_MODEL_34274911bb8942278c124130c9433760"
      ],
      "layout": "IPY_MODEL_fc71bcbe12a04d1f966ef52751498437"
     }
    },
    "e2b3ec10b8e844ac8ac219c0d1e0e63e": {
     "model_module": "@jupyter-widgets/controls",
     "model_module_version": "1.5.0",
     "model_name": "HTMLModel",
     "state": {
      "_dom_classes": [],
      "_model_module": "@jupyter-widgets/controls",
      "_model_module_version": "1.5.0",
      "_model_name": "HTMLModel",
      "_view_count": null,
      "_view_module": "@jupyter-widgets/controls",
      "_view_module_version": "1.5.0",
      "_view_name": "HTMLView",
      "description": "",
      "description_tooltip": null,
      "layout": "IPY_MODEL_3ede10371f504cdaaf256bd716795c1a",
      "placeholder": "​",
      "style": "IPY_MODEL_1dc49ab7211e4e138e0dce30cd2ae6e2",
      "value": " 49.0/49.0 [00:00&lt;00:00, 4.43kB/s]"
     }
    },
    "e65476c0aceb4c269835babe52c7737a": {
     "model_module": "@jupyter-widgets/base",
     "model_module_version": "1.2.0",
     "model_name": "LayoutModel",
     "state": {
      "_model_module": "@jupyter-widgets/base",
      "_model_module_version": "1.2.0",
      "_model_name": "LayoutModel",
      "_view_count": null,
      "_view_module": "@jupyter-widgets/base",
      "_view_module_version": "1.2.0",
      "_view_name": "LayoutView",
      "align_content": null,
      "align_items": null,
      "align_self": null,
      "border": null,
      "bottom": null,
      "display": null,
      "flex": null,
      "flex_flow": null,
      "grid_area": null,
      "grid_auto_columns": null,
      "grid_auto_flow": null,
      "grid_auto_rows": null,
      "grid_column": null,
      "grid_gap": null,
      "grid_row": null,
      "grid_template_areas": null,
      "grid_template_columns": null,
      "grid_template_rows": null,
      "height": null,
      "justify_content": null,
      "justify_items": null,
      "left": null,
      "margin": null,
      "max_height": null,
      "max_width": null,
      "min_height": null,
      "min_width": null,
      "object_fit": null,
      "object_position": null,
      "order": null,
      "overflow": null,
      "overflow_x": null,
      "overflow_y": null,
      "padding": null,
      "right": null,
      "top": null,
      "visibility": null,
      "width": null
     }
    },
    "e7fe06ce574648469e37fa1a32c456c9": {
     "model_module": "@jupyter-widgets/base",
     "model_module_version": "1.2.0",
     "model_name": "LayoutModel",
     "state": {
      "_model_module": "@jupyter-widgets/base",
      "_model_module_version": "1.2.0",
      "_model_name": "LayoutModel",
      "_view_count": null,
      "_view_module": "@jupyter-widgets/base",
      "_view_module_version": "1.2.0",
      "_view_name": "LayoutView",
      "align_content": null,
      "align_items": null,
      "align_self": null,
      "border": null,
      "bottom": null,
      "display": null,
      "flex": null,
      "flex_flow": null,
      "grid_area": null,
      "grid_auto_columns": null,
      "grid_auto_flow": null,
      "grid_auto_rows": null,
      "grid_column": null,
      "grid_gap": null,
      "grid_row": null,
      "grid_template_areas": null,
      "grid_template_columns": null,
      "grid_template_rows": null,
      "height": null,
      "justify_content": null,
      "justify_items": null,
      "left": null,
      "margin": null,
      "max_height": null,
      "max_width": null,
      "min_height": null,
      "min_width": null,
      "object_fit": null,
      "object_position": null,
      "order": null,
      "overflow": null,
      "overflow_x": null,
      "overflow_y": null,
      "padding": null,
      "right": null,
      "top": null,
      "visibility": null,
      "width": null
     }
    },
    "eb4955be9b4845cc9ad3cf24ce96cefe": {
     "model_module": "@jupyter-widgets/base",
     "model_module_version": "1.2.0",
     "model_name": "LayoutModel",
     "state": {
      "_model_module": "@jupyter-widgets/base",
      "_model_module_version": "1.2.0",
      "_model_name": "LayoutModel",
      "_view_count": null,
      "_view_module": "@jupyter-widgets/base",
      "_view_module_version": "1.2.0",
      "_view_name": "LayoutView",
      "align_content": null,
      "align_items": null,
      "align_self": null,
      "border": null,
      "bottom": null,
      "display": null,
      "flex": null,
      "flex_flow": null,
      "grid_area": null,
      "grid_auto_columns": null,
      "grid_auto_flow": null,
      "grid_auto_rows": null,
      "grid_column": null,
      "grid_gap": null,
      "grid_row": null,
      "grid_template_areas": null,
      "grid_template_columns": null,
      "grid_template_rows": null,
      "height": null,
      "justify_content": null,
      "justify_items": null,
      "left": null,
      "margin": null,
      "max_height": null,
      "max_width": null,
      "min_height": null,
      "min_width": null,
      "object_fit": null,
      "object_position": null,
      "order": null,
      "overflow": null,
      "overflow_x": null,
      "overflow_y": null,
      "padding": null,
      "right": null,
      "top": null,
      "visibility": null,
      "width": null
     }
    },
    "ecf23bbc910d46888e645862ede17c16": {
     "model_module": "@jupyter-widgets/controls",
     "model_module_version": "1.5.0",
     "model_name": "HTMLModel",
     "state": {
      "_dom_classes": [],
      "_model_module": "@jupyter-widgets/controls",
      "_model_module_version": "1.5.0",
      "_model_name": "HTMLModel",
      "_view_count": null,
      "_view_module": "@jupyter-widgets/controls",
      "_view_module_version": "1.5.0",
      "_view_name": "HTMLView",
      "description": "",
      "description_tooltip": null,
      "layout": "IPY_MODEL_912cd1d086d048a19c352cc0371c3d1d",
      "placeholder": "​",
      "style": "IPY_MODEL_c3dfea4b10494a16a7cdaa00631c448b",
      "value": "tokenizer_config.json: 100%"
     }
    },
    "ee89afc492e34e9a88db136279bbc88b": {
     "model_module": "@jupyter-widgets/controls",
     "model_module_version": "1.5.0",
     "model_name": "HTMLModel",
     "state": {
      "_dom_classes": [],
      "_model_module": "@jupyter-widgets/controls",
      "_model_module_version": "1.5.0",
      "_model_name": "HTMLModel",
      "_view_count": null,
      "_view_module": "@jupyter-widgets/controls",
      "_view_module_version": "1.5.0",
      "_view_name": "HTMLView",
      "description": "",
      "description_tooltip": null,
      "layout": "IPY_MODEL_77aa54b1f12b4a1ba7204ae5a1dc9ea2",
      "placeholder": "​",
      "style": "IPY_MODEL_a2559b46021f4d65b3c88f70d3a3447c",
      "value": " 570/570 [00:00&lt;00:00, 42.8kB/s]"
     }
    },
    "eeb5bae601cc4d49bebace10263e697b": {
     "model_module": "@jupyter-widgets/base",
     "model_module_version": "1.2.0",
     "model_name": "LayoutModel",
     "state": {
      "_model_module": "@jupyter-widgets/base",
      "_model_module_version": "1.2.0",
      "_model_name": "LayoutModel",
      "_view_count": null,
      "_view_module": "@jupyter-widgets/base",
      "_view_module_version": "1.2.0",
      "_view_name": "LayoutView",
      "align_content": null,
      "align_items": null,
      "align_self": null,
      "border": null,
      "bottom": null,
      "display": null,
      "flex": null,
      "flex_flow": null,
      "grid_area": null,
      "grid_auto_columns": null,
      "grid_auto_flow": null,
      "grid_auto_rows": null,
      "grid_column": null,
      "grid_gap": null,
      "grid_row": null,
      "grid_template_areas": null,
      "grid_template_columns": null,
      "grid_template_rows": null,
      "height": null,
      "justify_content": null,
      "justify_items": null,
      "left": null,
      "margin": null,
      "max_height": null,
      "max_width": null,
      "min_height": null,
      "min_width": null,
      "object_fit": null,
      "object_position": null,
      "order": null,
      "overflow": null,
      "overflow_x": null,
      "overflow_y": null,
      "padding": null,
      "right": null,
      "top": null,
      "visibility": null,
      "width": null
     }
    },
    "eff71e91ec094bcb8ef51ef69599bcdc": {
     "model_module": "@jupyter-widgets/controls",
     "model_module_version": "1.5.0",
     "model_name": "HTMLModel",
     "state": {
      "_dom_classes": [],
      "_model_module": "@jupyter-widgets/controls",
      "_model_module_version": "1.5.0",
      "_model_name": "HTMLModel",
      "_view_count": null,
      "_view_module": "@jupyter-widgets/controls",
      "_view_module_version": "1.5.0",
      "_view_name": "HTMLView",
      "description": "",
      "description_tooltip": null,
      "layout": "IPY_MODEL_c20fe90f906a44f3adc7603c8b3f397c",
      "placeholder": "​",
      "style": "IPY_MODEL_2349d35bf16e4dbd974aa97b2f6065f9",
      "value": " 48.0/48.0 [00:00&lt;00:00, 4.12kB/s]"
     }
    },
    "f08caae2ddfd4c90a207c69d072164f1": {
     "model_module": "@jupyter-widgets/controls",
     "model_module_version": "1.5.0",
     "model_name": "HTMLModel",
     "state": {
      "_dom_classes": [],
      "_model_module": "@jupyter-widgets/controls",
      "_model_module_version": "1.5.0",
      "_model_name": "HTMLModel",
      "_view_count": null,
      "_view_module": "@jupyter-widgets/controls",
      "_view_module_version": "1.5.0",
      "_view_name": "HTMLView",
      "description": "",
      "description_tooltip": null,
      "layout": "IPY_MODEL_54ca0f85c49d49b19ea167926bff8bb4",
      "placeholder": "​",
      "style": "IPY_MODEL_828f701b98854515adb5ddd074d84f20",
      "value": "config.json: 100%"
     }
    },
    "f44a1e1ba78c4f52b381b08367416328": {
     "model_module": "@jupyter-widgets/controls",
     "model_module_version": "1.5.0",
     "model_name": "ProgressStyleModel",
     "state": {
      "_model_module": "@jupyter-widgets/controls",
      "_model_module_version": "1.5.0",
      "_model_name": "ProgressStyleModel",
      "_view_count": null,
      "_view_module": "@jupyter-widgets/base",
      "_view_module_version": "1.2.0",
      "_view_name": "StyleView",
      "bar_color": null,
      "description_width": ""
     }
    },
    "f7e096373bd5427182cbbe2f3e5fafd9": {
     "model_module": "@jupyter-widgets/controls",
     "model_module_version": "1.5.0",
     "model_name": "HTMLModel",
     "state": {
      "_dom_classes": [],
      "_model_module": "@jupyter-widgets/controls",
      "_model_module_version": "1.5.0",
      "_model_name": "HTMLModel",
      "_view_count": null,
      "_view_module": "@jupyter-widgets/controls",
      "_view_module_version": "1.5.0",
      "_view_name": "HTMLView",
      "description": "",
      "description_tooltip": null,
      "layout": "IPY_MODEL_54ea4a30cd474b2989cdf6a981145eb0",
      "placeholder": "​",
      "style": "IPY_MODEL_38771b7df0aa42178dad39b3cb8d4dc1",
      "value": " 466k/466k [00:00&lt;00:00, 15.0MB/s]"
     }
    },
    "fc71bcbe12a04d1f966ef52751498437": {
     "model_module": "@jupyter-widgets/base",
     "model_module_version": "1.2.0",
     "model_name": "LayoutModel",
     "state": {
      "_model_module": "@jupyter-widgets/base",
      "_model_module_version": "1.2.0",
      "_model_name": "LayoutModel",
      "_view_count": null,
      "_view_module": "@jupyter-widgets/base",
      "_view_module_version": "1.2.0",
      "_view_name": "LayoutView",
      "align_content": null,
      "align_items": null,
      "align_self": null,
      "border": null,
      "bottom": null,
      "display": null,
      "flex": null,
      "flex_flow": null,
      "grid_area": null,
      "grid_auto_columns": null,
      "grid_auto_flow": null,
      "grid_auto_rows": null,
      "grid_column": null,
      "grid_gap": null,
      "grid_row": null,
      "grid_template_areas": null,
      "grid_template_columns": null,
      "grid_template_rows": null,
      "height": null,
      "justify_content": null,
      "justify_items": null,
      "left": null,
      "margin": null,
      "max_height": null,
      "max_width": null,
      "min_height": null,
      "min_width": null,
      "object_fit": null,
      "object_position": null,
      "order": null,
      "overflow": null,
      "overflow_x": null,
      "overflow_y": null,
      "padding": null,
      "right": null,
      "top": null,
      "visibility": null,
      "width": null
     }
    },
    "ff896e1d621244d6ac84f7602e52b487": {
     "model_module": "@jupyter-widgets/controls",
     "model_module_version": "1.5.0",
     "model_name": "DescriptionStyleModel",
     "state": {
      "_model_module": "@jupyter-widgets/controls",
      "_model_module_version": "1.5.0",
      "_model_name": "DescriptionStyleModel",
      "_view_count": null,
      "_view_module": "@jupyter-widgets/base",
      "_view_module_version": "1.2.0",
      "_view_name": "StyleView",
      "description_width": ""
     }
    }
   }
  }
 },
 "nbformat": 4,
 "nbformat_minor": 0
}
